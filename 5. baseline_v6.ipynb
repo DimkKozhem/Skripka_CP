{
 "cells": [
  {
   "cell_type": "markdown",
   "id": "f14d9843-829e-4844-b741-0932be04492a",
   "metadata": {},
   "source": [
    "# Предсказание социально-демографических характеристик пользователей Rutube\n",
    "    Пользователи RUTUBE не всегда указывают свои данные, такие как возраст и пол, что затрудняет формирование портрета пользователя и создание персонализированных рекомендаций. Это ограничивает возможности платформы в предоставлении контента, который наиболее подходит интересам и потребностям пользователей, тем самым ухудшая пользовательский опыт.\n",
    "\n",
    "    Необходимо разработать модель, которая на основе истории просмотров сможет предсказывать пол и возраст пользователя. В качестве baseline решения мы предоставляем этот ноутбук.\n"
   ]
  },
  {
   "cell_type": "code",
   "execution_count": 1,
   "id": "3dbe0fe4-71db-4dea-918e-9ca5aea27625",
   "metadata": {},
   "outputs": [],
   "source": [
    "import pandas as pd\n",
    "import numpy as np\n",
    "\n",
    "from sklearn.model_selection import train_test_split\n",
    "from sklearn.metrics import f1_score, accuracy_score\n",
    "\n",
    "from catboost import CatBoostClassifier, CatBoostRegressor, Pool\n",
    "\n",
    "from tqdm.auto import trange, tqdm\n",
    "\n",
    "import collections\n",
    "from collections import Counter\n",
    "from collections import defaultdict\n",
    "from scipy.stats import entropy\n",
    "from functools import reduce"
   ]
  },
  {
   "cell_type": "code",
   "execution_count": 2,
   "id": "993b0395",
   "metadata": {},
   "outputs": [],
   "source": [
    "import seaborn as sns\n",
    "import matplotlib.pyplot as plt\n",
    "%matplotlib inline\n",
    "\n",
    "# Устанавливаем тему по умолчанию\n",
    "sb_dark = sns.dark_palette('skyblue', 8, reverse=True) # teal\n",
    "sns.set(palette=sb_dark)"
   ]
  },
  {
   "cell_type": "code",
   "execution_count": 3,
   "id": "711b8c3f",
   "metadata": {},
   "outputs": [],
   "source": [
    "# Настройки\n",
    "# Убираем ограничение отображемых колонок\n",
    "pd.set_option(\"display.max_columns\", None)"
   ]
  },
  {
   "cell_type": "markdown",
   "id": "160ca7cd",
   "metadata": {},
   "source": [
    "# Загружаем данные"
   ]
  },
  {
   "cell_type": "code",
   "execution_count": 4,
   "id": "9b75755d-6b33-434d-b51d-cb58ba292bd9",
   "metadata": {},
   "outputs": [
    {
     "name": "stdout",
     "output_type": "stream",
     "text": [
      "CPU times: total: 56.7 s\n",
      "Wall time: 56.7 s\n"
     ]
    },
    {
     "data": {
      "text/plain": [
       "((1759616, 9), (481480, 5), (180012, 4), (8439624, 9))"
      ]
     },
     "execution_count": 4,
     "metadata": {},
     "output_type": "execute_result"
    }
   ],
   "source": [
    "%%time\n",
    "path = \"datasets/\" # Ваш путь до директории с данными /path/to/data/\n",
    "data = pd.read_csv(path + 'train_events.csv')\n",
    "video = pd.read_csv(path + 'video_info_v2.csv')\n",
    "targets = pd.read_csv(path + 'train_targets.csv')\n",
    "all_events = pd.read_csv(path + 'all_events.csv')\n",
    "\n",
    "# заполянем пропуски самыми частотными\n",
    "freq_ua_client_type = all_events['ua_client_type'].value_counts().index[0]\n",
    "freq_ua_client_name = all_events['ua_client_name'].value_counts().index[0]\n",
    "all_events['ua_client_type'] = all_events['ua_client_type'].fillna(freq_ua_client_type)\n",
    "all_events['ua_client_name'] = all_events['ua_client_name'].fillna(freq_ua_client_name)\n",
    "all_events['ua_os'] = all_events['ua_os'].fillna('vpn')\n",
    "data['ua_os'] = data['ua_os'].fillna('vpn')\n",
    "\n",
    "# Преобразование даты и время в тип даты\n",
    "all_events['event_timestamp'] = pd.to_datetime(all_events['event_timestamp'])\n",
    "data['event_timestamp'] = pd.to_datetime(data['event_timestamp'])\n",
    "\n",
    "# продолжительность видео duration - указан в миллисекнудах, а просмотр человеком (total_watchtime) в секндах приводим к одному виду\n",
    "# video['duration'] = video['duration']/1000\n",
    "all_events['total_watchtime'] = all_events['total_watchtime'] * 1000\n",
    "data['total_watchtime'] = data['total_watchtime'] * 1000\n",
    "\n",
    "data.shape, video.shape, targets.shape, all_events.shape"
   ]
  },
  {
   "cell_type": "code",
   "execution_count": 5,
   "id": "b1daca95",
   "metadata": {},
   "outputs": [
    {
     "name": "stdout",
     "output_type": "stream",
     "text": [
      "CPU times: total: 6.44 s\n",
      "Wall time: 6.43 s\n"
     ]
    },
    {
     "data": {
      "text/plain": [
       "((88,), (88,))"
      ]
     },
     "execution_count": 5,
     "metadata": {},
     "output_type": "execute_result"
    }
   ],
   "source": [
    "%%time\n",
    "# Заменяем опечатки в регионах и заодно сводим области и города в один регион\n",
    "region_name_replace = {\n",
    "    'Astrakhan Oblast': 'Astrakhan',\n",
    "    'Arkhangelsk Oblast': 'Arkhangelskaya',\n",
    "    'Ivanovo Oblast': 'Ivanovo', \n",
    "    'Kaliningrad Oblast': 'Kaliningrad',\n",
    "    'Kaluga Oblast': 'Kaluga',\n",
    "    'Kirov Oblast': 'Kirov',\n",
    "    'Krasnodar Krai': 'Krasnodarskiy',\n",
    "    'Krasnoyarsk Krai': 'Krasnoyarskiy',\n",
    "    'Kursk Oblast': 'Kursk',\n",
    "    'Omsk Oblast': 'Omsk',\n",
    "    'Orel Oblast': 'Oryol oblast',\n",
    "    'Penza Oblast':'Penza', \n",
    "    'Perm Krai': 'Perm',\n",
    "    'Primorskiy (Maritime) Kray': 'Primorye',\n",
    "    'Ryazan Oblast': 'Rostov',\n",
    "    'Saratovskaya Oblast': 'Saratov Oblast',\n",
    "    'Smolensk Oblast': 'Smolensk',\n",
    "    'Smolenskaya Oblast': 'Smolensk',\n",
    "    'Smolenskaya Oblast’': 'Smolensk',\n",
    "    'Stavropol Kray': 'Stavropol Krai',\n",
    "    'Stavropol’ Kray': 'Stavropol Krai',\n",
    "    'Sverdlovsk Oblast': 'Sverdlovsk',\n",
    "    'Tambov Oblast': 'Tambov',\n",
    "    'Tula Oblast': 'Tula',\n",
    "    'Tver’ Oblast': 'Tver Oblast',\n",
    "    'Tyumen’ Oblast': 'Tyumen Oblast',\n",
    "    'Vladimir Oblast': 'Vladimir',\n",
    "    'Vologda Oblast': 'Vologda',\n",
    "    'Voronezh Oblast': 'Voronezj',\n",
    "    \"Leningradskaya Oblast'\": 'Leningradskaya Oblast',\n",
    "}\n",
    "\n",
    "all_events['region'] = all_events['region'].replace(region_name_replace)\n",
    "data['region'] = data['region'].replace(region_name_replace)\n",
    "\n",
    "all_events['region'].unique().shape, data['region'].unique().shape"
   ]
  },
  {
   "cell_type": "code",
   "execution_count": 6,
   "id": "d0d4d384",
   "metadata": {},
   "outputs": [],
   "source": [
    "# Пример смещений для регионов (в часах относительно московского времени)\n",
    "region_timezone_offset = {\n",
    "    'Adygeya Republic': 0,\n",
    "    'Altai': +4,\n",
    "    'Altay Kray': +4,\n",
    "    'Amur Oblast': +6,\n",
    "    'Arkhangelskaya': 0,\n",
    "    'Astrakhan': 0,\n",
    "    'Bashkortostan Republic': +2,\n",
    "    'Belgorod Oblast': 0,\n",
    "    'Bryansk Oblast': 0,\n",
    "    'Buryatiya Republic': +5,\n",
    "    'Chechnya': 0,\n",
    "    'Chelyabinsk': +2,\n",
    "    'Chukotka': +9,\n",
    "    'Chuvashia': 0,\n",
    "    'Crimea': 0,\n",
    "    'Dagestan': 0,\n",
    "    'Ingushetiya Republic': 0,\n",
    "    'Irkutsk Oblast': +5,\n",
    "    'Ivanovo': 0,\n",
    "    'Jaroslavl': 0,\n",
    "    'Jewish Autonomous Oblast': +5,\n",
    "    'Kabardino-Balkariya Republic': 0,\n",
    "    'Kaliningrad': -1,\n",
    "    'Kalmykiya Republic': 0,\n",
    "    'Kaluga': 0,\n",
    "    'Kamchatka': +9,\n",
    "    'Karachayevo-Cherkesiya Republic': 0,\n",
    "    'Karelia': 0,\n",
    "    'Kemerovo Oblast': +4,\n",
    "    'Khabarovsk': +6,\n",
    "    'Khakasiya Republic': +4,\n",
    "    'Khanty-Mansia': +2,\n",
    "    'Kirov': 0,\n",
    "    'Komi': 0,\n",
    "    'Kostroma Oblast': 0,\n",
    "    'Krasnodarskiy': 0,\n",
    "    'Krasnoyarskiy': +4,\n",
    "    'Kurgan Oblast': +2,\n",
    "    'Kursk': 0,\n",
    "    'Kuzbass': +4,\n",
    "    'Leningradskaya Oblast': 0,\n",
    "    'Lipetsk Oblast': 0,\n",
    "    'Magadan Oblast': +8,\n",
    "    'Mariy-El Republic': 0,\n",
    "    'Mordoviya Republic': 0,\n",
    "    'Moscow': 0,\n",
    "    'Moscow Oblast': 0,\n",
    "    'Murmansk': 0,\n",
    "    'Nenets': 0,\n",
    "    'Nizhny Novgorod Oblast': 0,\n",
    "    'North Ossetia': 0,\n",
    "    'North Ossetia–Alania': 0,\n",
    "    'Novgorod Oblast': 0,\n",
    "    'Novosibirsk Oblast': +4,\n",
    "    'Omsk': +3,\n",
    "    'Orenburg Oblast': +2,\n",
    "    'Oryol oblast': 0,\n",
    "    'Penza': 0,\n",
    "    'Perm': +2,\n",
    "    'Primorye': +7,\n",
    "    'Pskov Oblast': 0,\n",
    "    'Rostov': 0,\n",
    "    'Sakha': +6,\n",
    "    'Sakhalin Oblast': +8,\n",
    "    'Samara Oblast': +1,\n",
    "    'Saratov Oblast': +1,\n",
    "    'Sebastopol City': 0,\n",
    "    'Smolensk': 0,\n",
    "    'St.-Petersburg': 0,\n",
    "    'Stavropol Krai': 0,\n",
    "    'Sverdlovsk': +2,\n",
    "    'Tambov': 0,\n",
    "    'Tatarstan Republic': 0,\n",
    "    'Tomsk Oblast': +4,\n",
    "    'Transbaikal Territory': +5,\n",
    "    'Tula': 0,\n",
    "    'Tver Oblast': 0,\n",
    "    'Tyumen Oblast': +2,\n",
    "    'Tyva Republic': +4,\n",
    "    'Udmurtiya Republic': +2,\n",
    "    'Ulyanovsk': 0,\n",
    "    'Vladimir': 0,\n",
    "    'Volgograd Oblast': 0,\n",
    "    'Vologda': 0,\n",
    "    'Voronezj': 0,\n",
    "    'Yamalo-Nenets': +2,\n",
    "    'Yaroslavl Oblast': 0,\n",
    "    'Zabaykalskiy (Transbaikal) Kray': +6,\n",
    "}"
   ]
  },
  {
   "cell_type": "code",
   "execution_count": null,
   "id": "2d727f60",
   "metadata": {},
   "outputs": [],
   "source": []
  },
  {
   "cell_type": "code",
   "execution_count": 7,
   "id": "931b1561",
   "metadata": {},
   "outputs": [
    {
     "name": "stdout",
     "output_type": "stream",
     "text": [
      "CPU times: total: 1.06 s\n",
      "Wall time: 1.06 s\n"
     ]
    }
   ],
   "source": [
    "%%time\n",
    "# Добавляем смещение в зависимости от региона\n",
    "def change_time_by_region(df:pd.DataFrame):\n",
    "    df['time_offset'] = df['region'].map(region_timezone_offset)\n",
    "    # Обновляем время в зависимости от смещения\n",
    "    df['event_timestamp'] = df['event_timestamp'] + pd.to_timedelta(df['time_offset'], unit='h')\n",
    "    return df\n",
    "all_events = change_time_by_region(all_events)\n",
    "data = change_time_by_region(data)"
   ]
  },
  {
   "cell_type": "code",
   "execution_count": 8,
   "id": "e18c45d7",
   "metadata": {
    "scrolled": true
   },
   "outputs": [
    {
     "name": "stdout",
     "output_type": "stream",
     "text": [
      "CPU times: total: 1.62 s\n",
      "Wall time: 1.63 s\n"
     ]
    },
    {
     "data": {
      "text/plain": [
       "((1586487, 17), (173129, 17))"
      ]
     },
     "execution_count": 8,
     "metadata": {},
     "output_type": "execute_result"
    }
   ],
   "source": [
    "%%time\n",
    "from sklearn.model_selection import train_test_split\n",
    "\n",
    "train_users_df, test_users_df = train_test_split(targets, stratify=(targets[['age_class', 'sex']]), test_size=0.1)\n",
    "# train_users_df.shape, test_users_df.shape\n",
    "\n",
    "data_video = data.merge(video, on='rutube_video_id')\n",
    "train_users_df = data_video.merge(train_users_df, on='viewer_uid')\n",
    "test_users_df = data_video.merge(test_users_df, on='viewer_uid')\n",
    "del data_video\n",
    "\n",
    "train_users_df.shape, test_users_df.shape"
   ]
  },
  {
   "cell_type": "code",
   "execution_count": 21,
   "id": "6cee5eae",
   "metadata": {
    "scrolled": true
   },
   "outputs": [
    {
     "data": {
      "text/plain": [
       "(10000, 13)"
      ]
     },
     "execution_count": 21,
     "metadata": {},
     "output_type": "execute_result"
    }
   ],
   "source": [
    "# Файл для сабмита\n",
    "submit_test_users_df = pd.read_csv('Dima/sample_10000.csv')\n",
    "submit_test_users_df = submit_test_users_df.merge(video, on='rutube_video_id')\n",
    "submit_test_users_df.shape"
   ]
  },
  {
   "cell_type": "code",
   "execution_count": 22,
   "id": "260cc5be",
   "metadata": {},
   "outputs": [
    {
     "data": {
      "text/plain": [
       "(10000, 14)"
      ]
     },
     "execution_count": 22,
     "metadata": {},
     "output_type": "execute_result"
    }
   ],
   "source": [
    "submit_test_users_df['ua_os'] = submit_test_users_df['ua_os'].fillna('vpn')\n",
    "\n",
    "# Преобразование даты и время в тип даты\n",
    "submit_test_users_df['event_timestamp'] = pd.to_datetime(submit_test_users_df['event_timestamp'])\n",
    "\n",
    "# продолжительность видео duration - указан в миллисекнудах, а просмотр человеком (total_watchtime) в секндах приводим к одному виду\n",
    "submit_test_users_df['total_watchtime'] = submit_test_users_df['total_watchtime'] * 1000\n",
    "\n",
    "submit_test_users_df['region'] = submit_test_users_df['region'].replace(region_name_replace)\n",
    "submit_test_users_df = change_time_by_region(submit_test_users_df)\n",
    "\n",
    "submit_test_users_df.shape"
   ]
  },
  {
   "cell_type": "code",
   "execution_count": null,
   "id": "70245fa6",
   "metadata": {},
   "outputs": [],
   "source": []
  },
  {
   "cell_type": "code",
   "execution_count": 11,
   "id": "00cb99f0",
   "metadata": {},
   "outputs": [],
   "source": [
    "# all_users_df = pd.concat([train_users_df, test_users_df])\n",
    "# all_users_df.shape"
   ]
  },
  {
   "cell_type": "markdown",
   "id": "6890ecda",
   "metadata": {},
   "source": [
    "# Feature Engineering"
   ]
  },
  {
   "cell_type": "code",
   "execution_count": 12,
   "id": "5aeb11ce",
   "metadata": {},
   "outputs": [],
   "source": [
    "#  train_users_df['event_timestamp']"
   ]
  },
  {
   "cell_type": "code",
   "execution_count": 23,
   "id": "c42e8408",
   "metadata": {
    "scrolled": true
   },
   "outputs": [
    {
     "data": {
      "text/plain": [
       "((1586487, 29), (173129, 29))"
      ]
     },
     "execution_count": 23,
     "metadata": {},
     "output_type": "execute_result"
    }
   ],
   "source": [
    "# Фичи по дате \n",
    "def datetime_features(df:pd.DataFrame, datetime_col:str):\n",
    "    # Преобразоывавем в датавремя\n",
    "    # df['event_timestamp'] = pd.to_datetime(df['event_timestamp'])\n",
    "    # df.info()\n",
    "    # Базовые временные признаки\n",
    "    # df['year'] = df['datetime'].dt.year № \n",
    "    # df['month'] = df['datetime'].dt.month\n",
    "    df['day'] = df[datetime_col].dt.day\n",
    "    df['hour'] = df[datetime_col].dt.hour\n",
    "    # df['minute'] = df['datetime'].dt.minute\n",
    "    # df['second'] = df['datetime'].dt.second\n",
    "    # День недели (0 - понедельник, 6 - воскресенье)\n",
    "    df['dayofweek'] = df[datetime_col].dt.dayofweek\n",
    "\n",
    "    # Название дня недели\n",
    "    df['day_name'] = df[datetime_col].dt.day_name()\n",
    "\n",
    "    # Выходной день (суббота или воскресенье)\n",
    "    df['is_weekend'] = df['dayofweek'].isin([5, 6]).astype(int)\n",
    "    # Неделя года\n",
    "    df['weekofyear'] = df[datetime_col].dt.isocalendar().week\n",
    "    # Время суток (утро, день, вечер, ночь)\n",
    "    df['time_of_day'] = pd.cut(df['hour'], \n",
    "                               bins=[-1, 6, 12, 18, 24], \n",
    "                               labels=['ночь', 'утро', 'день', 'вечер'])\n",
    "\n",
    "    # Рабочее время (с 9 до 18)\n",
    "    df['is_business_hours'] = ((df['hour'] >= 9) & (df['hour'] < 18) & (~df['is_weekend'])).astype(int)\n",
    "\n",
    "    # Синусоидальное представление времени суток\n",
    "    df['hour_sin'] = np.sin(2 * np.pi * df['hour'] / 24)\n",
    "    df['hour_cos'] = np.cos(2 * np.pi * df['hour'] / 24)\n",
    "\n",
    "    # Синусоидальное представление дня недели\n",
    "    df['dayofweek_sin'] = np.sin(2 * np.pi * df['dayofweek'] / 7)\n",
    "    df['dayofweek_cos'] = np.cos(2 * np.pi * df['dayofweek'] / 7)\n",
    "    \n",
    "    return df\n",
    "\n",
    "train_users_df = datetime_features(df=train_users_df, datetime_col='event_timestamp')\n",
    "test_users_df = datetime_features(df=test_users_df, datetime_col='event_timestamp') \n",
    "\n",
    "submit_test_users_df = datetime_features(df=submit_test_users_df, datetime_col='event_timestamp') \n",
    "\n",
    "train_users_df.shape, test_users_df.shape"
   ]
  },
  {
   "cell_type": "code",
   "execution_count": 24,
   "id": "a439dcd8",
   "metadata": {},
   "outputs": [
    {
     "data": {
      "text/plain": [
       "((1586487, 40), (173129, 40))"
      ]
     },
     "execution_count": 24,
     "metadata": {},
     "output_type": "execute_result"
    }
   ],
   "source": [
    "def feature_preprocessing(df):\n",
    "    # Переводим ИД видео в число\n",
    "    df['video_id'] = df['rutube_video_id'].apply(lambda x: int(x[6:]))\n",
    "\n",
    "    # Частотное кодирование\n",
    "    no_frequency_columns = ['region', 'ua_device_type', 'ua_client_type','ua_os', 'ua_client_name', 'rutube_video_id', 'viewer_uid', 'title', 'category', 'author_id']\n",
    "    for col_name in no_frequency_columns:\n",
    "        df[f'frequency_{col_name}'] = df[col_name].map(df[col_name].value_counts(normalize=True))\n",
    "        \n",
    "    return df\n",
    "train_users_df = feature_preprocessing(train_users_df)\n",
    "test_users_df = feature_preprocessing(test_users_df)\n",
    "submit_test_users_df = feature_preprocessing(submit_test_users_df)\n",
    "\n",
    "\n",
    "train_users_df.shape, test_users_df.shape\n"
   ]
  },
  {
   "cell_type": "code",
   "execution_count": 25,
   "id": "4db979b6",
   "metadata": {
    "scrolled": true
   },
   "outputs": [
    {
     "name": "stdout",
     "output_type": "stream",
     "text": [
      "CPU times: total: 56.5 s\n",
      "Wall time: 56.4 s\n"
     ]
    },
    {
     "data": {
      "text/plain": [
       "((1586487, 61), (173129, 61))"
      ]
     },
     "execution_count": 25,
     "metadata": {},
     "output_type": "execute_result"
    }
   ],
   "source": [
    "%%time\n",
    "# Фичи на базе длинны просмотров\n",
    "def duration_features(df:pd.DataFrame):\n",
    "    # Человек суммарно по времени просмотраивал видео больше чем длится само видео\n",
    "    df['is_few_views'] = df['total_watchtime'] > df['duration']\n",
    "    # Eсть датафрейм df с колонками 'duration' и 'total_watchtime'\n",
    "    # Убедимся, что эти колонки имеют числовой тип данных\n",
    "    # df['duration'] = pd.to_numeric(df['duration'], errors='coerce')\n",
    "    # df['total_watchtime'] = pd.to_numeric(df['total_watchtime'], errors='coerce')\n",
    "\n",
    "    # 1. Процент просмотренного видео\n",
    "    df['watch_percentage'] = (df['total_watchtime'] / df['duration']).clip(0, 1) * 100\n",
    "    df['watch_percentage_all'] = (df['total_watchtime'] / df['duration']) * 100\n",
    "\n",
    "    # 2. Категории вовлеченности\n",
    "    df['engagement_category'] = pd.cut(df['watch_percentage'], \n",
    "                                       bins=[0, 25, 50, 75, 100],\n",
    "                                       labels=['Низкая', 'Средняя', 'Высокая', 'Полная'])\n",
    "\n",
    "    # 3. Флаг полного просмотра\n",
    "    df['watched_completely'] = (df['watch_percentage'] >= 95).astype(int)\n",
    "\n",
    "    # 4. Флаг просмотра более половины\n",
    "    df['watched_more_than_half'] = (df['watch_percentage'] > 50).astype(int)\n",
    "\n",
    "    # 5. Оставшееся время просмотра\n",
    "    df['remaining_time'] = df['duration'] - df['total_watchtime']\n",
    "\n",
    "    # 6. Логарифм времени просмотра (полезно для длинных видео)\n",
    "    df['log_watchtime'] = np.log1p(df['total_watchtime'])\n",
    "\n",
    "    # 7. Отношение времени просмотра к средней длительности всех видео\n",
    "    mean_duration = df['duration'].mean()\n",
    "    df['relative_watch_time'] = df['total_watchtime'] / mean_duration\n",
    "\n",
    "    # 8. Z-score времени просмотра\n",
    "    df['watchtime_zscore'] = (df['total_watchtime'] - df['total_watchtime'].mean()) / df['total_watchtime'].std()\n",
    "\n",
    "    # 9. Категории длительности видео\n",
    "    df['duration_category'] = pd.qcut(df['duration'], q=4, labels=['Короткое', 'Средне-короткое', 'Средне-длинное', 'Длинное'])\n",
    "\n",
    "    # 10. Флаг аномального просмотра (например, более 150% длительности видео)\n",
    "    df['abnormal_viewing'] = (df['watch_percentage'] > 150).astype(int)\n",
    "\n",
    "    # 11. Скорость просмотра (предполагая, что пользователь мог смотреть видео на повышенной скорости)\n",
    "    df['viewing_speed'] = df['total_watchtime'] / df['duration']\n",
    "\n",
    "    # 12. Отклонение от ожидаемого времени просмотра\n",
    "    df['watch_time_deviation'] = df['total_watchtime'] - (df['duration'] * 0.5)  # предполагаем, что в среднем смотрят половину видео\n",
    "\n",
    "    # 13. Ранг видео по времени просмотра\n",
    "    df['watch_time_rank'] = df['total_watchtime'].rank(method='dense', ascending=False)\n",
    "\n",
    "    # 14. Интервалы просмотра\n",
    "    df['watch_interval'] = pd.cut(df['total_watchtime'], \n",
    "                                  bins=[0, 60, 300, 900, 1800, np.inf],\n",
    "                                  labels=['<1 мин', '1-5 мин', '5-15 мин', '15-30 мин', '>30 мин'])\n",
    "\n",
    "    # 15. Эффективность просмотра (отношение процента просмотра к длительности)\n",
    "    df['viewing_efficiency'] = df['watch_percentage'] / df['duration']\n",
    "\n",
    "    # 16. Флаг \"зацепившего\" видео (просмотрено более 80% при длительности более 5 минут)\n",
    "    df['engaging_video'] = ((df['watch_percentage'] > 80) & (df['duration'] > 300)).astype(int)\n",
    "\n",
    "    # 17. Кумулятивная сумма времени просмотра (предполагая, что данные отсортированы по пользователю и времени)\n",
    "    df['cumulative_watch_time'] = df.groupby('viewer_uid')['total_watchtime'].cumsum()\n",
    "\n",
    "    # 18. Время с начала сессии до начала просмотра (если есть данные о времени начала просмотра)\n",
    "    # df['time_before_watch'] = df['watch_start_time'] - df.groupby('session_id')['watch_start_time'].transform('min')\n",
    "\n",
    "    # 19. Энтропия просмотров пользователя (разнообразие длительности просмотренных видео)\n",
    "    df['watch_time_entropy'] = df.groupby('viewer_uid')['total_watchtime'].transform(lambda x: -np.sum((x/x.sum()) * np.log2(x/x.sum())))\n",
    "\n",
    "    # 20. Тренд просмотров пользователя (увеличение или уменьшение времени просмотра)\n",
    "#     def safe_trend(x):\n",
    "#         try:\n",
    "#             return np.polyfit(range(len(x)), x, 1)[0]\n",
    "#         except np.linalg.LinAlgError:\n",
    "#             return np.nan\n",
    "\n",
    "#     df['watch_time_trend'] = df.groupby('viewer_uid')['total_watchtime'].transform(safe_trend)\n",
    "    def safe_trend(x):\n",
    "        if len(x) < 2:  \n",
    "            return 0\n",
    "        try:\n",
    "            return np.polyfit(range(len(x)), x, 1)[0]\n",
    "        except (np.linalg.LinAlgError, TypeError, ValueError):\n",
    "            return 0\n",
    "\n",
    "    df['watch_time_trend'] = df.groupby('viewer_uid')['total_watchtime'].transform(safe_trend)\n",
    "    # df['watch_time_trend'] = df.groupby('viewer_uid')['total_watchtime'].transform(lambda x: np.polyfit(range(len(x)), x, 1)[0])\n",
    "\n",
    "    return df\n",
    "\n",
    "train_users_df = duration_features(train_users_df)\n",
    "test_users_df = duration_features(test_users_df)\n",
    "submit_test_users_df = duration_features(submit_test_users_df)\n",
    "\n",
    "train_users_df.shape, test_users_df.shape"
   ]
  },
  {
   "cell_type": "code",
   "execution_count": 27,
   "id": "3429bb1b",
   "metadata": {},
   "outputs": [
    {
     "data": {
      "text/plain": [
       "(10000, 58)"
      ]
     },
     "execution_count": 27,
     "metadata": {},
     "output_type": "execute_result"
    }
   ],
   "source": [
    "submit_test_users_df.shape"
   ]
  },
  {
   "cell_type": "code",
   "execution_count": 28,
   "id": "510de918",
   "metadata": {},
   "outputs": [],
   "source": [
    "# submit_test_users_df.isna().sum().max()"
   ]
  },
  {
   "cell_type": "code",
   "execution_count": 29,
   "id": "09deb7a5",
   "metadata": {},
   "outputs": [],
   "source": [
    "# train_users_df['viewer_uid'].to_csv('train_viewer_uid_v2.csv')\n",
    "# test_users_df['viewer_uid'].to_csv('test_viewer_uid_v2.csv')"
   ]
  },
  {
   "cell_type": "markdown",
   "id": "ae47db9c",
   "metadata": {},
   "source": [
    "# Статистика по обезличенным фактам просмотрам видео \n",
    "\n",
    "Генерим более умные фичи на базе обсуждений и то что в итоге отразим в презентации\n",
    "\n",
    "Для этого используем общую известную статистику просмотров по абсолютно всем пользователям"
   ]
  },
  {
   "cell_type": "code",
   "execution_count": 30,
   "id": "40e87edf",
   "metadata": {},
   "outputs": [
    {
     "data": {
      "text/plain": [
       "(10199240, 14)"
      ]
     },
     "execution_count": 30,
     "metadata": {},
     "output_type": "execute_result"
    }
   ],
   "source": [
    "# Для расчета статистик объяединяем все события по просмотрам неизвестных пользоватлеей с событиями известных\n",
    "union_all_events = pd.concat([all_events, data])\n",
    "union_all_events = union_all_events.merge(video, on='rutube_video_id')\n",
    "union_all_events.shape"
   ]
  },
  {
   "cell_type": "code",
   "execution_count": 33,
   "id": "98526ab6",
   "metadata": {
    "scrolled": true
   },
   "outputs": [
    {
     "name": "stdout",
     "output_type": "stream",
     "text": [
      "CPU times: total: 2min 5s\n",
      "Wall time: 2min 5s\n"
     ]
    },
    {
     "data": {
      "text/plain": [
       "((1586487, 90), (173129, 90))"
      ]
     },
     "execution_count": 33,
     "metadata": {},
     "output_type": "execute_result"
    }
   ],
   "source": [
    "%%time\n",
    "def video_statistic_features(df:pd.DataFrame, union_all_events:pd.DataFrame):\n",
    "    # Вычисление популярности видео, авторов и категорий в union_all_events\n",
    "    # Популярность видео\n",
    "    video_popularity = union_all_events.groupby('rutube_video_id').agg(\n",
    "        video_view_count=('viewer_uid', 'count'),\n",
    "        video_avg_watchtime=('total_watchtime', 'mean')\n",
    "    ).reset_index()\n",
    "\n",
    "    # Популярность авторов\n",
    "    author_popularity = union_all_events.groupby('author_id').agg(\n",
    "        author_view_count=('viewer_uid', 'count'),\n",
    "        author_avg_watchtime=('total_watchtime', 'mean')\n",
    "    ).reset_index()\n",
    "\n",
    "    # Популярность категорий\n",
    "    category_popularity = union_all_events.groupby('category').agg(\n",
    "        category_view_count=('viewer_uid', 'count'),\n",
    "        category_avg_watchtime=('total_watchtime', 'mean')\n",
    "    ).reset_index()\n",
    "\n",
    "    # Обогащение df информацией о популярности:\n",
    "    # Объединяем df с популярностью видео\n",
    "    df = df.merge(video_popularity, on='rutube_video_id', how='left')\n",
    "    # Объединяем df с популярностью авторов\n",
    "    df = df.merge(author_popularity, on='author_id', how='left')\n",
    "    # Объединяем df с популярностью категорий\n",
    "    df = df.merge(category_popularity, on='category', how='left')\n",
    "\n",
    "    \n",
    "    # Группируем данные по пользователю\n",
    "    user_features = df.groupby('viewer_uid').agg(\n",
    "        total_videos_watched=('rutube_video_id', 'count'),\n",
    "        total_watchtime=('total_watchtime', 'sum'),\n",
    "        avg_watchtime=('total_watchtime', 'mean'),\n",
    "        unique_categories=('category', 'nunique'),\n",
    "        unique_authors=('author_id', 'nunique'),\n",
    "        most_common_device=('ua_device_type', lambda x: x.mode()[0]),\n",
    "        most_common_os=('ua_os', lambda x: x.mode()[0]),\n",
    "        most_common_browser=('ua_client_name', lambda x: x.mode()[0]),\n",
    "        avg_video_popularity=('video_view_count', 'mean'),\n",
    "        avg_author_popularity=('author_view_count', 'mean'),\n",
    "        avg_category_popularity=('category_view_count', 'mean'),\n",
    "        watchtime_ratio=('total_watchtime', lambda x: x.sum() / df.loc[x.index, 'duration'].sum())\n",
    "    ).reset_index()\n",
    "    user_features = user_features.rename(columns={'total_watchtime': 'total_watchtime_user_feat'})\n",
    "    \n",
    "    df = df.merge(user_features, on='viewer_uid')\n",
    "    \n",
    "    # Вычисляем наиболее частые часы и дни недели для каждого пользователя\n",
    "    time_features = df.groupby('viewer_uid').agg(\n",
    "        most_common_hour=('hour', lambda x: x.mode()[0]),\n",
    "        most_common_weekday=('dayofweek', lambda x: x.mode()[0])\n",
    "    ).reset_index()\n",
    "\n",
    "    # Объединяем с df\n",
    "    df = df.merge(time_features, on='viewer_uid', how='left')\n",
    "\n",
    "    def category_entropy(categories):\n",
    "        counts = categories.value_counts()\n",
    "        return entropy(counts)\n",
    "\n",
    "    category_entropy_df = df.groupby('viewer_uid').agg(\n",
    "        category_entropy=('category', category_entropy)\n",
    "    ).reset_index()\n",
    "\n",
    "    # Объединяем с user_features\n",
    "    df = df.merge(category_entropy_df, on='viewer_uid', how='left')\n",
    "    \n",
    "    # Вычисление сессий пользователя:\n",
    "    # Сортируем по пользователю и времени\n",
    "    df = df.sort_values(by=['viewer_uid', 'event_timestamp'])\n",
    "\n",
    "    # Вычисляем разницу во времени между событиями\n",
    "    df['time_diff'] = df.groupby('viewer_uid')['event_timestamp'].diff().dt.total_seconds()\n",
    "\n",
    "    # Если разница больше 30 минут, начинаем новую сессию\n",
    "    df['new_session'] = (df['time_diff'] > 1800).fillna(0).astype(int)\n",
    "\n",
    "    # Нумеруем сессии\n",
    "    df['session_id'] = df.groupby('viewer_uid')['new_session'].cumsum()\n",
    "\n",
    "    # Вычисляем статистики по сессиям\n",
    "    session_features = df.groupby(['viewer_uid', 'session_id']).agg(\n",
    "        session_watchtime=('total_watchtime', 'sum')\n",
    "    ).reset_index()\n",
    "\n",
    "    session_stats = session_features.groupby('viewer_uid').agg(\n",
    "        total_sessions=('session_id', 'nunique'),\n",
    "        avg_session_watchtime=('session_watchtime', 'mean')\n",
    "    ).reset_index()\n",
    "\n",
    "    # # Объединяем с user_features\n",
    "    df = df.merge(session_stats, on='viewer_uid', how='left')\n",
    "\n",
    "    # Региональные предпочтения пользователя\n",
    "    # Популярность видео по регионам\n",
    "    video_region_popularity = union_all_events.groupby(['rutube_video_id', 'region']).agg(\n",
    "        region_view_count=('viewer_uid', 'count')\n",
    "    ).reset_index()\n",
    "\n",
    "    # Определяем самый популярный регион для каждого видео\n",
    "    video_top_region = video_region_popularity.loc[video_region_popularity.groupby('rutube_video_id')['region_view_count'].idxmax()].rename(columns={'region': 'top_region'})\n",
    "\n",
    "\n",
    "    # Объединяем с df\n",
    "    df = df.merge(video_top_region[['rutube_video_id', 'top_region']], on='rutube_video_id', how='left')\n",
    "\n",
    "    # Проверяем совпадение региона пользователя с популярным регионом видео\n",
    "    df['region_match'] = (df['region'] == df['top_region']).astype(int)\n",
    "\n",
    "    # Вычисляем долю совпадений для каждого пользователя\n",
    "    region_match_df = df.groupby('viewer_uid').agg(\n",
    "        region_match_ratio=('region_match', 'mean')\n",
    "    ).reset_index()\n",
    "\n",
    "    # Объединяем с user_features\n",
    "    df = df.merge(region_match_df, on='viewer_uid', how='left')\n",
    "    \n",
    "    return df\n",
    "    \n",
    "train_users_df = video_statistic_features(df=train_users_df, union_all_events=union_all_events)\n",
    "test_users_df = video_statistic_features(df=test_users_df, union_all_events=union_all_events)\n",
    "submit_test_users_df = video_statistic_features(df=submit_test_users_df, union_all_events=union_all_events)\n",
    "\n",
    "train_users_df.shape, test_users_df.shape"
   ]
  },
  {
   "cell_type": "code",
   "execution_count": 34,
   "id": "c7759459",
   "metadata": {},
   "outputs": [
    {
     "data": {
      "text/plain": [
       "(10000, 87)"
      ]
     },
     "execution_count": 34,
     "metadata": {},
     "output_type": "execute_result"
    }
   ],
   "source": [
    "submit_test_users_df.shape"
   ]
  },
  {
   "cell_type": "code",
   "execution_count": null,
   "id": "2aafff7c",
   "metadata": {},
   "outputs": [],
   "source": []
  },
  {
   "cell_type": "code",
   "execution_count": null,
   "id": "e9ee9481",
   "metadata": {},
   "outputs": [],
   "source": []
  },
  {
   "cell_type": "code",
   "execution_count": 35,
   "id": "e4724f36",
   "metadata": {
    "scrolled": true
   },
   "outputs": [
    {
     "name": "stdout",
     "output_type": "stream",
     "text": [
      "CPU times: total: 1min 42s\n",
      "Wall time: 1min 41s\n"
     ]
    },
    {
     "data": {
      "text/plain": [
       "((1586487, 119), (173129, 119))"
      ]
     },
     "execution_count": 35,
     "metadata": {},
     "output_type": "execute_result"
    }
   ],
   "source": [
    "%%time\n",
    "def video_statistic_features_part_2(df:pd.DataFrame, union_all_events:pd.DataFrame):\n",
    "    # Предпочтения пользователя по длительности видео\n",
    "    # Средняя и стандартное отклонение длительности видео для каждого пользователя\n",
    "    video_duration_stats = df.groupby('viewer_uid').agg(\n",
    "        avg_video_duration=('duration', 'mean'),\n",
    "        std_video_duration=('duration', 'std')\n",
    "    ).reset_index()\n",
    "    \n",
    "    # Коэффициент завершения просмотра\n",
    "    # Рассчитываем отношение времени просмотра к длительности видео для каждого события\n",
    "    df['completion_rate'] = df['total_watchtime'] / (df['duration'] / 1000)  # Приводим длительность к секундам\n",
    "\n",
    "    # Ограничиваем коэффициент от 0 до 1\n",
    "    df['completion_rate'] = df['completion_rate'].clip(0, 1)\n",
    "\n",
    "    # Средний коэффициент завершения для каждого пользователя\n",
    "    user_completion_rate = df.groupby('viewer_uid').agg(\n",
    "        avg_completion_rate=('completion_rate', 'mean'),\n",
    "        high_completion_rate_videos=('completion_rate', lambda x: (x > 0.75).mean())\n",
    "    ).reset_index()\n",
    "    \n",
    "    # Среднее время между событиями\n",
    "    # Сортируем данные по пользователю и времени\n",
    "    df = df.sort_values(by=['viewer_uid', 'event_timestamp'])\n",
    "\n",
    "    # Вычисляем разницу во времени между событиями\n",
    "    df['time_diff_seconds'] = df.groupby('viewer_uid')['event_timestamp'].diff().dt.total_seconds()\n",
    "\n",
    "    # Среднее и стандартное отклонение времени между событиями для каждого пользователя\n",
    "    user_time_diff_stats = df.groupby('viewer_uid').agg(\n",
    "        avg_time_between_events=('time_diff_seconds', 'mean'),\n",
    "        std_time_between_events=('time_diff_seconds', 'std')\n",
    "    ).reset_index()\n",
    "    \n",
    "    # Предпочтения по авторам\n",
    "    # Количество просмотров по каждому автору для каждого пользователя\n",
    "    user_author_views = df.groupby(['viewer_uid', 'author_id']).size().reset_index(name='views')\n",
    "\n",
    "    # Находим топ-3 авторов для каждого пользователя\n",
    "    user_top_authors = user_author_views.sort_values(['viewer_uid', 'views'], ascending=[True, False]).groupby('viewer_uid').head(3)\n",
    "\n",
    "    # Общее количество просмотров для каждого пользователя\n",
    "    user_total_views = df.groupby('viewer_uid').size().reset_index(name='total_views')\n",
    "\n",
    "    # Доля просмотров топ-3 авторов\n",
    "    user_top_authors_views = user_top_authors.groupby('viewer_uid')['views'].sum().reset_index(name='top_authors_views')\n",
    "\n",
    "    # Объединяем и вычисляем долю\n",
    "    user_author_preference = user_total_views.merge(user_top_authors_views, on='viewer_uid')\n",
    "    user_author_preference['top_authors_view_ratio'] = user_author_preference['top_authors_views'] / user_author_preference['total_views']\n",
    "    \n",
    "    # Поведение по времени суток\n",
    "    # Вычисляем, является ли просмотр ночным (с 0:00 до 6:00)\n",
    "    df['is_night'] = df['event_timestamp'].dt.hour.isin([0,1,2,3,4,5]).astype(int)\n",
    "\n",
    "    # Доля ночных просмотров\n",
    "    user_night_views = df.groupby('viewer_uid').agg(\n",
    "        night_view_ratio=('is_night', 'mean'),\n",
    "        avg_hour=('event_timestamp', lambda x: x.dt.hour.mean())\n",
    "    ).reset_index()\n",
    "    \n",
    "    # Предпочтения по категориям\n",
    "    # Количество просмотров по каждой категории для каждого пользователя\n",
    "    user_category_views = df.groupby(['viewer_uid', 'category']).size().reset_index(name='views')\n",
    "\n",
    "    # Находим топ-3 категории для каждого пользователя\n",
    "    user_top_categories = user_category_views.sort_values(['viewer_uid', 'views'], ascending=[True, False]).groupby('viewer_uid').head(3)\n",
    "\n",
    "    # Доля просмотров топ-3 категорий\n",
    "    user_top_categories_views = user_top_categories.groupby('viewer_uid')['views'].sum().reset_index(name='top_categories_views')\n",
    "\n",
    "    # Объединяем и вычисляем долю\n",
    "    user_category_preference = user_total_views.merge(user_top_categories_views, on='viewer_uid')\n",
    "    user_category_preference['top_categories_view_ratio'] = user_category_preference['top_categories_views'] / user_category_preference['total_views']\n",
    "\n",
    "    # Разнообразие устройств\n",
    "    # Количество уникальных устройств\n",
    "    user_device_stats = df.groupby('viewer_uid').agg(\n",
    "        unique_devices=('ua_device_type', 'nunique')\n",
    "    ).reset_index()\n",
    "\n",
    "    # Доля каждого типа устройства\n",
    "    device_type_dummies = pd.get_dummies(df['ua_device_type'])\n",
    "    df = pd.concat([df, device_type_dummies], axis=1)\n",
    "\n",
    "    user_device_type_ratio = df.groupby('viewer_uid')[device_type_dummies.columns].mean().reset_index()\n",
    "    \n",
    "    # Региональное поведение\n",
    "    # Количество уникальных регионов\n",
    "    user_region_stats = df.groupby('viewer_uid').agg(\n",
    "        unique_regions=('region', 'nunique')\n",
    "    ).reset_index()\n",
    "    \n",
    "    # Доля просмотров из домашнего региона (предполагаем, что домашний регион - самый частый)\n",
    "    user_home_region = df.groupby('viewer_uid')['region'].agg(lambda x: x.mode()[0]).reset_index(name='home_region')\n",
    "\n",
    "    df = df.merge(user_home_region, on='viewer_uid', how='left')\n",
    "    df['is_home_region'] = (df['region'] == df['home_region']).astype(int)\n",
    "\n",
    "    user_home_region_ratio = df.groupby('viewer_uid').agg(\n",
    "        home_region_view_ratio=('is_home_region', 'mean')\n",
    "    ).reset_index()\n",
    "    \n",
    "    # Повторные просмотры\n",
    "    # Количество уникальных видео, просмотренных более одного раза\n",
    "    user_video_views = df.groupby(['viewer_uid', 'rutube_video_id']).size().reset_index(name='views')\n",
    "\n",
    "    user_repeat_views = user_video_views[user_video_views['views'] > 1].groupby('viewer_uid').size().reset_index(name='repeat_videos')\n",
    "\n",
    "    # Доля повторных просмотров\n",
    "    user_repeat_views = user_repeat_views.merge(user_total_views, on='viewer_uid', how='left')\n",
    "    user_repeat_views['repeat_view_ratio'] = user_repeat_views['repeat_videos'] / user_total_views['total_views']\n",
    "    \n",
    "    \n",
    "    #  Временные тренды активности\n",
    "    # Добавляем дату в формате года и недели, хотя тут нам год то и не так важен в этой задаче\n",
    "    df['year_week'] = df['event_timestamp'].dt.strftime('%Y-%U')\n",
    "\n",
    "    # Количество просмотров по неделям\n",
    "    user_weekly_views = df.groupby(['viewer_uid', 'year_week']).size().reset_index(name='weekly_views')\n",
    "\n",
    "    # Для простоты вычислим коэффициент корреляции между временем и количеством просмотров\n",
    "    from scipy.stats import linregress\n",
    "\n",
    "    def activity_trend(views):\n",
    "        if len(views) > 1:\n",
    "            x = range(len(views))\n",
    "            y = views.values\n",
    "            slope, _, _, _, _ = linregress(x, y)\n",
    "            return slope\n",
    "        else:\n",
    "            return 0\n",
    "\n",
    "    user_activity_trend = user_weekly_views.groupby('viewer_uid').agg(\n",
    "        activity_trend=('weekly_views', activity_trend)\n",
    "    ).reset_index()\n",
    "\n",
    "    \n",
    "    #  Новизна контента\n",
    "    # Получаем даты публикации видео\n",
    "    video_publish_dates = union_all_events[['rutube_video_id', 'event_timestamp']].groupby('rutube_video_id').min().reset_index()\n",
    "    video_publish_dates.rename(columns={'event_timestamp': 'video_publish_date'}, inplace=True)\n",
    "\n",
    "    # Объединяем с df\n",
    "    df = df.merge(video_publish_dates, on='rutube_video_id', how='left')\n",
    "\n",
    "    # Вычисляем время с момента публикации до просмотра\n",
    "    df['time_since_publish'] = (df['event_timestamp'] - df['video_publish_date']).dt.total_seconds() / 86400  # В днях\n",
    "\n",
    "    # Среднее время с момента публикации\n",
    "    user_content_novelty = df.groupby('viewer_uid').agg(\n",
    "        avg_time_since_publish=('time_since_publish', 'mean'),\n",
    "        new_video_view_ratio=('time_since_publish', lambda x: (x <= 7).mean())\n",
    "    ).reset_index()\n",
    "    \n",
    "    # Моделирование последовательностей просмотров\n",
    "    # Для каждого пользователя создадим последовательность категорий\n",
    "    user_category_sequence = df.groupby('viewer_uid')['category'].apply(list).reset_index()\n",
    "\n",
    "    # Можно использовать модели последовательностей, такие как Марковские цепи, для анализа\n",
    "    # Здесь для простоты вычислим вероятность перехода между категориями\n",
    "\n",
    "    transition_counts = defaultdict(lambda: defaultdict(int))\n",
    "    for categories in user_category_sequence['category']:\n",
    "        for i in range(len(categories) - 1):\n",
    "            transition_counts[categories[i]][categories[i+1]] += 1\n",
    "\n",
    "    # Преобразуем в вероятности\n",
    "    transition_probs = {k: {k2: v2 / sum(v.values()) for k2, v2 in v.items()} for k, v in transition_counts.items()}\n",
    "    \n",
    "    # Скорость просмотра\n",
    "    # Вычисляем общее время просмотра и количество просмотров для каждого пользователя\n",
    "    user_speed = df.groupby('viewer_uid').agg(\n",
    "        total_watchtime=('total_watchtime', 'sum'),\n",
    "        total_views=('rutube_video_id', 'count')\n",
    "    ).reset_index()\n",
    "\n",
    "    # Скорость просмотра (время просмотра на один просмотр)\n",
    "    user_speed['watch_speed'] = user_speed['total_watchtime'] / user_speed['total_views']\n",
    "    \n",
    "    # Удаляем типы популряных устройств, т.к. будем их отедльно добавлять\n",
    "    df = df.drop(columns=['desktop', 'smartphone', 'tablet'], errors='ignore')\n",
    "    \n",
    "    # Объединение признаков\n",
    "    # Объединяем все новые признаки\n",
    "    feature_dfs = [\n",
    "        video_duration_stats,\n",
    "        user_completion_rate,\n",
    "        user_time_diff_stats,\n",
    "        user_author_preference[['viewer_uid', 'top_authors_view_ratio']],\n",
    "        user_night_views,\n",
    "        user_category_preference[['viewer_uid', 'top_categories_view_ratio']],\n",
    "        user_device_stats,\n",
    "        user_device_type_ratio,\n",
    "        user_region_stats,\n",
    "        user_home_region_ratio,\n",
    "        user_repeat_views[['viewer_uid', 'repeat_view_ratio']],\n",
    "        user_activity_trend,\n",
    "        user_content_novelty,\n",
    "        user_speed[['viewer_uid', 'watch_speed']],\n",
    "    ]\n",
    "\n",
    "    for agg_df in feature_dfs:\n",
    "        df = df.merge(agg_df, on='viewer_uid', how='left')\n",
    "\n",
    "    # Категориальным признакам в пандас нельзя делать заполнение пропусков нулями\n",
    "    # Переводим категории в тип строка\n",
    "    for col in df.select_dtypes(include=['category']).columns:\n",
    "        df[col] = df[col].astype('str')\n",
    "\n",
    "    # Заполняем пропущенные значения\n",
    "    df = df.fillna(0)\n",
    "    return df\n",
    "\n",
    "train_users_df = video_statistic_features_part_2(df=train_users_df, union_all_events=union_all_events)\n",
    "test_users_df = video_statistic_features_part_2(df=test_users_df, union_all_events=union_all_events)\n",
    "submit_test_users_df = video_statistic_features_part_2(df=submit_test_users_df, union_all_events=union_all_events)\n",
    "\n",
    "\n",
    "train_users_df.shape, test_users_df.shape"
   ]
  },
  {
   "cell_type": "code",
   "execution_count": 36,
   "id": "1fc1b63e",
   "metadata": {},
   "outputs": [
    {
     "data": {
      "text/plain": [
       "(10000, 116)"
      ]
     },
     "execution_count": 36,
     "metadata": {},
     "output_type": "execute_result"
    }
   ],
   "source": [
    "submit_test_users_df.shape"
   ]
  },
  {
   "cell_type": "code",
   "execution_count": 37,
   "id": "64add12d",
   "metadata": {},
   "outputs": [
    {
     "name": "stdout",
     "output_type": "stream",
     "text": [
      "CPU times: total: 4.09 s\n",
      "Wall time: 4.09 s\n"
     ]
    },
    {
     "data": {
      "text/plain": [
       "((1586487, 120), (173129, 120))"
      ]
     },
     "execution_count": 37,
     "metadata": {},
     "output_type": "execute_result"
    }
   ],
   "source": [
    "%%time\n",
    "def video_statistic_features_part_3(df:pd.DataFrame):\n",
    "    # Время с последней активности\n",
    "    # Вычисляем время, прошедшее с последнего взаимодействия пользователя\n",
    "    begin_time = pd.Timestamp(year=2024, month=5, day=31, tz='Europe/Moscow')\n",
    "    user_last_activity = df.groupby('viewer_uid')['event_timestamp'].max().reset_index()\n",
    "    user_last_activity['time_since_last_activity'] = (user_last_activity['event_timestamp'] - begin_time).dt.total_seconds() / 3600  # в часах\n",
    "\n",
    "    # Объединяем все новые признаки\n",
    "    additional_feature_dfs = [\n",
    "        user_last_activity[['viewer_uid', 'time_since_last_activity']],\n",
    "    ]\n",
    "    \n",
    "    for agg_df in additional_feature_dfs:\n",
    "        df = df.merge(agg_df, on='viewer_uid', how='left')\n",
    "\n",
    "    # Категориальным признакам в пандас нельзя делать заполнение пропусков нулями\n",
    "    # Переводим категории в тип строка\n",
    "    for col in df.select_dtypes(include=['category']).columns:\n",
    "        df[col] = df[col].astype('str')\n",
    "\n",
    "    # Заполняем пропущенные значения\n",
    "    df = df.fillna(0)\n",
    "    return df\n",
    "\n",
    "train_users_df = video_statistic_features_part_3(df=train_users_df)\n",
    "test_users_df = video_statistic_features_part_3(df=test_users_df)\n",
    "submit_test_users_df = video_statistic_features_part_3(df=submit_test_users_df)\n",
    "\n",
    "\n",
    "train_users_df.shape, test_users_df.shape"
   ]
  },
  {
   "cell_type": "code",
   "execution_count": 39,
   "id": "694d6cc2",
   "metadata": {
    "scrolled": true
   },
   "outputs": [
    {
     "name": "stdout",
     "output_type": "stream",
     "text": [
      "CPU times: total: 6.33 s\n",
      "Wall time: 6.35 s\n"
     ]
    },
    {
     "data": {
      "text/plain": [
       "((1509745, 125), (164622, 125))"
      ]
     },
     "execution_count": 39,
     "metadata": {},
     "output_type": "execute_result"
    }
   ],
   "source": [
    "%%time\n",
    "def detect_trend_video(df:pd.DataFrame, union_all_events:pd.DataFrame):\n",
    "    # Расчет трендовых видео\n",
    "    # Определение временных периодов\n",
    "    # Текущее время (максимальная дата в данных)\n",
    "    current_time = union_all_events['event_timestamp'].max()\n",
    "    # Период для анализа трендов (например, последние 7 дней)\n",
    "    trend_period = current_time - pd.Timedelta(days=7)\n",
    "    # Предыдущий период для сравнения (предыдущие 7 дней)\n",
    "    previous_period = trend_period - pd.Timedelta(days=7)\n",
    "\n",
    "    # Фильтрация событий за выбранные периоды\n",
    "    # События за последние 7 дней\n",
    "    recent_events = union_all_events[union_all_events['event_timestamp'] >= trend_period]\n",
    "    # События за предыдущие 7 дней\n",
    "    previous_events = union_all_events[(union_all_events['event_timestamp'] >= previous_period) & (union_all_events['event_timestamp'] < trend_period)]\n",
    "\n",
    "    # Подсчет просмотров видео в каждом периоде\n",
    "    # Количество просмотров видео за последние 7 дней\n",
    "    recent_video_views = recent_events.groupby('rutube_video_id').agg(\n",
    "        recent_view_count=('viewer_uid', 'count')\n",
    "    ).reset_index()\n",
    "\n",
    "    # Количество просмотров видео за предыдущие 7 дней\n",
    "    previous_video_views = previous_events.groupby('rutube_video_id').agg(\n",
    "        previous_view_count=('viewer_uid', 'count')\n",
    "    ).reset_index()\n",
    "\n",
    "    # Вычисление роста популярности видео\n",
    "    # Объединяем данные по видео\n",
    "    video_trends = recent_video_views.merge(previous_video_views, on='rutube_video_id', how='left')\n",
    "    # Заполняем отсутствующие значения нулями\n",
    "    video_trends['previous_view_count'] = video_trends['previous_view_count'].fillna(0)\n",
    "    # Вычисляем рост просмотров\n",
    "    video_trends['view_count_growth'] = video_trends['recent_view_count'] - video_trends['previous_view_count']\n",
    "\n",
    "    # Ранжирование видео по популярности\n",
    "    # Ранжируем видео по количеству просмотров за последние 7 дней\n",
    "    video_trends['rank_recent_views'] = video_trends['recent_view_count'].rank(method='first', ascending=False)\n",
    "    # Ранжируем видео по росту популярности\n",
    "    video_trends['rank_growth'] = video_trends['view_count_growth'].rank(method='first', ascending=False)\n",
    "    df = df.merge(video_trends, on='rutube_video_id')\n",
    "    return df\n",
    "    \n",
    "train_users_df = detect_trend_video(df=train_users_df, union_all_events=union_all_events)\n",
    "test_users_df = detect_trend_video(df=test_users_df, union_all_events=union_all_events)\n",
    "submit_test_users_df = detect_trend_video(df=submit_test_users_df, union_all_events=union_all_events)\n",
    "\n",
    "train_users_df.shape, test_users_df.shape"
   ]
  },
  {
   "cell_type": "code",
   "execution_count": 40,
   "id": "f1d8e6b0",
   "metadata": {},
   "outputs": [
    {
     "data": {
      "text/plain": [
       "(9203, 122)"
      ]
     },
     "execution_count": 40,
     "metadata": {},
     "output_type": "execute_result"
    }
   ],
   "source": [
    "submit_test_users_df.shape"
   ]
  },
  {
   "cell_type": "markdown",
   "id": "1d56c2e6",
   "metadata": {},
   "source": [
    "# Анализ видео и распределение возрастных категорий\n",
    "Идея состоит в том, чтобы определить, какая возрастная категория чаще всего смотрит конкретное видео и на основе этого предположить возраст пользователя."
   ]
  },
  {
   "cell_type": "code",
   "execution_count": 41,
   "id": "acfe602a",
   "metadata": {},
   "outputs": [],
   "source": [
    "# # Посчитаем частоты возрастных категорий для каждого видео\n",
    "# video_age_distribution = train_users_df.groupby(['rutube_video_id', 'age_class'])['viewer_uid'].count().unstack(fill_value=0)\n",
    "\n",
    "# # Преобразуем в вероятности\n",
    "# video_age_prob = video_age_distribution.div(video_age_distribution.sum(axis=1), axis=0)\n",
    "# video_age_prob = video_age_prob.add_prefix('stat_age_class_prob_')"
   ]
  },
  {
   "cell_type": "code",
   "execution_count": 42,
   "id": "e31eb7f1",
   "metadata": {
    "scrolled": true
   },
   "outputs": [],
   "source": [
    "# # Присваиваем вероятности для видео в тестовом и обучающем наборах\n",
    "# def calc_video_stat_age(df:pd.DataFrame):\n",
    "#     # Присваиваем вероятности для видео в тестовом и обучающем наборах\n",
    "#     df = df.merge(video_age_prob, how='left', on='rutube_video_id')\n",
    "#     # # Вычисляем средневзвешенную возрастную категорию для каждого пользователя\n",
    "#     df['predicted_age_class'] = df[['stat_age_class_prob_0', 'stat_age_class_prob_1', 'stat_age_class_prob_2', 'stat_age_class_prob_3']].idxmax(axis=1)\n",
    "#     df['predicted_age_class'] = df['predicted_age_class'].str.replace('stat_age_class_prob_', '').astype(float)\n",
    "#     # Самый популярный класс возраста это 2\n",
    "#     df['predicted_age_class'].fillna(2, inplace=True)\n",
    "#     df['stat_age_class_prob_0'].fillna(0, inplace=True)\n",
    "#     df['stat_age_class_prob_1'].fillna(0, inplace=True)\n",
    "#     df['stat_age_class_prob_2'].fillna(0, inplace=True)\n",
    "#     df['stat_age_class_prob_3'].fillna(0, inplace=True)\n",
    "# #     df[['stat_age_class_prob_0', 'stat_age_class_prob_1', 'stat_age_class_prob_2', 'stat_age_class_prob_3']].fillna(0, inplace=True)\n",
    "#     return df\n",
    "# test_users_df = calc_video_stat_age(test_users_df)\n",
    "# train_users_df = calc_video_stat_age(train_users_df)\n",
    "\n",
    "# test_users_df.shape, train_users_df.shape"
   ]
  },
  {
   "cell_type": "code",
   "execution_count": 24,
   "id": "8c8cca49",
   "metadata": {},
   "outputs": [],
   "source": [
    "# # Посчитаем частоты пола категорий для каждого видео\n",
    "# video_sex_distribution = train_users_df.groupby(['rutube_video_id', 'sex'])['viewer_uid'].count().unstack(fill_value=0)\n",
    "\n",
    "# # Преобразуем в вероятности\n",
    "# video_sex_prob = video_sex_distribution.div(video_sex_distribution.sum(axis=1), axis=0)\n",
    "# video_sex_prob = video_sex_prob.add_prefix('stat_sex_prob_')"
   ]
  },
  {
   "cell_type": "code",
   "execution_count": 25,
   "id": "7b13ef44",
   "metadata": {},
   "outputs": [],
   "source": [
    "# # Присваиваем вероятности для видео в тестовом и обучающем наборах\n",
    "# def calc_video_stat_sex(df:pd.DataFrame):\n",
    "#     # Присваиваем вероятности для видео в тестовом и обучающем наборах\n",
    "#     df = df.merge(video_sex_prob, how='left', on='rutube_video_id')\n",
    "#     # # Вычисляем средневзвешенную возрастную категорию для каждого пользователя\n",
    "#     df['predicted_sex_class'] = df[['stat_sex_prob_male', 'stat_sex_prob_female']].idxmax(axis=1)\n",
    "#     # Самый популярный класс возраста это 2\n",
    "#     df['predicted_sex_class'] = df['predicted_sex_class'].fillna('stat_sex_prob_male')\n",
    "#     df['stat_sex_prob_male'] = df['stat_sex_prob_male'].fillna(0)\n",
    "#     df['stat_sex_prob_female'] = df['stat_sex_prob_female'].fillna(0)\n",
    "#     df['predicted_sex_class'] = np.where(df['predicted_sex_class'] == 'stat_sex_prob_male', 1, 0)\n",
    "#     return df\n",
    "# test_users_df = calc_video_stat_sex(test_users_df)\n",
    "# train_users_df = calc_video_stat_sex(train_users_df)\n",
    "\n",
    "# test_users_df.shape, train_users_df.shape"
   ]
  },
  {
   "cell_type": "code",
   "execution_count": null,
   "id": "0905d3b7",
   "metadata": {},
   "outputs": [],
   "source": []
  },
  {
   "cell_type": "markdown",
   "id": "2af9fd4f",
   "metadata": {},
   "source": [
    "# ФИЧИ на базе идей оргов из baseline"
   ]
  },
  {
   "cell_type": "code",
   "execution_count": 43,
   "id": "c441563d",
   "metadata": {},
   "outputs": [],
   "source": [
    "def get_mode(row): # Кастомная функция вычисления модального значения категориального признака\n",
    "    counter = Counter(row)\n",
    "    (most_common, _) = counter.most_common(1)[0]\n",
    "    \n",
    "    return most_common"
   ]
  },
  {
   "cell_type": "code",
   "execution_count": 44,
   "id": "083c36e8",
   "metadata": {},
   "outputs": [],
   "source": [
    "# save_train_users_df = train_users_df.copy()\n",
    "# save_test_users_df = test_users_df.copy()\n",
    "# save_train_users_df.shape, save_test_users_df.shape"
   ]
  },
  {
   "cell_type": "code",
   "execution_count": 45,
   "id": "cea314a3",
   "metadata": {},
   "outputs": [],
   "source": [
    "# train_users_df = save_train_users_df.copy()\n",
    "# test_users_df = save_test_users_df.copy()\n",
    "\n",
    "# train_users_df.shape, test_users_df.shape"
   ]
  },
  {
   "cell_type": "code",
   "execution_count": 46,
   "id": "3fe41d7a",
   "metadata": {},
   "outputs": [],
   "source": [
    "# Группируем данные по идентификаторам авторов и определяем медианный возраст и модальное \n",
    "# значение пола среди пользователей, просмотревших видео этого автора.\n",
    "author_median_age = train_users_df.groupby('author_id')['age'].median()\n",
    "author_sex_mode = train_users_df.groupby('author_id')['sex'].apply(get_mode)\n",
    "author_age_mode = train_users_df.groupby('author_id')['age_class'].apply(get_mode)\n",
    "\n",
    "author_sex_mode.name = 'sex_mode_by_author'\n",
    "author_age_mode.name = 'age_mode_by_author'\n",
    "author_median_age.name = 'median_age_by_author'\n",
    "author_info = author_sex_mode.to_frame().join(author_median_age).join(author_age_mode)"
   ]
  },
  {
   "cell_type": "code",
   "execution_count": 47,
   "id": "3ffe0dbc",
   "metadata": {
    "scrolled": true
   },
   "outputs": [
    {
     "data": {
      "text/plain": [
       "((1509745, 128), (164622, 128))"
      ]
     },
     "execution_count": 47,
     "metadata": {},
     "output_type": "execute_result"
    }
   ],
   "source": [
    "# Предсказываем целевые переменные тестовых пользователей. \n",
    "# На истории просмотренных каналов считаем медианный возраст и моду пола. \n",
    "def calc_orgs_baseline_features(df:pd.DataFrame):\n",
    "    df = df.join(author_info, on='author_id', how='left')\n",
    "    df['sex_mode_by_author'] = df['sex_mode_by_author'].fillna(df['sex_mode_by_author'].mode()[0])\n",
    "    df['age_mode_by_author'] = df['age_mode_by_author'].fillna(df['age_mode_by_author'].mode()[0])\n",
    "    df['median_age_by_author'] = df['median_age_by_author'].fillna(df['median_age_by_author'].median())\n",
    "    return df\n",
    "\n",
    "train_users_df = calc_orgs_baseline_features(train_users_df)\n",
    "test_users_df = calc_orgs_baseline_features(test_users_df)\n",
    "submit_test_users_df = calc_orgs_baseline_features(submit_test_users_df)\n",
    "\n",
    "\n",
    "train_users_df.shape, test_users_df.shape"
   ]
  },
  {
   "cell_type": "code",
   "execution_count": 48,
   "id": "436a5955",
   "metadata": {},
   "outputs": [
    {
     "data": {
      "text/plain": [
       "(9203, 125)"
      ]
     },
     "execution_count": 48,
     "metadata": {},
     "output_type": "execute_result"
    }
   ],
   "source": [
    "submit_test_users_df.shape"
   ]
  },
  {
   "cell_type": "code",
   "execution_count": 49,
   "id": "c6c439cf",
   "metadata": {},
   "outputs": [],
   "source": [
    "# Группируем данные по идентификаторам авторов и определяем медианный возраст и модальное \n",
    "# значение пола среди пользователей, просмотревших видео этого автора.\n",
    "video_median_age = train_users_df.groupby('rutube_video_id')['age'].median()\n",
    "video_sex_mode = train_users_df.groupby('rutube_video_id')['sex'].apply(get_mode)\n",
    "video_age_mode = train_users_df.groupby('rutube_video_id')['age_class'].apply(get_mode)\n",
    "\n",
    "video_sex_mode.name = 'sex_mode_by_video'\n",
    "video_age_mode.name = 'age_mode_by_video'\n",
    "video_median_age.name = 'median_age_by_video'\n",
    "video_info = video_sex_mode.to_frame().join(video_median_age).join(video_age_mode)"
   ]
  },
  {
   "cell_type": "code",
   "execution_count": 50,
   "id": "84f534be",
   "metadata": {},
   "outputs": [
    {
     "data": {
      "text/plain": [
       "((1509745, 131), (164622, 131), (9203, 128))"
      ]
     },
     "execution_count": 50,
     "metadata": {},
     "output_type": "execute_result"
    }
   ],
   "source": [
    "# Предсказываем целевые переменные тестовых пользователей. \n",
    "# На истории просмотренных каналов считаем медианный возраст и моду пола. \n",
    "def calc_orgs_features_video(df:pd.DataFrame):\n",
    "    df = df.join(video_info, on='rutube_video_id', how='left')\n",
    "    df['sex_mode_by_video'] = df['sex_mode_by_video'].fillna(df['sex_mode_by_video'].mode()[0])\n",
    "    df['age_mode_by_video'] = df['age_mode_by_video'].fillna(df['age_mode_by_video'].mode()[0])\n",
    "    df['median_age_by_video'] = df['median_age_by_video'].fillna(df['median_age_by_video'].median())\n",
    "    return df\n",
    "\n",
    "train_users_df = calc_orgs_features_video(train_users_df)\n",
    "test_users_df = calc_orgs_features_video(test_users_df)\n",
    "submit_test_users_df = calc_orgs_features_video(submit_test_users_df)\n",
    "\n",
    "\n",
    "train_users_df.shape, test_users_df.shape, submit_test_users_df.shape"
   ]
  },
  {
   "cell_type": "code",
   "execution_count": 51,
   "id": "3dd0536c",
   "metadata": {},
   "outputs": [],
   "source": [
    "# def pass_features():\n",
    "#     pass\n",
    "#     # # Взаимодействие с трендовым контентом\n",
    "    \n",
    "#     # trending_videos = trending_videos_df['rutube_video_id'].unique()\n",
    "\n",
    "#     # # Помечаем видео как трендовые\n",
    "#     # train_events_df['is_trending'] = train_events_df['rutube_video_id'].isin(trending_videos).astype(int)\n",
    "\n",
    "#     # # Вычисляем количество и долю трендовых видео, просмотренных пользователем\n",
    "#     # user_trending_interaction = train_events_df.groupby('viewer_uid').agg(\n",
    "#     #     trending_videos_watched=('is_trending', 'sum'),\n",
    "#     #     total_videos_watched=('rutube_video_id', 'count')\n",
    "#     # ).reset_index()\n",
    "#     # user_trending_interaction['trending_video_ratio'] = user_trending_interaction['trending_videos_watched'] / user_trending_interaction['total_videos_watched']\n"
   ]
  },
  {
   "cell_type": "code",
   "execution_count": 52,
   "id": "1d5c90fc",
   "metadata": {},
   "outputs": [],
   "source": [
    "# df = test_users_df.copy()\n",
    "# df.shape"
   ]
  },
  {
   "cell_type": "markdown",
   "id": "c05b9ac2",
   "metadata": {},
   "source": [
    "# Текстовые фичи "
   ]
  },
  {
   "cell_type": "code",
   "execution_count": 53,
   "id": "3e61e16e",
   "metadata": {},
   "outputs": [],
   "source": [
    "# def text_features():\n",
    "\n",
    "#     # Анализ текста названий видео\n",
    "#     # Импортируем необходимые библиотеки\n",
    "#     from sklearn.feature_extraction.text import TfidfVectorizer\n",
    "\n",
    "#     # Объединяем все названия видео, которые пользователь просмотрел\n",
    "#     user_video_titles = train_events_df.groupby('viewer_uid')['title'].apply(lambda x: ' '.join(x)).reset_index()\n",
    "\n",
    "#     # Применяем TF-IDF векторизацию\n",
    "#     vectorizer = TfidfVectorizer(max_features=100)\n",
    "#     tfidf_matrix = vectorizer.fit_transform(user_video_titles['title'])\n",
    "\n",
    "#     # Получаем матрицу признаков\n",
    "#     tfidf_features = pd.DataFrame(tfidf_matrix.toarray(), columns=vectorizer.get_feature_names_out())\n",
    "#     tfidf_features['viewer_uid'] = user_video_titles['viewer_uid']\n"
   ]
  },
  {
   "cell_type": "code",
   "execution_count": 54,
   "id": "e57cc2d9",
   "metadata": {},
   "outputs": [],
   "source": [
    "# def text_features_2():\n",
    "#     #  Анализ тональности названий видео\n",
    "#     import nltk\n",
    "#     from nltk.sentiment import SentimentIntensityAnalyzer\n",
    "#     nltk.download('vader_lexicon')\n",
    "\n",
    "#     sid = SentimentIntensityAnalyzer()\n",
    "\n",
    "#     # Определяем тональность названий видео\n",
    "#     train_events_df['title_sentiment'] = train_events_df['title'].apply(lambda x: sid.polarity_scores(x)['compound'])\n",
    "\n",
    "#     # Средняя тональность названий видео для каждого пользователя\n",
    "#     user_sentiment = train_events_df.groupby('viewer_uid').agg(\n",
    "#         avg_title_sentiment=('title_sentiment', 'mean')\n",
    "#     ).reset_index()\n"
   ]
  },
  {
   "cell_type": "code",
   "execution_count": null,
   "id": "f4266cda",
   "metadata": {},
   "outputs": [],
   "source": []
  },
  {
   "cell_type": "code",
   "execution_count": 39,
   "id": "84b7b074",
   "metadata": {},
   "outputs": [],
   "source": [
    "# save_train_users_df = train_users_df.copy()\n",
    "# save_test_users_df = test_users_df.copy()\n",
    "\n",
    "# save_train_users_df.shape, save_test_users_df.shape"
   ]
  },
  {
   "cell_type": "markdown",
   "id": "845dbafa",
   "metadata": {},
   "source": [
    "# Формируем список фичей для агрегации"
   ]
  },
  {
   "cell_type": "code",
   "execution_count": 55,
   "id": "da67e38c",
   "metadata": {
    "scrolled": true
   },
   "outputs": [],
   "source": [
    "# pd.concat([train_users_df, test_users_df])['unique_regions'].value_counts()"
   ]
  },
  {
   "cell_type": "code",
   "execution_count": 56,
   "id": "9506d5fb",
   "metadata": {},
   "outputs": [],
   "source": [
    "# Определяем фичи для агрегации\n",
    "target_columns = ['age', 'sex', 'age_class', ]\n",
    "datetime_columns = ['event_timestamp', 'video_publish_date',]\n",
    "ignore_columns = ['rutube_video_id', 'viewer_uid', 'title', ]\n",
    "drop_columns = [\n",
    "    'abnormal_viewing', 'watch_interval', 'completion_rate', 'year_week', 'avg_completion_rate', \n",
    "    'high_completion_rate_videos',\n",
    "] # переделать\n",
    "unique_columns = []\n",
    "category_columns = [\n",
    "    'region', 'ua_device_type', 'ua_client_type', 'ua_os', 'ua_client_name', 'category', 'author_id','day_name',\n",
    "    'time_of_day', 'engagement_category', 'watched_completely', 'watched_more_than_half', 'duration_category',\n",
    "    'most_common_device', 'most_common_os', 'most_common_browser', 'most_common_weekday', \n",
    "    'top_region', 'home_region', 'session_id', 'video_id', \n",
    "    'sex_mode_by_video', 'age_mode_by_video', 'sex_mode_by_author', 'age_mode_by_author', \n",
    "]\n",
    "\n",
    "bool_columns = [\n",
    "    'is_weekend', 'is_business_hours', 'is_few_views', 'engaging_video', 'new_session', 'region_match', \n",
    "    'is_night', 'is_home_region',\n",
    "]\n",
    "numbers_columns = [\n",
    "    'total_watchtime', 'duration', 'day', 'hour', 'dayofweek', 'weekofyear', 'hour_sin', 'hour_cos', 'dayofweek_sin', 'dayofweek_cos',\n",
    "    'frequency_region', 'frequency_ua_device_type', 'frequency_ua_client_type', 'frequency_ua_os',\n",
    "    'frequency_ua_client_name', 'frequency_rutube_video_id', 'frequency_viewer_uid', 'frequency_title', 'frequency_category', 'frequency_author_id',\n",
    "    'watch_percentage', 'watch_percentage_all', 'remaining_time', 'log_watchtime', 'relative_watch_time', 'watchtime_zscore', \n",
    "    'viewing_speed', 'watch_time_deviation', 'watch_time_rank', 'viewing_efficiency', 'cumulative_watch_time', 'watch_time_entropy', 'watch_time_trend',\n",
    "    'video_avg_watchtime', 'author_avg_watchtime', 'category_avg_watchtime', \n",
    "    'total_watchtime_user_feat', 'avg_watchtime', \n",
    "    'avg_video_popularity', 'avg_author_popularity', 'avg_category_popularity', 'watchtime_ratio',\n",
    "    'most_common_hour', 'category_entropy', 'time_diff', 'avg_session_watchtime', \n",
    "    'region_match_ratio', 'time_diff_seconds', 'time_since_publish', 'avg_video_duration', 'std_video_duration',\n",
    "    'avg_time_between_events', 'std_time_between_events', 'top_authors_view_ratio', 'night_view_ratio', 'avg_hour', \n",
    "    'top_categories_view_ratio', 'unique_devices', 'desktop', 'smartphone', 'tablet', 'repeat_view_ratio', \n",
    "    'avg_time_since_publish', 'new_video_view_ratio', 'watch_speed', 'time_since_last_activity', \n",
    "    'view_count_growth', 'rank_recent_views', 'rank_growth', 'unique_regions', 'home_region_view_ratio', 'activity_trend', \n",
    "    'median_age_by_author', 'median_age_by_video', 'time_offset'\n",
    "#     'predicted_age_class',  'predicted_sex_class',  'stat_age_class_prob_0',  'stat_age_class_prob_1', 'stat_age_class_prob_2',  \n",
    "#     'stat_age_class_prob_3',  'stat_sex_prob_female',  'stat_sex_prob_male'\n",
    "]\n",
    "\n",
    "\n",
    "count_columns = [\n",
    "    'video_view_count', 'author_view_count', 'category_view_count', 'previous_view_count', 'recent_view_count', 'total_videos_watched',\n",
    "    'unique_categories', 'unique_authors', 'total_sessions', \n",
    "]\n",
    "\n",
    "median_age_predict = test_users_df.groupby('viewer_uid')['median_age_by_author'].median()\n",
    "mode_sex_predict = test_users_df.groupby('viewer_uid')['sex_mode_by_author'].apply(get_mode)"
   ]
  },
  {
   "cell_type": "code",
   "execution_count": 57,
   "id": "c6d57a05",
   "metadata": {},
   "outputs": [
    {
     "name": "stdout",
     "output_type": "stream",
     "text": [
      "[]\n"
     ]
    },
    {
     "data": {
      "text/plain": [
       "(set(), set())"
      ]
     },
     "execution_count": 57,
     "metadata": {},
     "output_type": "execute_result"
    }
   ],
   "source": [
    "# Проверка\n",
    "check_features = category_columns + bool_columns + numbers_columns + ignore_columns + target_columns + drop_columns + count_columns + datetime_columns + unique_columns\n",
    "print([item for item, count in collections.Counter(check_features).items() if count > 1])\n",
    "assert len(check_features) == len(set(check_features))\n",
    "\n",
    "set(train_users_df.columns) - set(check_features), set(check_features) - set(train_users_df.columns)"
   ]
  },
  {
   "cell_type": "code",
   "execution_count": 83,
   "id": "7b2f204f",
   "metadata": {
    "scrolled": true
   },
   "outputs": [
    {
     "name": "stdout",
     "output_type": "stream",
     "text": [
      "CPU times: total: 9min 42s\n",
      "Wall time: 9min 44s\n"
     ]
    },
    {
     "data": {
      "text/plain": [
       "((155081, 555), (17263, 555), (9203, 552))"
      ]
     },
     "execution_count": 83,
     "metadata": {},
     "output_type": "execute_result"
    }
   ],
   "source": [
    "%%time\n",
    "def full_agregation(df:pd.DataFrame):\n",
    "    # Определение функций агрегации\n",
    "    # Определяем агрегации для числовых признаков\n",
    "    numerical_aggregations = ['mean', 'std', 'min', 'max', 'sum', 'median']\n",
    "\n",
    "    # Определяем агрегации для категориальных признаков\n",
    "    def mode(series):\n",
    "        return series.mode().iloc[0] if not series.mode().empty else np.nan\n",
    "\n",
    "    categorical_aggregations = ['nunique', mode]\n",
    "    \n",
    "    # Агрегация числовых признаков\n",
    "    numerical_agg = df.groupby('viewer_uid')[numbers_columns].agg(numerical_aggregations)\n",
    "    # Преобразуем мультииндекс в одноуровневый\n",
    "    numerical_agg.columns = ['{}_{}'.format(feat, agg) for feat, agg in numerical_agg.columns]\n",
    "    numerical_agg = numerical_agg.reset_index()\n",
    "    \n",
    "    # Агрегация категориальных признаков\n",
    "    categorical_agg = df.groupby('viewer_uid')[category_columns].agg({\n",
    "        feature: categorical_aggregations for feature in category_columns\n",
    "    })\n",
    "    # Преобразуем мультииндекс в одноуровневый\n",
    "    categorical_agg.columns = ['{}_{}'.format(feat, agg if isinstance(agg, str) else agg.__name__) for feat, agg in categorical_agg.columns]\n",
    "    categorical_agg = categorical_agg.reset_index()\n",
    "    \n",
    "\n",
    "    # Обработка бинарных и счетных признаков\n",
    "    binary_agg = df.groupby('viewer_uid')[bool_columns].agg(['mean', 'sum'])\n",
    "    binary_agg.columns = ['{}_{}'.format(feat, agg) for feat, agg in binary_agg.columns]\n",
    "    binary_agg = binary_agg.reset_index()\n",
    "\n",
    "    count_agg = df.groupby('viewer_uid')[count_columns].agg(['mean', 'sum', 'max'])\n",
    "    count_agg.columns = ['{}_{}'.format(feat, agg) for feat, agg in count_agg.columns]\n",
    "    count_agg = count_agg.reset_index()\n",
    "\n",
    "    # Преобразование timestamp в дату и время\n",
    "    df['event_date'] = df['event_timestamp'].dt.date\n",
    "    df['event_hour'] = df['event_timestamp'].dt.hour\n",
    "    df['event_weekday'] = df['event_timestamp'].dt.weekday\n",
    "\n",
    "    time_agg = df.groupby('viewer_uid').agg({\n",
    "        'event_date': ['nunique'],\n",
    "        'event_hour': [mode],\n",
    "        'event_weekday': [mode]\n",
    "    })\n",
    "\n",
    "    time_agg.columns = ['{}_{}'.format(feat, agg if isinstance(agg, str) else agg.__name__) for feat, agg in time_agg.columns]\n",
    "    time_agg = time_agg.reset_index()\n",
    "\n",
    "    # Агрегация уникальных значений и энтропии\n",
    "    def calculate_entropy(series):\n",
    "        counts = series.value_counts()\n",
    "        return entropy(counts)\n",
    "\n",
    "    unique_entropy_agg = df.groupby('viewer_uid').agg({\n",
    "        'category': [calculate_entropy],\n",
    "        'author_id': [calculate_entropy],\n",
    "        'video_id': [calculate_entropy],\n",
    "        'session_id': [ calculate_entropy],\n",
    "        'region': [ calculate_entropy],\n",
    "    })\n",
    "\n",
    "    unique_entropy_agg.columns = ['{}_{}'.format(feat, agg if isinstance(agg, str) else agg.__name__) for feat, agg in unique_entropy_agg.columns]\n",
    "    unique_entropy_agg = unique_entropy_agg.reset_index()\n",
    "\n",
    "    \n",
    "    # Объединение всех агрегаций\n",
    "    # Список всех агрегированных датафреймов\n",
    "    agg_dataframes = [numerical_agg, categorical_agg, binary_agg, count_agg, unique_entropy_agg, time_agg]\n",
    "    # Объединяем по 'viewer_uid'\n",
    "    final_user_df = reduce(lambda left, right: pd.merge(left, right, on='viewer_uid', how='outer'), agg_dataframes)\n",
    "    # Заполняем пропущенные значения\n",
    "    final_user_df.fillna(0, inplace=True)\n",
    "    # Добавление целевых переменных\n",
    "\n",
    "    # Уникальные пользователи и их целевые переменные\n",
    "    if 'age' in df.columns:\n",
    "        user_targets = df[['viewer_uid', 'age', 'sex', 'age_class']].drop_duplicates()\n",
    "    else:\n",
    "        user_targets = df[['viewer_uid']]\n",
    "    # Объединяем с финальным датафреймом\n",
    "    final_user_df = final_user_df.merge(user_targets, on='viewer_uid', how='left')\n",
    "    return final_user_df\n",
    "\n",
    "agg_train_users_df = full_agregation(df=train_users_df)\n",
    "agg_test_users_df = full_agregation(df=test_users_df)\n",
    "agg_submit_test_users_df = full_agregation(df=submit_test_users_df)\n",
    "\n",
    "# final_user_df = full_agregation(df=df)\n",
    "\n",
    "# train_users_df.shape, test_users_df.shape, df.shape\n",
    "agg_train_users_df.shape, agg_test_users_df.shape, agg_submit_test_users_df.shape\n",
    "# ((155197, 529), (17221, 529))"
   ]
  },
  {
   "cell_type": "code",
   "execution_count": 89,
   "id": "132013e6",
   "metadata": {},
   "outputs": [
    {
     "data": {
      "text/plain": [
       "3"
      ]
     },
     "execution_count": 89,
     "metadata": {},
     "output_type": "execute_result"
    }
   ],
   "source": [
    "1+2"
   ]
  },
  {
   "cell_type": "markdown",
   "id": "61825162",
   "metadata": {},
   "source": [
    "# Фичи на базе эмбеддера E5 (Дима)\n",
    "\n",
    "Статистика видео кто больше просматривает мужчины или женжины и какой возраст\n"
   ]
  },
  {
   "cell_type": "code",
   "execution_count": 85,
   "id": "71370be0",
   "metadata": {
    "scrolled": true
   },
   "outputs": [
    {
     "data": {
      "text/plain": [
       "(481480, 9)"
      ]
     },
     "execution_count": 85,
     "metadata": {},
     "output_type": "execute_result"
    }
   ],
   "source": [
    "video_info_v2_sex_age = pd.read_parquet('Dima/video_info_v2_emb_E5.parquet')\n",
    "video_info_v2_sex_age.shape"
   ]
  },
  {
   "cell_type": "code",
   "execution_count": 86,
   "id": "bf4c92a0",
   "metadata": {},
   "outputs": [
    {
     "data": {
      "text/plain": [
       "(481480, 8)"
      ]
     },
     "execution_count": 86,
     "metadata": {},
     "output_type": "execute_result"
    }
   ],
   "source": [
    "boost_video_info_v2_sex_age = pd.read_parquet('Dima/video_info_v2_sex_age.parquet')\n",
    "boost_video_info_v2_sex_age.shape\n",
    "# age_class_vidio\tage_vidio\tsex_vidio"
   ]
  },
  {
   "cell_type": "code",
   "execution_count": 87,
   "id": "5f79eff4",
   "metadata": {
    "scrolled": true
   },
   "outputs": [
    {
     "data": {
      "text/plain": [
       "(481480, 7)"
      ]
     },
     "execution_count": 87,
     "metadata": {},
     "output_type": "execute_result"
    }
   ],
   "source": [
    "video_info_v2_sex_age = video_info_v2_sex_age[['rutube_video_id', 'age_class_vidio_emb', 'age_vidio_emb', 'sex_vidio_emb']].merge(boost_video_info_v2_sex_age[['rutube_video_id', 'age_class_vidio', 'age_vidio', 'sex_vidio']], on='rutube_video_id')\n",
    "video_info_v2_sex_age.shape"
   ]
  },
  {
   "cell_type": "code",
   "execution_count": 88,
   "id": "141b324d",
   "metadata": {},
   "outputs": [
    {
     "data": {
      "text/plain": [
       "(481480, 7)"
      ]
     },
     "execution_count": 88,
     "metadata": {},
     "output_type": "execute_result"
    }
   ],
   "source": [
    "# video_info_v2_sex_age = video_info_v2_sex_age.rename(columns={'age_class_vidio_emb': 'age_class_vidio', 'age_vidio_emb': 'age_vidio', 'sex_vidio_emb': 'sex_vidio'})\n",
    "video_info_v2_sex_age = video_info_v2_sex_age[['rutube_video_id', 'age_class_vidio_emb', 'age_vidio_emb', 'sex_vidio_emb', 'age_class_vidio', 'age_vidio', 'sex_vidio']]\n",
    "video_info_v2_sex_age = video_info_v2_sex_age.set_index('rutube_video_id').add_suffix('_stat').reset_index()\n",
    "video_info_v2_sex_age.shape"
   ]
  },
  {
   "cell_type": "code",
   "execution_count": 90,
   "id": "56e0669f",
   "metadata": {
    "scrolled": true
   },
   "outputs": [
    {
     "name": "stdout",
     "output_type": "stream",
     "text": [
      "CPU times: total: 2.27 s\n",
      "Wall time: 2.28 s\n"
     ]
    },
    {
     "data": {
      "text/plain": [
       "((1575398, 11), (171945, 11), (281586, 8))"
      ]
     },
     "execution_count": 90,
     "metadata": {},
     "output_type": "execute_result"
    }
   ],
   "source": [
    "%%time\n",
    "train_video_sex_age = agg_train_users_df[['viewer_uid', 'age', 'sex', 'age_class']].merge(data[['rutube_video_id', 'viewer_uid']], on='viewer_uid').merge(video_info_v2_sex_age, on='rutube_video_id')\n",
    "test_video_sex_age = agg_test_users_df[['viewer_uid', 'age', 'sex', 'age_class']].merge(data[['rutube_video_id', 'viewer_uid']], on='viewer_uid').merge(video_info_v2_sex_age, on='rutube_video_id')\n",
    "submit_test_video_sex_age = agg_submit_test_users_df[['viewer_uid']].merge(pd.concat([all_events, data])[['rutube_video_id', 'viewer_uid']], on='viewer_uid').merge(video_info_v2_sex_age, on='rutube_video_id')\n",
    "\n",
    "train_video_sex_age.shape, test_video_sex_age.shape, submit_test_video_sex_age.shape"
   ]
  },
  {
   "cell_type": "code",
   "execution_count": 91,
   "id": "cadee0b4",
   "metadata": {},
   "outputs": [],
   "source": [
    "# agg_submit_test_users_df[['viewer_uid']]\n",
    "# train_video_sex_age"
   ]
  },
  {
   "cell_type": "code",
   "execution_count": 92,
   "id": "c046fae8",
   "metadata": {},
   "outputs": [],
   "source": [
    "# agg_submit_test_users_df\n",
    "# submit_test_video_sex_age"
   ]
  },
  {
   "cell_type": "code",
   "execution_count": 93,
   "id": "7a2b09d4",
   "metadata": {},
   "outputs": [
    {
     "data": {
      "text/plain": [
       "((17263, 575), (155081, 575), (9203, 572))"
      ]
     },
     "execution_count": 93,
     "metadata": {},
     "output_type": "execute_result"
    }
   ],
   "source": [
    "def add_new_agg_features(all_df:pd.DataFrame, agg_df:pd.DataFrame):\n",
    "    # Определяем агрегации для категориальных признаков\n",
    "    def mode(series):\n",
    "        return series.mode().iloc[0] if not series.mode().empty else np.nan\n",
    "\n",
    "    categorical_aggregations = ['nunique', mode]\n",
    "    \n",
    "    # Агрегация категориальных признаков\n",
    "    video_sex_age_categorical_agg = all_df.groupby('viewer_uid')[['age_class_vidio_stat', 'sex_vidio_stat', 'age_class_vidio_emb_stat', 'sex_vidio_emb_stat']].agg({\n",
    "        feature: categorical_aggregations for feature in ['age_class_vidio_stat', 'sex_vidio_stat', 'age_class_vidio_emb_stat', 'sex_vidio_emb_stat']\n",
    "    })\n",
    "    # Преобразуем мультииндекс в одноуровневый\n",
    "    video_sex_age_categorical_agg.columns = ['{}_{}'.format(feat, agg if isinstance(agg, str) else agg.__name__) for feat, agg in video_sex_age_categorical_agg.columns]\n",
    "    video_sex_age_categorical_agg = video_sex_age_categorical_agg.reset_index()\n",
    "\n",
    "\n",
    "    # Определяем агрегации для числовых признаков\n",
    "    numerical_aggregations = ['mean', 'std', 'min', 'max', 'sum', 'median']\n",
    "    # Агрегация числовых признаков\n",
    "    video_sex_age_numerical_agg = all_df.groupby('viewer_uid')[['age_vidio_stat', 'age_vidio_emb_stat']].agg(numerical_aggregations)\n",
    "    # Преобразуем мультииндекс в одноуровневый\n",
    "    video_sex_age_numerical_agg.columns = ['{}_{}'.format(feat, agg) for feat, agg in video_sex_age_numerical_agg.columns]\n",
    "    video_sex_age_numerical_agg = video_sex_age_numerical_agg.reset_index()\n",
    "\n",
    "    # Объединение всех агрегаций\n",
    "    # Список всех агрегированных датафреймов\n",
    "    agg_dataframes = [video_sex_age_numerical_agg, video_sex_age_categorical_agg]\n",
    "    # Объединяем по 'viewer_uid'\n",
    "    video_sex_age__user_df = reduce(lambda left, right: pd.merge(left, right, on='viewer_uid', how='outer'), agg_dataframes)\n",
    "    # Заполняем пропущенные значения\n",
    "    video_sex_age__user_df.fillna(0, inplace=True)\n",
    "    # Агрегируем с исходными агрегатами\n",
    "    agg_df = agg_df.merge(video_sex_age__user_df, on='viewer_uid', how='left')\n",
    "    # Заполняем пропущенные значения\n",
    "    agg_df.fillna(0, inplace=True)\n",
    "    \n",
    "    return agg_df\n",
    "\n",
    "agg_test_users_df = add_new_agg_features(all_df=test_video_sex_age, agg_df=agg_test_users_df)\n",
    "agg_train_users_df = add_new_agg_features(all_df=train_video_sex_age, agg_df=agg_train_users_df)\n",
    "agg_submit_test_users_df = add_new_agg_features(all_df=submit_test_video_sex_age, agg_df=agg_submit_test_users_df)\n",
    "\n",
    "agg_test_users_df.shape, agg_train_users_df.shape, agg_submit_test_users_df.shape"
   ]
  },
  {
   "cell_type": "code",
   "execution_count": 94,
   "id": "dcac211f",
   "metadata": {},
   "outputs": [
    {
     "data": {
      "text/plain": [
       "((17263, 575), (155081, 575), (9203, 572))"
      ]
     },
     "execution_count": 94,
     "metadata": {},
     "output_type": "execute_result"
    }
   ],
   "source": [
    "agg_test_users_df.shape, agg_train_users_df.shape, agg_submit_test_users_df.shape "
   ]
  },
  {
   "cell_type": "code",
   "execution_count": 95,
   "id": "975deda5",
   "metadata": {},
   "outputs": [
    {
     "data": {
      "text/plain": [
       "((155081, 575), (17263, 575), (9203, 572))"
      ]
     },
     "execution_count": 95,
     "metadata": {},
     "output_type": "execute_result"
    }
   ],
   "source": [
    "# # %%time\n",
    "# save_agg_train_users_df = agg_train_users_df.copy()\n",
    "# save_agg_test_users_df = agg_test_users_df.copy()\n",
    "# save_agg_submit_test_users_df = agg_submit_test_users_df.copy()\n",
    "\n",
    "# save_agg_train_users_df.shape, save_agg_test_users_df.shape, save_agg_submit_test_users_df.shape"
   ]
  },
  {
   "cell_type": "code",
   "execution_count": null,
   "id": "db17cd43",
   "metadata": {},
   "outputs": [],
   "source": []
  },
  {
   "cell_type": "code",
   "execution_count": 77,
   "id": "4ea7c6bc",
   "metadata": {
    "scrolled": true
   },
   "outputs": [],
   "source": [
    "# tmp_df.isna().sum().max()\n",
    "# inline\n",
    "# tmp_df['predicted_sex_class'] = np.where(tmp_df['predicted_sex_class'] == 'stat_sex_prob_male', 1, 0)\n",
    "# tmp_df"
   ]
  },
  {
   "cell_type": "code",
   "execution_count": 78,
   "id": "7ec6fb62",
   "metadata": {},
   "outputs": [],
   "source": [
    "#     # user_age_prediction = tmp_df.groupby('viewer_uid')['predicted_age_class'].agg(lambda x: x.mode()[0])\n",
    "#     user_age_prediction = df.groupby('viewer_uid')['predicted_age_class'].agg(lambda x: x.mode()[0])\n",
    "# sex\n",
    "#     # user_age_prediction = tmp_df.groupby('viewer_uid')['predicted_age_class'].agg(lambda x: x.mode()[0])\n",
    "#     user_age_prediction = df.groupby('viewer_uid')['predicted_age_class'].agg(lambda x: x.mode()[0])\n",
    "        "
   ]
  },
  {
   "cell_type": "code",
   "execution_count": 584,
   "id": "474d3e8a",
   "metadata": {
    "scrolled": true
   },
   "outputs": [],
   "source": [
    "# Присваиваем вероятности возрастных категорий к событиям просмотра в тестовом наборе\n",
    "# tmp_df = tmp_df.merge(video_age_prob, how='left', on='rutube_video_id')\n",
    "# pd.DataFrame(user_age_prediction)['predicted_age_class'].apply(lambda x: x.str.replace('stat_age_class_prob', ''))\n",
    "\n",
    "# user_age_prediction.apply(lambda x: x.str.replace('stat_age_class_prob', ''), axis=1)\n",
    "# user_age_prediction"
   ]
  },
  {
   "cell_type": "code",
   "execution_count": 586,
   "id": "15a19fd4",
   "metadata": {},
   "outputs": [],
   "source": [
    "# train_users_df = detect_trend_video(df=train_users_df, union_all_events=union_all_events)\n",
    "# test_users_df = detect_trend_video(df=test_users_df, union_all_events=union_all_events)\n",
    "\n",
    "# train_users_df.shape, test_users_df.shape"
   ]
  },
  {
   "cell_type": "code",
   "execution_count": 96,
   "id": "889ce15e",
   "metadata": {},
   "outputs": [],
   "source": [
    "# agg_train_users_df = full_agregation(df=train_users_df)\n",
    "# agg_test_users_df = full_agregation(df=test_users_df)\n"
   ]
  },
  {
   "cell_type": "code",
   "execution_count": null,
   "id": "cab9fadb",
   "metadata": {},
   "outputs": [],
   "source": []
  },
  {
   "cell_type": "code",
   "execution_count": null,
   "id": "06af56d7",
   "metadata": {},
   "outputs": [],
   "source": []
  },
  {
   "cell_type": "markdown",
   "id": "7d36bbbf",
   "metadata": {},
   "source": [
    "# Фичи на базе анализа заголовков видео"
   ]
  },
  {
   "cell_type": "code",
   "execution_count": 97,
   "id": "5fc51e28",
   "metadata": {},
   "outputs": [
    {
     "name": "stdout",
     "output_type": "stream",
     "text": [
      "CPU times: total: 78.1 ms\n",
      "Wall time: 83 ms\n"
     ]
    },
    {
     "data": {
      "text/plain": [
       "(189846, 4)"
      ]
     },
     "execution_count": 97,
     "metadata": {},
     "output_type": "execute_result"
    }
   ],
   "source": [
    "%%time\n",
    "# Фичи полученные через кросс валидацию, в обучении не участвовали тестовые данные для локалдьной метрики\n",
    "TRAIN_title_users_df = pd.read_csv(f'cv_TRAIN_title_users_df_v2.csv')\n",
    "TEST_title_users_df = pd.read_csv(f'cv_TEST_title_users_df_v2.csv')\n",
    "union_title_users_df = pd.concat([TRAIN_title_users_df, TEST_title_users_df])\n",
    "union_title_users_df.shape"
   ]
  },
  {
   "cell_type": "code",
   "execution_count": null,
   "id": "635eb5e5",
   "metadata": {},
   "outputs": [],
   "source": [
    "# TEST_title_users_df = pd.read_csv(f'cv_TEST_title_users_df.csv')"
   ]
  },
  {
   "cell_type": "code",
   "execution_count": 98,
   "id": "02495167",
   "metadata": {},
   "outputs": [
    {
     "data": {
      "text/plain": [
       "((17263, 577), (155081, 577), (9203, 574))"
      ]
     },
     "execution_count": 98,
     "metadata": {},
     "output_type": "execute_result"
    }
   ],
   "source": [
    "agg_train_users_df = agg_train_users_df.merge(union_title_users_df[['viewer_uid', 'logistic_oof_sex_class', 'linear_oof_age']], on='viewer_uid')\n",
    "agg_test_users_df = agg_test_users_df.merge(union_title_users_df[['viewer_uid', 'logistic_oof_sex_class', 'linear_oof_age']], on='viewer_uid')\n",
    "agg_submit_test_users_df = agg_submit_test_users_df.merge(union_title_users_df[['viewer_uid', 'logistic_oof_sex_class', 'linear_oof_age']], on='viewer_uid')\n",
    "\n",
    "agg_test_users_df.shape, agg_train_users_df.shape, agg_submit_test_users_df.shape"
   ]
  },
  {
   "cell_type": "markdown",
   "id": "8c777b7d",
   "metadata": {},
   "source": [
    "# Фичи на базе анализа названий категорий"
   ]
  },
  {
   "cell_type": "code",
   "execution_count": 99,
   "id": "fd585218",
   "metadata": {},
   "outputs": [
    {
     "name": "stdout",
     "output_type": "stream",
     "text": [
      "CPU times: total: 78.1 ms\n",
      "Wall time: 117 ms\n"
     ]
    },
    {
     "data": {
      "text/plain": [
       "(189846, 4)"
      ]
     },
     "execution_count": 99,
     "metadata": {},
     "output_type": "execute_result"
    }
   ],
   "source": [
    "%%time\n",
    "# Фичи полученные через кросс валидацию, в обучении не участвовали тестовые данные для локалдьной метрики\n",
    "TRAIN_category_users_df = pd.read_csv(f'cv_TRAIN_category_users_df_v2.csv')\n",
    "TEST_category_users_df = pd.read_csv(f'cv_TEST_category_users_df_v2.csv')\n",
    "\n",
    "union_category_users_df = pd.concat([TRAIN_category_users_df, TEST_category_users_df])\n",
    "union_category_users_df.shape"
   ]
  },
  {
   "cell_type": "code",
   "execution_count": 100,
   "id": "d240c1bc",
   "metadata": {},
   "outputs": [
    {
     "name": "stdout",
     "output_type": "stream",
     "text": [
      "CPU times: total: 734 ms\n",
      "Wall time: 728 ms\n"
     ]
    },
    {
     "data": {
      "text/plain": [
       "((17263, 579), (155081, 579), (9203, 576))"
      ]
     },
     "execution_count": 100,
     "metadata": {},
     "output_type": "execute_result"
    }
   ],
   "source": [
    "%%time\n",
    "agg_train_users_df = agg_train_users_df.merge(union_category_users_df[['viewer_uid', 'logistic_oof_cat_sex_class', 'linear_oof_cat_age']], on='viewer_uid')\n",
    "agg_test_users_df = agg_test_users_df.merge(union_category_users_df[['viewer_uid', 'logistic_oof_cat_sex_class', 'linear_oof_cat_age']], on='viewer_uid')\n",
    "agg_submit_test_users_df = agg_submit_test_users_df.merge(union_category_users_df[['viewer_uid', 'logistic_oof_cat_sex_class', 'linear_oof_cat_age']], on='viewer_uid')\n",
    "\n",
    "\n",
    "agg_test_users_df.shape, agg_train_users_df.shape, agg_submit_test_users_df.shape"
   ]
  },
  {
   "cell_type": "code",
   "execution_count": 94,
   "id": "6c597073",
   "metadata": {},
   "outputs": [],
   "source": [
    "# video_sex_age__user_df\n",
    "# test_video_sex_age\n",
    "# final_user_df = final_user_df.merge(user_targets, on='viewer_uid', how='left')\n",
    "# agg_test_users_df = agg_test_users_df.merge(video_sex_age__user_df, on='viewer_uid', how='left')\n",
    "# agg_train_users_df = agg_test_users_df.merge(video_sex_age__user_df, on='viewer_uid', how='left')"
   ]
  },
  {
   "cell_type": "code",
   "execution_count": 95,
   "id": "bd224623",
   "metadata": {},
   "outputs": [],
   "source": [
    "# video_sex_age_categorical_agg.columns\n",
    "# ['viewer_uid', 'age_class_vidio_stat_nunique', 'age_class_vidio_stat_mode', 'sex_vidio_stat_nunique', 'sex_vidio_stat_mode']"
   ]
  },
  {
   "cell_type": "code",
   "execution_count": 96,
   "id": "48eebbca",
   "metadata": {},
   "outputs": [],
   "source": [
    "# video_sex_age_numerical_agg.columns\n",
    "# ['viewer_uid', 'age_vidio_stat_mean', 'age_vidio_stat_std', 'age_vidio_stat_min', 'age_vidio_stat_max', 'age_vidio_stat_sum', 'age_vidio_stat_median'],"
   ]
  },
  {
   "cell_type": "code",
   "execution_count": null,
   "id": "7062012c",
   "metadata": {},
   "outputs": [],
   "source": []
  },
  {
   "cell_type": "code",
   "execution_count": 97,
   "id": "4c981cab",
   "metadata": {},
   "outputs": [],
   "source": [
    "# %%time\n",
    "# agg_train_users_df.to_parquet(f'agg_train_users_df_v1.parquet')\n",
    "# agg_test_users_df.to_parquet(f'agg_test_users_df_v1.parquet')"
   ]
  },
  {
   "cell_type": "code",
   "execution_count": 98,
   "id": "757b10b0",
   "metadata": {},
   "outputs": [],
   "source": [
    "# 155197 + 17221\n",
    "# 180012"
   ]
  },
  {
   "cell_type": "code",
   "execution_count": 99,
   "id": "9f2de5ea",
   "metadata": {
    "scrolled": true
   },
   "outputs": [],
   "source": [
    "# 17221\n",
    "# final_user_df"
   ]
  },
  {
   "cell_type": "code",
   "execution_count": 100,
   "id": "9be727f0",
   "metadata": {},
   "outputs": [],
   "source": [
    "# test_users_df.shape"
   ]
  },
  {
   "cell_type": "code",
   "execution_count": 101,
   "id": "43e23136",
   "metadata": {},
   "outputs": [],
   "source": [
    "# # targets.shape\n",
    "# # data\n",
    "# ['age_vidio_stat_mean', 'age_vidio_stat_std', 'age_vidio_stat_min', 'age_vidio_stat_max', 'age_vidio_stat_sum', 'age_vidio_stat_median', 'age_class_vidio_stat_nunique', 'age_class_vidio_stat_mode', 'sex_vidio_stat_nunique', 'sex_vidio_stat_mode']\n",
    "\n",
    "# ]]"
   ]
  },
  {
   "cell_type": "code",
   "execution_count": 385,
   "id": "91f86c84",
   "metadata": {},
   "outputs": [],
   "source": [
    "# data['viewer_uid'].unique().shape"
   ]
  },
  {
   "cell_type": "code",
   "execution_count": 101,
   "id": "03cb7115",
   "metadata": {},
   "outputs": [
    {
     "data": {
      "text/plain": [
       "((17263, 579), (155081, 579), (9203, 576))"
      ]
     },
     "execution_count": 101,
     "metadata": {},
     "output_type": "execute_result"
    }
   ],
   "source": [
    "# # Разделяем мультилабел на отдельные классы которые будем предсказывать\n",
    "# agg_train_users_df = pd.concat([agg_train_users_df, pd.get_dummies(agg_train_users_df['age_class'], prefix='age_class_is').astype(int)], axis=1)\n",
    "# agg_test_users_df = pd.concat([agg_test_users_df, pd.get_dummies(agg_test_users_df['age_class'], prefix='age_class_is').astype(int)], axis=1)\n",
    "\n",
    "agg_test_users_df.shape, agg_train_users_df.shape, agg_submit_test_users_df.shape"
   ]
  },
  {
   "cell_type": "code",
   "execution_count": 102,
   "id": "cbd0e5d7",
   "metadata": {},
   "outputs": [],
   "source": [
    "# %%time\n",
    "# save_agg_train_users_df = agg_train_users_df.copy()\n",
    "# save_agg_test_users_df = agg_test_users_df.copy()\n",
    "\n",
    "# save_agg_train_users_df.shape, save_agg_test_users_df.shape"
   ]
  },
  {
   "cell_type": "code",
   "execution_count": 103,
   "id": "78f34cbe",
   "metadata": {
    "scrolled": true
   },
   "outputs": [
    {
     "data": {
      "text/plain": [
       "(558, 18, 576)"
      ]
     },
     "execution_count": 103,
     "metadata": {},
     "output_type": "execute_result"
    }
   ],
   "source": [
    "# agg_test_users_df\n",
    "# add features\n",
    "# 'age_vidio_stat_mean', 'age_vidio_stat_std', 'age_vidio_stat_min', 'age_vidio_stat_max', 'age_vidio_stat_sum', 'age_vidio_stat_median'\n",
    "\n",
    "targets_features = ['age', 'sex', 'age_class', 'age_class_is_0', 'age_class_is_1', 'age_class_is_2', 'age_class_is_3',]\n",
    "target = ['sex']\n",
    "category_features = [\n",
    "    'region_mode', 'ua_device_type_mode', 'ua_client_type_mode', 'ua_os_mode', 'ua_client_name_mode', 'category_mode', 'day_name_mode', 'time_of_day_mode', 'engagement_category_mode', 'duration_category_mode', 'most_common_device_mode', 'most_common_os_mode', 'most_common_browser_mode', 'top_region_mode', 'home_region_mode',\n",
    "    'sex_mode_by_author_mode', 'sex_mode_by_video_mode', 'video_id_mode'\n",
    "    # 'age_class_vidio_stat_nunique', 'age_class_vidio_stat_mode', 'sex_vidio_stat_nunique', 'sex_vidio_stat_mode',\n",
    "]\n",
    "['logistic_oof_sex_class', 'linear_oof_age', 'logistic_oof_cat_sex_class', 'linear_oof_cat_age']\n",
    "ignore_features = []\n",
    "# ignore_features = ['viewer_uid']\n",
    "numeric_features = []\n",
    "\n",
    "for col in agg_test_users_df.columns:\n",
    "    if col not in category_features and col not in targets_features:\n",
    "        numeric_features.append(col)\n",
    "\n",
    "features_columns = numeric_features + category_features\n",
    "\n",
    "len(numeric_features), len(category_features), len(features_columns)"
   ]
  },
  {
   "cell_type": "code",
   "execution_count": null,
   "id": "7497c1e7",
   "metadata": {},
   "outputs": [],
   "source": []
  },
  {
   "cell_type": "code",
   "execution_count": 106,
   "id": "d196a109",
   "metadata": {},
   "outputs": [],
   "source": [
    "# %%time\n",
    "# agg_test_users_df.to_parquet('agg_test_users_df_v5.parquet')\n",
    "# agg_train_users_df.to_parquet('agg_train_users_df_v5.parquet')\n",
    "\n",
    "# agg_test_users_df.shape, agg_train_users_df.shape\n"
   ]
  },
  {
   "cell_type": "code",
   "execution_count": 107,
   "id": "0e416752",
   "metadata": {
    "scrolled": true
   },
   "outputs": [],
   "source": [
    "# agg_test_users_df[numeric_features]"
   ]
  },
  {
   "cell_type": "code",
   "execution_count": 108,
   "id": "b4ef6a68",
   "metadata": {
    "scrolled": true
   },
   "outputs": [],
   "source": [
    "# agg_train_users_df['age_class'].value_counts()\n",
    "# agg_train_users_df"
   ]
  },
  {
   "cell_type": "code",
   "execution_count": null,
   "id": "f025d5f7",
   "metadata": {},
   "outputs": [],
   "source": []
  },
  {
   "cell_type": "code",
   "execution_count": 109,
   "id": "bc16acf9",
   "metadata": {},
   "outputs": [],
   "source": [
    "# agg_test_users_df"
   ]
  },
  {
   "cell_type": "code",
   "execution_count": null,
   "id": "89ffd843",
   "metadata": {},
   "outputs": [],
   "source": []
  },
  {
   "cell_type": "code",
   "execution_count": 110,
   "id": "53b37cad",
   "metadata": {},
   "outputs": [],
   "source": [
    "# ignore_columns = ['logistic_oof_sex_class', 'linear_oof_age', 'logistic_oof_cat_sex_class', 'linear_oof_cat_age']\n",
    "# ignore_features = ['logistic_oof_sex_class', 'linear_oof_age', 'logistic_oof_cat_sex_class', 'linear_oof_cat_age']\n",
    "ignore_features = []"
   ]
  },
  {
   "cell_type": "markdown",
   "id": "e06c7e9d",
   "metadata": {},
   "source": [
    "# Модель"
   ]
  },
  {
   "cell_type": "code",
   "execution_count": 111,
   "id": "839aebb8",
   "metadata": {},
   "outputs": [],
   "source": [
    "from catboost import CatBoostClassifier, Pool\n",
    "from catboost.utils import eval_metric"
   ]
  },
  {
   "cell_type": "code",
   "execution_count": 112,
   "id": "251fd436",
   "metadata": {},
   "outputs": [],
   "source": [
    "# Вывод графика feature importance\n",
    "def plot_feature_importance(importance, names, model_name=\"\", top_n=-1, skip_columns=[]):\n",
    "    \"\"\"Функция вывода feature importance\n",
    "        :importance - массив важности фичей, полученный от модели\n",
    "        :names - массив названий фичей\n",
    "        :model_name - название модели\n",
    "        :top_n - кол-во выводимых фичей\n",
    "        :skip_columns: какие фичи пропустить, такое может понадобиться чтобы временно убрать \n",
    "                        из отображаемых горячие фичи, и изучить менее сильные\n",
    "        :return - fi_df - feature importance датафрейм\n",
    "    \"\"\"\n",
    "    feature_importance = np.array(importance)\n",
    "    feature_names = np.array(names)\n",
    "    \n",
    "    data={'feature_names':feature_names,'feature_importance':feature_importance}\n",
    "    fi_df = pd.DataFrame(data)\n",
    "    fi_df = fi_df[~fi_df['feature_names'].isin(skip_columns)]\n",
    "    fi_df.sort_values(by=['feature_importance'], ascending=False,inplace=True)\n",
    "    \n",
    "    plt.figure(figsize=(10,8))\n",
    "    sns.barplot(x=fi_df['feature_importance'][:top_n], y=fi_df['feature_names'][:top_n])\n",
    "    if top_n != -1:\n",
    "        plt.title(f\"{model_name} FEATURE IMPORTANCE (Top: {top_n})\")\n",
    "    else:\n",
    "        plt.title(f\"{model_name} FEATURE IMPORTANCE\")\n",
    "    plt.xlabel('FEATURE IMPORTANCE')\n",
    "    plt.ylabel('FEATURE NAMES')\n",
    "    return fi_df"
   ]
  },
  {
   "cell_type": "code",
   "execution_count": 113,
   "id": "a2ccff79",
   "metadata": {},
   "outputs": [],
   "source": [
    "# # Всегда выделяем данные под валидацию, чтобы бустинг модель могла сделать ранний останов + подбор гиперпараметров\n",
    "# X_train, X_val, y_train, y_val = train_test_split(\n",
    "#                                 agg_train_users_df[features_columns], \n",
    "#                                 agg_train_users_df[target], \n",
    "#                                 test_size=0.05, \n",
    "#                                 random_state=53)\n",
    "\n",
    "# X_train.shape, X_val.shape, y_train.shape, y_val.shape"
   ]
  },
  {
   "cell_type": "code",
   "execution_count": 114,
   "id": "088a4acc",
   "metadata": {},
   "outputs": [],
   "source": [
    "# y_train.value_counts()"
   ]
  },
  {
   "cell_type": "code",
   "execution_count": 115,
   "id": "c320ea1d",
   "metadata": {},
   "outputs": [],
   "source": [
    "# %%time\n",
    "# model = CatBoostClassifier(iterations=5000,\n",
    "#                 eval_metric = \"AUC\", \n",
    "#                 early_stopping_rounds=200, \n",
    "#                 ignored_features=ignore_features,\n",
    "#                 cat_features=category_features,\n",
    "#                 # od_type = \"Iter\",\n",
    "#                 # od_wait = 200,                               \n",
    "#                 random_state=53,\n",
    "#                 task_type=\"GPU\",\n",
    "#                 devices='0',\n",
    "# #                 learning_rate = 0.1,\n",
    "#                 )\n",
    "# # Обучаем модель\n",
    "# model.fit(X_train, y_train,\n",
    "#           eval_set=(X_val, y_val), \n",
    "#           plot=True, \n",
    "#           verbose=False,\n",
    "# #           sample_weight = zero_X_train_df['sample_weights'],\n",
    "#          )\n",
    "# # plot_feature_importance(model_by_cat_level_zero.get_feature_importance(), (features_columns_one_model ),f'Zero Model', top_n=50)\n",
    "# # plt.show()\n"
   ]
  },
  {
   "cell_type": "code",
   "execution_count": null,
   "id": "ce89bcf4",
   "metadata": {},
   "outputs": [],
   "source": []
  },
  {
   "cell_type": "code",
   "execution_count": 116,
   "id": "1544e76c",
   "metadata": {},
   "outputs": [],
   "source": [
    "# fi_df = plot_feature_importance(model.get_feature_importance(), (model.feature_names_),f'Model', top_n=30)\n",
    "# plt.show()"
   ]
  },
  {
   "cell_type": "code",
   "execution_count": 117,
   "id": "248533a2",
   "metadata": {},
   "outputs": [],
   "source": [
    "# fi_df = plot_feature_importance(model.get_feature_importance(), (model.feature_names_),f'Model', top_n=30)\n",
    "# plt.show()"
   ]
  },
  {
   "cell_type": "code",
   "execution_count": null,
   "id": "317aa3f9",
   "metadata": {},
   "outputs": [],
   "source": []
  },
  {
   "cell_type": "code",
   "execution_count": 118,
   "id": "e4ff6fe1",
   "metadata": {},
   "outputs": [],
   "source": [
    "# plot_feature_importance(model.get_feature_importance(), (model.feature_names_),f'Model', top_n=30)\n",
    "# plt.show()"
   ]
  },
  {
   "cell_type": "code",
   "execution_count": 597,
   "id": "2ee209ab",
   "metadata": {},
   "outputs": [],
   "source": [
    "# plot_feature_importance(model.get_feature_importance(), (model.feature_names_),f'Model', top_n=30)\n",
    "# plt.show()"
   ]
  },
  {
   "cell_type": "code",
   "execution_count": 598,
   "id": "86756ff1",
   "metadata": {},
   "outputs": [],
   "source": [
    "# plot_feature_importance(model.get_feature_importance(), (model.feature_names_),f'Model', top_n=30)\n",
    "# plt.show()"
   ]
  },
  {
   "cell_type": "code",
   "execution_count": 599,
   "id": "d0101988",
   "metadata": {},
   "outputs": [],
   "source": [
    "# # Всегда выделяем данные под валидацию, чтобы бустинг модель могла сделать ранний останов + подбор гиперпараметров\n",
    "# X_train, X_val, y_train, y_val = train_test_split(\n",
    "#                                 agg_train_users_df[features_columns], \n",
    "#                                 agg_train_users_df['age_class'], \n",
    "#                                 test_size=0.05, \n",
    "#                                 random_state=53)\n",
    "\n",
    "# X_train.shape, X_val.shape, y_train.shape, y_val.shape"
   ]
  },
  {
   "cell_type": "code",
   "execution_count": 600,
   "id": "0cad13d4",
   "metadata": {},
   "outputs": [],
   "source": [
    "# model_age_group = CatBoostClassifier(iterations=5000,\n",
    "#                 eval_metric = \"AUC\", \n",
    "#                 early_stopping_rounds=100, \n",
    "#                 ignored_features=ignore_features,\n",
    "#                 cat_features=category_features,\n",
    "#                 # od_type = \"Iter\",\n",
    "#                 # od_wait = 200,                               \n",
    "#                 random_state=53,\n",
    "#                 task_type=\"GPU\",\n",
    "#                 devices='0',\n",
    "#                 # learning_rate = 0.1,\n",
    "#                 loss_function='MultiClass'\n",
    "# #                 loss_function='MultiClass'\n",
    "#                 )\n",
    "# # Обучаем модель\n",
    "# model_age_group.fit(X_train, y_train,\n",
    "#           eval_set=(X_val, y_val), \n",
    "#           plot=True, \n",
    "#           verbose=False,\n",
    "# #           sample_weight = zero_X_train_df['sample_weights'],\n",
    "#          )\n"
   ]
  },
  {
   "cell_type": "code",
   "execution_count": 601,
   "id": "3b8e94c6",
   "metadata": {},
   "outputs": [],
   "source": [
    "# plot_feature_importance(model_age_group.get_feature_importance(), (model_age_group.feature_names_),f'Model', top_n=30)\n",
    "# plt.show()\n"
   ]
  },
  {
   "cell_type": "code",
   "execution_count": 602,
   "id": "5bfa84d1",
   "metadata": {},
   "outputs": [],
   "source": [
    "# # threshold = 0.5\n",
    "# # sex_class_predict_proba = model.predict_proba(agg_test_users_df[model.feature_names_])\n",
    "# # sex_class_predict = np.where(sex_class_predict_proba[:,1] >= threshold, 'male', 'female')\n",
    "# sex_class_predict = model.predict(agg_test_users_df[model.feature_names_])\n",
    "# sex_class_target = agg_test_users_df['sex'].values\n",
    "\n",
    "# age_class_predict = model_age_group.predict(agg_test_users_df[model_age_group.feature_names_])\n",
    "# # age_class_predict = ages_combine_df['predicted_class'].values\n",
    "# age_class_target = agg_test_users_df['age_class'].values"
   ]
  },
  {
   "cell_type": "code",
   "execution_count": null,
   "id": "a93ef22c",
   "metadata": {},
   "outputs": [],
   "source": []
  },
  {
   "cell_type": "code",
   "execution_count": 603,
   "id": "f7088160",
   "metadata": {},
   "outputs": [],
   "source": [
    "\n",
    "# # Взвешенный классы class_weights\n",
    "# f1_weighted = f1_score(age_class_target, age_class_predict, average='weighted')\n",
    "# accuracy = accuracy_score(sex_class_target, sex_class_predict)\n",
    "\n",
    "# final_score = 0.7 * f1_weighted + 0.3 * accuracy\n",
    "# print(f'Weighted F1 = {f1_weighted:.4f} \\nAccuracy = {accuracy:.4f} \\nFinal Score = {final_score:.4f}')"
   ]
  },
  {
   "cell_type": "code",
   "execution_count": 127,
   "id": "dd14276e",
   "metadata": {},
   "outputs": [
    {
     "data": {
      "text/plain": [
       "0.4830082517545932"
      ]
     },
     "execution_count": 127,
     "metadata": {},
     "output_type": "execute_result"
    }
   ],
   "source": []
  },
  {
   "cell_type": "code",
   "execution_count": 120,
   "id": "be2f41af",
   "metadata": {},
   "outputs": [],
   "source": [
    "# from sklearn import metrics\n",
    "# y_valid = age_class_target\n",
    "# predicted = age_class_predict\n",
    "# # print(\"Logistic Regression Accuracy:\", metrics.accuracy_score(y_valid, predicted))\n",
    "# # print(\"Logistic Regression Precision:\", metrics.precision_score(y_valid, predicted))\n",
    "# # print(\"Logistic Regression Recall:\", metrics.recall_score(y_valid, predicted))\n",
    "# # print(\"Logistic Regression f1_score:\", metrics.f1_score(y_valid, predicted))    \n",
    "# print(\"Logistic Regression f1_score weighted:\", metrics.f1_score(y_valid, predicted, average='weighted'))\n"
   ]
  },
  {
   "cell_type": "code",
   "execution_count": 148,
   "id": "224bf8d9",
   "metadata": {},
   "outputs": [
    {
     "data": {
      "text/plain": [
       "(17234, 1)"
      ]
     },
     "execution_count": 148,
     "metadata": {},
     "output_type": "execute_result"
    }
   ],
   "source": []
  },
  {
   "cell_type": "code",
   "execution_count": null,
   "id": "c26bd32f",
   "metadata": {},
   "outputs": [],
   "source": []
  },
  {
   "cell_type": "code",
   "execution_count": 606,
   "id": "82649a0c",
   "metadata": {},
   "outputs": [],
   "source": [
    "# ignore_features"
   ]
  },
  {
   "cell_type": "code",
   "execution_count": 121,
   "id": "8a8736b8",
   "metadata": {},
   "outputs": [
    {
     "data": {
      "text/plain": [
       "((155081, 579), (17263, 579), (9203, 576))"
      ]
     },
     "execution_count": 121,
     "metadata": {},
     "output_type": "execute_result"
    }
   ],
   "source": [
    "oof_agg_train_users_df = agg_train_users_df.copy()\n",
    "oof_agg_test_users_df = agg_test_users_df.copy()\n",
    "oof_agg_submit_test_users_df = agg_submit_test_users_df.copy()\n",
    "\n",
    "oof_agg_train_users_df.shape, oof_agg_test_users_df.shape, oof_agg_submit_test_users_df.shape"
   ]
  },
  {
   "cell_type": "code",
   "execution_count": null,
   "id": "adb06f1e",
   "metadata": {},
   "outputs": [],
   "source": [
    "# bad_client = np.array(tmp_gr_size[tmp_gr_size <= 1].index)\n",
    "# len(bad_client)"
   ]
  },
  {
   "cell_type": "code",
   "execution_count": 765,
   "id": "e5f0cfa0",
   "metadata": {},
   "outputs": [],
   "source": [
    "# oof_agg_train_users_df = oof_agg_train_users_df[~oof_agg_train_users_df['viewer_uid'].isin(bad_client)]\n",
    "# oof_agg_train_users_df = oof_agg_train_users_df.reset_index().drop(columns='index')\n",
    "# oof_agg_train_users_df.shape"
   ]
  },
  {
   "cell_type": "markdown",
   "id": "b1d484be",
   "metadata": {},
   "source": [
    "# Генерация новых фичей через кроссвалидацию \n",
    "# Out-of-fold предсказания (OOF)"
   ]
  },
  {
   "cell_type": "markdown",
   "id": "90268a5f",
   "metadata": {},
   "source": [
    "### Модель регрессии по возрасту"
   ]
  },
  {
   "cell_type": "code",
   "execution_count": 122,
   "id": "a1ee8510",
   "metadata": {
    "scrolled": true
   },
   "outputs": [
    {
     "name": "stdout",
     "output_type": "stream",
     "text": [
      "train_df: 155081\n",
      "X: 155081, y: 155081\n",
      "fold: 1\n",
      "(117860, 576) (6204, 576) (117860,) (6204,)\n"
     ]
    },
    {
     "data": {
      "application/vnd.jupyter.widget-view+json": {
       "model_id": "4ba4c916d63a462586ef4da95c2d087b",
       "version_major": 2,
       "version_minor": 0
      },
      "text/plain": [
       "MetricVisualizer(layout=Layout(align_self='stretch', height='500px'))"
      ]
     },
     "metadata": {},
     "output_type": "display_data"
    },
    {
     "name": "stderr",
     "output_type": "stream",
     "text": [
      "Warning: less than 75% gpu memory available for training. Free: 7815.480469 Total: 12287.5\n",
      "Default metric period is 5 because MAE is/are not implemented for GPU\n"
     ]
    },
    {
     "name": "stdout",
     "output_type": "stream",
     "text": [
      "155081 31017\n",
      "31017\n",
      "31017\n",
      "fold: 2\n",
      "(117861, 576) (6204, 576) (117861,) (6204,)\n"
     ]
    },
    {
     "data": {
      "application/vnd.jupyter.widget-view+json": {
       "model_id": "ba68af5d58bd48c1b3f1d1de9e0a7a58",
       "version_major": 2,
       "version_minor": 0
      },
      "text/plain": [
       "MetricVisualizer(layout=Layout(align_self='stretch', height='500px'))"
      ]
     },
     "metadata": {},
     "output_type": "display_data"
    },
    {
     "name": "stderr",
     "output_type": "stream",
     "text": [
      "Default metric period is 5 because MAE is/are not implemented for GPU\n"
     ]
    },
    {
     "name": "stdout",
     "output_type": "stream",
     "text": [
      "155081 31016\n",
      "31016\n",
      "31016\n",
      "fold: 3\n",
      "(117861, 576) (6204, 576) (117861,) (6204,)\n"
     ]
    },
    {
     "data": {
      "application/vnd.jupyter.widget-view+json": {
       "model_id": "4a194cee2b914bb6a15f71b65a466b5c",
       "version_major": 2,
       "version_minor": 0
      },
      "text/plain": [
       "MetricVisualizer(layout=Layout(align_self='stretch', height='500px'))"
      ]
     },
     "metadata": {},
     "output_type": "display_data"
    },
    {
     "name": "stderr",
     "output_type": "stream",
     "text": [
      "Default metric period is 5 because MAE is/are not implemented for GPU\n"
     ]
    },
    {
     "name": "stdout",
     "output_type": "stream",
     "text": [
      "155081 31016\n",
      "31016\n",
      "31016\n",
      "fold: 4\n",
      "(117861, 576) (6204, 576) (117861,) (6204,)\n"
     ]
    },
    {
     "data": {
      "application/vnd.jupyter.widget-view+json": {
       "model_id": "c10aecfac0854b30962032a1d647bbc3",
       "version_major": 2,
       "version_minor": 0
      },
      "text/plain": [
       "MetricVisualizer(layout=Layout(align_self='stretch', height='500px'))"
      ]
     },
     "metadata": {},
     "output_type": "display_data"
    },
    {
     "name": "stderr",
     "output_type": "stream",
     "text": [
      "Default metric period is 5 because MAE is/are not implemented for GPU\n"
     ]
    },
    {
     "name": "stdout",
     "output_type": "stream",
     "text": [
      "155081 31016\n",
      "31016\n",
      "31016\n",
      "fold: 5\n",
      "(117861, 576) (6204, 576) (117861,) (6204,)\n"
     ]
    },
    {
     "data": {
      "application/vnd.jupyter.widget-view+json": {
       "model_id": "8e41a0a559864a61ae832cf82f18934b",
       "version_major": 2,
       "version_minor": 0
      },
      "text/plain": [
       "MetricVisualizer(layout=Layout(align_self='stretch', height='500px'))"
      ]
     },
     "metadata": {},
     "output_type": "display_data"
    },
    {
     "name": "stderr",
     "output_type": "stream",
     "text": [
      "Default metric period is 5 because MAE is/are not implemented for GPU\n"
     ]
    },
    {
     "name": "stdout",
     "output_type": "stream",
     "text": [
      "155081 31016\n",
      "31016\n",
      "31016\n",
      "Предсказание для тестовых данных\n",
      "(147326, 576) (7755, 576) (147326,) (7755,)\n"
     ]
    },
    {
     "data": {
      "application/vnd.jupyter.widget-view+json": {
       "model_id": "ac77eeaa2abb4432ac25d531d213786b",
       "version_major": 2,
       "version_minor": 0
      },
      "text/plain": [
       "MetricVisualizer(layout=Layout(align_self='stretch', height='500px'))"
      ]
     },
     "metadata": {},
     "output_type": "display_data"
    },
    {
     "name": "stderr",
     "output_type": "stream",
     "text": [
      "Default metric period is 5 because MAE is/are not implemented for GPU\n"
     ]
    },
    {
     "data": {
      "image/png": "[encoded data removed]",
      "text/plain": [
       "<Figure size 1000x800 with 1 Axes>"
      ]
     },
     "metadata": {},
     "output_type": "display_data"
    },
    {
     "name": "stdout",
     "output_type": "stream",
     "text": [
      "CPU times: total: 8min 56s\n",
      "Wall time: 6min 54s\n"
     ]
    },
    {
     "data": {
      "text/plain": [
       "((155081, 580), (17263, 580), (9203, 577))"
      ]
     },
     "execution_count": 122,
     "metadata": {},
     "output_type": "execute_result"
    }
   ],
   "source": [
    "%%time\n",
    "# Генерируем фичи через кроссвалидацию (Out-of-fold OOF)\n",
    "import numpy as np\n",
    "import pandas as pd\n",
    "from sklearn.model_selection import StratifiedKFold\n",
    "from sklearn.metrics import accuracy_score\n",
    "\n",
    "from sklearn.utils.class_weight import compute_class_weight\n",
    "from typing import List\n",
    "\n",
    "def calc_cv_target(train_df:pd.DataFrame, test_df:pd.DataFrame, submit_df:pd.DataFrame, features_columns:List[str], category_features:List[str],  target_col:str, iterations:int=1000):\n",
    "    X = train_df[features_columns]\n",
    "    y = train_df[target_col]\n",
    "    # Количество фолдов для кросс-валидации\n",
    "    n_folds = 5\n",
    "    # Создаем объект StratifiedKFold для кросс-валидации\n",
    "    skf = StratifiedKFold(n_splits=n_folds, shuffle=True, random_state=53)\n",
    "    \n",
    "\n",
    "    # Создаем массив для хранения OOF предсказаний\n",
    "    oof_predictions = np.zeros(len(X))\n",
    "    \n",
    "    # Проходим по каждому фолду\n",
    "    for i, (train_idx, valid_idx) in enumerate(skf.split(X, y)):\n",
    "        print(f'fold: {i+1}')\n",
    "        X_train, X_valid = X.iloc[train_idx], X.iloc[valid_idx]\n",
    "        y_train, y_valid = y.iloc[train_idx], y.iloc[valid_idx]\n",
    "        \n",
    "        # Всегда выделяем данные под валидацию, чтобы бустинг модель могла сделать ранний останов + подбор гиперпараметров\n",
    "        X_train, X_val, y_train, y_val = train_test_split(\n",
    "                                    X_train, \n",
    "                                    y_train, \n",
    "                                    test_size=0.05, \n",
    "                                    stratify=y_train,\n",
    "                                    random_state=53)\n",
    "        \n",
    "        fold_cv_model = CatBoostRegressor(iterations=iterations,\n",
    "                        eval_metric = \"MAE\", \n",
    "                        early_stopping_rounds=200, \n",
    "                        ignored_features=ignore_features,\n",
    "                        cat_features=category_features,\n",
    "                        random_state=53,\n",
    "                        task_type=\"GPU\",\n",
    "                        devices='0',\n",
    "        #                 learning_rate = 0.1,\n",
    "                        )        \n",
    "        # Обучаем модель на данных фолда\n",
    "        fold_cv_model.fit(X_train, y_train,\n",
    "                  eval_set=(X_val, y_val), \n",
    "                  plot=True, \n",
    "                  verbose=False,\n",
    "                 )\n",
    "        train_df.loc[valid_idx, f'cv_predict_{target_col}'] = fold_cv_model.predict(X_valid)\n",
    "    print('Предсказание для тестовых данных')\n",
    "    # Делаем предсказание для тестовых данных\n",
    "    X_train, X_val, y_train, y_val = train_test_split(\n",
    "                                X, \n",
    "                                y, \n",
    "                                test_size=0.05, \n",
    "                                stratify=y,\n",
    "                                random_state=53)\n",
    "    \n",
    "    fold_cv_model = CatBoostRegressor(iterations=iterations,\n",
    "                    eval_metric = \"MAE\", \n",
    "                    early_stopping_rounds=200, \n",
    "                    ignored_features=ignore_features,\n",
    "                    cat_features=category_features,\n",
    "                    random_state=53,\n",
    "                    task_type=\"GPU\",\n",
    "                    devices='0',\n",
    "    #                 learning_rate = 0.1,\n",
    "                    )        \n",
    "    # Обучаем модель на данных фолда\n",
    "    fold_cv_model.fit(X_train, y_train,\n",
    "              eval_set=(X_val, y_val), \n",
    "              plot=True, \n",
    "              verbose=False,\n",
    "             )\n",
    "    test_df[f'cv_predict_{target_col}'] = fold_cv_model.predict(test_df[features_columns])\n",
    "    \n",
    "    submit_df[f'cv_predict_{target_col}'] = fold_cv_model.predict(submit_df[features_columns])\n",
    "    \n",
    "    plot_feature_importance(fold_cv_model.get_feature_importance(), (fold_cv_model.feature_names_),f'Model', top_n=30)\n",
    "    plt.show()\n",
    "    \n",
    "    return train_df, test_df, submit_df\n",
    "\n",
    "oof_agg_train_users_df, oof_agg_test_users_df, oof_agg_submit_test_users_df = calc_cv_target(\n",
    "                oof_agg_train_users_df, \n",
    "                oof_agg_test_users_df, \n",
    "                oof_agg_submit_test_users_df,\n",
    "                features_columns=features_columns,\n",
    "                category_features=category_features,\n",
    "                target_col='age',\n",
    "                iterations=1000,)\n",
    "\n",
    "oof_agg_train_users_df.shape, oof_agg_test_users_df.shape, oof_agg_submit_test_users_df.shape"
   ]
  },
  {
   "cell_type": "code",
   "execution_count": 124,
   "id": "60dff7ef",
   "metadata": {
    "scrolled": true
   },
   "outputs": [],
   "source": [
    "# 2+3"
   ]
  },
  {
   "cell_type": "markdown",
   "id": "cb617bbf",
   "metadata": {},
   "source": [
    "### Модель классификации по полу и возрасту"
   ]
  },
  {
   "cell_type": "code",
   "execution_count": 125,
   "id": "b7d2f38e",
   "metadata": {
    "scrolled": true
   },
   "outputs": [
    {
     "name": "stdout",
     "output_type": "stream",
     "text": [
      "fold: 1\n",
      "(117860, 577) (6204, 577) (117860,) (6204,)\n",
      "class_weights: [0.97786406 1.02316133]\n"
     ]
    },
    {
     "data": {
      "application/vnd.jupyter.widget-view+json": {
       "model_id": "b27a2beb8cd746aaafd7c2959f6cd8e1",
       "version_major": 2,
       "version_minor": 0
      },
      "text/plain": [
       "MetricVisualizer(layout=Layout(align_self='stretch', height='500px'))"
      ]
     },
     "metadata": {},
     "output_type": "display_data"
    },
    {
     "name": "stderr",
     "output_type": "stream",
     "text": [
      "Default metric period is 5 because AUC is/are not implemented for GPU\n"
     ]
    },
    {
     "name": "stdout",
     "output_type": "stream",
     "text": [
      "fold: 2\n",
      "(117861, 577) (6204, 577) (117861,) (6204,)\n",
      "class_weights: [0.97787236 1.02315225]\n"
     ]
    },
    {
     "data": {
      "application/vnd.jupyter.widget-view+json": {
       "model_id": "439930728a864fae97a0692d7861fe84",
       "version_major": 2,
       "version_minor": 0
      },
      "text/plain": [
       "MetricVisualizer(layout=Layout(align_self='stretch', height='500px'))"
      ]
     },
     "metadata": {},
     "output_type": "display_data"
    },
    {
     "name": "stderr",
     "output_type": "stream",
     "text": [
      "Default metric period is 5 because AUC is/are not implemented for GPU\n"
     ]
    },
    {
     "name": "stdout",
     "output_type": "stream",
     "text": [
      "fold: 3\n",
      "(117861, 577) (6204, 577) (117861,) (6204,)\n",
      "class_weights: [0.97787236 1.02315225]\n"
     ]
    },
    {
     "data": {
      "application/vnd.jupyter.widget-view+json": {
       "model_id": "188a473d1d11430b9ee8e43f379dde81",
       "version_major": 2,
       "version_minor": 0
      },
      "text/plain": [
       "MetricVisualizer(layout=Layout(align_self='stretch', height='500px'))"
      ]
     },
     "metadata": {},
     "output_type": "display_data"
    },
    {
     "name": "stderr",
     "output_type": "stream",
     "text": [
      "Default metric period is 5 because AUC is/are not implemented for GPU\n"
     ]
    },
    {
     "name": "stdout",
     "output_type": "stream",
     "text": [
      "fold: 4\n",
      "(117861, 577) (6204, 577) (117861,) (6204,)\n",
      "class_weights: [0.97787236 1.02315225]\n"
     ]
    },
    {
     "data": {
      "application/vnd.jupyter.widget-view+json": {
       "model_id": "7fa6b19f0b95411099c8e04f20d2857b",
       "version_major": 2,
       "version_minor": 0
      },
      "text/plain": [
       "MetricVisualizer(layout=Layout(align_self='stretch', height='500px'))"
      ]
     },
     "metadata": {},
     "output_type": "display_data"
    },
    {
     "name": "stderr",
     "output_type": "stream",
     "text": [
      "Default metric period is 5 because AUC is/are not implemented for GPU\n"
     ]
    },
    {
     "name": "stdout",
     "output_type": "stream",
     "text": [
      "fold: 5\n",
      "(117861, 577) (6204, 577) (117861,) (6204,)\n",
      "class_weights: [0.97787236 1.02315225]\n"
     ]
    },
    {
     "data": {
      "application/vnd.jupyter.widget-view+json": {
       "model_id": "329039e3828f4613acb99a43b4e0447a",
       "version_major": 2,
       "version_minor": 0
      },
      "text/plain": [
       "MetricVisualizer(layout=Layout(align_self='stretch', height='500px'))"
      ]
     },
     "metadata": {},
     "output_type": "display_data"
    },
    {
     "name": "stderr",
     "output_type": "stream",
     "text": [
      "Default metric period is 5 because AUC is/are not implemented for GPU\n"
     ]
    },
    {
     "name": "stdout",
     "output_type": "stream",
     "text": [
      "Предсказание для тестовых данных\n",
      "(147326, 577) (7755, 577) (147326,) (7755,)\n",
      "class_weights: [0.9778707  1.02315406]\n"
     ]
    },
    {
     "data": {
      "application/vnd.jupyter.widget-view+json": {
       "model_id": "5fe5c5d4fbb34530a24e2e146b55a545",
       "version_major": 2,
       "version_minor": 0
      },
      "text/plain": [
       "MetricVisualizer(layout=Layout(align_self='stretch', height='500px'))"
      ]
     },
     "metadata": {},
     "output_type": "display_data"
    },
    {
     "name": "stderr",
     "output_type": "stream",
     "text": [
      "Default metric period is 5 because AUC is/are not implemented for GPU\n"
     ]
    },
    {
     "data": {
      "image/png": "[encoded data removed]",
      "text/plain": [
       "<Figure size 1000x800 with 1 Axes>"
      ]
     },
     "metadata": {},
     "output_type": "display_data"
    },
    {
     "name": "stdout",
     "output_type": "stream",
     "text": [
      "CPU times: total: 10min 59s\n",
      "Wall time: 8min 43s\n"
     ]
    },
    {
     "data": {
      "text/plain": [
       "((155081, 582), (17263, 582), (9203, 579))"
      ]
     },
     "execution_count": 125,
     "metadata": {},
     "output_type": "execute_result"
    }
   ],
   "source": [
    "%%time\n",
    "# Генерируем фичи через кроссвалидацию (Out-of-fold OOF)\n",
    "import numpy as np\n",
    "import pandas as pd\n",
    "from sklearn.model_selection import StratifiedKFold\n",
    "from sklearn.metrics import accuracy_score\n",
    "\n",
    "from sklearn.utils.class_weight import compute_class_weight\n",
    "from typing import List\n",
    "\n",
    "def calc_cv_target(train_df:pd.DataFrame, test_df:pd.DataFrame, submit_df:pd.DataFrame, features_columns:List[str], category_features:List[str],  target_col:str, iterations:int=1000):\n",
    "    X = train_df[features_columns]\n",
    "    y = train_df[target_col]\n",
    "    \n",
    "    # Количество фолдов для кросс-валидации\n",
    "    n_folds = 5\n",
    "    # Создаем объект StratifiedKFold для кросс-валидации\n",
    "    skf = StratifiedKFold(n_splits=n_folds, shuffle=True, random_state=53)\n",
    "    \n",
    "\n",
    "    # Создаем массив для хранения OOF предсказаний\n",
    "    oof_predictions = np.zeros(len(X))\n",
    "    \n",
    "\n",
    "    # plot_feature_importance(model_by_cat_level_zero.get_feature_importance(), (features_columns_one_model ),f'Zero Model', top_n=50)\n",
    "    # plt.show()\n",
    "    # Проходим по каждому фолду\n",
    "    for i, (train_idx, valid_idx) in enumerate(skf.split(X, y)):\n",
    "        print(f'fold: {i+1}')\n",
    "        X_train, X_valid = X.iloc[train_idx], X.iloc[valid_idx]\n",
    "        y_train, y_valid = y.iloc[train_idx], y.iloc[valid_idx]\n",
    "        \n",
    "        # Всегда выделяем данные под валидацию, чтобы бустинг модель могла сделать ранний останов + подбор гиперпараметров\n",
    "        X_train, X_val, y_train, y_val = train_test_split(\n",
    "                                    X_train, \n",
    "                                    y_train, \n",
    "                                    test_size=0.05, \n",
    "                                    stratify=y_train,\n",
    "                                    random_state=53)\n",
    "        print(X_train.shape, X_val.shape, y_train.shape, y_val.shape)\n",
    "        # Определяем уникальные классы\n",
    "        classes = np.array(sorted(set(y_train.values)))\n",
    "        # # Рассчитываем веса для каждого класса\n",
    "        class_weights = compute_class_weight('balanced', classes=classes, y=y_train)\n",
    "        print(f'class_weights: {class_weights}')\n",
    "        fold_cv_model = CatBoostClassifier(iterations=iterations,\n",
    "                        eval_metric = \"AUC\", \n",
    "                        early_stopping_rounds=200, \n",
    "                        ignored_features=ignore_features,\n",
    "                        cat_features=category_features,\n",
    "                        random_state=53,\n",
    "                        task_type=\"GPU\",\n",
    "                        devices='0',\n",
    "#                         class_weights=class_weights,\n",
    "        #                 learning_rate = 0.1,\n",
    "                        )        \n",
    "        # Обучаем модель на данных фолда\n",
    "        fold_cv_model.fit(X_train, y_train,\n",
    "                  eval_set=(X_val, y_val), \n",
    "                  plot=True, \n",
    "                  verbose=False,\n",
    "                 )\n",
    "        \n",
    "        train_df.loc[valid_idx, f'cv_predict_{target_col}'] = fold_cv_model.predict(X_valid)\n",
    "        if len(set(y_train.values)) == 2:\n",
    "            train_df.loc[valid_idx, f'cv_predict_proba_{target_col}'] = fold_cv_model.predict_proba(X_valid)[:,1]\n",
    "    print('Предсказание для тестовых данных')\n",
    "    # Делаем предсказание для тестовых данных\n",
    "    X_train, X_val, y_train, y_val = train_test_split(\n",
    "                                X, \n",
    "                                y, \n",
    "                                test_size=0.05, \n",
    "                                stratify=y,\n",
    "                                random_state=53)\n",
    "    print(X_train.shape, X_val.shape, y_train.shape, y_val.shape)\n",
    "    # Определяем уникальные классы\n",
    "    classes = np.array(sorted(set(y_train.values)))\n",
    "    # # Рассчитываем веса для каждого класса\n",
    "    class_weights = compute_class_weight('balanced', classes=classes, y=y_train)\n",
    "    print(f'class_weights: {class_weights}')\n",
    "    fold_cv_model = CatBoostClassifier(iterations=iterations,\n",
    "                    eval_metric = \"AUC\", \n",
    "                    early_stopping_rounds=200, \n",
    "                    ignored_features=ignore_features,\n",
    "                    cat_features=category_features,\n",
    "                    random_state=53,\n",
    "                    task_type=\"GPU\",\n",
    "                    devices='0',\n",
    "#                     class_weights=class_weights,\n",
    "    #                 learning_rate = 0.1,\n",
    "                    )        \n",
    "    # Обучаем модель на данных фолда\n",
    "    fold_cv_model.fit(X_train, y_train,\n",
    "              eval_set=(X_val, y_val), \n",
    "              plot=True, \n",
    "              verbose=False,\n",
    "             )\n",
    "    test_df[f'cv_predict_{target_col}'] = fold_cv_model.predict(test_df[features_columns])\n",
    "    submit_df[f'cv_predict_{target_col}'] = fold_cv_model.predict(submit_df[features_columns])\n",
    "    \n",
    "    if len(set(y_train.values)) == 2:\n",
    "        test_df[f'cv_predict_proba_{target_col}'] = fold_cv_model.predict_proba(test_df[features_columns])[:,1]\n",
    "        submit_df[f'cv_predict_proba_{target_col}'] = fold_cv_model.predict_proba(submit_df[features_columns])[:,1]\n",
    "        \n",
    "    plot_feature_importance(fold_cv_model.get_feature_importance(), (fold_cv_model.feature_names_),f'Model', top_n=30)\n",
    "    plt.show()\n",
    "    \n",
    "    return train_df, test_df, submit_df\n",
    "\n",
    "oof_agg_train_users_df, oof_agg_test_users_df, oof_agg_submit_test_users_df = calc_cv_target(\n",
    "                oof_agg_train_users_df, \n",
    "                oof_agg_test_users_df, \n",
    "                oof_agg_submit_test_users_df,\n",
    "                features_columns=features_columns + ['cv_predict_age'],\n",
    "                category_features=category_features,\n",
    "                target_col='sex',\n",
    "                iterations=1000)\n",
    "\n",
    "oof_agg_train_users_df.shape, oof_agg_test_users_df.shape, oof_agg_submit_test_users_df.shape"
   ]
  },
  {
   "cell_type": "code",
   "execution_count": 126,
   "id": "982af4e3",
   "metadata": {
    "scrolled": true
   },
   "outputs": [
    {
     "name": "stdout",
     "output_type": "stream",
     "text": [
      "fold: 1\n",
      "(117860, 579) (6204, 579) (117860,) (6204,)\n",
      "class_weights: [5.97546137 0.70456719 0.6848344  1.04917391]\n"
     ]
    },
    {
     "data": {
      "application/vnd.jupyter.widget-view+json": {
       "model_id": "b8c0b2d719dc47a49d865ac0f7f0c659",
       "version_major": 2,
       "version_minor": 0
      },
      "text/plain": [
       "MetricVisualizer(layout=Layout(align_self='stretch', height='500px'))"
      ]
     },
     "metadata": {},
     "output_type": "display_data"
    },
    {
     "name": "stderr",
     "output_type": "stream",
     "text": [
      "Default metric period is 5 because AUC is/are not implemented for GPU\n",
      "AUC is not implemented on GPU. Will use CPU for metric computation, this could significantly affect learning time\n"
     ]
    },
    {
     "name": "stdout",
     "output_type": "stream",
     "text": [
      "fold: 2\n",
      "(117861, 579) (6204, 579) (117861,) (6204,)\n",
      "class_weights: [5.97430049 0.70457317 0.68484021 1.04918281]\n"
     ]
    },
    {
     "data": {
      "application/vnd.jupyter.widget-view+json": {
       "model_id": "55dabec3568e42c39f013d6244cb4b0e",
       "version_major": 2,
       "version_minor": 0
      },
      "text/plain": [
       "MetricVisualizer(layout=Layout(align_self='stretch', height='500px'))"
      ]
     },
     "metadata": {},
     "output_type": "display_data"
    },
    {
     "name": "stderr",
     "output_type": "stream",
     "text": [
      "Default metric period is 5 because AUC is/are not implemented for GPU\n",
      "AUC is not implemented on GPU. Will use CPU for metric computation, this could significantly affect learning time\n"
     ]
    },
    {
     "name": "stdout",
     "output_type": "stream",
     "text": [
      "fold: 3\n",
      "(117861, 579) (6204, 579) (117861,) (6204,)\n",
      "class_weights: [5.97551207 0.70455632 0.68484021 1.04918281]\n"
     ]
    },
    {
     "data": {
      "application/vnd.jupyter.widget-view+json": {
       "model_id": "8128e842879e49ab951db941ff337a94",
       "version_major": 2,
       "version_minor": 0
      },
      "text/plain": [
       "MetricVisualizer(layout=Layout(align_self='stretch', height='500px'))"
      ]
     },
     "metadata": {},
     "output_type": "display_data"
    },
    {
     "name": "stderr",
     "output_type": "stream",
     "text": [
      "Default metric period is 5 because AUC is/are not implemented for GPU\n",
      "AUC is not implemented on GPU. Will use CPU for metric computation, this could significantly affect learning time\n"
     ]
    },
    {
     "name": "stdout",
     "output_type": "stream",
     "text": [
      "fold: 4\n",
      "(117861, 579) (6204, 579) (117861,) (6204,)\n",
      "class_weights: [5.97551207 0.70455632 0.68482429 1.04922017]\n"
     ]
    },
    {
     "data": {
      "application/vnd.jupyter.widget-view+json": {
       "model_id": "f23d31afc42e4e4dae82ae9a1f4428f7",
       "version_major": 2,
       "version_minor": 0
      },
      "text/plain": [
       "MetricVisualizer(layout=Layout(align_self='stretch', height='500px'))"
      ]
     },
     "metadata": {},
     "output_type": "display_data"
    },
    {
     "name": "stderr",
     "output_type": "stream",
     "text": [
      "Default metric period is 5 because AUC is/are not implemented for GPU\n",
      "AUC is not implemented on GPU. Will use CPU for metric computation, this could significantly affect learning time\n"
     ]
    },
    {
     "name": "stdout",
     "output_type": "stream",
     "text": [
      "fold: 5\n",
      "(117861, 579) (6204, 579) (117861,) (6204,)\n",
      "class_weights: [5.97551207 0.70455632 0.68482429 1.04922017]\n"
     ]
    },
    {
     "data": {
      "application/vnd.jupyter.widget-view+json": {
       "model_id": "def6ef1e35694e7b8421a452d2d969a9",
       "version_major": 2,
       "version_minor": 0
      },
      "text/plain": [
       "MetricVisualizer(layout=Layout(align_self='stretch', height='500px'))"
      ]
     },
     "metadata": {},
     "output_type": "display_data"
    },
    {
     "name": "stderr",
     "output_type": "stream",
     "text": [
      "Default metric period is 5 because AUC is/are not implemented for GPU\n",
      "AUC is not implemented on GPU. Will use CPU for metric computation, this could significantly affect learning time\n"
     ]
    },
    {
     "name": "stdout",
     "output_type": "stream",
     "text": [
      "Предсказание для тестовых данных\n",
      "(147326, 579) (7755, 579) (147326,) (7755,)\n",
      "class_weights: [5.97429035 0.70457198 0.6848295  1.04921092]\n"
     ]
    },
    {
     "data": {
      "application/vnd.jupyter.widget-view+json": {
       "model_id": "bc1afe64d85d4b3a8fa6a3718bb4cbe4",
       "version_major": 2,
       "version_minor": 0
      },
      "text/plain": [
       "MetricVisualizer(layout=Layout(align_self='stretch', height='500px'))"
      ]
     },
     "metadata": {},
     "output_type": "display_data"
    },
    {
     "name": "stderr",
     "output_type": "stream",
     "text": [
      "Default metric period is 5 because AUC is/are not implemented for GPU\n",
      "AUC is not implemented on GPU. Will use CPU for metric computation, this could significantly affect learning time\n"
     ]
    },
    {
     "data": {
      "image/png": "[encoded data removed]",
      "text/plain": [
       "<Figure size 1000x800 with 1 Axes>"
      ]
     },
     "metadata": {},
     "output_type": "display_data"
    },
    {
     "data": {
      "text/plain": [
       "((155081, 583), (17263, 583), (9203, 580))"
      ]
     },
     "execution_count": 126,
     "metadata": {},
     "output_type": "execute_result"
    }
   ],
   "source": [
    "oof_agg_train_users_df, oof_agg_test_users_df, oof_agg_submit_test_users_df = calc_cv_target(\n",
    "                oof_agg_train_users_df, \n",
    "                oof_agg_test_users_df, \n",
    "                oof_agg_submit_test_users_df,\n",
    "                features_columns=features_columns + ['cv_predict_age', 'cv_predict_sex', 'cv_predict_proba_sex'],\n",
    "                category_features=category_features + ['cv_predict_sex'],\n",
    "                target_col='age_class')\n",
    "\n",
    "oof_agg_train_users_df.shape, oof_agg_test_users_df.shape, oof_agg_submit_test_users_df.shape"
   ]
  },
  {
   "cell_type": "markdown",
   "id": "956c1790",
   "metadata": {},
   "source": [
    "# Модель по полу"
   ]
  },
  {
   "cell_type": "code",
   "execution_count": 128,
   "id": "6186bfb7",
   "metadata": {},
   "outputs": [],
   "source": [
    "# bad_client = np.array(tmp_gr_size[tmp_gr_size <= 0].index)\n",
    "# len(bad_client)"
   ]
  },
  {
   "cell_type": "code",
   "execution_count": 129,
   "id": "47be1ca7",
   "metadata": {},
   "outputs": [
    {
     "data": {
      "text/plain": [
       "((147326, 580), (7755, 580), (147326,), (7755,))"
      ]
     },
     "execution_count": 129,
     "metadata": {},
     "output_type": "execute_result"
    }
   ],
   "source": [
    "# Всегда выделяем данные под валидацию, чтобы бустинг модель могла сделать ранний останов + подбор гиперпараметров\n",
    "X_train, X_val, y_train, y_val = train_test_split(\n",
    "                                oof_agg_train_users_df[features_columns + ['cv_predict_age', 'cv_predict_sex', 'cv_predict_proba_sex', 'cv_predict_age_class']], \n",
    "                                oof_agg_train_users_df['sex'], \n",
    "                                test_size=0.05, \n",
    "                                random_state=53)\n",
    "\n",
    "X_train.shape, X_val.shape, y_train.shape, y_val.shape"
   ]
  },
  {
   "cell_type": "code",
   "execution_count": 130,
   "id": "1f8b4305",
   "metadata": {},
   "outputs": [],
   "source": [
    "\n",
    "# # Всегда выделяем данные под валидацию, чтобы бустинг модель могла сделать ранний останов + подбор гиперпараметров\n",
    "# X_train, X_val, y_train, y_val = train_test_split(\n",
    "#                                 oof_agg_train_users_df[~oof_agg_train_users_df['viewer_uid'].isin(bad_client)][features_columns + ['cv_predict_age', 'cv_predict_sex', 'cv_predict_proba_sex', 'cv_predict_age_class']], \n",
    "#                                 oof_agg_train_users_df[~oof_agg_train_users_df['viewer_uid'].isin(bad_client)]['sex'], \n",
    "#                                 test_size=0.05, \n",
    "#                                 random_state=53)\n",
    "\n",
    "# X_train.shape, X_val.shape, y_train.shape, y_val.shape"
   ]
  },
  {
   "cell_type": "code",
   "execution_count": 755,
   "id": "477ec007",
   "metadata": {},
   "outputs": [],
   "source": [
    "# # Определяем уникальные классы\n",
    "# classes = np.array(sorted(set(y_train.values)))\n",
    "# # # Рассчитываем веса для каждого класса\n",
    "# class_weights = compute_class_weight('balanced', classes=classes, y=y_train)\n",
    "# print(f'class_weights: {class_weights}')"
   ]
  },
  {
   "cell_type": "code",
   "execution_count": 131,
   "id": "67d8334f",
   "metadata": {},
   "outputs": [
    {
     "data": {
      "application/vnd.jupyter.widget-view+json": {
       "model_id": "560aeac7884640cfb49cbea5ee148a34",
       "version_major": 2,
       "version_minor": 0
      },
      "text/plain": [
       "MetricVisualizer(layout=Layout(align_self='stretch', height='500px'))"
      ]
     },
     "metadata": {},
     "output_type": "display_data"
    },
    {
     "name": "stderr",
     "output_type": "stream",
     "text": [
      "Default metric period is 5 because AUC is/are not implemented for GPU\n"
     ]
    },
    {
     "name": "stdout",
     "output_type": "stream",
     "text": [
      "CPU times: total: 55.3 s\n",
      "Wall time: 40.1 s\n"
     ]
    },
    {
     "data": {
      "text/plain": [
       "<catboost.core.CatBoostClassifier at 0x1ffb7dd2a50>"
      ]
     },
     "execution_count": 131,
     "metadata": {},
     "output_type": "execute_result"
    }
   ],
   "source": [
    "%%time\n",
    "# 0.8743853569\n",
    "# 0.8743678331\n",
    "sex_model = CatBoostClassifier(iterations=5000,\n",
    "                eval_metric = \"AUC\", \n",
    "#                 eval_metric = \"TotalF1\", \n",
    "                early_stopping_rounds=200, \n",
    "                ignored_features=ignore_features,\n",
    "                cat_features=category_features + ['cv_predict_sex'],\n",
    "                # od_type = \"Iter\",\n",
    "                # od_wait = 200,                               \n",
    "                random_state=53,\n",
    "                task_type=\"GPU\",\n",
    "                devices='0',\n",
    "#                 learning_rate = 0.1,\n",
    "#                 class_weights=class_weights,\n",
    "                )\n",
    "# Обучаем модель\n",
    "sex_model.fit(X_train, y_train,\n",
    "          eval_set=(X_val, y_val), \n",
    "          plot=True, \n",
    "          verbose=False,\n",
    "#           sample_weight = zero_X_train_df['sample_weights'],\n",
    "         )\n",
    "# plot_feature_importance(model_by_cat_level_zero.get_feature_importance(), (features_columns_one_model ),f'Zero Model', top_n=50)\n",
    "# plt.show()\n"
   ]
  },
  {
   "cell_type": "code",
   "execution_count": 132,
   "id": "e7d8c661",
   "metadata": {},
   "outputs": [
    {
     "data": {
      "image/png": "[encoded data removed]",
      "text/plain": [
       "<Figure size 1000x800 with 1 Axes>"
      ]
     },
     "metadata": {},
     "output_type": "display_data"
    }
   ],
   "source": [
    "plot_feature_importance(sex_model.get_feature_importance(), (sex_model.feature_names_),f'Model', top_n=30)\n",
    "plt.show()\n"
   ]
  },
  {
   "cell_type": "markdown",
   "id": "9c2cf11e",
   "metadata": {},
   "source": [
    "# Модель по возрасту"
   ]
  },
  {
   "cell_type": "code",
   "execution_count": 133,
   "id": "8ed2412b",
   "metadata": {},
   "outputs": [],
   "source": [
    "# # data.groupo['viewer_uid']\n",
    "# oof_agg_train_users_df.to_parquet(f'oof_agg_train_users_df_v5.parquet')\n",
    "# oof_agg_test_users_df.to_parquet(f'oof_agg_test_users_df_v5.parquet')\n",
    "\n",
    "# tmp_gr_size = data.groupby(by ='viewer_uid')['rutube_video_id'].size()\n",
    "# tmp_gr_size[tmp_gr_size<10].hist(bins=30)\n",
    "# bad_client = np.array(tmp_gr_size[tmp_gr_size <= 0].index)\n",
    "# len(bad_client)"
   ]
  },
  {
   "cell_type": "code",
   "execution_count": 134,
   "id": "a2ce7ad5",
   "metadata": {},
   "outputs": [],
   "source": [
    "# data[data['viewer_uid'] == 10000005]\n",
    "# tmp_feats = features_columns + ['cv_predict_age', 'cv_predict_sex', 'cv_predict_proba_sex', 'cv_predict_age_class']\n",
    "# 'logistic_oof_sex_class' in tmp_feats\n",
    "# 'logistic_oof_sex_class' in ignore_features"
   ]
  },
  {
   "cell_type": "code",
   "execution_count": 135,
   "id": "a3212fa3",
   "metadata": {},
   "outputs": [
    {
     "data": {
      "text/plain": [
       "((147326, 580), (7755, 580), (147326,), (7755,))"
      ]
     },
     "execution_count": 135,
     "metadata": {},
     "output_type": "execute_result"
    }
   ],
   "source": [
    "# Всегда выделяем данные под валидацию, чтобы бустинг модель могла сделать ранний останов + подбор гиперпараметров\n",
    "X_train, X_val, y_train, y_val = train_test_split(\n",
    "                                oof_agg_train_users_df[features_columns + ['cv_predict_age', 'cv_predict_sex', 'cv_predict_proba_sex', 'cv_predict_age_class']], \n",
    "                                oof_agg_train_users_df['age_class'], \n",
    "                                test_size=0.05, \n",
    "                                random_state=53)\n",
    "\n",
    "X_train.shape, X_val.shape, y_train.shape, y_val.shape"
   ]
  },
  {
   "cell_type": "code",
   "execution_count": 136,
   "id": "ed44f43d",
   "metadata": {},
   "outputs": [],
   "source": [
    "\n",
    "# # Всегда выделяем данные под валидацию, чтобы бустинг модель могла сделать ранний останов + подбор гиперпараметров\n",
    "# X_train, X_val, y_train, y_val = train_test_split(\n",
    "#                                 oof_agg_train_users_df[~oof_agg_train_users_df['viewer_uid'].isin(bad_client)][features_columns + ['cv_predict_age', 'cv_predict_sex', 'cv_predict_proba_sex', 'cv_predict_age_class']], \n",
    "#                                 oof_agg_train_users_df[~oof_agg_train_users_df['viewer_uid'].isin(bad_client)]['age_class'], \n",
    "#                                 test_size=0.05, \n",
    "#                                 random_state=53)\n",
    "\n",
    "# X_train.shape, X_val.shape, y_train.shape, y_val.shape"
   ]
  },
  {
   "cell_type": "code",
   "execution_count": 137,
   "id": "ad25bb09",
   "metadata": {},
   "outputs": [
    {
     "data": {
      "application/vnd.jupyter.widget-view+json": {
       "model_id": "7b4d08dff2464467a21c3be8cce6e913",
       "version_major": 2,
       "version_minor": 0
      },
      "text/plain": [
       "MetricVisualizer(layout=Layout(align_self='stretch', height='500px'))"
      ]
     },
     "metadata": {},
     "output_type": "display_data"
    },
    {
     "name": "stderr",
     "output_type": "stream",
     "text": [
      "Default metric period is 5 because AUC is/are not implemented for GPU\n",
      "AUC is not implemented on GPU. Will use CPU for metric computation, this could significantly affect learning time\n"
     ]
    },
    {
     "name": "stdout",
     "output_type": "stream",
     "text": [
      "CPU times: total: 1min 1s\n",
      "Wall time: 29.2 s\n"
     ]
    },
    {
     "data": {
      "text/plain": [
       "<catboost.core.CatBoostClassifier at 0x1ffb8345410>"
      ]
     },
     "execution_count": 137,
     "metadata": {},
     "output_type": "execute_result"
    }
   ],
   "source": [
    "%%time\n",
    "# 0.84528045\n",
    "# 0.8435153\n",
    "# 0.84483157\n",
    "# 0.84483157\n",
    "# 0.84712152\n",
    "# 0.8574841\n",
    "# 0.86434165\n",
    "model_age_group = CatBoostClassifier(iterations=5000,\n",
    "#                 eval_metric = \"TotalF1\", \n",
    "                eval_metric = \"AUC\", \n",
    "                early_stopping_rounds=200, \n",
    "                ignored_features=ignore_features,\n",
    "                cat_features=category_features + ['cv_predict_sex'],\n",
    "                # od_type = \"Iter\",\n",
    "                # od_wait = 200,                               \n",
    "                random_state=53,\n",
    "                task_type=\"GPU\",\n",
    "                devices='0',\n",
    "#                 learning_rate = 0.1,\n",
    "                loss_function='MultiClass',\n",
    "#                 loss_function='MultiClass'\n",
    "#                 class_weights=class_weights,\n",
    "                )\n",
    "# Обучаем модель\n",
    "model_age_group.fit(X_train, y_train,\n",
    "          eval_set=(X_val, y_val), \n",
    "          plot=True, \n",
    "          verbose=False,\n",
    "#           sample_weight = zero_X_train_df['sample_weights'],\n",
    "         )\n"
   ]
  },
  {
   "cell_type": "code",
   "execution_count": 138,
   "id": "f2582108",
   "metadata": {},
   "outputs": [],
   "source": [
    "# threshold = 0.5\n",
    "# sex_class_predict_proba = model.predict_proba(agg_test_users_df[model.feature_names_])\n",
    "# sex_class_predict = np.where(sex_class_predict_proba[:,1] >= threshold, 'male', 'female')\n",
    "sex_class_predict = sex_model.predict(oof_agg_test_users_df[sex_model.feature_names_])\n",
    "sex_class_target = oof_agg_test_users_df['sex'].values\n",
    "\n",
    "age_class_predict = model_age_group.predict(oof_agg_test_users_df[model_age_group.feature_names_] )\n",
    "# age_class_predict = ages_combine_df['predicted_class'].values\n",
    "age_class_target = oof_agg_test_users_df['age_class'].values"
   ]
  },
  {
   "cell_type": "code",
   "execution_count": 139,
   "id": "35202715",
   "metadata": {},
   "outputs": [
    {
     "name": "stdout",
     "output_type": "stream",
     "text": [
      "Weighted F1 = 0.4907 \n",
      "Accuracy = 0.7661 \n",
      "Final Score = 0.5733\n"
     ]
    }
   ],
   "source": [
    "# Взвешенный классы class_weights\n",
    "f1_weighted = f1_score(age_class_target, age_class_predict, average='weighted')\n",
    "accuracy = accuracy_score(sex_class_target, sex_class_predict)\n",
    "\n",
    "final_score = 0.7 * f1_weighted + 0.3 * accuracy\n",
    "print(f'Weighted F1 = {f1_weighted:.4f} \\nAccuracy = {accuracy:.4f} \\nFinal Score = {final_score:.4f}')"
   ]
  },
  {
   "cell_type": "code",
   "execution_count": 144,
   "id": "ed973fcc",
   "metadata": {},
   "outputs": [
    {
     "data": {
      "text/html": [
       "<div>\n",
       "<style scoped>\n",
       "    .dataframe tbody tr th:only-of-type {\n",
       "        vertical-align: middle;\n",
       "    }\n",
       "\n",
       "    .dataframe tbody tr th {\n",
       "        vertical-align: top;\n",
       "    }\n",
       "\n",
       "    .dataframe thead th {\n",
       "        text-align: right;\n",
       "    }\n",
       "</style>\n",
       "<table border=\"1\" class=\"dataframe\">\n",
       "  <thead>\n",
       "    <tr style=\"text-align: right;\">\n",
       "      <th></th>\n",
       "      <th>viewer_uid</th>\n",
       "      <th>predict_sex</th>\n",
       "      <th>predict_age_class</th>\n",
       "    </tr>\n",
       "  </thead>\n",
       "  <tbody>\n",
       "    <tr>\n",
       "      <th>0</th>\n",
       "      <td>10000481</td>\n",
       "      <td>male</td>\n",
       "      <td>2</td>\n",
       "    </tr>\n",
       "    <tr>\n",
       "      <th>1</th>\n",
       "      <td>10000521</td>\n",
       "      <td>male</td>\n",
       "      <td>3</td>\n",
       "    </tr>\n",
       "    <tr>\n",
       "      <th>2</th>\n",
       "      <td>10000546</td>\n",
       "      <td>female</td>\n",
       "      <td>2</td>\n",
       "    </tr>\n",
       "    <tr>\n",
       "      <th>3</th>\n",
       "      <td>10000828</td>\n",
       "      <td>male</td>\n",
       "      <td>2</td>\n",
       "    </tr>\n",
       "    <tr>\n",
       "      <th>4</th>\n",
       "      <td>10000915</td>\n",
       "      <td>male</td>\n",
       "      <td>3</td>\n",
       "    </tr>\n",
       "    <tr>\n",
       "      <th>...</th>\n",
       "      <td>...</td>\n",
       "      <td>...</td>\n",
       "      <td>...</td>\n",
       "    </tr>\n",
       "    <tr>\n",
       "      <th>9198</th>\n",
       "      <td>11137518</td>\n",
       "      <td>male</td>\n",
       "      <td>1</td>\n",
       "    </tr>\n",
       "    <tr>\n",
       "      <th>9199</th>\n",
       "      <td>11137655</td>\n",
       "      <td>female</td>\n",
       "      <td>2</td>\n",
       "    </tr>\n",
       "    <tr>\n",
       "      <th>9200</th>\n",
       "      <td>11138441</td>\n",
       "      <td>male</td>\n",
       "      <td>2</td>\n",
       "    </tr>\n",
       "    <tr>\n",
       "      <th>9201</th>\n",
       "      <td>11139273</td>\n",
       "      <td>male</td>\n",
       "      <td>1</td>\n",
       "    </tr>\n",
       "    <tr>\n",
       "      <th>9202</th>\n",
       "      <td>11140021</td>\n",
       "      <td>female</td>\n",
       "      <td>2</td>\n",
       "    </tr>\n",
       "  </tbody>\n",
       "</table>\n",
       "<p>9203 rows × 3 columns</p>\n",
       "</div>"
      ],
      "text/plain": [
       "      viewer_uid predict_sex  predict_age_class\n",
       "0       10000481        male                  2\n",
       "1       10000521        male                  3\n",
       "2       10000546      female                  2\n",
       "3       10000828        male                  2\n",
       "4       10000915        male                  3\n",
       "...          ...         ...                ...\n",
       "9198    11137518        male                  1\n",
       "9199    11137655      female                  2\n",
       "9200    11138441        male                  2\n",
       "9201    11139273        male                  1\n",
       "9202    11140021      female                  2\n",
       "\n",
       "[9203 rows x 3 columns]"
      ]
     },
     "execution_count": 144,
     "metadata": {},
     "output_type": "execute_result"
    }
   ],
   "source": [
    "oof_agg_submit_test_users_df_predict = oof_agg_submit_test_users_df.copy()\n",
    "oof_agg_submit_test_users_df_predict['predict_sex'] = sex_model.predict(oof_agg_submit_test_users_df[sex_model.feature_names_])\n",
    "oof_agg_submit_test_users_df_predict['predict_age_class'] = model_age_group.predict(oof_agg_submit_test_users_df_predict[model_age_group.feature_names_] )\n",
    "oof_agg_submit_test_users_df_predict[['viewer_uid', 'predict_sex', 'predict_age_class']]"
   ]
  },
  {
   "cell_type": "code",
   "execution_count": 146,
   "id": "e44ed5a6",
   "metadata": {},
   "outputs": [],
   "source": [
    "submission = pd.DataFrame(columns=['viewer_uid', 'sex', 'age_class'])\n",
    "submission['viewer_uid'] = oof_agg_submit_test_users_df_predict['viewer_uid'].values\n",
    "submission['sex'] = oof_agg_submit_test_users_df_predict['predict_sex'].values\n",
    "submission['age_class'] = oof_agg_submit_test_users_df_predict['predict_age_class'].values\n",
    "\n",
    "submission_filename = 'submission/temp_submission.csv'\n",
    "submission.to_csv(\n",
    "    submission_filename, index=False \n",
    ")"
   ]
  },
  {
   "cell_type": "code",
   "execution_count": null,
   "id": "e94e024c",
   "metadata": {},
   "outputs": [],
   "source": []
  },
  {
   "cell_type": "code",
   "execution_count": 764,
   "id": "8d344f70",
   "metadata": {},
   "outputs": [
    {
     "name": "stdout",
     "output_type": "stream",
     "text": [
      "Weighted F1 = 0.4775 \n",
      "Accuracy = 0.7579 \n",
      "Final Score = 0.5616\n"
     ]
    }
   ],
   "source": [
    "# Взвешенный классы class_weights\n",
    "f1_weighted = f1_score(age_class_target, age_class_predict, average='weighted')\n",
    "accuracy = accuracy_score(sex_class_target, sex_class_predict)\n",
    "\n",
    "final_score = 0.7 * f1_weighted + 0.3 * accuracy\n",
    "print(f'Weighted F1 = {f1_weighted:.4f} \\nAccuracy = {accuracy:.4f} \\nFinal Score = {final_score:.4f}')"
   ]
  },
  {
   "cell_type": "code",
   "execution_count": null,
   "id": "aafc1179",
   "metadata": {},
   "outputs": [],
   "source": []
  },
  {
   "cell_type": "code",
   "execution_count": 743,
   "id": "e6b5d0cc",
   "metadata": {},
   "outputs": [
    {
     "name": "stdout",
     "output_type": "stream",
     "text": [
      "Weighted F1 = 0.4821 \n",
      "Accuracy = 0.7596 \n",
      "Final Score = 0.5653\n"
     ]
    }
   ],
   "source": [
    "# Взвешенный классы class_weights\n",
    "f1_weighted = f1_score(age_class_target, age_class_predict, average='weighted')\n",
    "accuracy = accuracy_score(sex_class_target, sex_class_predict)\n",
    "\n",
    "final_score = 0.7 * f1_weighted + 0.3 * accuracy\n",
    "print(f'Weighted F1 = {f1_weighted:.4f} \\nAccuracy = {accuracy:.4f} \\nFinal Score = {final_score:.4f}')"
   ]
  },
  {
   "cell_type": "code",
   "execution_count": null,
   "id": "119636bf",
   "metadata": {},
   "outputs": [],
   "source": []
  },
  {
   "cell_type": "code",
   "execution_count": 679,
   "id": "6b6be888",
   "metadata": {},
   "outputs": [
    {
     "name": "stdout",
     "output_type": "stream",
     "text": [
      "Weighted F1 = 0.4885 \n",
      "Accuracy = 0.7623 \n",
      "Final Score = 0.5706\n"
     ]
    }
   ],
   "source": [
    "# Взвешенный классы class_weights\n",
    "f1_weighted = f1_score(age_class_target, age_class_predict, average='weighted')\n",
    "accuracy = accuracy_score(sex_class_target, sex_class_predict)\n",
    "\n",
    "final_score = 0.7 * f1_weighted + 0.3 * accuracy\n",
    "print(f'Weighted F1 = {f1_weighted:.4f} \\nAccuracy = {accuracy:.4f} \\nFinal Score = {final_score:.4f}')"
   ]
  },
  {
   "cell_type": "code",
   "execution_count": 634,
   "id": "0053725e",
   "metadata": {},
   "outputs": [
    {
     "name": "stdout",
     "output_type": "stream",
     "text": [
      "Weighted F1 = 0.4869 \n",
      "Accuracy = 0.7624 \n",
      "Final Score = 0.5696\n"
     ]
    }
   ],
   "source": [
    "# Взвешенный классы class_weights\n",
    "f1_weighted = f1_score(age_class_target, age_class_predict, average='weighted')\n",
    "accuracy = accuracy_score(sex_class_target, sex_class_predict)\n",
    "\n",
    "final_score = 0.7 * f1_weighted + 0.3 * accuracy\n",
    "print(f'Weighted F1 = {f1_weighted:.4f} \\nAccuracy = {accuracy:.4f} \\nFinal Score = {final_score:.4f}')"
   ]
  },
  {
   "cell_type": "code",
   "execution_count": null,
   "id": "812ae567",
   "metadata": {},
   "outputs": [],
   "source": []
  },
  {
   "cell_type": "code",
   "execution_count": 574,
   "id": "508a7e3b",
   "metadata": {},
   "outputs": [
    {
     "name": "stdout",
     "output_type": "stream",
     "text": [
      "Weighted F1 = 0.4879 \n",
      "Accuracy = 0.7616 \n",
      "Final Score = 0.5700\n"
     ]
    }
   ],
   "source": [
    "# Взвешенный классы class_weights\n",
    "f1_weighted = f1_score(age_class_target, age_class_predict, average='weighted')\n",
    "accuracy = accuracy_score(sex_class_target, sex_class_predict)\n",
    "\n",
    "final_score = 0.7 * f1_weighted + 0.3 * accuracy\n",
    "print(f'Weighted F1 = {f1_weighted:.4f} \\nAccuracy = {accuracy:.4f} \\nFinal Score = {final_score:.4f}')"
   ]
  },
  {
   "cell_type": "code",
   "execution_count": 528,
   "id": "f9fcee59",
   "metadata": {},
   "outputs": [
    {
     "name": "stdout",
     "output_type": "stream",
     "text": [
      "Weighted F1 = 0.4829 \n",
      "Accuracy = 0.7616 \n",
      "Final Score = 0.5665\n"
     ]
    }
   ],
   "source": [
    "# Взвешенный классы class_weights\n",
    "f1_weighted = f1_score(age_class_target, age_class_predict, average='weighted')\n",
    "accuracy = accuracy_score(sex_class_target, sex_class_predict)\n",
    "\n",
    "final_score = 0.7 * f1_weighted + 0.3 * accuracy\n",
    "print(f'Weighted F1 = {f1_weighted:.4f} \\nAccuracy = {accuracy:.4f} \\nFinal Score = {final_score:.4f}')"
   ]
  },
  {
   "cell_type": "code",
   "execution_count": null,
   "id": "7d4dd637",
   "metadata": {},
   "outputs": [],
   "source": []
  },
  {
   "cell_type": "code",
   "execution_count": 658,
   "id": "bb4c21fa",
   "metadata": {},
   "outputs": [
    {
     "name": "stdout",
     "output_type": "stream",
     "text": [
      "video_id_nunique\n"
     ]
    },
    {
     "data": {
      "image/png": "[encoded data removed]",
      "text/plain": [
       "<Figure size 1000x600 with 1 Axes>"
      ]
     },
     "metadata": {},
     "output_type": "display_data"
    }
   ],
   "source": [
    "predict_sex = sex_model.predict(oof_agg_test_users_df[features_columns + ['cv_predict_age', 'cv_predict_sex', 'cv_predict_proba_sex', 'cv_predict_age_class']])\n",
    "predict_age_class = model_age_group.predict(oof_agg_test_users_df[features_columns + ['cv_predict_age', 'cv_predict_sex', 'cv_predict_proba_sex', 'cv_predict_age_class']])\n",
    "\n",
    "\n",
    "count_columns = ['video_id_nunique', 'author_id_nunique', 'day_name_nunique',\n",
    "          'category_mode', 'duration_category_mode',\n",
    "            'frequency_author_id_mean','sex', 'age_class'\n",
    "]\n",
    "\n",
    "test_users = oof_agg_test_users_df[count_columns].copy()  # Make a copy to avoid the warning\n",
    "\n",
    "# Use .loc to set the values\n",
    "test_users.loc[:, 'predict_sex'] = predict_sex\n",
    "test_users.loc[:, 'predict_age_class'] = predict_age_class\n",
    "\n",
    "\n",
    "# Список колонок, по которым будем строить графики\n",
    "columns = [\n",
    "    'video_id_nunique', #'author_id_nunique', \n",
    "    # # 'day_name_nunique',\n",
    "    # # 'category_mode', #'duration_category_mode',\n",
    "           ]\n",
    "\n",
    "# Цикл по каждой колонке\n",
    "for col in columns:\n",
    "    print(col)\n",
    "    # Группировка данных по текущей колонке\n",
    "    grouped = test_users.groupby(col)\n",
    "    \n",
    "    # Списки для хранения результатов\n",
    "    unique_values = []\n",
    "    sex_accuracy = []\n",
    "    age_accuracy = []\n",
    "    \n",
    "#     # Цикл по каждой группе\n",
    "#     for value, group in grouped:\n",
    "#         # Сохраним текущее значение уникального признака\n",
    "#         unique_values.append(value)\n",
    "        \n",
    "#         # Вычислим F1-score для sex\n",
    "#         sex_acc = f1_score(group['sex'], group['predict_sex'], average='weighted')\n",
    "#         sex_accuracy.append(sex_acc)\n",
    "        \n",
    "#         # Вычислим F1-score для age_class\n",
    "#         age_acc = f1_score(group['age_class'], group['predict_age_class'], average='weighted')\n",
    "#         age_accuracy.append(age_acc)\n",
    "    \n",
    "    count=0\n",
    "    # Цикл по каждой группе\n",
    "    for value, group in grouped:\n",
    "        # Сохраним текущее значение уникального признака\n",
    "        unique_values.append(value)\n",
    "        \n",
    "        # Вычислим F1-score для sex\n",
    "        sex_acc = f1_score(group['sex'], group['predict_sex'], average='weighted')\n",
    "        sex_accuracy.append(sex_acc)\n",
    "        \n",
    "        # Вычислим F1-score для age_class\n",
    "        age_acc = f1_score(group['age_class'], group['predict_age_class'], average='weighted')\n",
    "        age_accuracy.append(age_acc)\n",
    "        count += 1\n",
    "        if count == 20:\n",
    "            break\n",
    "            \n",
    "    # Построение графиков\n",
    "    fig, ax = plt.subplots(figsize=(10, 6))\n",
    "\n",
    "    # Установка фона графика в холодный серый цвет\n",
    "    plt.gcf().set_facecolor('#777e7f')  # Светло-серый цвет фона\n",
    "    # Установка фона самого поля графика в холодный серый цвет\n",
    "    ax.set_facecolor('#777e7f')  # Более темный серый для области внутри осей    \n",
    "    # График для точности по полу (sex)\n",
    "#     plt.plot(unique_values, sex_accuracy, label=f'f1_score (sex) - {col}', marker='o', color='red')\n",
    "    plt.plot(unique_values, sex_accuracy, label=f'f1_score (sex) - {col}', marker='o', color='#6699ff')\n",
    "    \n",
    "    \n",
    "    # График для точности по возрастной группе (age_class)\n",
    "    plt.plot(unique_values, age_accuracy, label=f'f1_score (age_class) - {col}', marker='o', color='#33cccc')\n",
    "    \n",
    "    # Настройки графика\n",
    "#     r'\\textcolor{red}{Today} '\n",
    "#     plt.xlabel(r'\\textcolor{red}{col}')\n",
    "    plt.xlabel(f'Unique {col}').set_color(\"#66ccff\")\n",
    "    plt.ylabel('F1 Score').set_color(\"#66ccff\")\n",
    "    plt.title(f'F1 Score vs {col}').set_color(\"#66ccff\")\n",
    "    plt.legend()\n",
    "    plt.grid(True)\n",
    "    \n",
    "    # Показать график\n",
    "    plt.show()\n"
   ]
  },
  {
   "cell_type": "code",
   "execution_count": null,
   "id": "718a282d",
   "metadata": {},
   "outputs": [],
   "source": []
  }
 ],
 "metadata": {
  "kernelspec": {
   "display_name": "Python 3 (ipykernel)",
   "language": "python",
   "name": "python3"
  },
  "language_info": {
   "codemirror_mode": {
    "name": "ipython",
    "version": 3
   },
   "file_extension": ".py",
   "mimetype": "text/x-python",
   "name": "python",
   "nbconvert_exporter": "python",
   "pygments_lexer": "ipython3",
   "version": "3.11.3"
  },
  "toc": {
   "base_numbering": 1,
   "nav_menu": {},
   "number_sections": true,
   "sideBar": true,
   "skip_h1_title": false,
   "title_cell": "Table of Contents",
   "title_sidebar": "Contents",
   "toc_cell": false,
   "toc_position": {},
   "toc_section_display": true,
   "toc_window_display": false
  }
 },
 "nbformat": 4,
 "nbformat_minor": 5
}
