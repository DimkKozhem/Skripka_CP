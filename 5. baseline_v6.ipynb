{
 "cells": [
  {
   "cell_type": "markdown",
   "id": "f14d9843-829e-4844-b741-0932be04492a",
   "metadata": {},
   "source": [
    "# Предсказание социально-демографических характеристик пользователей Rutube\n",
    "    Пользователи RUTUBE не всегда указывают свои данные, такие как возраст и пол, что затрудняет формирование портрета пользователя и создание персонализированных рекомендаций. Это ограничивает возможности платформы в предоставлении контента, который наиболее подходит интересам и потребностям пользователей, тем самым ухудшая пользовательский опыт.\n",
    "\n",
    "    Необходимо разработать модель, которая на основе истории просмотров сможет предсказывать пол и возраст пользователя. В качестве baseline решения мы предоставляем этот ноутбук.\n"
   ]
  },
  {
   "cell_type": "code",
   "execution_count": 221,
   "id": "3dbe0fe4-71db-4dea-918e-9ca5aea27625",
   "metadata": {},
   "outputs": [],
   "source": [
    "import pandas as pd\n",
    "import numpy as np\n",
    "\n",
    "from sklearn.model_selection import train_test_split\n",
    "from sklearn.metrics import f1_score, accuracy_score\n",
    "\n",
    "from catboost import CatBoostClassifier, CatBoostRegressor, Pool\n",
    "\n",
    "from tqdm.auto import trange, tqdm\n",
    "\n",
    "import collections\n",
    "from collections import Counter\n",
    "from collections import defaultdict\n",
    "from scipy.stats import entropy\n",
    "from functools import reduce"
   ]
  },
  {
   "cell_type": "code",
   "execution_count": 7,
   "id": "5883643d",
   "metadata": {},
   "outputs": [],
   "source": [
    "import seaborn as sns\n",
    "import matplotlib.pyplot as plt\n",
    "%matplotlib inline\n",
    "\n",
    "# Устанавливаем тему по умолчанию\n",
    "sb_dark = sns.dark_palette('skyblue', 8, reverse=True) # teal\n",
    "sns.set(palette=sb_dark)"
   ]
  },
  {
   "cell_type": "code",
   "execution_count": 8,
   "id": "34f348d6",
   "metadata": {},
   "outputs": [],
   "source": [
    "# Настройки\n",
    "# Убираем ограничение отображемых колонок\n",
    "pd.set_option(\"display.max_columns\", None)"
   ]
  },
  {
   "cell_type": "markdown",
   "id": "160ca7cd",
   "metadata": {},
   "source": [
    "# Загружаем данные"
   ]
  },
  {
   "cell_type": "code",
   "execution_count": 35,
   "id": "9b75755d-6b33-434d-b51d-cb58ba292bd9",
   "metadata": {},
   "outputs": [
    {
     "name": "stdout",
     "output_type": "stream",
     "text": [
      "CPU times: total: 55.9 s\n",
      "Wall time: 56 s\n"
     ]
    },
    {
     "data": {
      "text/plain": [
       "((1759616, 9), (481480, 5), (180012, 4), (8439624, 9))"
      ]
     },
     "execution_count": 35,
     "metadata": {},
     "output_type": "execute_result"
    }
   ],
   "source": [
    "%%time\n",
    "path = \"datasets/\" # Ваш путь до директории с данными /path/to/data/\n",
    "data = pd.read_csv(path + 'train_events.csv')\n",
    "video = pd.read_csv(path + 'video_info_v2.csv')\n",
    "targets = pd.read_csv(path + 'train_targets.csv')\n",
    "all_events = pd.read_csv(path + 'all_events.csv')\n",
    "\n",
    "# заполянем пропуски самыми частотными\n",
    "freq_ua_client_type = all_events['ua_client_type'].value_counts().index[0]\n",
    "freq_ua_client_name = all_events['ua_client_name'].value_counts().index[0]\n",
    "all_events['ua_client_type'] = all_events['ua_client_type'].fillna(freq_ua_client_type)\n",
    "all_events['ua_client_name'] = all_events['ua_client_name'].fillna(freq_ua_client_name)\n",
    "all_events['ua_os'] = all_events['ua_os'].fillna('vpn')\n",
    "data['ua_os'] = data['ua_os'].fillna('vpn')\n",
    "\n",
    "# Преобразование даты и время в тип даты\n",
    "all_events['event_timestamp'] = pd.to_datetime(all_events['event_timestamp'])\n",
    "data['event_timestamp'] = pd.to_datetime(data['event_timestamp'])\n",
    "\n",
    "# продолжительность видео duration - указан в миллисекнудах, а просмотр человеком (total_watchtime) в секндах приводим к одному виду\n",
    "# video['duration'] = video['duration']/1000\n",
    "all_events['total_watchtime'] = all_events['total_watchtime'] * 1000\n",
    "data['total_watchtime'] = data['total_watchtime'] * 1000\n",
    "\n",
    "data.shape, video.shape, targets.shape, all_events.shape"
   ]
  },
  {
   "cell_type": "code",
   "execution_count": 39,
   "id": "7c8f50cd",
   "metadata": {},
   "outputs": [
    {
     "name": "stdout",
     "output_type": "stream",
     "text": [
      "CPU times: total: 6.42 s\n",
      "Wall time: 6.41 s\n"
     ]
    },
    {
     "data": {
      "text/plain": [
       "((88,), (88,))"
      ]
     },
     "execution_count": 39,
     "metadata": {},
     "output_type": "execute_result"
    }
   ],
   "source": [
    "%%time\n",
    "# Заменяем опечатки в регионах и заодно сводим области и города в один регион\n",
    "region_name_replace = {\n",
    "    'Astrakhan Oblast': 'Astrakhan',\n",
    "    'Arkhangelsk Oblast': 'Arkhangelskaya',\n",
    "    'Ivanovo Oblast': 'Ivanovo', \n",
    "    'Kaliningrad Oblast': 'Kaliningrad',\n",
    "    'Kaluga Oblast': 'Kaluga',\n",
    "    'Kirov Oblast': 'Kirov',\n",
    "    'Krasnodar Krai': 'Krasnodarskiy',\n",
    "    'Krasnoyarsk Krai': 'Krasnoyarskiy',\n",
    "    'Kursk Oblast': 'Kursk',\n",
    "    'Omsk Oblast': 'Omsk',\n",
    "    'Orel Oblast': 'Oryol oblast',\n",
    "    'Penza Oblast':'Penza', \n",
    "    'Perm Krai': 'Perm',\n",
    "    'Primorskiy (Maritime) Kray': 'Primorye',\n",
    "    'Ryazan Oblast': 'Rostov',\n",
    "    'Saratovskaya Oblast': 'Saratov Oblast',\n",
    "    'Smolensk Oblast': 'Smolensk',\n",
    "    'Smolenskaya Oblast': 'Smolensk',\n",
    "    'Smolenskaya Oblast’': 'Smolensk',\n",
    "    'Stavropol Kray': 'Stavropol Krai',\n",
    "    'Stavropol’ Kray': 'Stavropol Krai',\n",
    "    'Sverdlovsk Oblast': 'Sverdlovsk',\n",
    "    'Tambov Oblast': 'Tambov',\n",
    "    'Tula Oblast': 'Tula',\n",
    "    'Tver’ Oblast': 'Tver Oblast',\n",
    "    'Tyumen’ Oblast': 'Tyumen Oblast',\n",
    "    'Vladimir Oblast': 'Vladimir',\n",
    "    'Vologda Oblast': 'Vologda',\n",
    "    'Voronezh Oblast': 'Voronezj',\n",
    "    \"Leningradskaya Oblast'\": 'Leningradskaya Oblast',\n",
    "}\n",
    "\n",
    "all_events['region'] = all_events['region'].replace(region_name_replace)\n",
    "data['region'] = data['region'].replace(region_name_replace)\n",
    "\n",
    "all_events['region'].unique().shape, data['region'].unique().shape"
   ]
  },
  {
   "cell_type": "code",
   "execution_count": 40,
   "id": "437dc121",
   "metadata": {},
   "outputs": [],
   "source": [
    "# Пример смещений для регионов (в часах относительно московского времени)\n",
    "region_timezone_offset = {\n",
    "    'Adygeya Republic': 0,\n",
    "    'Altai': +4,\n",
    "    'Altay Kray': +4,\n",
    "    'Amur Oblast': +6,\n",
    "    'Arkhangelskaya': 0,\n",
    "    'Astrakhan': 0,\n",
    "    'Bashkortostan Republic': +2,\n",
    "    'Belgorod Oblast': 0,\n",
    "    'Bryansk Oblast': 0,\n",
    "    'Buryatiya Republic': +5,\n",
    "    'Chechnya': 0,\n",
    "    'Chelyabinsk': +2,\n",
    "    'Chukotka': +9,\n",
    "    'Chuvashia': 0,\n",
    "    'Crimea': 0,\n",
    "    'Dagestan': 0,\n",
    "    'Ingushetiya Republic': 0,\n",
    "    'Irkutsk Oblast': +5,\n",
    "    'Ivanovo': 0,\n",
    "    'Jaroslavl': 0,\n",
    "    'Jewish Autonomous Oblast': +5,\n",
    "    'Kabardino-Balkariya Republic': 0,\n",
    "    'Kaliningrad': -1,\n",
    "    'Kalmykiya Republic': 0,\n",
    "    'Kaluga': 0,\n",
    "    'Kamchatka': +9,\n",
    "    'Karachayevo-Cherkesiya Republic': 0,\n",
    "    'Karelia': 0,\n",
    "    'Kemerovo Oblast': +4,\n",
    "    'Khabarovsk': +6,\n",
    "    'Khakasiya Republic': +4,\n",
    "    'Khanty-Mansia': +2,\n",
    "    'Kirov': 0,\n",
    "    'Komi': 0,\n",
    "    'Kostroma Oblast': 0,\n",
    "    'Krasnodarskiy': 0,\n",
    "    'Krasnoyarskiy': +4,\n",
    "    'Kurgan Oblast': +2,\n",
    "    'Kursk': 0,\n",
    "    'Kuzbass': +4,\n",
    "    'Leningradskaya Oblast': 0,\n",
    "    'Lipetsk Oblast': 0,\n",
    "    'Magadan Oblast': +8,\n",
    "    'Mariy-El Republic': 0,\n",
    "    'Mordoviya Republic': 0,\n",
    "    'Moscow': 0,\n",
    "    'Moscow Oblast': 0,\n",
    "    'Murmansk': 0,\n",
    "    'Nenets': 0,\n",
    "    'Nizhny Novgorod Oblast': 0,\n",
    "    'North Ossetia': 0,\n",
    "    'North Ossetia–Alania': 0,\n",
    "    'Novgorod Oblast': 0,\n",
    "    'Novosibirsk Oblast': +4,\n",
    "    'Omsk': +3,\n",
    "    'Orenburg Oblast': +2,\n",
    "    'Oryol oblast': 0,\n",
    "    'Penza': 0,\n",
    "    'Perm': +2,\n",
    "    'Primorye': +7,\n",
    "    'Pskov Oblast': 0,\n",
    "    'Rostov': 0,\n",
    "    'Sakha': +6,\n",
    "    'Sakhalin Oblast': +8,\n",
    "    'Samara Oblast': +1,\n",
    "    'Saratov Oblast': +1,\n",
    "    'Sebastopol City': 0,\n",
    "    'Smolensk': 0,\n",
    "    'St.-Petersburg': 0,\n",
    "    'Stavropol Krai': 0,\n",
    "    'Sverdlovsk': +2,\n",
    "    'Tambov': 0,\n",
    "    'Tatarstan Republic': 0,\n",
    "    'Tomsk Oblast': +4,\n",
    "    'Transbaikal Territory': +5,\n",
    "    'Tula': 0,\n",
    "    'Tver Oblast': 0,\n",
    "    'Tyumen Oblast': +2,\n",
    "    'Tyva Republic': +4,\n",
    "    'Udmurtiya Republic': +2,\n",
    "    'Ulyanovsk': 0,\n",
    "    'Vladimir': 0,\n",
    "    'Volgograd Oblast': 0,\n",
    "    'Vologda': 0,\n",
    "    'Voronezj': 0,\n",
    "    'Yamalo-Nenets': +2,\n",
    "    'Yaroslavl Oblast': 0,\n",
    "    'Zabaykalskiy (Transbaikal) Kray': +6,\n",
    "}"
   ]
  },
  {
   "cell_type": "code",
   "execution_count": 48,
   "id": "783f1c51",
   "metadata": {},
   "outputs": [
    {
     "data": {
      "text/html": [
       "<div>\n",
       "<style scoped>\n",
       "    .dataframe tbody tr th:only-of-type {\n",
       "        vertical-align: middle;\n",
       "    }\n",
       "\n",
       "    .dataframe tbody tr th {\n",
       "        vertical-align: top;\n",
       "    }\n",
       "\n",
       "    .dataframe thead th {\n",
       "        text-align: right;\n",
       "    }\n",
       "</style>\n",
       "<table border=\"1\" class=\"dataframe\">\n",
       "  <thead>\n",
       "    <tr style=\"text-align: right;\">\n",
       "      <th></th>\n",
       "      <th>event_timestamp</th>\n",
       "      <th>region</th>\n",
       "      <th>ua_device_type</th>\n",
       "      <th>ua_client_type</th>\n",
       "      <th>ua_os</th>\n",
       "      <th>ua_client_name</th>\n",
       "      <th>total_watchtime</th>\n",
       "      <th>rutube_video_id</th>\n",
       "      <th>viewer_uid</th>\n",
       "    </tr>\n",
       "  </thead>\n",
       "  <tbody>\n",
       "    <tr>\n",
       "      <th>0</th>\n",
       "      <td>2024-06-01 13:08:30+03:00</td>\n",
       "      <td>Tatarstan Republic</td>\n",
       "      <td>smartphone</td>\n",
       "      <td>browser</td>\n",
       "      <td>Android</td>\n",
       "      <td>Chrome Mobile</td>\n",
       "      <td>60000</td>\n",
       "      <td>video_395879</td>\n",
       "      <td>10813370</td>\n",
       "    </tr>\n",
       "    <tr>\n",
       "      <th>1</th>\n",
       "      <td>2024-06-01 14:30:00+03:00</td>\n",
       "      <td>Bashkortostan Republic</td>\n",
       "      <td>smartphone</td>\n",
       "      <td>mobile app</td>\n",
       "      <td>Android</td>\n",
       "      <td>Rutube</td>\n",
       "      <td>60000</td>\n",
       "      <td>video_216518</td>\n",
       "      <td>10512324</td>\n",
       "    </tr>\n",
       "    <tr>\n",
       "      <th>2</th>\n",
       "      <td>2024-06-01 18:48:12+03:00</td>\n",
       "      <td>Novosibirsk Oblast</td>\n",
       "      <td>smartphone</td>\n",
       "      <td>mobile app</td>\n",
       "      <td>Android</td>\n",
       "      <td>Rutube</td>\n",
       "      <td>121000</td>\n",
       "      <td>video_41225</td>\n",
       "      <td>10951137</td>\n",
       "    </tr>\n",
       "    <tr>\n",
       "      <th>3</th>\n",
       "      <td>2024-06-01 16:32:36+03:00</td>\n",
       "      <td>Moscow</td>\n",
       "      <td>desktop</td>\n",
       "      <td>browser</td>\n",
       "      <td>Windows</td>\n",
       "      <td>Yandex Browser</td>\n",
       "      <td>2324000</td>\n",
       "      <td>video_215886</td>\n",
       "      <td>10912434</td>\n",
       "    </tr>\n",
       "    <tr>\n",
       "      <th>4</th>\n",
       "      <td>2024-06-01 00:57:04+03:00</td>\n",
       "      <td>Moscow Oblast</td>\n",
       "      <td>smartphone</td>\n",
       "      <td>mobile app</td>\n",
       "      <td>Android</td>\n",
       "      <td>Rutube</td>\n",
       "      <td>6830000</td>\n",
       "      <td>video_43631</td>\n",
       "      <td>10223585</td>\n",
       "    </tr>\n",
       "  </tbody>\n",
       "</table>\n",
       "</div>"
      ],
      "text/plain": [
       "            event_timestamp                  region ua_device_type  \\\n",
       "0 2024-06-01 13:08:30+03:00      Tatarstan Republic     smartphone   \n",
       "1 2024-06-01 14:30:00+03:00  Bashkortostan Republic     smartphone   \n",
       "2 2024-06-01 18:48:12+03:00      Novosibirsk Oblast     smartphone   \n",
       "3 2024-06-01 16:32:36+03:00                  Moscow        desktop   \n",
       "4 2024-06-01 00:57:04+03:00           Moscow Oblast     smartphone   \n",
       "\n",
       "  ua_client_type    ua_os  ua_client_name  total_watchtime rutube_video_id  \\\n",
       "0        browser  Android   Chrome Mobile            60000    video_395879   \n",
       "1     mobile app  Android          Rutube            60000    video_216518   \n",
       "2     mobile app  Android          Rutube           121000     video_41225   \n",
       "3        browser  Windows  Yandex Browser          2324000    video_215886   \n",
       "4     mobile app  Android          Rutube          6830000     video_43631   \n",
       "\n",
       "   viewer_uid  \n",
       "0    10813370  \n",
       "1    10512324  \n",
       "2    10951137  \n",
       "3    10912434  \n",
       "4    10223585  "
      ]
     },
     "execution_count": 48,
     "metadata": {},
     "output_type": "execute_result"
    }
   ],
   "source": [
    "# set(region_timezone_offset.keys()) - set(all_events['region'].unique())\n",
    "# tmp_df = all_events[:5]\n",
    "tmp_df"
   ]
  },
  {
   "cell_type": "code",
   "execution_count": 50,
   "id": "e94416a5",
   "metadata": {},
   "outputs": [
    {
     "name": "stdout",
     "output_type": "stream",
     "text": [
      "CPU times: total: 1.11 s\n",
      "Wall time: 1.14 s\n"
     ]
    }
   ],
   "source": [
    "%%time\n",
    "# Добавляем смещение в зависимости от региона\n",
    "def change_time_by_region(df:pd.DataFrame):\n",
    "    df['time_offset'] = df['region'].map(region_timezone_offset)\n",
    "    # Обновляем время в зависимости от смещения\n",
    "    df['event_timestamp'] = df['event_timestamp'] + pd.to_timedelta(df['time_offset'], unit='h')\n",
    "    return df\n",
    "all_events = change_time_by_region(all_events)\n",
    "data = change_time_by_region(data)"
   ]
  },
  {
   "cell_type": "code",
   "execution_count": 52,
   "id": "e18c45d7",
   "metadata": {
    "scrolled": true
   },
   "outputs": [
    {
     "name": "stdout",
     "output_type": "stream",
     "text": [
      "CPU times: total: 1.7 s\n",
      "Wall time: 1.69 s\n"
     ]
    },
    {
     "data": {
      "text/plain": [
       "((1585329, 17), (174287, 17))"
      ]
     },
     "execution_count": 52,
     "metadata": {},
     "output_type": "execute_result"
    }
   ],
   "source": [
    "%%time\n",
    "from sklearn.model_selection import train_test_split\n",
    "\n",
    "train_users_df, test_users_df = train_test_split(targets, stratify=(targets[['age_class', 'sex']]), test_size=0.1)\n",
    "# train_users_df.shape, test_users_df.shape\n",
    "\n",
    "data_video = data.merge(video, on='rutube_video_id')\n",
    "train_users_df = data_video.merge(train_users_df, on='viewer_uid')\n",
    "test_users_df = data_video.merge(test_users_df, on='viewer_uid')\n",
    "del data_video\n",
    "\n",
    "train_users_df.shape, test_users_df.shape"
   ]
  },
  {
   "cell_type": "code",
   "execution_count": 53,
   "id": "00cb99f0",
   "metadata": {},
   "outputs": [],
   "source": [
    "# all_users_df = pd.concat([train_users_df, test_users_df])\n",
    "# all_users_df.shape"
   ]
  },
  {
   "cell_type": "markdown",
   "id": "6890ecda",
   "metadata": {},
   "source": [
    "# Feature Engineering"
   ]
  },
  {
   "cell_type": "code",
   "execution_count": 54,
   "id": "ed86c97e",
   "metadata": {},
   "outputs": [],
   "source": [
    "#  train_users_df['event_timestamp']"
   ]
  },
  {
   "cell_type": "code",
   "execution_count": 55,
   "id": "c42e8408",
   "metadata": {
    "scrolled": true
   },
   "outputs": [
    {
     "data": {
      "text/plain": [
       "((1585329, 29), (174287, 29))"
      ]
     },
     "execution_count": 55,
     "metadata": {},
     "output_type": "execute_result"
    }
   ],
   "source": [
    "# Фичи по дате \n",
    "def datetime_features(df:pd.DataFrame, datetime_col:str):\n",
    "    # Преобразоывавем в датавремя\n",
    "    # df['event_timestamp'] = pd.to_datetime(df['event_timestamp'])\n",
    "    # df.info()\n",
    "    # Базовые временные признаки\n",
    "    # df['year'] = df['datetime'].dt.year № \n",
    "    # df['month'] = df['datetime'].dt.month\n",
    "    df['day'] = df[datetime_col].dt.day\n",
    "    df['hour'] = df[datetime_col].dt.hour\n",
    "    # df['minute'] = df['datetime'].dt.minute\n",
    "    # df['second'] = df['datetime'].dt.second\n",
    "    # День недели (0 - понедельник, 6 - воскресенье)\n",
    "    df['dayofweek'] = df[datetime_col].dt.dayofweek\n",
    "\n",
    "    # Название дня недели\n",
    "    df['day_name'] = df[datetime_col].dt.day_name()\n",
    "\n",
    "    # Выходной день (суббота или воскресенье)\n",
    "    df['is_weekend'] = df['dayofweek'].isin([5, 6]).astype(int)\n",
    "    # Неделя года\n",
    "    df['weekofyear'] = df[datetime_col].dt.isocalendar().week\n",
    "    # Время суток (утро, день, вечер, ночь)\n",
    "    df['time_of_day'] = pd.cut(df['hour'], \n",
    "                               bins=[-1, 6, 12, 18, 24], \n",
    "                               labels=['ночь', 'утро', 'день', 'вечер'])\n",
    "\n",
    "    # Рабочее время (с 9 до 18)\n",
    "    df['is_business_hours'] = ((df['hour'] >= 9) & (df['hour'] < 18) & (~df['is_weekend'])).astype(int)\n",
    "\n",
    "    # Синусоидальное представление времени суток\n",
    "    df['hour_sin'] = np.sin(2 * np.pi * df['hour'] / 24)\n",
    "    df['hour_cos'] = np.cos(2 * np.pi * df['hour'] / 24)\n",
    "\n",
    "    # Синусоидальное представление дня недели\n",
    "    df['dayofweek_sin'] = np.sin(2 * np.pi * df['dayofweek'] / 7)\n",
    "    df['dayofweek_cos'] = np.cos(2 * np.pi * df['dayofweek'] / 7)\n",
    "    \n",
    "    return df\n",
    "\n",
    "train_users_df = datetime_features(df=train_users_df, datetime_col='event_timestamp')\n",
    "test_users_df = datetime_features(df=test_users_df, datetime_col='event_timestamp') \n",
    "\n",
    "train_users_df.shape, test_users_df.shape"
   ]
  },
  {
   "cell_type": "code",
   "execution_count": 56,
   "id": "a439dcd8",
   "metadata": {},
   "outputs": [
    {
     "data": {
      "text/plain": [
       "((1585329, 40), (174287, 40))"
      ]
     },
     "execution_count": 56,
     "metadata": {},
     "output_type": "execute_result"
    }
   ],
   "source": [
    "def feature_preprocessing(df):\n",
    "    # Переводим ИД видео в число\n",
    "    df['video_id'] = df['rutube_video_id'].apply(lambda x: int(x[6:]))\n",
    "\n",
    "    # Частотное кодирование\n",
    "    no_frequency_columns = ['region', 'ua_device_type', 'ua_client_type','ua_os', 'ua_client_name', 'rutube_video_id', 'viewer_uid', 'title', 'category', 'author_id']\n",
    "    for col_name in no_frequency_columns:\n",
    "        df[f'frequency_{col_name}'] = df[col_name].map(df[col_name].value_counts(normalize=True))\n",
    "        \n",
    "    return df\n",
    "train_users_df = feature_preprocessing(train_users_df)\n",
    "test_users_df = feature_preprocessing(test_users_df)\n",
    "\n",
    "train_users_df.shape, test_users_df.shape"
   ]
  },
  {
   "cell_type": "code",
   "execution_count": 57,
   "id": "f1f0abce",
   "metadata": {
    "scrolled": true
   },
   "outputs": [
    {
     "name": "stdout",
     "output_type": "stream",
     "text": [
      "CPU times: total: 53.1 s\n",
      "Wall time: 52.8 s\n"
     ]
    },
    {
     "data": {
      "text/plain": [
       "((1585329, 61), (174287, 61))"
      ]
     },
     "execution_count": 57,
     "metadata": {},
     "output_type": "execute_result"
    }
   ],
   "source": [
    "%%time\n",
    "# Фичи на базе длинны просмотров\n",
    "def duration_features(df:pd.DataFrame):\n",
    "    # Человек суммарно по времени просмотраивал видео больше чем длится само видео\n",
    "    df['is_few_views'] = df['total_watchtime'] > df['duration']\n",
    "    # Eсть датафрейм df с колонками 'duration' и 'total_watchtime'\n",
    "    # Убедимся, что эти колонки имеют числовой тип данных\n",
    "    # df['duration'] = pd.to_numeric(df['duration'], errors='coerce')\n",
    "    # df['total_watchtime'] = pd.to_numeric(df['total_watchtime'], errors='coerce')\n",
    "\n",
    "    # 1. Процент просмотренного видео\n",
    "    df['watch_percentage'] = (df['total_watchtime'] / df['duration']).clip(0, 1) * 100\n",
    "    df['watch_percentage_all'] = (df['total_watchtime'] / df['duration']) * 100\n",
    "\n",
    "    # 2. Категории вовлеченности\n",
    "    df['engagement_category'] = pd.cut(df['watch_percentage'], \n",
    "                                       bins=[0, 25, 50, 75, 100],\n",
    "                                       labels=['Низкая', 'Средняя', 'Высокая', 'Полная'])\n",
    "\n",
    "    # 3. Флаг полного просмотра\n",
    "    df['watched_completely'] = (df['watch_percentage'] >= 95).astype(int)\n",
    "\n",
    "    # 4. Флаг просмотра более половины\n",
    "    df['watched_more_than_half'] = (df['watch_percentage'] > 50).astype(int)\n",
    "\n",
    "    # 5. Оставшееся время просмотра\n",
    "    df['remaining_time'] = df['duration'] - df['total_watchtime']\n",
    "\n",
    "    # 6. Логарифм времени просмотра (полезно для длинных видео)\n",
    "    df['log_watchtime'] = np.log1p(df['total_watchtime'])\n",
    "\n",
    "    # 7. Отношение времени просмотра к средней длительности всех видео\n",
    "    mean_duration = df['duration'].mean()\n",
    "    df['relative_watch_time'] = df['total_watchtime'] / mean_duration\n",
    "\n",
    "    # 8. Z-score времени просмотра\n",
    "    df['watchtime_zscore'] = (df['total_watchtime'] - df['total_watchtime'].mean()) / df['total_watchtime'].std()\n",
    "\n",
    "    # 9. Категории длительности видео\n",
    "    df['duration_category'] = pd.qcut(df['duration'], q=4, labels=['Короткое', 'Средне-короткое', 'Средне-длинное', 'Длинное'])\n",
    "\n",
    "    # 10. Флаг аномального просмотра (например, более 150% длительности видео)\n",
    "    df['abnormal_viewing'] = (df['watch_percentage'] > 150).astype(int)\n",
    "\n",
    "    # 11. Скорость просмотра (предполагая, что пользователь мог смотреть видео на повышенной скорости)\n",
    "    df['viewing_speed'] = df['total_watchtime'] / df['duration']\n",
    "\n",
    "    # 12. Отклонение от ожидаемого времени просмотра\n",
    "    df['watch_time_deviation'] = df['total_watchtime'] - (df['duration'] * 0.5)  # предполагаем, что в среднем смотрят половину видео\n",
    "\n",
    "    # 13. Ранг видео по времени просмотра\n",
    "    df['watch_time_rank'] = df['total_watchtime'].rank(method='dense', ascending=False)\n",
    "\n",
    "    # 14. Интервалы просмотра\n",
    "    df['watch_interval'] = pd.cut(df['total_watchtime'], \n",
    "                                  bins=[0, 60, 300, 900, 1800, np.inf],\n",
    "                                  labels=['<1 мин', '1-5 мин', '5-15 мин', '15-30 мин', '>30 мин'])\n",
    "\n",
    "    # 15. Эффективность просмотра (отношение процента просмотра к длительности)\n",
    "    df['viewing_efficiency'] = df['watch_percentage'] / df['duration']\n",
    "\n",
    "    # 16. Флаг \"зацепившего\" видео (просмотрено более 80% при длительности более 5 минут)\n",
    "    df['engaging_video'] = ((df['watch_percentage'] > 80) & (df['duration'] > 300)).astype(int)\n",
    "\n",
    "    # 17. Кумулятивная сумма времени просмотра (предполагая, что данные отсортированы по пользователю и времени)\n",
    "    df['cumulative_watch_time'] = df.groupby('viewer_uid')['total_watchtime'].cumsum()\n",
    "\n",
    "    # 18. Время с начала сессии до начала просмотра (если есть данные о времени начала просмотра)\n",
    "    # df['time_before_watch'] = df['watch_start_time'] - df.groupby('session_id')['watch_start_time'].transform('min')\n",
    "\n",
    "    # 19. Энтропия просмотров пользователя (разнообразие длительности просмотренных видео)\n",
    "    df['watch_time_entropy'] = df.groupby('viewer_uid')['total_watchtime'].transform(lambda x: -np.sum((x/x.sum()) * np.log2(x/x.sum())))\n",
    "\n",
    "    # 20. Тренд просмотров пользователя (увеличение или уменьшение времени просмотра)\n",
    "#     def safe_trend(x):\n",
    "#         try:\n",
    "#             return np.polyfit(range(len(x)), x, 1)[0]\n",
    "#         except np.linalg.LinAlgError:\n",
    "#             return np.nan\n",
    "\n",
    "#     df['watch_time_trend'] = df.groupby('viewer_uid')['total_watchtime'].transform(safe_trend)\n",
    "    def safe_trend(x):\n",
    "        if len(x) < 2:  \n",
    "            return 0\n",
    "        try:\n",
    "            return np.polyfit(range(len(x)), x, 1)[0]\n",
    "        except (np.linalg.LinAlgError, TypeError, ValueError):\n",
    "            return 0\n",
    "\n",
    "    df['watch_time_trend'] = df.groupby('viewer_uid')['total_watchtime'].transform(safe_trend)\n",
    "    # df['watch_time_trend'] = df.groupby('viewer_uid')['total_watchtime'].transform(lambda x: np.polyfit(range(len(x)), x, 1)[0])\n",
    "\n",
    "    return df\n",
    "\n",
    "train_users_df = duration_features(train_users_df)\n",
    "test_users_df = duration_features(test_users_df)\n",
    "\n",
    "train_users_df.shape, test_users_df.shape"
   ]
  },
  {
   "cell_type": "code",
   "execution_count": 58,
   "id": "cbb7d1ba",
   "metadata": {},
   "outputs": [],
   "source": [
    "# train_users_df['viewer_uid'].to_csv('train_viewer_uid_v2.csv')\n",
    "# test_users_df['viewer_uid'].to_csv('test_viewer_uid_v2.csv')"
   ]
  },
  {
   "cell_type": "markdown",
   "id": "b612a822",
   "metadata": {},
   "source": [
    "# Статистика по обезличенным фактам просмотрам видео \n",
    "\n",
    "Генерим более умные фичи на базе обсуждений и то что в итоге отразим в презентации\n",
    "\n",
    "Для этого используем общую известную статистику просмотров по абсолютно всем пользователям"
   ]
  },
  {
   "cell_type": "code",
   "execution_count": 59,
   "id": "90ac6b9d",
   "metadata": {},
   "outputs": [
    {
     "data": {
      "text/plain": [
       "(10199240, 14)"
      ]
     },
     "execution_count": 59,
     "metadata": {},
     "output_type": "execute_result"
    }
   ],
   "source": [
    "# Для расчета статистик объяединяем все события по просмотрам неизвестных пользоватлеей с событиями известных\n",
    "union_all_events = pd.concat([all_events, data])\n",
    "union_all_events = union_all_events.merge(video, on='rutube_video_id')\n",
    "union_all_events.shape"
   ]
  },
  {
   "cell_type": "code",
   "execution_count": 60,
   "id": "750f2642",
   "metadata": {
    "scrolled": true
   },
   "outputs": [
    {
     "name": "stdout",
     "output_type": "stream",
     "text": [
      "CPU times: total: 1min 52s\n",
      "Wall time: 1min 52s\n"
     ]
    },
    {
     "data": {
      "text/plain": [
       "((1585329, 90), (174287, 90))"
      ]
     },
     "execution_count": 60,
     "metadata": {},
     "output_type": "execute_result"
    }
   ],
   "source": [
    "%%time\n",
    "def video_statistic_features(df:pd.DataFrame, union_all_events:pd.DataFrame):\n",
    "    # Вычисление популярности видео, авторов и категорий в union_all_events\n",
    "    # Популярность видео\n",
    "    video_popularity = union_all_events.groupby('rutube_video_id').agg(\n",
    "        video_view_count=('viewer_uid', 'count'),\n",
    "        video_avg_watchtime=('total_watchtime', 'mean')\n",
    "    ).reset_index()\n",
    "\n",
    "    # Популярность авторов\n",
    "    author_popularity = union_all_events.groupby('author_id').agg(\n",
    "        author_view_count=('viewer_uid', 'count'),\n",
    "        author_avg_watchtime=('total_watchtime', 'mean')\n",
    "    ).reset_index()\n",
    "\n",
    "    # Популярность категорий\n",
    "    category_popularity = union_all_events.groupby('category').agg(\n",
    "        category_view_count=('viewer_uid', 'count'),\n",
    "        category_avg_watchtime=('total_watchtime', 'mean')\n",
    "    ).reset_index()\n",
    "\n",
    "    # Обогащение df информацией о популярности:\n",
    "    # Объединяем df с популярностью видео\n",
    "    df = df.merge(video_popularity, on='rutube_video_id', how='left')\n",
    "    # Объединяем df с популярностью авторов\n",
    "    df = df.merge(author_popularity, on='author_id', how='left')\n",
    "    # Объединяем df с популярностью категорий\n",
    "    df = df.merge(category_popularity, on='category', how='left')\n",
    "\n",
    "    \n",
    "    # Группируем данные по пользователю\n",
    "    user_features = df.groupby('viewer_uid').agg(\n",
    "        total_videos_watched=('rutube_video_id', 'count'),\n",
    "        total_watchtime=('total_watchtime', 'sum'),\n",
    "        avg_watchtime=('total_watchtime', 'mean'),\n",
    "        unique_categories=('category', 'nunique'),\n",
    "        unique_authors=('author_id', 'nunique'),\n",
    "        most_common_device=('ua_device_type', lambda x: x.mode()[0]),\n",
    "        most_common_os=('ua_os', lambda x: x.mode()[0]),\n",
    "        most_common_browser=('ua_client_name', lambda x: x.mode()[0]),\n",
    "        avg_video_popularity=('video_view_count', 'mean'),\n",
    "        avg_author_popularity=('author_view_count', 'mean'),\n",
    "        avg_category_popularity=('category_view_count', 'mean'),\n",
    "        watchtime_ratio=('total_watchtime', lambda x: x.sum() / df.loc[x.index, 'duration'].sum())\n",
    "    ).reset_index()\n",
    "    user_features = user_features.rename(columns={'total_watchtime': 'total_watchtime_user_feat'})\n",
    "    \n",
    "    df = df.merge(user_features, on='viewer_uid')\n",
    "    \n",
    "    # Вычисляем наиболее частые часы и дни недели для каждого пользователя\n",
    "    time_features = df.groupby('viewer_uid').agg(\n",
    "        most_common_hour=('hour', lambda x: x.mode()[0]),\n",
    "        most_common_weekday=('dayofweek', lambda x: x.mode()[0])\n",
    "    ).reset_index()\n",
    "\n",
    "    # Объединяем с df\n",
    "    df = df.merge(time_features, on='viewer_uid', how='left')\n",
    "\n",
    "    def category_entropy(categories):\n",
    "        counts = categories.value_counts()\n",
    "        return entropy(counts)\n",
    "\n",
    "    category_entropy_df = df.groupby('viewer_uid').agg(\n",
    "        category_entropy=('category', category_entropy)\n",
    "    ).reset_index()\n",
    "\n",
    "    # Объединяем с user_features\n",
    "    df = df.merge(category_entropy_df, on='viewer_uid', how='left')\n",
    "    \n",
    "    # Вычисление сессий пользователя:\n",
    "    # Сортируем по пользователю и времени\n",
    "    df = df.sort_values(by=['viewer_uid', 'event_timestamp'])\n",
    "\n",
    "    # Вычисляем разницу во времени между событиями\n",
    "    df['time_diff'] = df.groupby('viewer_uid')['event_timestamp'].diff().dt.total_seconds()\n",
    "\n",
    "    # Если разница больше 30 минут, начинаем новую сессию\n",
    "    df['new_session'] = (df['time_diff'] > 1800).fillna(0).astype(int)\n",
    "\n",
    "    # Нумеруем сессии\n",
    "    df['session_id'] = df.groupby('viewer_uid')['new_session'].cumsum()\n",
    "\n",
    "    # Вычисляем статистики по сессиям\n",
    "    session_features = df.groupby(['viewer_uid', 'session_id']).agg(\n",
    "        session_watchtime=('total_watchtime', 'sum')\n",
    "    ).reset_index()\n",
    "\n",
    "    session_stats = session_features.groupby('viewer_uid').agg(\n",
    "        total_sessions=('session_id', 'nunique'),\n",
    "        avg_session_watchtime=('session_watchtime', 'mean')\n",
    "    ).reset_index()\n",
    "\n",
    "    # # Объединяем с user_features\n",
    "    df = df.merge(session_stats, on='viewer_uid', how='left')\n",
    "\n",
    "    # Региональные предпочтения пользователя\n",
    "    # Популярность видео по регионам\n",
    "    video_region_popularity = union_all_events.groupby(['rutube_video_id', 'region']).agg(\n",
    "        region_view_count=('viewer_uid', 'count')\n",
    "    ).reset_index()\n",
    "\n",
    "    # Определяем самый популярный регион для каждого видео\n",
    "    video_top_region = video_region_popularity.loc[video_region_popularity.groupby('rutube_video_id')['region_view_count'].idxmax()].rename(columns={'region': 'top_region'})\n",
    "\n",
    "\n",
    "    # Объединяем с df\n",
    "    df = df.merge(video_top_region[['rutube_video_id', 'top_region']], on='rutube_video_id', how='left')\n",
    "\n",
    "    # Проверяем совпадение региона пользователя с популярным регионом видео\n",
    "    df['region_match'] = (df['region'] == df['top_region']).astype(int)\n",
    "\n",
    "    # Вычисляем долю совпадений для каждого пользователя\n",
    "    region_match_df = df.groupby('viewer_uid').agg(\n",
    "        region_match_ratio=('region_match', 'mean')\n",
    "    ).reset_index()\n",
    "\n",
    "    # Объединяем с user_features\n",
    "    df = df.merge(region_match_df, on='viewer_uid', how='left')\n",
    "    \n",
    "    return df\n",
    "    \n",
    "train_users_df = video_statistic_features(df=train_users_df, union_all_events=union_all_events)\n",
    "test_users_df = video_statistic_features(df=test_users_df, union_all_events=union_all_events)\n",
    "\n",
    "train_users_df.shape, test_users_df.shape"
   ]
  },
  {
   "cell_type": "code",
   "execution_count": 61,
   "id": "680883e7",
   "metadata": {
    "scrolled": true
   },
   "outputs": [
    {
     "name": "stdout",
     "output_type": "stream",
     "text": [
      "CPU times: total: 1min 38s\n",
      "Wall time: 1min 37s\n"
     ]
    },
    {
     "data": {
      "text/plain": [
       "((1585329, 119), (174287, 119))"
      ]
     },
     "execution_count": 61,
     "metadata": {},
     "output_type": "execute_result"
    }
   ],
   "source": [
    "%%time\n",
    "def video_statistic_features_part_2(df:pd.DataFrame, union_all_events:pd.DataFrame):\n",
    "    # Предпочтения пользователя по длительности видео\n",
    "    # Средняя и стандартное отклонение длительности видео для каждого пользователя\n",
    "    video_duration_stats = df.groupby('viewer_uid').agg(\n",
    "        avg_video_duration=('duration', 'mean'),\n",
    "        std_video_duration=('duration', 'std')\n",
    "    ).reset_index()\n",
    "    \n",
    "    # Коэффициент завершения просмотра\n",
    "    # Рассчитываем отношение времени просмотра к длительности видео для каждого события\n",
    "    df['completion_rate'] = df['total_watchtime'] / (df['duration'] / 1000)  # Приводим длительность к секундам\n",
    "\n",
    "    # Ограничиваем коэффициент от 0 до 1\n",
    "    df['completion_rate'] = df['completion_rate'].clip(0, 1)\n",
    "\n",
    "    # Средний коэффициент завершения для каждого пользователя\n",
    "    user_completion_rate = df.groupby('viewer_uid').agg(\n",
    "        avg_completion_rate=('completion_rate', 'mean'),\n",
    "        high_completion_rate_videos=('completion_rate', lambda x: (x > 0.75).mean())\n",
    "    ).reset_index()\n",
    "    \n",
    "    # Среднее время между событиями\n",
    "    # Сортируем данные по пользователю и времени\n",
    "    df = df.sort_values(by=['viewer_uid', 'event_timestamp'])\n",
    "\n",
    "    # Вычисляем разницу во времени между событиями\n",
    "    df['time_diff_seconds'] = df.groupby('viewer_uid')['event_timestamp'].diff().dt.total_seconds()\n",
    "\n",
    "    # Среднее и стандартное отклонение времени между событиями для каждого пользователя\n",
    "    user_time_diff_stats = df.groupby('viewer_uid').agg(\n",
    "        avg_time_between_events=('time_diff_seconds', 'mean'),\n",
    "        std_time_between_events=('time_diff_seconds', 'std')\n",
    "    ).reset_index()\n",
    "    \n",
    "    # Предпочтения по авторам\n",
    "    # Количество просмотров по каждому автору для каждого пользователя\n",
    "    user_author_views = df.groupby(['viewer_uid', 'author_id']).size().reset_index(name='views')\n",
    "\n",
    "    # Находим топ-3 авторов для каждого пользователя\n",
    "    user_top_authors = user_author_views.sort_values(['viewer_uid', 'views'], ascending=[True, False]).groupby('viewer_uid').head(3)\n",
    "\n",
    "    # Общее количество просмотров для каждого пользователя\n",
    "    user_total_views = df.groupby('viewer_uid').size().reset_index(name='total_views')\n",
    "\n",
    "    # Доля просмотров топ-3 авторов\n",
    "    user_top_authors_views = user_top_authors.groupby('viewer_uid')['views'].sum().reset_index(name='top_authors_views')\n",
    "\n",
    "    # Объединяем и вычисляем долю\n",
    "    user_author_preference = user_total_views.merge(user_top_authors_views, on='viewer_uid')\n",
    "    user_author_preference['top_authors_view_ratio'] = user_author_preference['top_authors_views'] / user_author_preference['total_views']\n",
    "    \n",
    "    # Поведение по времени суток\n",
    "    # Вычисляем, является ли просмотр ночным (с 0:00 до 6:00)\n",
    "    df['is_night'] = df['event_timestamp'].dt.hour.isin([0,1,2,3,4,5]).astype(int)\n",
    "\n",
    "    # Доля ночных просмотров\n",
    "    user_night_views = df.groupby('viewer_uid').agg(\n",
    "        night_view_ratio=('is_night', 'mean'),\n",
    "        avg_hour=('event_timestamp', lambda x: x.dt.hour.mean())\n",
    "    ).reset_index()\n",
    "    \n",
    "    # Предпочтения по категориям\n",
    "    # Количество просмотров по каждой категории для каждого пользователя\n",
    "    user_category_views = df.groupby(['viewer_uid', 'category']).size().reset_index(name='views')\n",
    "\n",
    "    # Находим топ-3 категории для каждого пользователя\n",
    "    user_top_categories = user_category_views.sort_values(['viewer_uid', 'views'], ascending=[True, False]).groupby('viewer_uid').head(3)\n",
    "\n",
    "    # Доля просмотров топ-3 категорий\n",
    "    user_top_categories_views = user_top_categories.groupby('viewer_uid')['views'].sum().reset_index(name='top_categories_views')\n",
    "\n",
    "    # Объединяем и вычисляем долю\n",
    "    user_category_preference = user_total_views.merge(user_top_categories_views, on='viewer_uid')\n",
    "    user_category_preference['top_categories_view_ratio'] = user_category_preference['top_categories_views'] / user_category_preference['total_views']\n",
    "\n",
    "    # Разнообразие устройств\n",
    "    # Количество уникальных устройств\n",
    "    user_device_stats = df.groupby('viewer_uid').agg(\n",
    "        unique_devices=('ua_device_type', 'nunique')\n",
    "    ).reset_index()\n",
    "\n",
    "    # Доля каждого типа устройства\n",
    "    device_type_dummies = pd.get_dummies(df['ua_device_type'])\n",
    "    df = pd.concat([df, device_type_dummies], axis=1)\n",
    "\n",
    "    user_device_type_ratio = df.groupby('viewer_uid')[device_type_dummies.columns].mean().reset_index()\n",
    "    \n",
    "    # Региональное поведение\n",
    "    # Количество уникальных регионов\n",
    "    user_region_stats = df.groupby('viewer_uid').agg(\n",
    "        unique_regions=('region', 'nunique')\n",
    "    ).reset_index()\n",
    "    \n",
    "    # Доля просмотров из домашнего региона (предполагаем, что домашний регион - самый частый)\n",
    "    user_home_region = df.groupby('viewer_uid')['region'].agg(lambda x: x.mode()[0]).reset_index(name='home_region')\n",
    "\n",
    "    df = df.merge(user_home_region, on='viewer_uid', how='left')\n",
    "    df['is_home_region'] = (df['region'] == df['home_region']).astype(int)\n",
    "\n",
    "    user_home_region_ratio = df.groupby('viewer_uid').agg(\n",
    "        home_region_view_ratio=('is_home_region', 'mean')\n",
    "    ).reset_index()\n",
    "    \n",
    "    # Повторные просмотры\n",
    "    # Количество уникальных видео, просмотренных более одного раза\n",
    "    user_video_views = df.groupby(['viewer_uid', 'rutube_video_id']).size().reset_index(name='views')\n",
    "\n",
    "    user_repeat_views = user_video_views[user_video_views['views'] > 1].groupby('viewer_uid').size().reset_index(name='repeat_videos')\n",
    "\n",
    "    # Доля повторных просмотров\n",
    "    user_repeat_views = user_repeat_views.merge(user_total_views, on='viewer_uid', how='left')\n",
    "    user_repeat_views['repeat_view_ratio'] = user_repeat_views['repeat_videos'] / user_total_views['total_views']\n",
    "    \n",
    "    \n",
    "    #  Временные тренды активности\n",
    "    # Добавляем дату в формате года и недели, хотя тут нам год то и не так важен в этой задаче\n",
    "    df['year_week'] = df['event_timestamp'].dt.strftime('%Y-%U')\n",
    "\n",
    "    # Количество просмотров по неделям\n",
    "    user_weekly_views = df.groupby(['viewer_uid', 'year_week']).size().reset_index(name='weekly_views')\n",
    "\n",
    "    # Для простоты вычислим коэффициент корреляции между временем и количеством просмотров\n",
    "    from scipy.stats import linregress\n",
    "\n",
    "    def activity_trend(views):\n",
    "        if len(views) > 1:\n",
    "            x = range(len(views))\n",
    "            y = views.values\n",
    "            slope, _, _, _, _ = linregress(x, y)\n",
    "            return slope\n",
    "        else:\n",
    "            return 0\n",
    "\n",
    "    user_activity_trend = user_weekly_views.groupby('viewer_uid').agg(\n",
    "        activity_trend=('weekly_views', activity_trend)\n",
    "    ).reset_index()\n",
    "\n",
    "    \n",
    "    #  Новизна контента\n",
    "    # Получаем даты публикации видео\n",
    "    video_publish_dates = union_all_events[['rutube_video_id', 'event_timestamp']].groupby('rutube_video_id').min().reset_index()\n",
    "    video_publish_dates.rename(columns={'event_timestamp': 'video_publish_date'}, inplace=True)\n",
    "\n",
    "    # Объединяем с df\n",
    "    df = df.merge(video_publish_dates, on='rutube_video_id', how='left')\n",
    "\n",
    "    # Вычисляем время с момента публикации до просмотра\n",
    "    df['time_since_publish'] = (df['event_timestamp'] - df['video_publish_date']).dt.total_seconds() / 86400  # В днях\n",
    "\n",
    "    # Среднее время с момента публикации\n",
    "    user_content_novelty = df.groupby('viewer_uid').agg(\n",
    "        avg_time_since_publish=('time_since_publish', 'mean'),\n",
    "        new_video_view_ratio=('time_since_publish', lambda x: (x <= 7).mean())\n",
    "    ).reset_index()\n",
    "    \n",
    "    # Моделирование последовательностей просмотров\n",
    "    # Для каждого пользователя создадим последовательность категорий\n",
    "    user_category_sequence = df.groupby('viewer_uid')['category'].apply(list).reset_index()\n",
    "\n",
    "    # Можно использовать модели последовательностей, такие как Марковские цепи, для анализа\n",
    "    # Здесь для простоты вычислим вероятность перехода между категориями\n",
    "\n",
    "    transition_counts = defaultdict(lambda: defaultdict(int))\n",
    "    for categories in user_category_sequence['category']:\n",
    "        for i in range(len(categories) - 1):\n",
    "            transition_counts[categories[i]][categories[i+1]] += 1\n",
    "\n",
    "    # Преобразуем в вероятности\n",
    "    transition_probs = {k: {k2: v2 / sum(v.values()) for k2, v2 in v.items()} for k, v in transition_counts.items()}\n",
    "    \n",
    "    # Скорость просмотра\n",
    "    # Вычисляем общее время просмотра и количество просмотров для каждого пользователя\n",
    "    user_speed = df.groupby('viewer_uid').agg(\n",
    "        total_watchtime=('total_watchtime', 'sum'),\n",
    "        total_views=('rutube_video_id', 'count')\n",
    "    ).reset_index()\n",
    "\n",
    "    # Скорость просмотра (время просмотра на один просмотр)\n",
    "    user_speed['watch_speed'] = user_speed['total_watchtime'] / user_speed['total_views']\n",
    "    \n",
    "    # Удаляем типы популряных устройств, т.к. будем их отедльно добавлять\n",
    "    df = df.drop(columns=['desktop', 'smartphone', 'tablet'], errors='ignore')\n",
    "    \n",
    "    # Объединение признаков\n",
    "    # Объединяем все новые признаки\n",
    "    feature_dfs = [\n",
    "        video_duration_stats,\n",
    "        user_completion_rate,\n",
    "        user_time_diff_stats,\n",
    "        user_author_preference[['viewer_uid', 'top_authors_view_ratio']],\n",
    "        user_night_views,\n",
    "        user_category_preference[['viewer_uid', 'top_categories_view_ratio']],\n",
    "        user_device_stats,\n",
    "        user_device_type_ratio,\n",
    "        user_region_stats,\n",
    "        user_home_region_ratio,\n",
    "        user_repeat_views[['viewer_uid', 'repeat_view_ratio']],\n",
    "        user_activity_trend,\n",
    "        user_content_novelty,\n",
    "        user_speed[['viewer_uid', 'watch_speed']],\n",
    "    ]\n",
    "\n",
    "    for agg_df in feature_dfs:\n",
    "        df = df.merge(agg_df, on='viewer_uid', how='left')\n",
    "\n",
    "    # Категориальным признакам в пандас нельзя делать заполнение пропусков нулями\n",
    "    # Переводим категории в тип строка\n",
    "    for col in df.select_dtypes(include=['category']).columns:\n",
    "        df[col] = df[col].astype('str')\n",
    "\n",
    "    # Заполняем пропущенные значения\n",
    "    df = df.fillna(0)\n",
    "    return df\n",
    "\n",
    "train_users_df = video_statistic_features_part_2(df=train_users_df, union_all_events=union_all_events)\n",
    "test_users_df = video_statistic_features_part_2(df=test_users_df, union_all_events=union_all_events)\n",
    "\n",
    "train_users_df.shape, test_users_df.shape"
   ]
  },
  {
   "cell_type": "code",
   "execution_count": 62,
   "id": "6ae59af3",
   "metadata": {},
   "outputs": [
    {
     "name": "stdout",
     "output_type": "stream",
     "text": [
      "CPU times: total: 3.98 s\n",
      "Wall time: 3.99 s\n"
     ]
    },
    {
     "data": {
      "text/plain": [
       "((1585329, 120), (174287, 120))"
      ]
     },
     "execution_count": 62,
     "metadata": {},
     "output_type": "execute_result"
    }
   ],
   "source": [
    "%%time\n",
    "def video_statistic_features_part_3(df:pd.DataFrame):\n",
    "    # Время с последней активности\n",
    "    # Вычисляем время, прошедшее с последнего взаимодействия пользователя\n",
    "    begin_time = pd.Timestamp(year=2024, month=5, day=31, tz='Europe/Moscow')\n",
    "    user_last_activity = df.groupby('viewer_uid')['event_timestamp'].max().reset_index()\n",
    "    user_last_activity['time_since_last_activity'] = (user_last_activity['event_timestamp'] - begin_time).dt.total_seconds() / 3600  # в часах\n",
    "\n",
    "    # Объединяем все новые признаки\n",
    "    additional_feature_dfs = [\n",
    "        user_last_activity[['viewer_uid', 'time_since_last_activity']],\n",
    "    ]\n",
    "    \n",
    "    for agg_df in additional_feature_dfs:\n",
    "        df = df.merge(agg_df, on='viewer_uid', how='left')\n",
    "\n",
    "    # Категориальным признакам в пандас нельзя делать заполнение пропусков нулями\n",
    "    # Переводим категории в тип строка\n",
    "    for col in df.select_dtypes(include=['category']).columns:\n",
    "        df[col] = df[col].astype('str')\n",
    "\n",
    "    # Заполняем пропущенные значения\n",
    "    df = df.fillna(0)\n",
    "    return df\n",
    "\n",
    "train_users_df = video_statistic_features_part_3(df=train_users_df)\n",
    "test_users_df = video_statistic_features_part_3(df=test_users_df)\n",
    "\n",
    "train_users_df.shape, test_users_df.shape"
   ]
  },
  {
   "cell_type": "code",
   "execution_count": 63,
   "id": "e6702c4f",
   "metadata": {
    "scrolled": true
   },
   "outputs": [
    {
     "name": "stdout",
     "output_type": "stream",
     "text": [
      "CPU times: total: 5.02 s\n",
      "Wall time: 5 s\n"
     ]
    },
    {
     "data": {
      "text/plain": [
       "((1508725, 125), (165642, 125))"
      ]
     },
     "execution_count": 63,
     "metadata": {},
     "output_type": "execute_result"
    }
   ],
   "source": [
    "%%time\n",
    "def detect_trend_video(df:pd.DataFrame, union_all_events:pd.DataFrame):\n",
    "    # Расчет трендовых видео\n",
    "    # Определение временных периодов\n",
    "    # Текущее время (максимальная дата в данных)\n",
    "    current_time = union_all_events['event_timestamp'].max()\n",
    "    # Период для анализа трендов (например, последние 7 дней)\n",
    "    trend_period = current_time - pd.Timedelta(days=7)\n",
    "    # Предыдущий период для сравнения (предыдущие 7 дней)\n",
    "    previous_period = trend_period - pd.Timedelta(days=7)\n",
    "\n",
    "    # Фильтрация событий за выбранные периоды\n",
    "    # События за последние 7 дней\n",
    "    recent_events = union_all_events[union_all_events['event_timestamp'] >= trend_period]\n",
    "    # События за предыдущие 7 дней\n",
    "    previous_events = union_all_events[(union_all_events['event_timestamp'] >= previous_period) & (union_all_events['event_timestamp'] < trend_period)]\n",
    "\n",
    "    # Подсчет просмотров видео в каждом периоде\n",
    "    # Количество просмотров видео за последние 7 дней\n",
    "    recent_video_views = recent_events.groupby('rutube_video_id').agg(\n",
    "        recent_view_count=('viewer_uid', 'count')\n",
    "    ).reset_index()\n",
    "\n",
    "    # Количество просмотров видео за предыдущие 7 дней\n",
    "    previous_video_views = previous_events.groupby('rutube_video_id').agg(\n",
    "        previous_view_count=('viewer_uid', 'count')\n",
    "    ).reset_index()\n",
    "\n",
    "    # Вычисление роста популярности видео\n",
    "    # Объединяем данные по видео\n",
    "    video_trends = recent_video_views.merge(previous_video_views, on='rutube_video_id', how='left')\n",
    "    # Заполняем отсутствующие значения нулями\n",
    "    video_trends['previous_view_count'] = video_trends['previous_view_count'].fillna(0)\n",
    "    # Вычисляем рост просмотров\n",
    "    video_trends['view_count_growth'] = video_trends['recent_view_count'] - video_trends['previous_view_count']\n",
    "\n",
    "    # Ранжирование видео по популярности\n",
    "    # Ранжируем видео по количеству просмотров за последние 7 дней\n",
    "    video_trends['rank_recent_views'] = video_trends['recent_view_count'].rank(method='first', ascending=False)\n",
    "    # Ранжируем видео по росту популярности\n",
    "    video_trends['rank_growth'] = video_trends['view_count_growth'].rank(method='first', ascending=False)\n",
    "    df = df.merge(video_trends, on='rutube_video_id')\n",
    "    return df\n",
    "    \n",
    "train_users_df = detect_trend_video(df=train_users_df, union_all_events=union_all_events)\n",
    "test_users_df = detect_trend_video(df=test_users_df, union_all_events=union_all_events)\n",
    "\n",
    "train_users_df.shape, test_users_df.shape"
   ]
  },
  {
   "cell_type": "code",
   "execution_count": null,
   "id": "94af3c31",
   "metadata": {},
   "outputs": [],
   "source": []
  },
  {
   "cell_type": "markdown",
   "id": "ea081582",
   "metadata": {},
   "source": [
    "# Анализ видео и распределение возрастных категорий\n",
    "Идея состоит в том, чтобы определить, какая возрастная категория чаще всего смотрит конкретное видео и на основе этого предположить возраст пользователя."
   ]
  },
  {
   "cell_type": "code",
   "execution_count": 64,
   "id": "8297f8e1",
   "metadata": {},
   "outputs": [],
   "source": [
    "# # Посчитаем частоты возрастных категорий для каждого видео\n",
    "# video_age_distribution = train_users_df.groupby(['rutube_video_id', 'age_class'])['viewer_uid'].count().unstack(fill_value=0)\n",
    "\n",
    "# # Преобразуем в вероятности\n",
    "# video_age_prob = video_age_distribution.div(video_age_distribution.sum(axis=1), axis=0)\n",
    "# video_age_prob = video_age_prob.add_prefix('stat_age_class_prob_')"
   ]
  },
  {
   "cell_type": "code",
   "execution_count": 65,
   "id": "2461f19d",
   "metadata": {
    "scrolled": true
   },
   "outputs": [],
   "source": [
    "# # Присваиваем вероятности для видео в тестовом и обучающем наборах\n",
    "# def calc_video_stat_age(df:pd.DataFrame):\n",
    "#     # Присваиваем вероятности для видео в тестовом и обучающем наборах\n",
    "#     df = df.merge(video_age_prob, how='left', on='rutube_video_id')\n",
    "#     # # Вычисляем средневзвешенную возрастную категорию для каждого пользователя\n",
    "#     df['predicted_age_class'] = df[['stat_age_class_prob_0', 'stat_age_class_prob_1', 'stat_age_class_prob_2', 'stat_age_class_prob_3']].idxmax(axis=1)\n",
    "#     df['predicted_age_class'] = df['predicted_age_class'].str.replace('stat_age_class_prob_', '').astype(float)\n",
    "#     # Самый популярный класс возраста это 2\n",
    "#     df['predicted_age_class'].fillna(2, inplace=True)\n",
    "#     df['stat_age_class_prob_0'].fillna(0, inplace=True)\n",
    "#     df['stat_age_class_prob_1'].fillna(0, inplace=True)\n",
    "#     df['stat_age_class_prob_2'].fillna(0, inplace=True)\n",
    "#     df['stat_age_class_prob_3'].fillna(0, inplace=True)\n",
    "# #     df[['stat_age_class_prob_0', 'stat_age_class_prob_1', 'stat_age_class_prob_2', 'stat_age_class_prob_3']].fillna(0, inplace=True)\n",
    "#     return df\n",
    "# test_users_df = calc_video_stat_age(test_users_df)\n",
    "# train_users_df = calc_video_stat_age(train_users_df)\n",
    "\n",
    "# test_users_df.shape, train_users_df.shape"
   ]
  },
  {
   "cell_type": "code",
   "execution_count": 66,
   "id": "94851fdf",
   "metadata": {},
   "outputs": [],
   "source": [
    "# # Посчитаем частоты пола категорий для каждого видео\n",
    "# video_sex_distribution = train_users_df.groupby(['rutube_video_id', 'sex'])['viewer_uid'].count().unstack(fill_value=0)\n",
    "\n",
    "# # Преобразуем в вероятности\n",
    "# video_sex_prob = video_sex_distribution.div(video_sex_distribution.sum(axis=1), axis=0)\n",
    "# video_sex_prob = video_sex_prob.add_prefix('stat_sex_prob_')"
   ]
  },
  {
   "cell_type": "code",
   "execution_count": 67,
   "id": "c0f53790",
   "metadata": {},
   "outputs": [],
   "source": [
    "# # Присваиваем вероятности для видео в тестовом и обучающем наборах\n",
    "# def calc_video_stat_sex(df:pd.DataFrame):\n",
    "#     # Присваиваем вероятности для видео в тестовом и обучающем наборах\n",
    "#     df = df.merge(video_sex_prob, how='left', on='rutube_video_id')\n",
    "#     # # Вычисляем средневзвешенную возрастную категорию для каждого пользователя\n",
    "#     df['predicted_sex_class'] = df[['stat_sex_prob_male', 'stat_sex_prob_female']].idxmax(axis=1)\n",
    "#     # Самый популярный класс возраста это 2\n",
    "#     df['predicted_sex_class'] = df['predicted_sex_class'].fillna('stat_sex_prob_male')\n",
    "#     df['stat_sex_prob_male'] = df['stat_sex_prob_male'].fillna(0)\n",
    "#     df['stat_sex_prob_female'] = df['stat_sex_prob_female'].fillna(0)\n",
    "#     df['predicted_sex_class'] = np.where(df['predicted_sex_class'] == 'stat_sex_prob_male', 1, 0)\n",
    "#     return df\n",
    "# test_users_df = calc_video_stat_sex(test_users_df)\n",
    "# train_users_df = calc_video_stat_sex(train_users_df)\n",
    "\n",
    "# test_users_df.shape, train_users_df.shape"
   ]
  },
  {
   "cell_type": "code",
   "execution_count": null,
   "id": "4ea2bf4c",
   "metadata": {},
   "outputs": [],
   "source": []
  },
  {
   "cell_type": "markdown",
   "id": "84f7e5bf",
   "metadata": {},
   "source": [
    "# ФИЧИ оргов из baseline"
   ]
  },
  {
   "cell_type": "markdown",
   "id": "5b6107fe",
   "metadata": {},
   "source": [
    "    Чтобы предсказать возраст и пол, мы будем использовать медианный возраст и модальное значение пола для просмотренных каналов. Для этого мы подсчитаем статистические данные для каждого author_id на основе обучающей выборки.\n",
    "\n",
    "    Чтобы оценить качество данного подхода, разделим пользователей с известными социально-демографическими характеристиками на обучающую и валидационную выборки."
   ]
  },
  {
   "cell_type": "code",
   "execution_count": 68,
   "id": "f134c360",
   "metadata": {},
   "outputs": [],
   "source": [
    "def get_mode(row): # Кастомная функция вычисления модального значения категориального признака\n",
    "    counter = Counter(row)\n",
    "    (most_common, _) = counter.most_common(1)[0]\n",
    "    \n",
    "    return most_common"
   ]
  },
  {
   "cell_type": "code",
   "execution_count": 69,
   "id": "8ee65964",
   "metadata": {},
   "outputs": [],
   "source": [
    "# save_train_users_df = train_users_df.copy()\n",
    "# save_test_users_df = test_users_df.copy()\n",
    "# save_train_users_df.shape, save_test_users_df.shape"
   ]
  },
  {
   "cell_type": "code",
   "execution_count": 70,
   "id": "d4e99d4d",
   "metadata": {},
   "outputs": [],
   "source": [
    "# train_users_df = save_train_users_df.copy()\n",
    "# test_users_df = save_test_users_df.copy()\n",
    "\n",
    "# train_users_df.shape, test_users_df.shape"
   ]
  },
  {
   "cell_type": "code",
   "execution_count": 71,
   "id": "9973e540",
   "metadata": {},
   "outputs": [],
   "source": [
    "# Группируем данные по идентификаторам авторов и определяем медианный возраст и модальное \n",
    "# значение пола среди пользователей, просмотревших видео этого автора.\n",
    "author_median_age = train_users_df.groupby('author_id')['age'].median()\n",
    "author_sex_mode = train_users_df.groupby('author_id')['sex'].apply(get_mode)\n",
    "author_age_mode = train_users_df.groupby('author_id')['age_class'].apply(get_mode)\n",
    "\n",
    "author_sex_mode.name = 'sex_mode_by_author'\n",
    "author_age_mode.name = 'age_mode_by_author'\n",
    "author_median_age.name = 'median_age_by_author'\n",
    "author_info = author_sex_mode.to_frame().join(author_median_age).join(author_age_mode)"
   ]
  },
  {
   "cell_type": "code",
   "execution_count": 72,
   "id": "4d3615f8",
   "metadata": {
    "scrolled": true
   },
   "outputs": [
    {
     "data": {
      "text/plain": [
       "((1508725, 128), (165642, 128))"
      ]
     },
     "execution_count": 72,
     "metadata": {},
     "output_type": "execute_result"
    }
   ],
   "source": [
    "# Предсказываем целевые переменные тестовых пользователей. \n",
    "# На истории просмотренных каналов считаем медианный возраст и моду пола. \n",
    "def calc_orgs_baseline_features(df:pd.DataFrame):\n",
    "    df = df.join(author_info, on='author_id', how='left')\n",
    "    df['sex_mode_by_author'] = df['sex_mode_by_author'].fillna(df['sex_mode_by_author'].mode()[0])\n",
    "    df['age_mode_by_author'] = df['age_mode_by_author'].fillna(df['age_mode_by_author'].mode()[0])\n",
    "    df['median_age_by_author'] = df['median_age_by_author'].fillna(df['median_age_by_author'].median())\n",
    "    return df\n",
    "\n",
    "train_users_df = calc_orgs_baseline_features(train_users_df)\n",
    "test_users_df = calc_orgs_baseline_features(test_users_df)\n",
    "\n",
    "train_users_df.shape, test_users_df.shape"
   ]
  },
  {
   "cell_type": "code",
   "execution_count": 73,
   "id": "c27b6c6a",
   "metadata": {},
   "outputs": [],
   "source": [
    "# train_users_df"
   ]
  },
  {
   "cell_type": "code",
   "execution_count": 74,
   "id": "a15606ac",
   "metadata": {},
   "outputs": [],
   "source": [
    "# Группируем данные по идентификаторам авторов и определяем медианный возраст и модальное \n",
    "# значение пола среди пользователей, просмотревших видео этого автора.\n",
    "video_median_age = train_users_df.groupby('rutube_video_id')['age'].median()\n",
    "video_sex_mode = train_users_df.groupby('rutube_video_id')['sex'].apply(get_mode)\n",
    "video_age_mode = train_users_df.groupby('rutube_video_id')['age_class'].apply(get_mode)\n",
    "\n",
    "video_sex_mode.name = 'sex_mode_by_video'\n",
    "video_age_mode.name = 'age_mode_by_video'\n",
    "video_median_age.name = 'median_age_by_video'\n",
    "video_info = video_sex_mode.to_frame().join(video_median_age).join(video_age_mode)"
   ]
  },
  {
   "cell_type": "code",
   "execution_count": 75,
   "id": "9b1a8349",
   "metadata": {},
   "outputs": [
    {
     "data": {
      "text/plain": [
       "((1508725, 131), (165642, 131))"
      ]
     },
     "execution_count": 75,
     "metadata": {},
     "output_type": "execute_result"
    }
   ],
   "source": [
    "# Предсказываем целевые переменные тестовых пользователей. \n",
    "# На истории просмотренных каналов считаем медианный возраст и моду пола. \n",
    "def calc_orgs_features_video(df:pd.DataFrame):\n",
    "    df = df.join(video_info, on='rutube_video_id', how='left')\n",
    "    df['sex_mode_by_video'] = df['sex_mode_by_video'].fillna(df['sex_mode_by_video'].mode()[0])\n",
    "    df['age_mode_by_video'] = df['age_mode_by_video'].fillna(df['age_mode_by_video'].mode()[0])\n",
    "    df['median_age_by_video'] = df['median_age_by_video'].fillna(df['median_age_by_video'].median())\n",
    "    return df\n",
    "\n",
    "train_users_df = calc_orgs_features_video(train_users_df)\n",
    "test_users_df = calc_orgs_features_video(test_users_df)\n",
    "\n",
    "train_users_df.shape, test_users_df.shape"
   ]
  },
  {
   "cell_type": "code",
   "execution_count": 76,
   "id": "2a37cbd7",
   "metadata": {},
   "outputs": [],
   "source": [
    "# def pass_features():\n",
    "#     pass\n",
    "#     # # Взаимодействие с трендовым контентом\n",
    "    \n",
    "#     # trending_videos = trending_videos_df['rutube_video_id'].unique()\n",
    "\n",
    "#     # # Помечаем видео как трендовые\n",
    "#     # train_events_df['is_trending'] = train_events_df['rutube_video_id'].isin(trending_videos).astype(int)\n",
    "\n",
    "#     # # Вычисляем количество и долю трендовых видео, просмотренных пользователем\n",
    "#     # user_trending_interaction = train_events_df.groupby('viewer_uid').agg(\n",
    "#     #     trending_videos_watched=('is_trending', 'sum'),\n",
    "#     #     total_videos_watched=('rutube_video_id', 'count')\n",
    "#     # ).reset_index()\n",
    "#     # user_trending_interaction['trending_video_ratio'] = user_trending_interaction['trending_videos_watched'] / user_trending_interaction['total_videos_watched']\n"
   ]
  },
  {
   "cell_type": "code",
   "execution_count": 77,
   "id": "6428c612",
   "metadata": {},
   "outputs": [],
   "source": [
    "# df = test_users_df.copy()\n",
    "# df.shape"
   ]
  },
  {
   "cell_type": "markdown",
   "id": "14362cc8",
   "metadata": {},
   "source": [
    "# Текстовые фичи "
   ]
  },
  {
   "cell_type": "code",
   "execution_count": 78,
   "id": "edeed573",
   "metadata": {},
   "outputs": [],
   "source": [
    "# def text_features():\n",
    "\n",
    "#     # Анализ текста названий видео\n",
    "#     # Импортируем необходимые библиотеки\n",
    "#     from sklearn.feature_extraction.text import TfidfVectorizer\n",
    "\n",
    "#     # Объединяем все названия видео, которые пользователь просмотрел\n",
    "#     user_video_titles = train_events_df.groupby('viewer_uid')['title'].apply(lambda x: ' '.join(x)).reset_index()\n",
    "\n",
    "#     # Применяем TF-IDF векторизацию\n",
    "#     vectorizer = TfidfVectorizer(max_features=100)\n",
    "#     tfidf_matrix = vectorizer.fit_transform(user_video_titles['title'])\n",
    "\n",
    "#     # Получаем матрицу признаков\n",
    "#     tfidf_features = pd.DataFrame(tfidf_matrix.toarray(), columns=vectorizer.get_feature_names_out())\n",
    "#     tfidf_features['viewer_uid'] = user_video_titles['viewer_uid']\n"
   ]
  },
  {
   "cell_type": "code",
   "execution_count": 79,
   "id": "941ab578",
   "metadata": {},
   "outputs": [],
   "source": [
    "# def text_features_2():\n",
    "#     #  Анализ тональности названий видео\n",
    "#     import nltk\n",
    "#     from nltk.sentiment import SentimentIntensityAnalyzer\n",
    "#     nltk.download('vader_lexicon')\n",
    "\n",
    "#     sid = SentimentIntensityAnalyzer()\n",
    "\n",
    "#     # Определяем тональность названий видео\n",
    "#     train_events_df['title_sentiment'] = train_events_df['title'].apply(lambda x: sid.polarity_scores(x)['compound'])\n",
    "\n",
    "#     # Средняя тональность названий видео для каждого пользователя\n",
    "#     user_sentiment = train_events_df.groupby('viewer_uid').agg(\n",
    "#         avg_title_sentiment=('title_sentiment', 'mean')\n",
    "#     ).reset_index()\n"
   ]
  },
  {
   "cell_type": "code",
   "execution_count": null,
   "id": "48592911",
   "metadata": {},
   "outputs": [],
   "source": []
  },
  {
   "cell_type": "code",
   "execution_count": 82,
   "id": "7963841f",
   "metadata": {},
   "outputs": [],
   "source": [
    "# save_train_users_df = train_users_df.copy()\n",
    "# save_test_users_df = test_users_df.copy()\n",
    "\n",
    "# save_train_users_df.shape, save_test_users_df.shape"
   ]
  },
  {
   "cell_type": "markdown",
   "id": "2085f7b8",
   "metadata": {},
   "source": [
    "# Формируем список фичей для агрегации"
   ]
  },
  {
   "cell_type": "code",
   "execution_count": 80,
   "id": "7adb0a33",
   "metadata": {
    "scrolled": true
   },
   "outputs": [],
   "source": [
    "# pd.concat([train_users_df, test_users_df])['unique_regions'].value_counts()"
   ]
  },
  {
   "cell_type": "code",
   "execution_count": 87,
   "id": "5f3be965",
   "metadata": {},
   "outputs": [],
   "source": [
    "# Определяем фичи для агрегации\n",
    "target_columns = ['age', 'sex', 'age_class', ]\n",
    "datetime_columns = ['event_timestamp', 'video_publish_date',]\n",
    "ignore_columns = ['rutube_video_id', 'viewer_uid', 'title', ]\n",
    "drop_columns = [\n",
    "    'abnormal_viewing', 'watch_interval', 'completion_rate', 'year_week', 'avg_completion_rate', \n",
    "    'high_completion_rate_videos',\n",
    "] # переделать\n",
    "unique_columns = []\n",
    "category_columns = [\n",
    "    'region', 'ua_device_type', 'ua_client_type', 'ua_os', 'ua_client_name', 'category', 'author_id','day_name',\n",
    "    'time_of_day', 'engagement_category', 'watched_completely', 'watched_more_than_half', 'duration_category',\n",
    "    'most_common_device', 'most_common_os', 'most_common_browser', 'most_common_weekday', \n",
    "    'top_region', 'home_region', 'session_id', 'video_id', \n",
    "    'sex_mode_by_video', 'age_mode_by_video', 'sex_mode_by_author', 'age_mode_by_author', \n",
    "]\n",
    "\n",
    "bool_columns = [\n",
    "    'is_weekend', 'is_business_hours', 'is_few_views', 'engaging_video', 'new_session', 'region_match', \n",
    "    'is_night', 'is_home_region',\n",
    "]\n",
    "numbers_columns = [\n",
    "    'total_watchtime', 'duration', 'day', 'hour', 'dayofweek', 'weekofyear', 'hour_sin', 'hour_cos', 'dayofweek_sin', 'dayofweek_cos',\n",
    "    'frequency_region', 'frequency_ua_device_type', 'frequency_ua_client_type', 'frequency_ua_os',\n",
    "    'frequency_ua_client_name', 'frequency_rutube_video_id', 'frequency_viewer_uid', 'frequency_title', 'frequency_category', 'frequency_author_id',\n",
    "    'watch_percentage', 'watch_percentage_all', 'remaining_time', 'log_watchtime', 'relative_watch_time', 'watchtime_zscore', \n",
    "    'viewing_speed', 'watch_time_deviation', 'watch_time_rank', 'viewing_efficiency', 'cumulative_watch_time', 'watch_time_entropy', 'watch_time_trend',\n",
    "    'video_avg_watchtime', 'author_avg_watchtime', 'category_avg_watchtime', \n",
    "    'total_watchtime_user_feat', 'avg_watchtime', \n",
    "    'avg_video_popularity', 'avg_author_popularity', 'avg_category_popularity', 'watchtime_ratio',\n",
    "    'most_common_hour', 'category_entropy', 'time_diff', 'avg_session_watchtime', \n",
    "    'region_match_ratio', 'time_diff_seconds', 'time_since_publish', 'avg_video_duration', 'std_video_duration',\n",
    "    'avg_time_between_events', 'std_time_between_events', 'top_authors_view_ratio', 'night_view_ratio', 'avg_hour', \n",
    "    'top_categories_view_ratio', 'unique_devices', 'desktop', 'smartphone', 'tablet', 'repeat_view_ratio', \n",
    "    'avg_time_since_publish', 'new_video_view_ratio', 'watch_speed', 'time_since_last_activity', \n",
    "    'view_count_growth', 'rank_recent_views', 'rank_growth', 'unique_regions', 'home_region_view_ratio', 'activity_trend', \n",
    "    'median_age_by_author', 'median_age_by_video', 'time_offset'\n",
    "#     'predicted_age_class',  'predicted_sex_class',  'stat_age_class_prob_0',  'stat_age_class_prob_1', 'stat_age_class_prob_2',  \n",
    "#     'stat_age_class_prob_3',  'stat_sex_prob_female',  'stat_sex_prob_male'\n",
    "]\n",
    "\n",
    "\n",
    "count_columns = [\n",
    "    'video_view_count', 'author_view_count', 'category_view_count', 'previous_view_count', 'recent_view_count', 'total_videos_watched',\n",
    "    'unique_categories', 'unique_authors', 'total_sessions', \n",
    "]\n",
    "\n",
    "median_age_predict = test_users_df.groupby('viewer_uid')['median_age_by_author'].median()\n",
    "mode_sex_predict = test_users_df.groupby('viewer_uid')['sex_mode_by_author'].apply(get_mode)"
   ]
  },
  {
   "cell_type": "code",
   "execution_count": 88,
   "id": "e2ea2c49",
   "metadata": {},
   "outputs": [
    {
     "name": "stdout",
     "output_type": "stream",
     "text": [
      "[]\n"
     ]
    },
    {
     "data": {
      "text/plain": [
       "(set(), set())"
      ]
     },
     "execution_count": 88,
     "metadata": {},
     "output_type": "execute_result"
    }
   ],
   "source": [
    "# Проверка\n",
    "check_features = category_columns + bool_columns + numbers_columns + ignore_columns + target_columns + drop_columns + count_columns + datetime_columns + unique_columns\n",
    "print([item for item, count in collections.Counter(check_features).items() if count > 1])\n",
    "assert len(check_features) == len(set(check_features))\n",
    "\n",
    "set(train_users_df.columns) - set(check_features), set(check_features) - set(train_users_df.columns)"
   ]
  },
  {
   "cell_type": "code",
   "execution_count": 89,
   "id": "4467503b",
   "metadata": {
    "scrolled": true
   },
   "outputs": [
    {
     "name": "stdout",
     "output_type": "stream",
     "text": [
      "CPU times: total: 8min 36s\n",
      "Wall time: 8min 38s\n"
     ]
    },
    {
     "data": {
      "text/plain": [
       "((155110, 555), (17234, 555))"
      ]
     },
     "execution_count": 89,
     "metadata": {},
     "output_type": "execute_result"
    }
   ],
   "source": [
    "%%time\n",
    "def full_agregation(df:pd.DataFrame):\n",
    "    # Определение функций агрегации\n",
    "    # Определяем агрегации для числовых признаков\n",
    "    numerical_aggregations = ['mean', 'std', 'min', 'max', 'sum', 'median']\n",
    "\n",
    "    # Определяем агрегации для категориальных признаков\n",
    "    def mode(series):\n",
    "        return series.mode().iloc[0] if not series.mode().empty else np.nan\n",
    "\n",
    "    categorical_aggregations = ['nunique', mode]\n",
    "    \n",
    "    # Агрегация числовых признаков\n",
    "    numerical_agg = df.groupby('viewer_uid')[numbers_columns].agg(numerical_aggregations)\n",
    "    # Преобразуем мультииндекс в одноуровневый\n",
    "    numerical_agg.columns = ['{}_{}'.format(feat, agg) for feat, agg in numerical_agg.columns]\n",
    "    numerical_agg = numerical_agg.reset_index()\n",
    "    \n",
    "    # Агрегация категориальных признаков\n",
    "    categorical_agg = df.groupby('viewer_uid')[category_columns].agg({\n",
    "        feature: categorical_aggregations for feature in category_columns\n",
    "    })\n",
    "    # Преобразуем мультииндекс в одноуровневый\n",
    "    categorical_agg.columns = ['{}_{}'.format(feat, agg if isinstance(agg, str) else agg.__name__) for feat, agg in categorical_agg.columns]\n",
    "    categorical_agg = categorical_agg.reset_index()\n",
    "    \n",
    "\n",
    "    # Обработка бинарных и счетных признаков\n",
    "    binary_agg = df.groupby('viewer_uid')[bool_columns].agg(['mean', 'sum'])\n",
    "    binary_agg.columns = ['{}_{}'.format(feat, agg) for feat, agg in binary_agg.columns]\n",
    "    binary_agg = binary_agg.reset_index()\n",
    "\n",
    "    count_agg = df.groupby('viewer_uid')[count_columns].agg(['mean', 'sum', 'max'])\n",
    "    count_agg.columns = ['{}_{}'.format(feat, agg) for feat, agg in count_agg.columns]\n",
    "    count_agg = count_agg.reset_index()\n",
    "\n",
    "    # Преобразование timestamp в дату и время\n",
    "    df['event_date'] = df['event_timestamp'].dt.date\n",
    "    df['event_hour'] = df['event_timestamp'].dt.hour\n",
    "    df['event_weekday'] = df['event_timestamp'].dt.weekday\n",
    "\n",
    "    time_agg = df.groupby('viewer_uid').agg({\n",
    "        'event_date': ['nunique'],\n",
    "        'event_hour': [mode],\n",
    "        'event_weekday': [mode]\n",
    "    })\n",
    "\n",
    "    time_agg.columns = ['{}_{}'.format(feat, agg if isinstance(agg, str) else agg.__name__) for feat, agg in time_agg.columns]\n",
    "    time_agg = time_agg.reset_index()\n",
    "\n",
    "    # Агрегация уникальных значений и энтропии\n",
    "    def calculate_entropy(series):\n",
    "        counts = series.value_counts()\n",
    "        return entropy(counts)\n",
    "\n",
    "    unique_entropy_agg = df.groupby('viewer_uid').agg({\n",
    "        'category': [calculate_entropy],\n",
    "        'author_id': [calculate_entropy],\n",
    "        'video_id': [calculate_entropy],\n",
    "        'session_id': [ calculate_entropy],\n",
    "        'region': [ calculate_entropy],\n",
    "    })\n",
    "\n",
    "    unique_entropy_agg.columns = ['{}_{}'.format(feat, agg if isinstance(agg, str) else agg.__name__) for feat, agg in unique_entropy_agg.columns]\n",
    "    unique_entropy_agg = unique_entropy_agg.reset_index()\n",
    "\n",
    "    \n",
    "    # Объединение всех агрегаций\n",
    "    # Список всех агрегированных датафреймов\n",
    "    agg_dataframes = [numerical_agg, categorical_agg, binary_agg, count_agg, unique_entropy_agg, time_agg]\n",
    "    # Объединяем по 'viewer_uid'\n",
    "    final_user_df = reduce(lambda left, right: pd.merge(left, right, on='viewer_uid', how='outer'), agg_dataframes)\n",
    "    # Заполняем пропущенные значения\n",
    "    final_user_df.fillna(0, inplace=True)\n",
    "    # Добавление целевых переменных\n",
    "\n",
    "    # Уникальные пользователи и их целевые переменные\n",
    "    user_targets = df[['viewer_uid', 'age', 'sex', 'age_class']].drop_duplicates()\n",
    "    # Объединяем с финальным датафреймом\n",
    "    final_user_df = final_user_df.merge(user_targets, on='viewer_uid', how='left')\n",
    "    return final_user_df\n",
    "\n",
    "agg_train_users_df = full_agregation(df=train_users_df)\n",
    "agg_test_users_df = full_agregation(df=test_users_df)\n",
    "# final_user_df = full_agregation(df=df)\n",
    "\n",
    "# train_users_df.shape, test_users_df.shape, df.shape\n",
    "agg_train_users_df.shape, agg_test_users_df.shape\n",
    "# ((155197, 529), (17221, 529))"
   ]
  },
  {
   "cell_type": "code",
   "execution_count": 91,
   "id": "2afdec19",
   "metadata": {},
   "outputs": [],
   "source": []
  },
  {
   "cell_type": "markdown",
   "id": "60d0fa34",
   "metadata": {},
   "source": [
    "# Фичи на базе эмбеддера E5 (Дима)\n",
    "\n",
    "Статистика видео кто больше просматривает мужчины или женжины и какой возраст\n"
   ]
  },
  {
   "cell_type": "code",
   "execution_count": 92,
   "id": "865729af",
   "metadata": {
    "scrolled": true
   },
   "outputs": [
    {
     "data": {
      "text/plain": [
       "(481480, 9)"
      ]
     },
     "execution_count": 92,
     "metadata": {},
     "output_type": "execute_result"
    }
   ],
   "source": [
    "# video_info_v2_sex_age = pd.read_parquet('Dima/video_info_v2_sex_age.parquet')\n",
    "video_info_v2_sex_age = pd.read_parquet('Dima/video_info_v2_emb_E5.parquet')\n",
    "video_info_v2_sex_age.shape"
   ]
  },
  {
   "cell_type": "code",
   "execution_count": 93,
   "id": "0da512fc",
   "metadata": {},
   "outputs": [
    {
     "data": {
      "text/plain": [
       "(481480, 4)"
      ]
     },
     "execution_count": 93,
     "metadata": {},
     "output_type": "execute_result"
    }
   ],
   "source": [
    "video_info_v2_sex_age = video_info_v2_sex_age.rename(columns={'age_class_vidio_emb': 'age_class_vidio', 'age_vidio_emb': 'age_vidio', 'sex_vidio_emb': 'sex_vidio'})\n",
    "video_info_v2_sex_age = video_info_v2_sex_age[['rutube_video_id', 'age_class_vidio', 'age_vidio', 'sex_vidio']]\n",
    "video_info_v2_sex_age = video_info_v2_sex_age.set_index('rutube_video_id').add_suffix('_stat').reset_index()\n",
    "video_info_v2_sex_age.shape"
   ]
  },
  {
   "cell_type": "code",
   "execution_count": 94,
   "id": "7a3cfa59",
   "metadata": {
    "scrolled": true
   },
   "outputs": [
    {
     "name": "stdout",
     "output_type": "stream",
     "text": [
      "CPU times: total: 953 ms\n",
      "Wall time: 929 ms\n"
     ]
    },
    {
     "data": {
      "text/plain": [
       "((1574290, 8), (173053, 8))"
      ]
     },
     "execution_count": 94,
     "metadata": {},
     "output_type": "execute_result"
    }
   ],
   "source": [
    "%%time\n",
    "train_video_sex_age = agg_train_users_df[['viewer_uid', 'age', 'sex', 'age_class']].merge(data[['rutube_video_id', 'viewer_uid']], on='viewer_uid').merge(video_info_v2_sex_age, on='rutube_video_id')\n",
    "test_video_sex_age = agg_test_users_df[['viewer_uid', 'age', 'sex', 'age_class']].merge(data[['rutube_video_id', 'viewer_uid']], on='viewer_uid').merge(video_info_v2_sex_age, on='rutube_video_id')\n",
    "\n",
    "train_video_sex_age.shape, test_video_sex_age.shape"
   ]
  },
  {
   "cell_type": "code",
   "execution_count": 97,
   "id": "3f556223",
   "metadata": {},
   "outputs": [],
   "source": [
    "# train_video_sex_age"
   ]
  },
  {
   "cell_type": "code",
   "execution_count": null,
   "id": "4f6acfe7",
   "metadata": {},
   "outputs": [],
   "source": []
  },
  {
   "cell_type": "code",
   "execution_count": 98,
   "id": "1dcc9d59",
   "metadata": {},
   "outputs": [
    {
     "data": {
      "text/plain": [
       "((17234, 565), (155110, 565))"
      ]
     },
     "execution_count": 98,
     "metadata": {},
     "output_type": "execute_result"
    }
   ],
   "source": [
    "def add_new_agg_features(all_df:pd.DataFrame, agg_df:pd.DataFrame):\n",
    "    # Определяем агрегации для категориальных признаков\n",
    "    def mode(series):\n",
    "        return series.mode().iloc[0] if not series.mode().empty else np.nan\n",
    "\n",
    "    categorical_aggregations = ['nunique', mode]\n",
    "\n",
    "    # Агрегация категориальных признаков\n",
    "    video_sex_age_categorical_agg = all_df.groupby('viewer_uid')[['age_class_vidio_stat', 'sex_vidio_stat']].agg({\n",
    "        feature: categorical_aggregations for feature in ['age_class_vidio_stat', 'sex_vidio_stat']\n",
    "    })\n",
    "    # Преобразуем мультииндекс в одноуровневый\n",
    "    video_sex_age_categorical_agg.columns = ['{}_{}'.format(feat, agg if isinstance(agg, str) else agg.__name__) for feat, agg in video_sex_age_categorical_agg.columns]\n",
    "    video_sex_age_categorical_agg = video_sex_age_categorical_agg.reset_index()\n",
    "\n",
    "\n",
    "    # Определяем агрегации для числовых признаков\n",
    "    numerical_aggregations = ['mean', 'std', 'min', 'max', 'sum', 'median']\n",
    "    # Агрегация числовых признаков\n",
    "    video_sex_age_numerical_agg = all_df.groupby('viewer_uid')[['age_vidio_stat']].agg(numerical_aggregations)\n",
    "    # Преобразуем мультииндекс в одноуровневый\n",
    "    video_sex_age_numerical_agg.columns = ['{}_{}'.format(feat, agg) for feat, agg in video_sex_age_numerical_agg.columns]\n",
    "    video_sex_age_numerical_agg = video_sex_age_numerical_agg.reset_index()\n",
    "\n",
    "    # Объединение всех агрегаций\n",
    "    # Список всех агрегированных датафреймов\n",
    "    agg_dataframes = [video_sex_age_numerical_agg, video_sex_age_categorical_agg]\n",
    "    # Объединяем по 'viewer_uid'\n",
    "    video_sex_age__user_df = reduce(lambda left, right: pd.merge(left, right, on='viewer_uid', how='outer'), agg_dataframes)\n",
    "    # Заполняем пропущенные значения\n",
    "    video_sex_age__user_df.fillna(0, inplace=True)\n",
    "    # Агрегируем с исходными агрегатами\n",
    "    agg_df = agg_df.merge(video_sex_age__user_df, on='viewer_uid', how='left')\n",
    "    # Заполняем пропущенные значения\n",
    "    agg_df.fillna(0, inplace=True)\n",
    "    \n",
    "    return agg_df\n",
    "\n",
    "agg_test_users_df = add_new_agg_features(all_df=test_video_sex_age, agg_df=agg_test_users_df)\n",
    "agg_train_users_df = add_new_agg_features(all_df=train_video_sex_age, agg_df=agg_train_users_df)\n",
    "\n",
    "agg_test_users_df.shape, agg_train_users_df.shape"
   ]
  },
  {
   "cell_type": "code",
   "execution_count": 99,
   "id": "1ba44a6f",
   "metadata": {},
   "outputs": [
    {
     "data": {
      "text/plain": [
       "((17234, 565), (155110, 565))"
      ]
     },
     "execution_count": 99,
     "metadata": {},
     "output_type": "execute_result"
    }
   ],
   "source": [
    "agg_test_users_df.shape, agg_train_users_df.shape"
   ]
  },
  {
   "cell_type": "code",
   "execution_count": 101,
   "id": "f47620e9",
   "metadata": {},
   "outputs": [
    {
     "name": "stdout",
     "output_type": "stream",
     "text": [
      "CPU times: total: 672 ms\n",
      "Wall time: 663 ms\n"
     ]
    },
    {
     "data": {
      "text/plain": [
       "((155110, 565), (17234, 565))"
      ]
     },
     "execution_count": 101,
     "metadata": {},
     "output_type": "execute_result"
    }
   ],
   "source": [
    "# %%time\n",
    "# save_agg_train_users_df = agg_train_users_df.copy()\n",
    "# save_agg_test_users_df = agg_test_users_df.copy()\n",
    "\n",
    "# save_agg_train_users_df.shape, save_agg_test_users_df.shape"
   ]
  },
  {
   "cell_type": "code",
   "execution_count": null,
   "id": "46261f25",
   "metadata": {},
   "outputs": [],
   "source": []
  },
  {
   "cell_type": "code",
   "execution_count": 96,
   "id": "0cc102db",
   "metadata": {
    "scrolled": true
   },
   "outputs": [],
   "source": [
    "# tmp_df.isna().sum().max()\n",
    "# inline\n",
    "# tmp_df['predicted_sex_class'] = np.where(tmp_df['predicted_sex_class'] == 'stat_sex_prob_male', 1, 0)\n",
    "# tmp_df"
   ]
  },
  {
   "cell_type": "code",
   "execution_count": null,
   "id": "d43673a2",
   "metadata": {},
   "outputs": [],
   "source": [
    "#     # user_age_prediction = tmp_df.groupby('viewer_uid')['predicted_age_class'].agg(lambda x: x.mode()[0])\n",
    "#     user_age_prediction = df.groupby('viewer_uid')['predicted_age_class'].agg(lambda x: x.mode()[0])\n",
    "# sex\n",
    "#     # user_age_prediction = tmp_df.groupby('viewer_uid')['predicted_age_class'].agg(lambda x: x.mode()[0])\n",
    "#     user_age_prediction = df.groupby('viewer_uid')['predicted_age_class'].agg(lambda x: x.mode()[0])\n",
    "        "
   ]
  },
  {
   "cell_type": "code",
   "execution_count": 584,
   "id": "23c3d6c1",
   "metadata": {
    "scrolled": true
   },
   "outputs": [],
   "source": [
    "# Присваиваем вероятности возрастных категорий к событиям просмотра в тестовом наборе\n",
    "# tmp_df = tmp_df.merge(video_age_prob, how='left', on='rutube_video_id')\n",
    "# pd.DataFrame(user_age_prediction)['predicted_age_class'].apply(lambda x: x.str.replace('stat_age_class_prob', ''))\n",
    "\n",
    "# user_age_prediction.apply(lambda x: x.str.replace('stat_age_class_prob', ''), axis=1)\n",
    "# user_age_prediction"
   ]
  },
  {
   "cell_type": "code",
   "execution_count": 586,
   "id": "599f9b07",
   "metadata": {},
   "outputs": [],
   "source": [
    "# train_users_df = detect_trend_video(df=train_users_df, union_all_events=union_all_events)\n",
    "# test_users_df = detect_trend_video(df=test_users_df, union_all_events=union_all_events)\n",
    "\n",
    "# train_users_df.shape, test_users_df.shape"
   ]
  },
  {
   "cell_type": "code",
   "execution_count": null,
   "id": "7390c0b3",
   "metadata": {},
   "outputs": [],
   "source": [
    "# agg_train_users_df = full_agregation(df=train_users_df)\n",
    "# agg_test_users_df = full_agregation(df=test_users_df)\n"
   ]
  },
  {
   "cell_type": "code",
   "execution_count": null,
   "id": "48430b0b",
   "metadata": {},
   "outputs": [],
   "source": []
  },
  {
   "cell_type": "code",
   "execution_count": null,
   "id": "63b5d90e",
   "metadata": {},
   "outputs": [],
   "source": []
  },
  {
   "cell_type": "markdown",
   "id": "00ebe798",
   "metadata": {},
   "source": [
    "# Фичи на базе анализа заголовков видео"
   ]
  },
  {
   "cell_type": "code",
   "execution_count": 102,
   "id": "eebbd3d8",
   "metadata": {},
   "outputs": [
    {
     "name": "stdout",
     "output_type": "stream",
     "text": [
      "CPU times: total: 62.5 ms\n",
      "Wall time: 76.4 ms\n"
     ]
    },
    {
     "data": {
      "text/plain": [
       "(172418, 4)"
      ]
     },
     "execution_count": 102,
     "metadata": {},
     "output_type": "execute_result"
    }
   ],
   "source": [
    "%%time\n",
    "# Фичи полученные через кросс валидацию, в обучении не участвовали тестовые данные для локалдьной метрики\n",
    "TRAIN_title_users_df = pd.read_csv(f'cv_TRAIN_title_users_df.csv')\n",
    "TEST_title_users_df = pd.read_csv(f'cv_TEST_title_users_df.csv')\n",
    "union_title_users_df = pd.concat([TRAIN_title_users_df, TEST_title_users_df])\n",
    "union_title_users_df.shape"
   ]
  },
  {
   "cell_type": "code",
   "execution_count": 103,
   "id": "0e5c6c14",
   "metadata": {},
   "outputs": [
    {
     "data": {
      "text/plain": [
       "((17234, 567), (155110, 567))"
      ]
     },
     "execution_count": 103,
     "metadata": {},
     "output_type": "execute_result"
    }
   ],
   "source": [
    "agg_train_users_df = agg_train_users_df.merge(union_title_users_df[['viewer_uid', 'logistic_oof_sex_class', 'linear_oof_age']], on='viewer_uid')\n",
    "agg_test_users_df = agg_test_users_df.merge(union_title_users_df[['viewer_uid', 'logistic_oof_sex_class', 'linear_oof_age']], on='viewer_uid')\n",
    "agg_test_users_df.shape, agg_train_users_df.shape"
   ]
  },
  {
   "cell_type": "markdown",
   "id": "628b1179",
   "metadata": {},
   "source": [
    "# Фичи на базе анализа названий категорий"
   ]
  },
  {
   "cell_type": "code",
   "execution_count": 104,
   "id": "f3224ac0",
   "metadata": {},
   "outputs": [
    {
     "name": "stdout",
     "output_type": "stream",
     "text": [
      "CPU times: total: 78.1 ms\n",
      "Wall time: 77 ms\n"
     ]
    },
    {
     "data": {
      "text/plain": [
       "(172418, 4)"
      ]
     },
     "execution_count": 104,
     "metadata": {},
     "output_type": "execute_result"
    }
   ],
   "source": [
    "%%time\n",
    "# Фичи полученные через кросс валидацию, в обучении не участвовали тестовые данные для локалдьной метрики\n",
    "TRAIN_category_users_df = pd.read_csv(f'cv_TRAIN_category_users_df.csv')\n",
    "TEST_category_users_df = pd.read_csv(f'cv_TEST_category_users_df.csv')\n",
    "\n",
    "union_category_users_df = pd.concat([TRAIN_category_users_df, TEST_category_users_df])\n",
    "union_category_users_df.shape"
   ]
  },
  {
   "cell_type": "code",
   "execution_count": 105,
   "id": "643533e7",
   "metadata": {},
   "outputs": [
    {
     "name": "stdout",
     "output_type": "stream",
     "text": [
      "CPU times: total: 625 ms\n",
      "Wall time: 632 ms\n"
     ]
    },
    {
     "data": {
      "text/plain": [
       "((17234, 569), (155110, 569))"
      ]
     },
     "execution_count": 105,
     "metadata": {},
     "output_type": "execute_result"
    }
   ],
   "source": [
    "%%time\n",
    "agg_train_users_df = agg_train_users_df.merge(union_category_users_df[['viewer_uid', 'logistic_oof_cat_sex_class', 'linear_oof_cat_age']], on='viewer_uid')\n",
    "agg_test_users_df = agg_test_users_df.merge(union_category_users_df[['viewer_uid', 'logistic_oof_cat_sex_class', 'linear_oof_cat_age']], on='viewer_uid')\n",
    "agg_test_users_df.shape, agg_train_users_df.shape"
   ]
  },
  {
   "cell_type": "code",
   "execution_count": 94,
   "id": "cb14524c",
   "metadata": {},
   "outputs": [],
   "source": [
    "# video_sex_age__user_df\n",
    "# test_video_sex_age\n",
    "# final_user_df = final_user_df.merge(user_targets, on='viewer_uid', how='left')\n",
    "# agg_test_users_df = agg_test_users_df.merge(video_sex_age__user_df, on='viewer_uid', how='left')\n",
    "# agg_train_users_df = agg_test_users_df.merge(video_sex_age__user_df, on='viewer_uid', how='left')"
   ]
  },
  {
   "cell_type": "code",
   "execution_count": 95,
   "id": "934210c3",
   "metadata": {},
   "outputs": [],
   "source": [
    "# video_sex_age_categorical_agg.columns\n",
    "# ['viewer_uid', 'age_class_vidio_stat_nunique', 'age_class_vidio_stat_mode', 'sex_vidio_stat_nunique', 'sex_vidio_stat_mode']"
   ]
  },
  {
   "cell_type": "code",
   "execution_count": 96,
   "id": "e3c8f7b9",
   "metadata": {},
   "outputs": [],
   "source": [
    "# video_sex_age_numerical_agg.columns\n",
    "# ['viewer_uid', 'age_vidio_stat_mean', 'age_vidio_stat_std', 'age_vidio_stat_min', 'age_vidio_stat_max', 'age_vidio_stat_sum', 'age_vidio_stat_median'],"
   ]
  },
  {
   "cell_type": "code",
   "execution_count": null,
   "id": "63d3dc72",
   "metadata": {},
   "outputs": [],
   "source": []
  },
  {
   "cell_type": "code",
   "execution_count": 97,
   "id": "b28fd4a2",
   "metadata": {},
   "outputs": [],
   "source": [
    "# %%time\n",
    "# agg_train_users_df.to_parquet(f'agg_train_users_df_v1.parquet')\n",
    "# agg_test_users_df.to_parquet(f'agg_test_users_df_v1.parquet')"
   ]
  },
  {
   "cell_type": "code",
   "execution_count": 98,
   "id": "d340138b",
   "metadata": {},
   "outputs": [],
   "source": [
    "# 155197 + 17221\n",
    "# 180012"
   ]
  },
  {
   "cell_type": "code",
   "execution_count": 99,
   "id": "cffb2897",
   "metadata": {
    "scrolled": true
   },
   "outputs": [],
   "source": [
    "# 17221\n",
    "# final_user_df"
   ]
  },
  {
   "cell_type": "code",
   "execution_count": 100,
   "id": "b085456e",
   "metadata": {},
   "outputs": [],
   "source": [
    "# test_users_df.shape"
   ]
  },
  {
   "cell_type": "code",
   "execution_count": 101,
   "id": "e1098b01",
   "metadata": {},
   "outputs": [],
   "source": [
    "# # targets.shape\n",
    "# # data\n",
    "# ['age_vidio_stat_mean', 'age_vidio_stat_std', 'age_vidio_stat_min', 'age_vidio_stat_max', 'age_vidio_stat_sum', 'age_vidio_stat_median', 'age_class_vidio_stat_nunique', 'age_class_vidio_stat_mode', 'sex_vidio_stat_nunique', 'sex_vidio_stat_mode']\n",
    "\n",
    "# ]]"
   ]
  },
  {
   "cell_type": "code",
   "execution_count": 385,
   "id": "7b9499d8",
   "metadata": {},
   "outputs": [],
   "source": [
    "# data['viewer_uid'].unique().shape"
   ]
  },
  {
   "cell_type": "code",
   "execution_count": 106,
   "id": "bf250a55",
   "metadata": {},
   "outputs": [
    {
     "data": {
      "text/plain": [
       "((17234, 569), (155110, 569))"
      ]
     },
     "execution_count": 106,
     "metadata": {},
     "output_type": "execute_result"
    }
   ],
   "source": [
    "# # Разделяем мультилабел на отдельные классы которые будем предсказывать\n",
    "# agg_train_users_df = pd.concat([agg_train_users_df, pd.get_dummies(agg_train_users_df['age_class'], prefix='age_class_is').astype(int)], axis=1)\n",
    "# agg_test_users_df = pd.concat([agg_test_users_df, pd.get_dummies(agg_test_users_df['age_class'], prefix='age_class_is').astype(int)], axis=1)\n",
    "\n",
    "agg_test_users_df.shape, agg_train_users_df.shape"
   ]
  },
  {
   "cell_type": "code",
   "execution_count": 107,
   "id": "9ca9b5f3",
   "metadata": {},
   "outputs": [
    {
     "name": "stdout",
     "output_type": "stream",
     "text": [
      "CPU times: total: 656 ms\n",
      "Wall time: 614 ms\n"
     ]
    },
    {
     "data": {
      "text/plain": [
       "((155110, 569), (17234, 569))"
      ]
     },
     "execution_count": 107,
     "metadata": {},
     "output_type": "execute_result"
    }
   ],
   "source": [
    "# %%time\n",
    "# save_agg_train_users_df = agg_train_users_df.copy()\n",
    "# save_agg_test_users_df = agg_test_users_df.copy()\n",
    "\n",
    "# save_agg_train_users_df.shape, save_agg_test_users_df.shape"
   ]
  },
  {
   "cell_type": "code",
   "execution_count": 108,
   "id": "7075a6d5",
   "metadata": {
    "scrolled": true
   },
   "outputs": [
    {
     "data": {
      "text/plain": [
       "(548, 18, 566)"
      ]
     },
     "execution_count": 108,
     "metadata": {},
     "output_type": "execute_result"
    }
   ],
   "source": [
    "# agg_test_users_df\n",
    "# add features\n",
    "# 'age_vidio_stat_mean', 'age_vidio_stat_std', 'age_vidio_stat_min', 'age_vidio_stat_max', 'age_vidio_stat_sum', 'age_vidio_stat_median'\n",
    "\n",
    "targets_features = ['age', 'sex', 'age_class', 'age_class_is_0', 'age_class_is_1', 'age_class_is_2', 'age_class_is_3',]\n",
    "target = ['sex']\n",
    "category_features = [\n",
    "    'region_mode', 'ua_device_type_mode', 'ua_client_type_mode', 'ua_os_mode', 'ua_client_name_mode', 'category_mode', 'day_name_mode', 'time_of_day_mode', 'engagement_category_mode', 'duration_category_mode', 'most_common_device_mode', 'most_common_os_mode', 'most_common_browser_mode', 'top_region_mode', 'home_region_mode',\n",
    "    'sex_mode_by_author_mode', 'sex_mode_by_video_mode', 'video_id_mode'\n",
    "    # 'age_class_vidio_stat_nunique', 'age_class_vidio_stat_mode', 'sex_vidio_stat_nunique', 'sex_vidio_stat_mode',\n",
    "]\n",
    "['logistic_oof_sex_class', 'linear_oof_age', 'logistic_oof_cat_sex_class', 'linear_oof_cat_age']\n",
    "ignore_features = []\n",
    "# ignore_features = ['viewer_uid']\n",
    "numeric_features = []\n",
    "\n",
    "for col in agg_test_users_df.columns:\n",
    "    if col not in category_features and col not in targets_features:\n",
    "        numeric_features.append(col)\n",
    "\n",
    "features_columns = numeric_features + category_features\n",
    "\n",
    "len(numeric_features), len(category_features), len(features_columns)"
   ]
  },
  {
   "cell_type": "code",
   "execution_count": 159,
   "id": "d7658f40",
   "metadata": {},
   "outputs": [
    {
     "name": "stdout",
     "output_type": "stream",
     "text": [
      "CPU times: total: 4.73 s\n",
      "Wall time: 4.3 s\n"
     ]
    },
    {
     "data": {
      "text/plain": [
       "((17234, 569), (155110, 569))"
      ]
     },
     "execution_count": 159,
     "metadata": {},
     "output_type": "execute_result"
    }
   ],
   "source": [
    "%%time\n",
    "agg_test_users_df.to_parquet('agg_test_users_df_v4.parquet')\n",
    "agg_train_users_df.to_parquet('agg_train_users_df_v4.parquet')\n",
    "\n",
    "agg_test_users_df.shape, agg_train_users_df.shape\n"
   ]
  },
  {
   "cell_type": "code",
   "execution_count": 139,
   "id": "067a5483",
   "metadata": {
    "scrolled": true
   },
   "outputs": [],
   "source": [
    "# agg_test_users_df[numeric_features]"
   ]
  },
  {
   "cell_type": "code",
   "execution_count": 140,
   "id": "169a7a3c",
   "metadata": {
    "scrolled": true
   },
   "outputs": [],
   "source": [
    "# agg_train_users_df['age_class'].value_counts()\n",
    "# agg_train_users_df"
   ]
  },
  {
   "cell_type": "code",
   "execution_count": null,
   "id": "5656ceef",
   "metadata": {},
   "outputs": [],
   "source": []
  },
  {
   "cell_type": "code",
   "execution_count": 141,
   "id": "5953f8cd",
   "metadata": {},
   "outputs": [],
   "source": [
    "# agg_test_users_df"
   ]
  },
  {
   "cell_type": "code",
   "execution_count": null,
   "id": "7afe4c9e",
   "metadata": {},
   "outputs": [],
   "source": []
  },
  {
   "cell_type": "code",
   "execution_count": 686,
   "id": "a3f62ffc",
   "metadata": {},
   "outputs": [],
   "source": [
    "# ignore_columns = ['logistic_oof_sex_class', 'linear_oof_age', 'logistic_oof_cat_sex_class', 'linear_oof_cat_age']\n",
    "# ignore_features = ['logistic_oof_sex_class', 'linear_oof_age', 'logistic_oof_cat_sex_class', 'linear_oof_cat_age']\n",
    "ignore_features = []"
   ]
  },
  {
   "cell_type": "markdown",
   "id": "e8dccb06",
   "metadata": {},
   "source": [
    "# Модель"
   ]
  },
  {
   "cell_type": "code",
   "execution_count": 590,
   "id": "d4dd9f69",
   "metadata": {},
   "outputs": [],
   "source": [
    "from catboost import CatBoostClassifier, Pool\n",
    "from catboost.utils import eval_metric"
   ]
  },
  {
   "cell_type": "code",
   "execution_count": 591,
   "id": "66046874",
   "metadata": {},
   "outputs": [],
   "source": [
    "# Вывод графика feature importance\n",
    "def plot_feature_importance(importance, names, model_name=\"\", top_n=-1, skip_columns=[]):\n",
    "    \"\"\"Функция вывода feature importance\n",
    "        :importance - массив важности фичей, полученный от модели\n",
    "        :names - массив названий фичей\n",
    "        :model_name - название модели\n",
    "        :top_n - кол-во выводимых фичей\n",
    "        :skip_columns: какие фичи пропустить, такое может понадобиться чтобы временно убрать \n",
    "                        из отображаемых горячие фичи, и изучить менее сильные\n",
    "        :return - fi_df - feature importance датафрейм\n",
    "    \"\"\"\n",
    "    feature_importance = np.array(importance)\n",
    "    feature_names = np.array(names)\n",
    "    \n",
    "    data={'feature_names':feature_names,'feature_importance':feature_importance}\n",
    "    fi_df = pd.DataFrame(data)\n",
    "    fi_df = fi_df[~fi_df['feature_names'].isin(skip_columns)]\n",
    "    fi_df.sort_values(by=['feature_importance'], ascending=False,inplace=True)\n",
    "    \n",
    "    plt.figure(figsize=(10,8))\n",
    "    sns.barplot(x=fi_df['feature_importance'][:top_n], y=fi_df['feature_names'][:top_n])\n",
    "    if top_n != -1:\n",
    "        plt.title(f\"{model_name} FEATURE IMPORTANCE (Top: {top_n})\")\n",
    "    else:\n",
    "        plt.title(f\"{model_name} FEATURE IMPORTANCE\")\n",
    "    plt.xlabel('FEATURE IMPORTANCE')\n",
    "    plt.ylabel('FEATURE NAMES')\n",
    "    return fi_df"
   ]
  },
  {
   "cell_type": "code",
   "execution_count": 113,
   "id": "badd0466",
   "metadata": {},
   "outputs": [
    {
     "data": {
      "text/plain": [
       "((147354, 566), (7756, 566), (147354, 1), (7756, 1))"
      ]
     },
     "execution_count": 113,
     "metadata": {},
     "output_type": "execute_result"
    }
   ],
   "source": [
    "# # Всегда выделяем данные под валидацию, чтобы бустинг модель могла сделать ранний останов + подбор гиперпараметров\n",
    "# X_train, X_val, y_train, y_val = train_test_split(\n",
    "#                                 agg_train_users_df[features_columns], \n",
    "#                                 agg_train_users_df[target], \n",
    "#                                 test_size=0.05, \n",
    "#                                 random_state=53)\n",
    "\n",
    "# X_train.shape, X_val.shape, y_train.shape, y_val.shape"
   ]
  },
  {
   "cell_type": "code",
   "execution_count": 592,
   "id": "890a72f7",
   "metadata": {},
   "outputs": [],
   "source": [
    "# y_train.value_counts()"
   ]
  },
  {
   "cell_type": "code",
   "execution_count": 593,
   "id": "053e18e5",
   "metadata": {},
   "outputs": [],
   "source": [
    "# %%time\n",
    "# model = CatBoostClassifier(iterations=5000,\n",
    "#                 eval_metric = \"AUC\", \n",
    "#                 early_stopping_rounds=200, \n",
    "#                 ignored_features=ignore_features,\n",
    "#                 cat_features=category_features,\n",
    "#                 # od_type = \"Iter\",\n",
    "#                 # od_wait = 200,                               \n",
    "#                 random_state=53,\n",
    "#                 task_type=\"GPU\",\n",
    "#                 devices='0',\n",
    "# #                 learning_rate = 0.1,\n",
    "#                 )\n",
    "# # Обучаем модель\n",
    "# model.fit(X_train, y_train,\n",
    "#           eval_set=(X_val, y_val), \n",
    "#           plot=True, \n",
    "#           verbose=False,\n",
    "# #           sample_weight = zero_X_train_df['sample_weights'],\n",
    "#          )\n",
    "# # plot_feature_importance(model_by_cat_level_zero.get_feature_importance(), (features_columns_one_model ),f'Zero Model', top_n=50)\n",
    "# # plt.show()\n"
   ]
  },
  {
   "cell_type": "code",
   "execution_count": null,
   "id": "0d7b40aa",
   "metadata": {},
   "outputs": [],
   "source": []
  },
  {
   "cell_type": "code",
   "execution_count": 594,
   "id": "52d92924",
   "metadata": {},
   "outputs": [],
   "source": [
    "# fi_df = plot_feature_importance(model.get_feature_importance(), (model.feature_names_),f'Model', top_n=30)\n",
    "# plt.show()"
   ]
  },
  {
   "cell_type": "code",
   "execution_count": 595,
   "id": "cd825845",
   "metadata": {},
   "outputs": [],
   "source": [
    "# fi_df = plot_feature_importance(model.get_feature_importance(), (model.feature_names_),f'Model', top_n=30)\n",
    "# plt.show()"
   ]
  },
  {
   "cell_type": "code",
   "execution_count": null,
   "id": "dfb026fc",
   "metadata": {},
   "outputs": [],
   "source": []
  },
  {
   "cell_type": "code",
   "execution_count": 596,
   "id": "443edfcd",
   "metadata": {},
   "outputs": [],
   "source": [
    "# plot_feature_importance(model.get_feature_importance(), (model.feature_names_),f'Model', top_n=30)\n",
    "# plt.show()"
   ]
  },
  {
   "cell_type": "code",
   "execution_count": 597,
   "id": "450e8684",
   "metadata": {},
   "outputs": [],
   "source": [
    "# plot_feature_importance(model.get_feature_importance(), (model.feature_names_),f'Model', top_n=30)\n",
    "# plt.show()"
   ]
  },
  {
   "cell_type": "code",
   "execution_count": 598,
   "id": "519ba916",
   "metadata": {},
   "outputs": [],
   "source": [
    "# plot_feature_importance(model.get_feature_importance(), (model.feature_names_),f'Model', top_n=30)\n",
    "# plt.show()"
   ]
  },
  {
   "cell_type": "code",
   "execution_count": 599,
   "id": "aff1fd3f",
   "metadata": {},
   "outputs": [],
   "source": [
    "# # Всегда выделяем данные под валидацию, чтобы бустинг модель могла сделать ранний останов + подбор гиперпараметров\n",
    "# X_train, X_val, y_train, y_val = train_test_split(\n",
    "#                                 agg_train_users_df[features_columns], \n",
    "#                                 agg_train_users_df['age_class'], \n",
    "#                                 test_size=0.05, \n",
    "#                                 random_state=53)\n",
    "\n",
    "# X_train.shape, X_val.shape, y_train.shape, y_val.shape"
   ]
  },
  {
   "cell_type": "code",
   "execution_count": 600,
   "id": "f1643218",
   "metadata": {},
   "outputs": [],
   "source": [
    "# model_age_group = CatBoostClassifier(iterations=5000,\n",
    "#                 eval_metric = \"AUC\", \n",
    "#                 early_stopping_rounds=100, \n",
    "#                 ignored_features=ignore_features,\n",
    "#                 cat_features=category_features,\n",
    "#                 # od_type = \"Iter\",\n",
    "#                 # od_wait = 200,                               \n",
    "#                 random_state=53,\n",
    "#                 task_type=\"GPU\",\n",
    "#                 devices='0',\n",
    "#                 # learning_rate = 0.1,\n",
    "#                 loss_function='MultiClass'\n",
    "# #                 loss_function='MultiClass'\n",
    "#                 )\n",
    "# # Обучаем модель\n",
    "# model_age_group.fit(X_train, y_train,\n",
    "#           eval_set=(X_val, y_val), \n",
    "#           plot=True, \n",
    "#           verbose=False,\n",
    "# #           sample_weight = zero_X_train_df['sample_weights'],\n",
    "#          )\n"
   ]
  },
  {
   "cell_type": "code",
   "execution_count": 601,
   "id": "06301be3",
   "metadata": {},
   "outputs": [],
   "source": [
    "# plot_feature_importance(model_age_group.get_feature_importance(), (model_age_group.feature_names_),f'Model', top_n=30)\n",
    "# plt.show()\n"
   ]
  },
  {
   "cell_type": "code",
   "execution_count": 602,
   "id": "1dd7ed62",
   "metadata": {},
   "outputs": [],
   "source": [
    "# # threshold = 0.5\n",
    "# # sex_class_predict_proba = model.predict_proba(agg_test_users_df[model.feature_names_])\n",
    "# # sex_class_predict = np.where(sex_class_predict_proba[:,1] >= threshold, 'male', 'female')\n",
    "# sex_class_predict = model.predict(agg_test_users_df[model.feature_names_])\n",
    "# sex_class_target = agg_test_users_df['sex'].values\n",
    "\n",
    "# age_class_predict = model_age_group.predict(agg_test_users_df[model_age_group.feature_names_])\n",
    "# # age_class_predict = ages_combine_df['predicted_class'].values\n",
    "# age_class_target = agg_test_users_df['age_class'].values"
   ]
  },
  {
   "cell_type": "code",
   "execution_count": null,
   "id": "7f522ef0",
   "metadata": {},
   "outputs": [],
   "source": []
  },
  {
   "cell_type": "code",
   "execution_count": 603,
   "id": "f7fc165e",
   "metadata": {},
   "outputs": [],
   "source": [
    "\n",
    "# # Взвешенный классы class_weights\n",
    "# f1_weighted = f1_score(age_class_target, age_class_predict, average='weighted')\n",
    "# accuracy = accuracy_score(sex_class_target, sex_class_predict)\n",
    "\n",
    "# final_score = 0.7 * f1_weighted + 0.3 * accuracy\n",
    "# print(f'Weighted F1 = {f1_weighted:.4f} \\nAccuracy = {accuracy:.4f} \\nFinal Score = {final_score:.4f}')"
   ]
  },
  {
   "cell_type": "code",
   "execution_count": 127,
   "id": "cf7b5d8c",
   "metadata": {},
   "outputs": [
    {
     "data": {
      "text/plain": [
       "0.4830082517545932"
      ]
     },
     "execution_count": 127,
     "metadata": {},
     "output_type": "execute_result"
    }
   ],
   "source": []
  },
  {
   "cell_type": "code",
   "execution_count": 604,
   "id": "3d6604be",
   "metadata": {},
   "outputs": [],
   "source": [
    "# from sklearn import metrics\n",
    "# y_valid = age_class_target\n",
    "# predicted = age_class_predict\n",
    "# # print(\"Logistic Regression Accuracy:\", metrics.accuracy_score(y_valid, predicted))\n",
    "# # print(\"Logistic Regression Precision:\", metrics.precision_score(y_valid, predicted))\n",
    "# # print(\"Logistic Regression Recall:\", metrics.recall_score(y_valid, predicted))\n",
    "# # print(\"Logistic Regression f1_score:\", metrics.f1_score(y_valid, predicted))    \n",
    "# print(\"Logistic Regression f1_score weighted:\", metrics.f1_score(y_valid, predicted, average='weighted'))\n"
   ]
  },
  {
   "cell_type": "code",
   "execution_count": 148,
   "id": "9f5b1920",
   "metadata": {},
   "outputs": [
    {
     "data": {
      "text/plain": [
       "(17234, 1)"
      ]
     },
     "execution_count": 148,
     "metadata": {},
     "output_type": "execute_result"
    }
   ],
   "source": []
  },
  {
   "cell_type": "code",
   "execution_count": null,
   "id": "2932c7de",
   "metadata": {},
   "outputs": [],
   "source": []
  },
  {
   "cell_type": "code",
   "execution_count": 606,
   "id": "3024e4e6",
   "metadata": {},
   "outputs": [],
   "source": [
    "# ignore_features"
   ]
  },
  {
   "cell_type": "code",
   "execution_count": 723,
   "id": "de0222cf",
   "metadata": {},
   "outputs": [
    {
     "data": {
      "text/plain": [
       "((155110, 569), (17234, 569))"
      ]
     },
     "execution_count": 723,
     "metadata": {},
     "output_type": "execute_result"
    }
   ],
   "source": [
    "oof_agg_train_users_df = agg_train_users_df.copy()\n",
    "oof_agg_test_users_df = agg_test_users_df.copy()\n",
    "\n",
    "oof_agg_train_users_df.shape, oof_agg_test_users_df.shape"
   ]
  },
  {
   "cell_type": "code",
   "execution_count": 724,
   "id": "6fa14d3a",
   "metadata": {},
   "outputs": [
    {
     "data": {
      "text/plain": [
       "36337"
      ]
     },
     "execution_count": 724,
     "metadata": {},
     "output_type": "execute_result"
    }
   ],
   "source": [
    "bad_client = np.array(tmp_gr_size[tmp_gr_size <= 0].index)\n",
    "len(bad_client)"
   ]
  },
  {
   "cell_type": "code",
   "execution_count": 725,
   "id": "d5b1932e",
   "metadata": {},
   "outputs": [
    {
     "data": {
      "text/plain": [
       "(127165, 569)"
      ]
     },
     "execution_count": 725,
     "metadata": {},
     "output_type": "execute_result"
    }
   ],
   "source": [
    "oof_agg_train_users_df = oof_agg_train_users_df[~oof_agg_train_users_df['viewer_uid'].isin(bad_client)]\n",
    "oof_agg_train_users_df = oof_agg_train_users_df.reset_index().drop(columns='index')\n",
    "oof_agg_train_users_df.shape"
   ]
  },
  {
   "cell_type": "markdown",
   "id": "d79d7c86",
   "metadata": {},
   "source": [
    "# Генерация новых фичей через кроссвалидацию \n",
    "# Out-of-fold предсказания (OOF)"
   ]
  },
  {
   "cell_type": "markdown",
   "id": "41260411",
   "metadata": {},
   "source": [
    "### Модель регрессии по возрасту"
   ]
  },
  {
   "cell_type": "code",
   "execution_count": 726,
   "id": "fb5d991e",
   "metadata": {
    "scrolled": true
   },
   "outputs": [
    {
     "name": "stdout",
     "output_type": "stream",
     "text": [
      "train_df: 127165\n",
      "X: 127165, y: 127165\n",
      "fold: 1\n",
      "(96645, 566) (5087, 566) (96645,) (5087,)\n"
     ]
    },
    {
     "data": {
      "application/vnd.jupyter.widget-view+json": {
       "model_id": "b873939f717e4320a79691ff57de01bb",
       "version_major": 2,
       "version_minor": 0
      },
      "text/plain": [
       "MetricVisualizer(layout=Layout(align_self='stretch', height='500px'))"
      ]
     },
     "metadata": {},
     "output_type": "display_data"
    },
    {
     "name": "stderr",
     "output_type": "stream",
     "text": [
      "Default metric period is 5 because MAE is/are not implemented for GPU\n"
     ]
    },
    {
     "name": "stdout",
     "output_type": "stream",
     "text": [
      "127165 25433\n",
      "25433\n",
      "25433\n",
      "fold: 2\n",
      "(96645, 566) (5087, 566) (96645,) (5087,)\n"
     ]
    },
    {
     "data": {
      "application/vnd.jupyter.widget-view+json": {
       "model_id": "0d730fbf803c42a8b82cc8961f0aa3e7",
       "version_major": 2,
       "version_minor": 0
      },
      "text/plain": [
       "MetricVisualizer(layout=Layout(align_self='stretch', height='500px'))"
      ]
     },
     "metadata": {},
     "output_type": "display_data"
    },
    {
     "name": "stderr",
     "output_type": "stream",
     "text": [
      "Default metric period is 5 because MAE is/are not implemented for GPU\n"
     ]
    },
    {
     "name": "stdout",
     "output_type": "stream",
     "text": [
      "127165 25433\n",
      "25433\n",
      "25433\n",
      "fold: 3\n",
      "(96645, 566) (5087, 566) (96645,) (5087,)\n"
     ]
    },
    {
     "data": {
      "application/vnd.jupyter.widget-view+json": {
       "model_id": "1a6e2560c2944223915b454c0d192b65",
       "version_major": 2,
       "version_minor": 0
      },
      "text/plain": [
       "MetricVisualizer(layout=Layout(align_self='stretch', height='500px'))"
      ]
     },
     "metadata": {},
     "output_type": "display_data"
    },
    {
     "name": "stderr",
     "output_type": "stream",
     "text": [
      "Default metric period is 5 because MAE is/are not implemented for GPU\n"
     ]
    },
    {
     "name": "stdout",
     "output_type": "stream",
     "text": [
      "127165 25433\n",
      "25433\n",
      "25433\n",
      "fold: 4\n",
      "(96645, 566) (5087, 566) (96645,) (5087,)\n"
     ]
    },
    {
     "data": {
      "application/vnd.jupyter.widget-view+json": {
       "model_id": "3eee4ed3e84e4b29ba563f6dce2a9a02",
       "version_major": 2,
       "version_minor": 0
      },
      "text/plain": [
       "MetricVisualizer(layout=Layout(align_self='stretch', height='500px'))"
      ]
     },
     "metadata": {},
     "output_type": "display_data"
    },
    {
     "name": "stderr",
     "output_type": "stream",
     "text": [
      "Default metric period is 5 because MAE is/are not implemented for GPU\n"
     ]
    },
    {
     "name": "stdout",
     "output_type": "stream",
     "text": [
      "127165 25433\n",
      "25433\n",
      "25433\n",
      "fold: 5\n",
      "(96645, 566) (5087, 566) (96645,) (5087,)\n"
     ]
    },
    {
     "data": {
      "application/vnd.jupyter.widget-view+json": {
       "model_id": "7ec85f04dc984dd7b44834730a94863f",
       "version_major": 2,
       "version_minor": 0
      },
      "text/plain": [
       "MetricVisualizer(layout=Layout(align_self='stretch', height='500px'))"
      ]
     },
     "metadata": {},
     "output_type": "display_data"
    },
    {
     "name": "stderr",
     "output_type": "stream",
     "text": [
      "Default metric period is 5 because MAE is/are not implemented for GPU\n"
     ]
    },
    {
     "name": "stdout",
     "output_type": "stream",
     "text": [
      "127165 25433\n",
      "25433\n",
      "25433\n",
      "Предсказание для тестовых данных\n",
      "(120806, 566) (6359, 566) (120806,) (6359,)\n"
     ]
    },
    {
     "data": {
      "application/vnd.jupyter.widget-view+json": {
       "model_id": "75b14dfe2832470596f1e24540de1895",
       "version_major": 2,
       "version_minor": 0
      },
      "text/plain": [
       "MetricVisualizer(layout=Layout(align_self='stretch', height='500px'))"
      ]
     },
     "metadata": {},
     "output_type": "display_data"
    },
    {
     "name": "stderr",
     "output_type": "stream",
     "text": [
      "Default metric period is 5 because MAE is/are not implemented for GPU\n"
     ]
    },
    {
     "data": {
      "image/png": "[encoded data removed]",
      "text/plain": [
       "<Figure size 1000x800 with 1 Axes>"
      ]
     },
     "metadata": {},
     "output_type": "display_data"
    },
    {
     "name": "stdout",
     "output_type": "stream",
     "text": [
      "CPU times: total: 5min 48s\n",
      "Wall time: 4min 13s\n"
     ]
    },
    {
     "data": {
      "text/plain": [
       "((127165, 570), (17234, 570))"
      ]
     },
     "execution_count": 726,
     "metadata": {},
     "output_type": "execute_result"
    }
   ],
   "source": [
    "%%time\n",
    "# Генерируем фичи через кроссвалидацию (Out-of-fold OOF)\n",
    "import numpy as np\n",
    "import pandas as pd\n",
    "from sklearn.model_selection import StratifiedKFold\n",
    "from sklearn.metrics import accuracy_score\n",
    "\n",
    "from sklearn.utils.class_weight import compute_class_weight\n",
    "from typing import List\n",
    "\n",
    "def calc_cv_target(train_df:pd.DataFrame, test_df:pd.DataFrame, features_columns:List[str], category_features:List[str],  target_col:str, iterations:int=1000):\n",
    "    X = train_df[features_columns]\n",
    "    y = train_df[target_col]\n",
    "    print(f'train_df: {len(train_df)}')\n",
    "    print(f'X: {len(X)}, y: {len(y)}')\n",
    "    # Количество фолдов для кросс-валидации\n",
    "    n_folds = 5\n",
    "    # Создаем объект StratifiedKFold для кросс-валидации\n",
    "    skf = StratifiedKFold(n_splits=n_folds, shuffle=True, random_state=53)\n",
    "    \n",
    "\n",
    "    # Создаем массив для хранения OOF предсказаний\n",
    "    oof_predictions = np.zeros(len(X))\n",
    "    \n",
    "    # Проходим по каждому фолду\n",
    "    for i, (train_idx, valid_idx) in enumerate(skf.split(X, y)):\n",
    "        print(f'fold: {i+1}')\n",
    "        X_train, X_valid = X.iloc[train_idx], X.iloc[valid_idx]\n",
    "        y_train, y_valid = y.iloc[train_idx], y.iloc[valid_idx]\n",
    "        \n",
    "        # Всегда выделяем данные под валидацию, чтобы бустинг модель могла сделать ранний останов + подбор гиперпараметров\n",
    "        X_train, X_val, y_train, y_val = train_test_split(\n",
    "                                    X_train, \n",
    "                                    y_train, \n",
    "                                    test_size=0.05, \n",
    "                                    stratify=y_train,\n",
    "                                    random_state=53)\n",
    "        print(X_train.shape, X_val.shape, y_train.shape, y_val.shape)\n",
    "        \n",
    "        fold_cv_model = CatBoostRegressor(iterations=iterations,\n",
    "                        eval_metric = \"MAE\", \n",
    "                        early_stopping_rounds=200, \n",
    "                        ignored_features=ignore_features,\n",
    "                        cat_features=category_features,\n",
    "                        random_state=53,\n",
    "                        task_type=\"GPU\",\n",
    "                        devices='0',\n",
    "        #                 learning_rate = 0.1,\n",
    "                        )        \n",
    "        # Обучаем модель на данных фолда\n",
    "        fold_cv_model.fit(X_train, y_train,\n",
    "                  eval_set=(X_val, y_val), \n",
    "                  plot=True, \n",
    "                  verbose=False,\n",
    "                 )\n",
    "        print(len(train_df), len(X_valid))\n",
    "        print(len(fold_cv_model.predict(X_valid)))\n",
    "        print(len(fold_cv_model.predict(X_valid)))\n",
    "        train_df.loc[valid_idx, f'cv_predict_{target_col}'] = fold_cv_model.predict(X_valid)\n",
    "    print('Предсказание для тестовых данных')\n",
    "    # Делаем предсказание для тестовых данных\n",
    "    X_train, X_val, y_train, y_val = train_test_split(\n",
    "                                X, \n",
    "                                y, \n",
    "                                test_size=0.05, \n",
    "                                stratify=y,\n",
    "                                random_state=53)\n",
    "    print(X_train.shape, X_val.shape, y_train.shape, y_val.shape)\n",
    "    \n",
    "    fold_cv_model = CatBoostRegressor(iterations=iterations,\n",
    "                    eval_metric = \"MAE\", \n",
    "                    early_stopping_rounds=200, \n",
    "                    ignored_features=ignore_features,\n",
    "                    cat_features=category_features,\n",
    "                    random_state=53,\n",
    "                    task_type=\"GPU\",\n",
    "                    devices='0',\n",
    "    #                 learning_rate = 0.1,\n",
    "                    )        \n",
    "    # Обучаем модель на данных фолда\n",
    "    fold_cv_model.fit(X_train, y_train,\n",
    "              eval_set=(X_val, y_val), \n",
    "              plot=True, \n",
    "              verbose=False,\n",
    "             )\n",
    "    test_df[f'cv_predict_{target_col}'] = fold_cv_model.predict(test_df[features_columns])\n",
    "    \n",
    "    plot_feature_importance(fold_cv_model.get_feature_importance(), (fold_cv_model.feature_names_),f'Model', top_n=30)\n",
    "    plt.show()\n",
    "    \n",
    "    return train_df, test_df\n",
    "\n",
    "oof_agg_train_users_df, oof_agg_test_users_df = calc_cv_target(\n",
    "                oof_agg_train_users_df, \n",
    "                oof_agg_test_users_df, \n",
    "                features_columns=features_columns,\n",
    "                category_features=category_features,\n",
    "                target_col='age',\n",
    "                iterations=1000,)\n",
    "oof_agg_train_users_df.shape, oof_agg_test_users_df.shape"
   ]
  },
  {
   "cell_type": "code",
   "execution_count": 728,
   "id": "5bd357f2",
   "metadata": {
    "scrolled": true
   },
   "outputs": [],
   "source": [
    "# 2+3"
   ]
  },
  {
   "cell_type": "markdown",
   "id": "0ae7b15b",
   "metadata": {},
   "source": [
    "### Модель классификации по полу и возрасту"
   ]
  },
  {
   "cell_type": "code",
   "execution_count": null,
   "id": "075974c5",
   "metadata": {
    "scrolled": true
   },
   "outputs": [
    {
     "name": "stdout",
     "output_type": "stream",
     "text": [
      "fold: 1\n",
      "(96645, 567) (5087, 567) (96645,) (5087,)\n",
      "class_weights: [0.94597901 1.06056449]\n"
     ]
    },
    {
     "data": {
      "application/vnd.jupyter.widget-view+json": {
       "model_id": "7442a81fac4246b3b32fcbd4c3e05d58",
       "version_major": 2,
       "version_minor": 0
      },
      "text/plain": [
       "MetricVisualizer(layout=Layout(align_self='stretch', height='500px'))"
      ]
     },
     "metadata": {},
     "output_type": "display_data"
    },
    {
     "name": "stderr",
     "output_type": "stream",
     "text": [
      "Default metric period is 5 because AUC is/are not implemented for GPU\n"
     ]
    },
    {
     "name": "stdout",
     "output_type": "stream",
     "text": [
      "fold: 2\n",
      "(96645, 567) (5087, 567) (96645,) (5087,)\n",
      "class_weights: [0.94597901 1.06056449]\n"
     ]
    },
    {
     "data": {
      "application/vnd.jupyter.widget-view+json": {
       "model_id": "452af83cb34243aeb257d410c323b20b",
       "version_major": 2,
       "version_minor": 0
      },
      "text/plain": [
       "MetricVisualizer(layout=Layout(align_self='stretch', height='500px'))"
      ]
     },
     "metadata": {},
     "output_type": "display_data"
    },
    {
     "name": "stderr",
     "output_type": "stream",
     "text": [
      "Default metric period is 5 because AUC is/are not implemented for GPU\n"
     ]
    },
    {
     "name": "stdout",
     "output_type": "stream",
     "text": [
      "fold: 3\n",
      "(96645, 567) (5087, 567) (96645,) (5087,)\n",
      "class_weights: [0.94597901 1.06056449]\n"
     ]
    },
    {
     "data": {
      "application/vnd.jupyter.widget-view+json": {
       "model_id": "e1e4ef9c4638467da34af8eb085d8a90",
       "version_major": 2,
       "version_minor": 0
      },
      "text/plain": [
       "MetricVisualizer(layout=Layout(align_self='stretch', height='500px'))"
      ]
     },
     "metadata": {},
     "output_type": "display_data"
    },
    {
     "name": "stderr",
     "output_type": "stream",
     "text": [
      "Default metric period is 5 because AUC is/are not implemented for GPU\n"
     ]
    },
    {
     "name": "stdout",
     "output_type": "stream",
     "text": [
      "fold: 4\n",
      "(96645, 567) (5087, 567) (96645,) (5087,)\n",
      "class_weights: [0.94597901 1.06056449]\n"
     ]
    },
    {
     "data": {
      "application/vnd.jupyter.widget-view+json": {
       "model_id": "9d51ca843edb47eb813a6bd96ed1bad3",
       "version_major": 2,
       "version_minor": 0
      },
      "text/plain": [
       "MetricVisualizer(layout=Layout(align_self='stretch', height='500px'))"
      ]
     },
     "metadata": {},
     "output_type": "display_data"
    },
    {
     "name": "stderr",
     "output_type": "stream",
     "text": [
      "Default metric period is 5 because AUC is/are not implemented for GPU\n"
     ]
    }
   ],
   "source": [
    "%%time\n",
    "# Генерируем фичи через кроссвалидацию (Out-of-fold OOF)\n",
    "import numpy as np\n",
    "import pandas as pd\n",
    "from sklearn.model_selection import StratifiedKFold\n",
    "from sklearn.metrics import accuracy_score\n",
    "\n",
    "from sklearn.utils.class_weight import compute_class_weight\n",
    "from typing import List\n",
    "\n",
    "def calc_cv_target(train_df:pd.DataFrame, test_df:pd.DataFrame, features_columns:List[str], category_features:List[str],  target_col:str, iterations:int=1000):\n",
    "    X = train_df[features_columns]\n",
    "    y = train_df[target_col]\n",
    "    \n",
    "    # Количество фолдов для кросс-валидации\n",
    "    n_folds = 5\n",
    "    # Создаем объект StratifiedKFold для кросс-валидации\n",
    "    skf = StratifiedKFold(n_splits=n_folds, shuffle=True, random_state=53)\n",
    "    \n",
    "\n",
    "    # Создаем массив для хранения OOF предсказаний\n",
    "    oof_predictions = np.zeros(len(X))\n",
    "    \n",
    "\n",
    "    # plot_feature_importance(model_by_cat_level_zero.get_feature_importance(), (features_columns_one_model ),f'Zero Model', top_n=50)\n",
    "    # plt.show()\n",
    "    # Проходим по каждому фолду\n",
    "    for i, (train_idx, valid_idx) in enumerate(skf.split(X, y)):\n",
    "        print(f'fold: {i+1}')\n",
    "        X_train, X_valid = X.iloc[train_idx], X.iloc[valid_idx]\n",
    "        y_train, y_valid = y.iloc[train_idx], y.iloc[valid_idx]\n",
    "        \n",
    "        # Всегда выделяем данные под валидацию, чтобы бустинг модель могла сделать ранний останов + подбор гиперпараметров\n",
    "        X_train, X_val, y_train, y_val = train_test_split(\n",
    "                                    X_train, \n",
    "                                    y_train, \n",
    "                                    test_size=0.05, \n",
    "                                    stratify=y_train,\n",
    "                                    random_state=53)\n",
    "        print(X_train.shape, X_val.shape, y_train.shape, y_val.shape)\n",
    "        # Определяем уникальные классы\n",
    "        classes = np.array(sorted(set(y_train.values)))\n",
    "        # # Рассчитываем веса для каждого класса\n",
    "        class_weights = compute_class_weight('balanced', classes=classes, y=y_train)\n",
    "        print(f'class_weights: {class_weights}')\n",
    "        fold_cv_model = CatBoostClassifier(iterations=iterations,\n",
    "                        eval_metric = \"AUC\", \n",
    "                        early_stopping_rounds=200, \n",
    "                        ignored_features=ignore_features,\n",
    "                        cat_features=category_features,\n",
    "                        random_state=53,\n",
    "                        task_type=\"GPU\",\n",
    "                        devices='0',\n",
    "#                         class_weights=class_weights,\n",
    "        #                 learning_rate = 0.1,\n",
    "                        )        \n",
    "        # Обучаем модель на данных фолда\n",
    "        fold_cv_model.fit(X_train, y_train,\n",
    "                  eval_set=(X_val, y_val), \n",
    "                  plot=True, \n",
    "                  verbose=False,\n",
    "                 )\n",
    "        \n",
    "        train_df.loc[valid_idx, f'cv_predict_{target_col}'] = fold_cv_model.predict(X_valid)\n",
    "        if len(set(y_train.values)) == 2:\n",
    "            train_df.loc[valid_idx, f'cv_predict_proba_{target_col}'] = fold_cv_model.predict_proba(X_valid)[:,1]\n",
    "    print('Предсказание для тестовых данных')\n",
    "    # Делаем предсказание для тестовых данных\n",
    "    X_train, X_val, y_train, y_val = train_test_split(\n",
    "                                X, \n",
    "                                y, \n",
    "                                test_size=0.05, \n",
    "                                stratify=y,\n",
    "                                random_state=53)\n",
    "    print(X_train.shape, X_val.shape, y_train.shape, y_val.shape)\n",
    "    # Определяем уникальные классы\n",
    "    classes = np.array(sorted(set(y_train.values)))\n",
    "    # # Рассчитываем веса для каждого класса\n",
    "    class_weights = compute_class_weight('balanced', classes=classes, y=y_train)\n",
    "    print(f'class_weights: {class_weights}')\n",
    "    fold_cv_model = CatBoostClassifier(iterations=iterations,\n",
    "                    eval_metric = \"AUC\", \n",
    "                    early_stopping_rounds=200, \n",
    "                    ignored_features=ignore_features,\n",
    "                    cat_features=category_features,\n",
    "                    random_state=53,\n",
    "                    task_type=\"GPU\",\n",
    "                    devices='0',\n",
    "#                     class_weights=class_weights,\n",
    "    #                 learning_rate = 0.1,\n",
    "                    )        \n",
    "    # Обучаем модель на данных фолда\n",
    "    fold_cv_model.fit(X_train, y_train,\n",
    "              eval_set=(X_val, y_val), \n",
    "              plot=True, \n",
    "              verbose=False,\n",
    "             )\n",
    "    test_df[f'cv_predict_{target_col}'] = fold_cv_model.predict(test_df[features_columns])\n",
    "    if len(set(y_train.values)) == 2:\n",
    "        test_df[f'cv_predict_proba_{target_col}'] = fold_cv_model.predict_proba(test_df[features_columns])[:,1]\n",
    "        \n",
    "    plot_feature_importance(fold_cv_model.get_feature_importance(), (fold_cv_model.feature_names_),f'Model', top_n=30)\n",
    "    plt.show()\n",
    "    \n",
    "    return train_df, test_df\n",
    "\n",
    "oof_agg_train_users_df, oof_agg_test_users_df = calc_cv_target(\n",
    "                oof_agg_train_users_df, \n",
    "                oof_agg_test_users_df, \n",
    "                features_columns=features_columns + ['cv_predict_age'],\n",
    "                category_features=category_features,\n",
    "                target_col='sex',\n",
    "                iterations=1000)\n",
    "oof_agg_train_users_df.shape, oof_agg_test_users_df.shape"
   ]
  },
  {
   "cell_type": "code",
   "execution_count": null,
   "id": "3a42c16d",
   "metadata": {
    "scrolled": true
   },
   "outputs": [],
   "source": [
    "oof_agg_train_users_df, oof_agg_test_users_df = calc_cv_target(\n",
    "                oof_agg_train_users_df, \n",
    "                oof_agg_test_users_df, \n",
    "                features_columns=features_columns + ['cv_predict_age', 'cv_predict_sex', 'cv_predict_proba_sex'],\n",
    "                category_features=category_features + ['cv_predict_sex'],\n",
    "                target_col='age_class')\n",
    "oof_agg_train_users_df.shape, oof_agg_test_users_df.shape"
   ]
  },
  {
   "cell_type": "markdown",
   "id": "b30b0caa",
   "metadata": {},
   "source": [
    "# Модель по полу"
   ]
  },
  {
   "cell_type": "code",
   "execution_count": null,
   "id": "70680b62",
   "metadata": {},
   "outputs": [],
   "source": [
    "bad_client = np.array(tmp_gr_size[tmp_gr_size <= 0].index)\n",
    "len(bad_client)"
   ]
  },
  {
   "cell_type": "code",
   "execution_count": null,
   "id": "72129482",
   "metadata": {},
   "outputs": [],
   "source": [
    "# Всегда выделяем данные под валидацию, чтобы бустинг модель могла сделать ранний останов + подбор гиперпараметров\n",
    "X_train, X_val, y_train, y_val = train_test_split(\n",
    "                                oof_agg_train_users_df[features_columns + ['cv_predict_age', 'cv_predict_sex', 'cv_predict_proba_sex', 'cv_predict_age_class']], \n",
    "                                oof_agg_train_users_df['sex'], \n",
    "                                test_size=0.05, \n",
    "                                random_state=53)\n",
    "\n",
    "X_train.shape, X_val.shape, y_train.shape, y_val.shape"
   ]
  },
  {
   "cell_type": "code",
   "execution_count": null,
   "id": "41d753b5",
   "metadata": {},
   "outputs": [],
   "source": [
    "\n",
    "# Всегда выделяем данные под валидацию, чтобы бустинг модель могла сделать ранний останов + подбор гиперпараметров\n",
    "X_train, X_val, y_train, y_val = train_test_split(\n",
    "                                oof_agg_train_users_df[~oof_agg_train_users_df['viewer_uid'].isin(bad_client)][features_columns + ['cv_predict_age', 'cv_predict_sex', 'cv_predict_proba_sex', 'cv_predict_age_class']], \n",
    "                                oof_agg_train_users_df[~oof_agg_train_users_df['viewer_uid'].isin(bad_client)]['sex'], \n",
    "                                test_size=0.05, \n",
    "                                random_state=53)\n",
    "\n",
    "X_train.shape, X_val.shape, y_train.shape, y_val.shape"
   ]
  },
  {
   "cell_type": "code",
   "execution_count": null,
   "id": "b356c2fc",
   "metadata": {},
   "outputs": [],
   "source": [
    "# # Определяем уникальные классы\n",
    "# classes = np.array(sorted(set(y_train.values)))\n",
    "# # # Рассчитываем веса для каждого класса\n",
    "# class_weights = compute_class_weight('balanced', classes=classes, y=y_train)\n",
    "# print(f'class_weights: {class_weights}')"
   ]
  },
  {
   "cell_type": "code",
   "execution_count": null,
   "id": "ebdf613b",
   "metadata": {},
   "outputs": [],
   "source": [
    "%%time\n",
    "# 0.8743853569\n",
    "# 0.8743678331\n",
    "sex_model = CatBoostClassifier(iterations=5000,\n",
    "                # eval_metric = \"AUC\", \n",
    "                eval_metric = \"TotalF1\", \n",
    "                early_stopping_rounds=200, \n",
    "                ignored_features=ignore_features,\n",
    "                cat_features=category_features + ['cv_predict_sex'],\n",
    "                # od_type = \"Iter\",\n",
    "                # od_wait = 200,                               \n",
    "                random_state=53,\n",
    "                task_type=\"GPU\",\n",
    "                devices='0',\n",
    "#                 learning_rate = 0.1,\n",
    "#                 class_weights=class_weights,\n",
    "                )\n",
    "# Обучаем модель\n",
    "sex_model.fit(X_train, y_train,\n",
    "          eval_set=(X_val, y_val), \n",
    "          plot=True, \n",
    "          verbose=False,\n",
    "#           sample_weight = zero_X_train_df['sample_weights'],\n",
    "         )\n",
    "# plot_feature_importance(model_by_cat_level_zero.get_feature_importance(), (features_columns_one_model ),f'Zero Model', top_n=50)\n",
    "# plt.show()\n"
   ]
  },
  {
   "cell_type": "code",
   "execution_count": null,
   "id": "166142c0",
   "metadata": {},
   "outputs": [],
   "source": [
    "plot_feature_importance(sex_model.get_feature_importance(), (sex_model.feature_names_),f'Model', top_n=30)\n",
    "plt.show()\n"
   ]
  },
  {
   "cell_type": "markdown",
   "id": "25ead3f7",
   "metadata": {},
   "source": [
    "# Модель по возрасту"
   ]
  },
  {
   "cell_type": "code",
   "execution_count": null,
   "id": "19bfd5c6",
   "metadata": {},
   "outputs": [],
   "source": [
    "# # data.groupo['viewer_uid']\n",
    "# oof_agg_train_users_df.to_parquet(f'oof_agg_train_users_df_v5.parquet')\n",
    "# oof_agg_test_users_df.to_parquet(f'oof_agg_test_users_df_v5.parquet')\n",
    "\n",
    "# tmp_gr_size = data.groupby(by ='viewer_uid')['rutube_video_id'].size()\n",
    "# tmp_gr_size[tmp_gr_size<10].hist(bins=30)\n",
    "bad_client = np.array(tmp_gr_size[tmp_gr_size <= 0].index)\n",
    "len(bad_client)"
   ]
  },
  {
   "cell_type": "code",
   "execution_count": null,
   "id": "e542cc34",
   "metadata": {},
   "outputs": [],
   "source": [
    "# data[data['viewer_uid'] == 10000005]\n",
    "# tmp_feats = features_columns + ['cv_predict_age', 'cv_predict_sex', 'cv_predict_proba_sex', 'cv_predict_age_class']\n",
    "# 'logistic_oof_sex_class' in tmp_feats\n",
    "# 'logistic_oof_sex_class' in ignore_features"
   ]
  },
  {
   "cell_type": "code",
   "execution_count": null,
   "id": "eda6039a",
   "metadata": {},
   "outputs": [],
   "source": [
    "# Всегда выделяем данные под валидацию, чтобы бустинг модель могла сделать ранний останов + подбор гиперпараметров\n",
    "X_train, X_val, y_train, y_val = train_test_split(\n",
    "                                oof_agg_train_users_df[features_columns + ['cv_predict_age', 'cv_predict_sex', 'cv_predict_proba_sex', 'cv_predict_age_class']], \n",
    "                                oof_agg_train_users_df['age_class'], \n",
    "                                test_size=0.05, \n",
    "                                random_state=53)\n",
    "\n",
    "X_train.shape, X_val.shape, y_train.shape, y_val.shape"
   ]
  },
  {
   "cell_type": "code",
   "execution_count": null,
   "id": "7f904050",
   "metadata": {},
   "outputs": [],
   "source": [
    "\n",
    "# Всегда выделяем данные под валидацию, чтобы бустинг модель могла сделать ранний останов + подбор гиперпараметров\n",
    "X_train, X_val, y_train, y_val = train_test_split(\n",
    "                                oof_agg_train_users_df[~oof_agg_train_users_df['viewer_uid'].isin(bad_client)][features_columns + ['cv_predict_age', 'cv_predict_sex', 'cv_predict_proba_sex', 'cv_predict_age_class']], \n",
    "                                oof_agg_train_users_df[~oof_agg_train_users_df['viewer_uid'].isin(bad_client)]['age_class'], \n",
    "                                test_size=0.05, \n",
    "                                random_state=53)\n",
    "\n",
    "X_train.shape, X_val.shape, y_train.shape, y_val.shape"
   ]
  },
  {
   "cell_type": "code",
   "execution_count": null,
   "id": "b4a33668",
   "metadata": {},
   "outputs": [],
   "source": [
    "%%time\n",
    "# 0.84528045\n",
    "# 0.8435153\n",
    "# 0.84483157\n",
    "# 0.84483157\n",
    "# 0.84712152\n",
    "# 0.8574841\n",
    "# 0.86434165\n",
    "model_age_group = CatBoostClassifier(iterations=5000,\n",
    "#                 eval_metric = \"TotalF1\", \n",
    "                eval_metric = \"AUC\", \n",
    "                early_stopping_rounds=200, \n",
    "                ignored_features=ignore_features,\n",
    "                cat_features=category_features + ['cv_predict_sex'],\n",
    "                # od_type = \"Iter\",\n",
    "                # od_wait = 200,                               \n",
    "                random_state=53,\n",
    "                task_type=\"GPU\",\n",
    "                devices='0',\n",
    "#                 learning_rate = 0.1,\n",
    "                loss_function='MultiClass',\n",
    "#                 loss_function='MultiClass'\n",
    "#                 class_weights=class_weights,\n",
    "                )\n",
    "# Обучаем модель\n",
    "model_age_group.fit(X_train, y_train,\n",
    "          eval_set=(X_val, y_val), \n",
    "          plot=True, \n",
    "          verbose=False,\n",
    "#           sample_weight = zero_X_train_df['sample_weights'],\n",
    "         )\n"
   ]
  },
  {
   "cell_type": "code",
   "execution_count": null,
   "id": "a46b6942",
   "metadata": {},
   "outputs": [],
   "source": [
    "# threshold = 0.5\n",
    "# sex_class_predict_proba = model.predict_proba(agg_test_users_df[model.feature_names_])\n",
    "# sex_class_predict = np.where(sex_class_predict_proba[:,1] >= threshold, 'male', 'female')\n",
    "sex_class_predict = sex_model.predict(oof_agg_test_users_df[sex_model.feature_names_])\n",
    "sex_class_target = oof_agg_test_users_df['sex'].values\n",
    "\n",
    "age_class_predict = model_age_group.predict(oof_agg_test_users_df[model_age_group.feature_names_] )\n",
    "# age_class_predict = ages_combine_df['predicted_class'].values\n",
    "age_class_target = oof_agg_test_users_df['age_class'].values"
   ]
  },
  {
   "cell_type": "code",
   "execution_count": null,
   "id": "2af956e7",
   "metadata": {},
   "outputs": [],
   "source": [
    "# Взвешенный классы class_weights\n",
    "f1_weighted = f1_score(age_class_target, age_class_predict, average='weighted')\n",
    "accuracy = accuracy_score(sex_class_target, sex_class_predict)\n",
    "\n",
    "final_score = 0.7 * f1_weighted + 0.3 * accuracy\n",
    "print(f'Weighted F1 = {f1_weighted:.4f} \\nAccuracy = {accuracy:.4f} \\nFinal Score = {final_score:.4f}')"
   ]
  },
  {
   "cell_type": "code",
   "execution_count": null,
   "id": "a7cc3bdc",
   "metadata": {},
   "outputs": [],
   "source": []
  },
  {
   "cell_type": "code",
   "execution_count": 679,
   "id": "9b1f3a15",
   "metadata": {},
   "outputs": [
    {
     "name": "stdout",
     "output_type": "stream",
     "text": [
      "Weighted F1 = 0.4885 \n",
      "Accuracy = 0.7623 \n",
      "Final Score = 0.5706\n"
     ]
    }
   ],
   "source": [
    "# Взвешенный классы class_weights\n",
    "f1_weighted = f1_score(age_class_target, age_class_predict, average='weighted')\n",
    "accuracy = accuracy_score(sex_class_target, sex_class_predict)\n",
    "\n",
    "final_score = 0.7 * f1_weighted + 0.3 * accuracy\n",
    "print(f'Weighted F1 = {f1_weighted:.4f} \\nAccuracy = {accuracy:.4f} \\nFinal Score = {final_score:.4f}')"
   ]
  },
  {
   "cell_type": "code",
   "execution_count": 634,
   "id": "4825ea9e",
   "metadata": {},
   "outputs": [
    {
     "name": "stdout",
     "output_type": "stream",
     "text": [
      "Weighted F1 = 0.4869 \n",
      "Accuracy = 0.7624 \n",
      "Final Score = 0.5696\n"
     ]
    }
   ],
   "source": [
    "# Взвешенный классы class_weights\n",
    "f1_weighted = f1_score(age_class_target, age_class_predict, average='weighted')\n",
    "accuracy = accuracy_score(sex_class_target, sex_class_predict)\n",
    "\n",
    "final_score = 0.7 * f1_weighted + 0.3 * accuracy\n",
    "print(f'Weighted F1 = {f1_weighted:.4f} \\nAccuracy = {accuracy:.4f} \\nFinal Score = {final_score:.4f}')"
   ]
  },
  {
   "cell_type": "code",
   "execution_count": null,
   "id": "e01392df",
   "metadata": {},
   "outputs": [],
   "source": []
  },
  {
   "cell_type": "code",
   "execution_count": 574,
   "id": "a03773cb",
   "metadata": {},
   "outputs": [
    {
     "name": "stdout",
     "output_type": "stream",
     "text": [
      "Weighted F1 = 0.4879 \n",
      "Accuracy = 0.7616 \n",
      "Final Score = 0.5700\n"
     ]
    }
   ],
   "source": [
    "# Взвешенный классы class_weights\n",
    "f1_weighted = f1_score(age_class_target, age_class_predict, average='weighted')\n",
    "accuracy = accuracy_score(sex_class_target, sex_class_predict)\n",
    "\n",
    "final_score = 0.7 * f1_weighted + 0.3 * accuracy\n",
    "print(f'Weighted F1 = {f1_weighted:.4f} \\nAccuracy = {accuracy:.4f} \\nFinal Score = {final_score:.4f}')"
   ]
  },
  {
   "cell_type": "code",
   "execution_count": 528,
   "id": "a247bbc9",
   "metadata": {},
   "outputs": [
    {
     "name": "stdout",
     "output_type": "stream",
     "text": [
      "Weighted F1 = 0.4829 \n",
      "Accuracy = 0.7616 \n",
      "Final Score = 0.5665\n"
     ]
    }
   ],
   "source": [
    "# Взвешенный классы class_weights\n",
    "f1_weighted = f1_score(age_class_target, age_class_predict, average='weighted')\n",
    "accuracy = accuracy_score(sex_class_target, sex_class_predict)\n",
    "\n",
    "final_score = 0.7 * f1_weighted + 0.3 * accuracy\n",
    "print(f'Weighted F1 = {f1_weighted:.4f} \\nAccuracy = {accuracy:.4f} \\nFinal Score = {final_score:.4f}')"
   ]
  },
  {
   "cell_type": "code",
   "execution_count": null,
   "id": "988f3d83",
   "metadata": {},
   "outputs": [],
   "source": []
  },
  {
   "cell_type": "code",
   "execution_count": 658,
   "id": "224a0732",
   "metadata": {},
   "outputs": [
    {
     "name": "stdout",
     "output_type": "stream",
     "text": [
      "video_id_nunique\n"
     ]
    },
    {
     "data": {
      "image/png": "[encoded data removed]",
      "text/plain": [
       "<Figure size 1000x600 with 1 Axes>"
      ]
     },
     "metadata": {},
     "output_type": "display_data"
    }
   ],
   "source": [
    "predict_sex = sex_model.predict(oof_agg_test_users_df[features_columns + ['cv_predict_age', 'cv_predict_sex', 'cv_predict_proba_sex', 'cv_predict_age_class']])\n",
    "predict_age_class = model_age_group.predict(oof_agg_test_users_df[features_columns + ['cv_predict_age', 'cv_predict_sex', 'cv_predict_proba_sex', 'cv_predict_age_class']])\n",
    "\n",
    "\n",
    "count_columns = ['video_id_nunique', 'author_id_nunique', 'day_name_nunique',\n",
    "          'category_mode', 'duration_category_mode',\n",
    "            'frequency_author_id_mean','sex', 'age_class'\n",
    "]\n",
    "\n",
    "test_users = oof_agg_test_users_df[count_columns].copy()  # Make a copy to avoid the warning\n",
    "\n",
    "# Use .loc to set the values\n",
    "test_users.loc[:, 'predict_sex'] = predict_sex\n",
    "test_users.loc[:, 'predict_age_class'] = predict_age_class\n",
    "\n",
    "\n",
    "# Список колонок, по которым будем строить графики\n",
    "columns = [\n",
    "    'video_id_nunique', #'author_id_nunique', \n",
    "    # # 'day_name_nunique',\n",
    "    # # 'category_mode', #'duration_category_mode',\n",
    "           ]\n",
    "\n",
    "# Цикл по каждой колонке\n",
    "for col in columns:\n",
    "    print(col)\n",
    "    # Группировка данных по текущей колонке\n",
    "    grouped = test_users.groupby(col)\n",
    "    \n",
    "    # Списки для хранения результатов\n",
    "    unique_values = []\n",
    "    sex_accuracy = []\n",
    "    age_accuracy = []\n",
    "    \n",
    "#     # Цикл по каждой группе\n",
    "#     for value, group in grouped:\n",
    "#         # Сохраним текущее значение уникального признака\n",
    "#         unique_values.append(value)\n",
    "        \n",
    "#         # Вычислим F1-score для sex\n",
    "#         sex_acc = f1_score(group['sex'], group['predict_sex'], average='weighted')\n",
    "#         sex_accuracy.append(sex_acc)\n",
    "        \n",
    "#         # Вычислим F1-score для age_class\n",
    "#         age_acc = f1_score(group['age_class'], group['predict_age_class'], average='weighted')\n",
    "#         age_accuracy.append(age_acc)\n",
    "    \n",
    "    count=0\n",
    "    # Цикл по каждой группе\n",
    "    for value, group in grouped:\n",
    "        # Сохраним текущее значение уникального признака\n",
    "        unique_values.append(value)\n",
    "        \n",
    "        # Вычислим F1-score для sex\n",
    "        sex_acc = f1_score(group['sex'], group['predict_sex'], average='weighted')\n",
    "        sex_accuracy.append(sex_acc)\n",
    "        \n",
    "        # Вычислим F1-score для age_class\n",
    "        age_acc = f1_score(group['age_class'], group['predict_age_class'], average='weighted')\n",
    "        age_accuracy.append(age_acc)\n",
    "        count += 1\n",
    "        if count == 20:\n",
    "            break\n",
    "            \n",
    "    # Построение графиков\n",
    "    fig, ax = plt.subplots(figsize=(10, 6))\n",
    "\n",
    "    # Установка фона графика в холодный серый цвет\n",
    "    plt.gcf().set_facecolor('#777e7f')  # Светло-серый цвет фона\n",
    "    # Установка фона самого поля графика в холодный серый цвет\n",
    "    ax.set_facecolor('#777e7f')  # Более темный серый для области внутри осей    \n",
    "    # График для точности по полу (sex)\n",
    "#     plt.plot(unique_values, sex_accuracy, label=f'f1_score (sex) - {col}', marker='o', color='red')\n",
    "    plt.plot(unique_values, sex_accuracy, label=f'f1_score (sex) - {col}', marker='o', color='#6699ff')\n",
    "    \n",
    "    \n",
    "    # График для точности по возрастной группе (age_class)\n",
    "    plt.plot(unique_values, age_accuracy, label=f'f1_score (age_class) - {col}', marker='o', color='#33cccc')\n",
    "    \n",
    "    # Настройки графика\n",
    "#     r'\\textcolor{red}{Today} '\n",
    "#     plt.xlabel(r'\\textcolor{red}{col}')\n",
    "    plt.xlabel(f'Unique {col}').set_color(\"#66ccff\")\n",
    "    plt.ylabel('F1 Score').set_color(\"#66ccff\")\n",
    "    plt.title(f'F1 Score vs {col}').set_color(\"#66ccff\")\n",
    "    plt.legend()\n",
    "    plt.grid(True)\n",
    "    \n",
    "    # Показать график\n",
    "    plt.show()\n"
   ]
  },
  {
   "cell_type": "code",
   "execution_count": null,
   "id": "558f064c",
   "metadata": {},
   "outputs": [],
   "source": []
  }
 ],
 "metadata": {
  "kernelspec": {
   "display_name": "Python 3 (ipykernel)",
   "language": "python",
   "name": "python3"
  },
  "language_info": {
   "codemirror_mode": {
    "name": "ipython",
    "version": 3
   },
   "file_extension": ".py",
   "mimetype": "text/x-python",
   "name": "python",
   "nbconvert_exporter": "python",
   "pygments_lexer": "ipython3",
   "version": "3.11.3"
  },
  "toc": {
   "base_numbering": 1,
   "nav_menu": {},
   "number_sections": true,
   "sideBar": true,
   "skip_h1_title": false,
   "title_cell": "Table of Contents",
   "title_sidebar": "Contents",
   "toc_cell": false,
   "toc_position": {},
   "toc_section_display": true,
   "toc_window_display": false
  }
 },
 "nbformat": 4,
 "nbformat_minor": 5
}
