{
 "cells": [
  {
   "cell_type": "code",
   "execution_count": 1,
   "id": "9d19c613-570a-48d5-aceb-4e259aa1302f",
   "metadata": {},
   "outputs": [
    {
     "name": "stdout",
     "output_type": "stream",
     "text": [
      "WARNING:tensorflow:From C:\\Users\\Profit77\\AppData\\Roaming\\Python\\Python311\\site-packages\\keras\\src\\losses.py:2976: The name tf.losses.sparse_softmax_cross_entropy is deprecated. Please use tf.compat.v1.losses.sparse_softmax_cross_entropy instead.\n",
      "\n"
     ]
    }
   ],
   "source": [
    "import pandas as pd\n",
    "import numpy as np\n",
    "import torch\n",
    "# import torch.nn as nn\n",
    "# import torch.optim as optim\n",
    "# from torchvision import models, transforms\n",
    "# import matplotlib.pyplot as plt\n",
    "# from sklearn.metrics import precision_recall_curve, auc\n",
    "# import numpy as np\n",
    "# import matplotlib.pyplot as plt\n",
    "from tqdm.auto import tqdm\n",
    "# from sklearn.metrics import f1_score\n",
    "from sentence_transformers import SentenceTransformer, SimilarityFunction\n",
    "# from sklearn.metrics import roc_auc_score\n",
    "import re\n",
    "# import os\n",
    "# import warnings\n",
    "# warnings.filterwarnings(\"ignore\")"
   ]
  },
  {
   "cell_type": "code",
   "execution_count": 2,
   "id": "9f2740d0",
   "metadata": {},
   "outputs": [],
   "source": [
    "tqdm.pandas()"
   ]
  },
  {
   "cell_type": "markdown",
   "id": "6364e847",
   "metadata": {},
   "source": [
    "# Загружаем данные "
   ]
  },
  {
   "cell_type": "code",
   "execution_count": 3,
   "id": "c9a72cbe",
   "metadata": {},
   "outputs": [
    {
     "name": "stdout",
     "output_type": "stream",
     "text": [
      "CPU times: total: 1min 25s\n",
      "Wall time: 1min 45s\n"
     ]
    },
    {
     "data": {
      "text/plain": [
       "((1759616, 9), (481480, 5), (180012, 4), (8439624, 9))"
      ]
     },
     "execution_count": 3,
     "metadata": {},
     "output_type": "execute_result"
    }
   ],
   "source": [
    "%%time\n",
    "path = \"datasets/\" # Ваш путь до директории с данными /path/to/data/\n",
    "data = pd.read_csv(path + 'train_events.csv')\n",
    "video = pd.read_csv(path + 'video_info_v2.csv')\n",
    "targets = pd.read_csv(path + 'train_targets.csv')\n",
    "all_events = pd.read_csv(path + 'all_events.csv')\n",
    "\n",
    "# заполянем пропуски самыми частотными\n",
    "freq_ua_client_type = all_events['ua_client_type'].value_counts().index[0]\n",
    "freq_ua_client_name = all_events['ua_client_name'].value_counts().index[0]\n",
    "all_events['ua_client_type'] = all_events['ua_client_type'].fillna(freq_ua_client_type)\n",
    "all_events['ua_client_name'] = all_events['ua_client_name'].fillna(freq_ua_client_name)\n",
    "all_events['ua_os'] = all_events['ua_os'].fillna('vpn')\n",
    "data['ua_os'] = data['ua_os'].fillna('vpn')\n",
    "\n",
    "# Преобразование даты и время в тип даты\n",
    "all_events['event_timestamp'] = pd.to_datetime(all_events['event_timestamp'])\n",
    "data['event_timestamp'] = pd.to_datetime(data['event_timestamp'])\n",
    "\n",
    "# продолжительность видео duration - указан в миллисекнудах, а просмотр человеком (total_watchtime) в секндах приводим к одному виду\n",
    "# video['duration'] = video['duration']/1000\n",
    "all_events['total_watchtime'] = all_events['total_watchtime'] * 1000\n",
    "data['total_watchtime'] = data['total_watchtime'] * 1000\n",
    "\n",
    "data.shape, video.shape, targets.shape, all_events.shape"
   ]
  },
  {
   "cell_type": "code",
   "execution_count": 5,
   "id": "222f0245",
   "metadata": {},
   "outputs": [
    {
     "name": "stdout",
     "output_type": "stream",
     "text": [
      "CPU times: total: 2.53 s\n",
      "Wall time: 3.13 s\n"
     ]
    },
    {
     "data": {
      "text/plain": [
       "((1581685, 16), (177931, 16))"
      ]
     },
     "execution_count": 5,
     "metadata": {},
     "output_type": "execute_result"
    }
   ],
   "source": [
    "%%time\n",
    "from sklearn.model_selection import train_test_split\n",
    "\n",
    "train_users_df, test_users_df = train_test_split(targets, stratify=(targets[['age_class', 'sex']]), test_size=0.1)\n",
    "# train_users_df.shape, test_users_df.shape\n",
    "\n",
    "data_video = data.merge(video, on='rutube_video_id')\n",
    "train_users_df = data_video.merge(train_users_df, on='viewer_uid')\n",
    "test_users_df = data_video.merge(test_users_df, on='viewer_uid')\n",
    "del data_video\n",
    "\n",
    "train_users_df.shape, test_users_df.shape"
   ]
  },
  {
   "cell_type": "code",
   "execution_count": 9,
   "id": "9db92eab",
   "metadata": {
    "scrolled": true
   },
   "outputs": [
    {
     "data": {
      "text/plain": [
       "<pandas.core.groupby.generic.DataFrameGroupBy object at 0x0000018B932FFB50>"
      ]
     },
     "execution_count": 9,
     "metadata": {},
     "output_type": "execute_result"
    }
   ],
   "source": [
    "test_users_df.groupby(by='viewer_uid')[['category', 'title']]"
   ]
  },
  {
   "cell_type": "code",
   "execution_count": 24,
   "id": "db4eee07",
   "metadata": {},
   "outputs": [
    {
     "name": "stdout",
     "output_type": "stream",
     "text": [
      "CPU times: total: 3.83 s\n",
      "Wall time: 3.8 s\n"
     ]
    },
    {
     "data": {
      "text/plain": [
       "((18002,), (18002,), (162010,), (162010,))"
      ]
     },
     "execution_count": 24,
     "metadata": {},
     "output_type": "execute_result"
    }
   ],
   "source": [
    "%%time\n",
    "category_test_users_df = test_users_df.groupby(by='viewer_uid')['category'].agg(lambda col: ' '.join(col))\n",
    "title_test_users_df = test_users_df.groupby(by='viewer_uid')['title'].agg(lambda col: ' '.join(col))\n",
    "\n",
    "category_train_users_df = train_users_df.groupby(by='viewer_uid')['category'].agg(lambda col: ' '.join(col))\n",
    "title_train_users_df = train_users_df.groupby(by='viewer_uid')['title'].agg(lambda col: ' '.join(col))\n",
    "\n",
    "\n",
    "category_test_users_df.shape, title_test_users_df.shape, category_train_users_df.shape, title_train_users_df.shape"
   ]
  },
  {
   "cell_type": "code",
   "execution_count": 31,
   "id": "f8bb1877",
   "metadata": {
    "scrolled": true
   },
   "outputs": [
    {
     "name": "stdout",
     "output_type": "stream",
     "text": [
      "CPU times: total: 109 ms\n",
      "Wall time: 108 ms\n"
     ]
    },
    {
     "data": {
      "text/plain": [
       "((18002, 5), (18002, 5), (162010, 5), (162010, 5))"
      ]
     },
     "execution_count": 31,
     "metadata": {},
     "output_type": "execute_result"
    }
   ],
   "source": [
    "%%time\n",
    "category_test_users_df = category_test_users_df.reset_index().merge(targets, on='viewer_uid')\n",
    "title_test_users_df = title_test_users_df.reset_index().merge(targets, on='viewer_uid')\n",
    "category_train_users_df = category_train_users_df.reset_index().merge(targets, on='viewer_uid')\n",
    "title_train_users_df = title_train_users_df.reset_index().merge(targets, on='viewer_uid')\n",
    "\n",
    "category_test_users_df.shape, title_test_users_df.shape, category_train_users_df.shape, title_train_users_df.shape"
   ]
  },
  {
   "cell_type": "code",
   "execution_count": 32,
   "id": "c159e0cd",
   "metadata": {},
   "outputs": [],
   "source": [
    "# Функция для чистки текста\n",
    "def clean_text(text):\n",
    "    if pd.isna(text):\n",
    "        return ''\n",
    "    # оставляем только слова и цифры\n",
    "    pattern = r\"[a-zA-Z]+|[\\d]+|[а-яА-Я]+\"\n",
    "    text = \" \".join(re.findall(pattern, text.lower()))\n",
    "    return text"
   ]
  },
  {
   "cell_type": "code",
   "execution_count": 36,
   "id": "b5c8c4b7",
   "metadata": {},
   "outputs": [
    {
     "data": {
      "text/plain": [
       "((18002, 6), (18002, 6), (162010, 6), (162010, 6))"
      ]
     },
     "execution_count": 36,
     "metadata": {},
     "output_type": "execute_result"
    }
   ],
   "source": [
    "%%time\n",
    "category_test_users_df['clear_category'] = category_test_users_df['category'].apply(lambda x: clean_text(x))\n",
    "category_train_users_df['clear_category'] = category_train_users_df['category'].apply(lambda x: clean_text(x))\n",
    "title_test_users_df['clear_title'] = title_test_users_df['title'].apply(lambda x: clean_text(x))\n",
    "title_train_users_df['clear_title'] = title_train_users_df['title'].apply(lambda x: clean_text(x))\n",
    "\n",
    "category_test_users_df.shape, title_test_users_df.shape, category_train_users_df.shape, title_train_users_df.shape"
   ]
  },
  {
   "cell_type": "code",
   "execution_count": 40,
   "id": "e2b9bd51",
   "metadata": {},
   "outputs": [
    {
     "data": {
      "text/plain": [
       "((18002, 7), (18002, 7), (162010, 7), (162010, 7))"
      ]
     },
     "execution_count": 40,
     "metadata": {},
     "output_type": "execute_result"
    }
   ],
   "source": [
    "category_test_users_df['sex_class'] = np.where(category_test_users_df['sex'] == 'male', 1, 0)\n",
    "category_train_users_df['sex_class'] = np.where(category_train_users_df['sex'] == 'male', 1, 0)\n",
    "title_test_users_df['sex_class'] = np.where(title_test_users_df['sex'] == 'male', 1, 0)\n",
    "title_train_users_df['sex_class'] = np.where(title_train_users_df['sex'] == 'male', 1, 0)\n",
    "\n",
    "category_test_users_df.shape, title_test_users_df.shape, category_train_users_df.shape, title_train_users_df.shape"
   ]
  },
  {
   "cell_type": "code",
   "execution_count": 185,
   "id": "82d1618d",
   "metadata": {},
   "outputs": [
    {
     "name": "stderr",
     "output_type": "stream",
     "text": [
      "No sentence-transformers model found with name FacebookAI/xlm-roberta-large. Creating a new one with mean pooling.\n"
     ]
    },
    {
     "data": {
      "text/plain": [
       "SentenceTransformer(\n",
       "  (0): Transformer({'max_seq_length': 512, 'do_lower_case': False}) with Transformer model: XLMRobertaModel \n",
       "  (1): Pooling({'word_embedding_dimension': 1024, 'pooling_mode_cls_token': False, 'pooling_mode_mean_tokens': True, 'pooling_mode_max_tokens': False, 'pooling_mode_mean_sqrt_len_tokens': False, 'pooling_mode_weightedmean_tokens': False, 'pooling_mode_lasttoken': False, 'include_prompt': True})\n",
       ")"
      ]
     },
     "execution_count": 185,
     "metadata": {},
     "output_type": "execute_result"
    }
   ],
   "source": [
    "encode_model = SentenceTransformer('FacebookAI/xlm-roberta-large')\n",
    "encode_model"
   ]
  },
  {
   "cell_type": "code",
   "execution_count": null,
   "id": "052ab8de",
   "metadata": {},
   "outputs": [],
   "source": []
  },
  {
   "cell_type": "markdown",
   "id": "52521329",
   "metadata": {},
   "source": [
    "# Logistic Regression"
   ]
  },
  {
   "cell_type": "code",
   "execution_count": 49,
   "id": "f978a95f",
   "metadata": {},
   "outputs": [
    {
     "data": {
      "application/vnd.jupyter.widget-view+json": {
       "model_id": "b749aa6c56cf43b18a13101956f3d8c4",
       "version_major": 2,
       "version_minor": 0
      },
      "text/plain": [
       "  0%|          | 0/18002 [00:00<?, ?it/s]"
      ]
     },
     "metadata": {},
     "output_type": "display_data"
    },
    {
     "data": {
      "application/vnd.jupyter.widget-view+json": {
       "model_id": "dd67aad906794ef4965337d1df3be650",
       "version_major": 2,
       "version_minor": 0
      },
      "text/plain": [
       "  0%|          | 0/162010 [00:00<?, ?it/s]"
      ]
     },
     "metadata": {},
     "output_type": "display_data"
    },
    {
     "name": "stdout",
     "output_type": "stream",
     "text": [
      "CPU times: total: 1h 21min 26s\n",
      "Wall time: 1h 25min 26s\n"
     ]
    },
    {
     "data": {
      "text/plain": [
       "((18002, 8), (162010, 8))"
      ]
     },
     "execution_count": 49,
     "metadata": {},
     "output_type": "execute_result"
    }
   ],
   "source": [
    "%%time\n",
    "title_test_users_df['embeddings'] = title_test_users_df['clear_title'].progress_apply(encode_model.encode)\n",
    "title_train_users_df['embeddings'] = title_train_users_df['clear_title'].progress_apply(encode_model.encode)\n",
    "\n",
    "title_test_users_df.shape, title_train_users_df.shape"
   ]
  },
  {
   "cell_type": "code",
   "execution_count": 50,
   "id": "c6429755",
   "metadata": {},
   "outputs": [
    {
     "name": "stdout",
     "output_type": "stream",
     "text": [
      "CPU times: total: 9.06 s\n",
      "Wall time: 11.7 s\n"
     ]
    },
    {
     "data": {
      "text/plain": [
       "((18002, 8), (162010, 8))"
      ]
     },
     "execution_count": 50,
     "metadata": {},
     "output_type": "execute_result"
    }
   ],
   "source": [
    "# %%time\n",
    "# title_test_users_df.to_parquet('title_test_users_df.parquet')\n",
    "# title_train_users_df.to_parquet('title_train_users_df.parquet')\n",
    "# title_test_users_df.shape, title_train_users_df.shape"
   ]
  },
  {
   "cell_type": "code",
   "execution_count": 64,
   "id": "9b0f5969",
   "metadata": {},
   "outputs": [
    {
     "data": {
      "text/plain": [
       "(180012, 8)"
      ]
     },
     "execution_count": 64,
     "metadata": {},
     "output_type": "execute_result"
    }
   ],
   "source": [
    "union_title_users_df = pd.concat([title_test_users_df, title_train_users_df])\n",
    "union_title_users_df.shape"
   ]
  },
  {
   "cell_type": "code",
   "execution_count": 186,
   "id": "08d39529",
   "metadata": {},
   "outputs": [
    {
     "data": {
      "application/vnd.jupyter.widget-view+json": {
       "model_id": "399d5373346d4c1bb390a377c96d6789",
       "version_major": 2,
       "version_minor": 0
      },
      "text/plain": [
       "  0%|          | 0/18002 [00:00<?, ?it/s]"
      ]
     },
     "metadata": {},
     "output_type": "display_data"
    },
    {
     "data": {
      "application/vnd.jupyter.widget-view+json": {
       "model_id": "01aa8147f2e44c54b289eed0f447aa2d",
       "version_major": 2,
       "version_minor": 0
      },
      "text/plain": [
       "  0%|          | 0/162010 [00:00<?, ?it/s]"
      ]
     },
     "metadata": {},
     "output_type": "display_data"
    },
    {
     "name": "stdout",
     "output_type": "stream",
     "text": [
      "CPU times: total: 56min 42s\n",
      "Wall time: 57min 45s\n"
     ]
    },
    {
     "data": {
      "text/plain": [
       "((18002, 8), (162010, 8))"
      ]
     },
     "execution_count": 186,
     "metadata": {},
     "output_type": "execute_result"
    }
   ],
   "source": [
    "%%time\n",
    "category_test_users_df['embeddings'] = category_test_users_df['clear_category'].progress_apply(encode_model.encode)\n",
    "category_train_users_df['embeddings'] = category_train_users_df['clear_category'].progress_apply(encode_model.encode)\n",
    "\n",
    "category_test_users_df.shape, category_train_users_df.shape"
   ]
  },
  {
   "cell_type": "code",
   "execution_count": 187,
   "id": "67662e8b",
   "metadata": {},
   "outputs": [
    {
     "name": "stdout",
     "output_type": "stream",
     "text": [
      "CPU times: total: 6.42 s\n",
      "Wall time: 6.48 s\n"
     ]
    },
    {
     "data": {
      "text/plain": [
       "((18002, 8), (162010, 8))"
      ]
     },
     "execution_count": 187,
     "metadata": {},
     "output_type": "execute_result"
    }
   ],
   "source": [
    "# %%time\n",
    "# category_test_users_df.to_parquet('category_test_users_df.parquet')\n",
    "# category_train_users_df.to_parquet('category_train_users_df.parquet')\n",
    "# category_test_users_df.shape, category_train_users_df.shape"
   ]
  },
  {
   "cell_type": "code",
   "execution_count": 188,
   "id": "7374ac7c",
   "metadata": {},
   "outputs": [
    {
     "data": {
      "text/plain": [
       "(180012, 8)"
      ]
     },
     "execution_count": 188,
     "metadata": {},
     "output_type": "execute_result"
    }
   ],
   "source": [
    "union_category_users_df = pd.concat([category_test_users_df, category_train_users_df])\n",
    "union_category_users_df.shape"
   ]
  },
  {
   "cell_type": "markdown",
   "id": "3140a20e",
   "metadata": {},
   "source": [
    "# Генерируем фичи на базе title"
   ]
  },
  {
   "cell_type": "markdown",
   "id": "26b5ca91",
   "metadata": {},
   "source": [
    "### Берем отложенную выборку для локлаьного тесте"
   ]
  },
  {
   "cell_type": "code",
   "execution_count": 65,
   "id": "ea540578",
   "metadata": {},
   "outputs": [
    {
     "data": {
      "text/plain": [
       "((1505791, 2), (170274, 2))"
      ]
     },
     "execution_count": 65,
     "metadata": {},
     "output_type": "execute_result"
    }
   ],
   "source": [
    "train_users_df = pd.read_csv('train_viewer_uid_v2.csv')\n",
    "test_users_df = pd.read_csv('test_viewer_uid_v2.csv')\n",
    "\n",
    "train_users_df.shape, test_users_df.shape"
   ]
  },
  {
   "cell_type": "code",
   "execution_count": 128,
   "id": "25771bad",
   "metadata": {},
   "outputs": [
    {
     "data": {
      "text/plain": [
       "((155197, 8), (17221, 8))"
      ]
     },
     "execution_count": 128,
     "metadata": {},
     "output_type": "execute_result"
    }
   ],
   "source": [
    "TRAIN_title_users_df = union_title_users_df[union_title_users_df['viewer_uid'].isin(train_users_df['viewer_uid'])]\n",
    "TEST_title_users_df = union_title_users_df[union_title_users_df['viewer_uid'].isin(test_users_df['viewer_uid'])]\n",
    "\n",
    "TRAIN_title_users_df.shape, TEST_title_users_df.shape"
   ]
  },
  {
   "cell_type": "code",
   "execution_count": null,
   "id": "809c9cb5",
   "metadata": {},
   "outputs": [],
   "source": [
    "\n"
   ]
  },
  {
   "cell_type": "markdown",
   "id": "a57f4629",
   "metadata": {},
   "source": [
    "# Генерируем фичи через кроссвалидацию на базе названий просмотрренных видео"
   ]
  },
  {
   "cell_type": "code",
   "execution_count": 133,
   "id": "ac5f5cdf",
   "metadata": {
    "scrolled": true
   },
   "outputs": [
    {
     "data": {
      "application/vnd.jupyter.widget-view+json": {
       "model_id": "27f6955059864fa3adfb710e2b478774",
       "version_major": 2,
       "version_minor": 0
      },
      "text/plain": [
       "0it [00:00, ?it/s]"
      ]
     },
     "metadata": {},
     "output_type": "display_data"
    },
    {
     "name": "stderr",
     "output_type": "stream",
     "text": [
      "C:\\Users\\Profit77\\AppData\\Roaming\\Python\\Python311\\site-packages\\sklearn\\linear_model\\_logistic.py:469: ConvergenceWarning: lbfgs failed to converge (status=1):\n",
      "STOP: TOTAL NO. of ITERATIONS REACHED LIMIT.\n",
      "\n",
      "Increase the number of iterations (max_iter) or scale the data as shown in:\n",
      "    https://scikit-learn.org/stable/modules/preprocessing.html\n",
      "Please also refer to the documentation for alternative solver options:\n",
      "    https://scikit-learn.org/stable/modules/linear_model.html#logistic-regression\n",
      "  n_iter_i = _check_optimize_result(\n",
      "<timed exec>:38: SettingWithCopyWarning: \n",
      "A value is trying to be set on a copy of a slice from a DataFrame.\n",
      "Try using .loc[row_indexer,col_indexer] = value instead\n",
      "\n",
      "See the caveats in the documentation: https://pandas.pydata.org/pandas-docs/stable/user_guide/indexing.html#returning-a-view-versus-a-copy\n"
     ]
    },
    {
     "name": "stdout",
     "output_type": "stream",
     "text": [
      "Logistic Regression Accuracy: 0.7368556701030928\n",
      "Logistic Regression Precision: 0.7246999935827504\n",
      "Logistic Regression Recall: 0.7443807263858677\n",
      "Logistic Regression f1_score: 0.7344085322234506\n"
     ]
    },
    {
     "name": "stderr",
     "output_type": "stream",
     "text": [
      "C:\\Users\\Profit77\\AppData\\Roaming\\Python\\Python311\\site-packages\\sklearn\\linear_model\\_logistic.py:469: ConvergenceWarning: lbfgs failed to converge (status=1):\n",
      "STOP: TOTAL NO. of ITERATIONS REACHED LIMIT.\n",
      "\n",
      "Increase the number of iterations (max_iter) or scale the data as shown in:\n",
      "    https://scikit-learn.org/stable/modules/preprocessing.html\n",
      "Please also refer to the documentation for alternative solver options:\n",
      "    https://scikit-learn.org/stable/modules/linear_model.html#logistic-regression\n",
      "  n_iter_i = _check_optimize_result(\n",
      "<timed exec>:38: SettingWithCopyWarning: \n",
      "A value is trying to be set on a copy of a slice from a DataFrame.\n",
      "Try using .loc[row_indexer,col_indexer] = value instead\n",
      "\n",
      "See the caveats in the documentation: https://pandas.pydata.org/pandas-docs/stable/user_guide/indexing.html#returning-a-view-versus-a-copy\n"
     ]
    },
    {
     "name": "stdout",
     "output_type": "stream",
     "text": [
      "Logistic Regression Accuracy: 0.7376288659793815\n",
      "Logistic Regression Precision: 0.7249791893449447\n",
      "Logistic Regression Recall: 0.7462922681431678\n",
      "Logistic Regression f1_score: 0.7354813563726127\n"
     ]
    },
    {
     "name": "stderr",
     "output_type": "stream",
     "text": [
      "C:\\Users\\Profit77\\AppData\\Roaming\\Python\\Python311\\site-packages\\sklearn\\linear_model\\_logistic.py:469: ConvergenceWarning: lbfgs failed to converge (status=1):\n",
      "STOP: TOTAL NO. of ITERATIONS REACHED LIMIT.\n",
      "\n",
      "Increase the number of iterations (max_iter) or scale the data as shown in:\n",
      "    https://scikit-learn.org/stable/modules/preprocessing.html\n",
      "Please also refer to the documentation for alternative solver options:\n",
      "    https://scikit-learn.org/stable/modules/linear_model.html#logistic-regression\n",
      "  n_iter_i = _check_optimize_result(\n",
      "<timed exec>:38: SettingWithCopyWarning: \n",
      "A value is trying to be set on a copy of a slice from a DataFrame.\n",
      "Try using .loc[row_indexer,col_indexer] = value instead\n",
      "\n",
      "See the caveats in the documentation: https://pandas.pydata.org/pandas-docs/stable/user_guide/indexing.html#returning-a-view-versus-a-copy\n"
     ]
    },
    {
     "name": "stdout",
     "output_type": "stream",
     "text": [
      "Logistic Regression Accuracy: 0.739682335126776\n",
      "Logistic Regression Precision: 0.7225814552074832\n",
      "Logistic Regression Recall: 0.7586843319491134\n",
      "Logistic Regression f1_score: 0.7401929260450161\n"
     ]
    },
    {
     "name": "stderr",
     "output_type": "stream",
     "text": [
      "C:\\Users\\Profit77\\AppData\\Roaming\\Python\\Python311\\site-packages\\sklearn\\linear_model\\_logistic.py:469: ConvergenceWarning: lbfgs failed to converge (status=1):\n",
      "STOP: TOTAL NO. of ITERATIONS REACHED LIMIT.\n",
      "\n",
      "Increase the number of iterations (max_iter) or scale the data as shown in:\n",
      "    https://scikit-learn.org/stable/modules/preprocessing.html\n",
      "Please also refer to the documentation for alternative solver options:\n",
      "    https://scikit-learn.org/stable/modules/linear_model.html#logistic-regression\n",
      "  n_iter_i = _check_optimize_result(\n",
      "<timed exec>:38: SettingWithCopyWarning: \n",
      "A value is trying to be set on a copy of a slice from a DataFrame.\n",
      "Try using .loc[row_indexer,col_indexer] = value instead\n",
      "\n",
      "See the caveats in the documentation: https://pandas.pydata.org/pandas-docs/stable/user_guide/indexing.html#returning-a-view-versus-a-copy\n"
     ]
    },
    {
     "name": "stdout",
     "output_type": "stream",
     "text": [
      "Logistic Regression Accuracy: 0.7446760527078836\n",
      "Logistic Regression Precision: 0.7320056352459017\n",
      "Logistic Regression Recall: 0.753477028541296\n",
      "Logistic Regression f1_score: 0.7425861564946243\n"
     ]
    },
    {
     "name": "stderr",
     "output_type": "stream",
     "text": [
      "C:\\Users\\Profit77\\AppData\\Roaming\\Python\\Python311\\site-packages\\sklearn\\linear_model\\_logistic.py:469: ConvergenceWarning: lbfgs failed to converge (status=1):\n",
      "STOP: TOTAL NO. of ITERATIONS REACHED LIMIT.\n",
      "\n",
      "Increase the number of iterations (max_iter) or scale the data as shown in:\n",
      "    https://scikit-learn.org/stable/modules/preprocessing.html\n",
      "Please also refer to the documentation for alternative solver options:\n",
      "    https://scikit-learn.org/stable/modules/linear_model.html#logistic-regression\n",
      "  n_iter_i = _check_optimize_result(\n"
     ]
    },
    {
     "name": "stdout",
     "output_type": "stream",
     "text": [
      "Logistic Regression Accuracy: 0.7409710364380295\n",
      "Logistic Regression Precision: 0.7264642358023122\n",
      "Logistic Regression Recall: 0.75385629531971\n",
      "Logistic Regression f1_score: 0.7399068322981367\n",
      "CPU times: total: 6min 55s\n",
      "Wall time: 46.5 s\n"
     ]
    },
    {
     "name": "stderr",
     "output_type": "stream",
     "text": [
      "<timed exec>:38: SettingWithCopyWarning: \n",
      "A value is trying to be set on a copy of a slice from a DataFrame.\n",
      "Try using .loc[row_indexer,col_indexer] = value instead\n",
      "\n",
      "See the caveats in the documentation: https://pandas.pydata.org/pandas-docs/stable/user_guide/indexing.html#returning-a-view-versus-a-copy\n",
      "<timed exec>:45: SettingWithCopyWarning: \n",
      "A value is trying to be set on a copy of a slice from a DataFrame.\n",
      "Try using .loc[row_indexer,col_indexer] = value instead\n",
      "\n",
      "See the caveats in the documentation: https://pandas.pydata.org/pandas-docs/stable/user_guide/indexing.html#returning-a-view-versus-a-copy\n",
      "<timed exec>:48: SettingWithCopyWarning: \n",
      "A value is trying to be set on a copy of a slice from a DataFrame.\n",
      "Try using .loc[row_indexer,col_indexer] = value instead\n",
      "\n",
      "See the caveats in the documentation: https://pandas.pydata.org/pandas-docs/stable/user_guide/indexing.html#returning-a-view-versus-a-copy\n"
     ]
    },
    {
     "data": {
      "text/plain": [
       "((155197, 9), (17221, 9))"
      ]
     },
     "execution_count": 133,
     "metadata": {},
     "output_type": "execute_result"
    }
   ],
   "source": [
    "%%time\n",
    "# Генерируем фичи через кроссвалидацию на базе названий просмотрренных видео\n",
    "import numpy as np\n",
    "import pandas as pd\n",
    "from sklearn.model_selection import StratifiedKFold\n",
    "from sklearn.linear_model import LogisticRegression\n",
    "from sklearn.metrics import accuracy_score\n",
    "\n",
    "def calc_cv_target(TRAIN_title_users_df:pd.DataFrame, TEST_title_users_df:pd.DataFrame, target_col:str = 'sex_class'):\n",
    "    \n",
    "    X = TRAIN_title_users_df['embeddings'].values\n",
    "    y = TRAIN_title_users_df[target_col].values\n",
    "    TEST_X = TEST_title_users_df['embeddings'].values\n",
    "\n",
    "    # Количество фолдов для кросс-валидации\n",
    "    n_folds = 5\n",
    "\n",
    "    # Создаем объект StratifiedKFold для кросс-валидации\n",
    "    skf = StratifiedKFold(n_splits=n_folds, shuffle=True, random_state=53)\n",
    "\n",
    "    # Создаем массив для хранения OOF предсказаний\n",
    "    oof_predictions = np.zeros(len(X))\n",
    "\n",
    "    # Модель логистической регрессии\n",
    "    model = LogisticRegression()\n",
    "\n",
    "    # Проходим по каждому фолду\n",
    "    for i, (train_idx, valid_idx) in enumerate(tqdm(skf.split(X, y))):\n",
    "        X_train, X_valid = X[train_idx], X[valid_idx]\n",
    "        y_train, y_valid = y[train_idx], y[valid_idx]\n",
    "\n",
    "        # Обучаем модель на данных фолда\n",
    "        model.fit(list(X_train), list(y_train))\n",
    "\n",
    "        # Предсказываем вероятности для валидационных данных (берем вероятность класса 1)\n",
    "        predicted_proba = model.predict_proba(list(X_valid))[:, 1]\n",
    "        predicted = model.predict(list(X_valid))\n",
    "        oof_predictions[valid_idx] = predicted_proba\n",
    "        TEST_title_users_df[f'logistic_oof_{target_col}_{i}'] = model.predict_proba(list(TEST_X))[:, 1]\n",
    "        print(\"Logistic Regression Accuracy:\",metrics.accuracy_score(y_valid, predicted))\n",
    "        print(\"Logistic Regression Precision:\",metrics.precision_score(y_valid, predicted))\n",
    "        print(\"Logistic Regression Recall:\",metrics.recall_score(y_valid, predicted))\n",
    "        print(\"Logistic Regression f1_score:\",metrics.f1_score(y_valid, predicted))    \n",
    "\n",
    "    # Теперь oof_predictions содержит предсказания для всех данных, которые можно использовать как новую фичу\n",
    "    TRAIN_title_users_df[f'logistic_oof_{target_col}'] = oof_predictions\n",
    "\n",
    "    temp_cols = [f'logistic_oof_{target_col}_{i}' for i in range(n_folds)]\n",
    "    TEST_title_users_df[f'logistic_oof_{target_col}'] = TEST_title_users_df[temp_cols].mean(axis=1)\n",
    "    TEST_title_users_df = TEST_title_users_df.drop(columns=temp_cols, errors='ignore')\n",
    "\n",
    "    return TRAIN_title_users_df, TEST_title_users_df \n",
    "\n",
    "TRAIN_title_users_df, TEST_title_users_df = calc_cv_target(TRAIN_title_users_df, TEST_title_users_df, target_col='sex_class')\n",
    "TRAIN_title_users_df.shape, TEST_title_users_df.shape"
   ]
  },
  {
   "cell_type": "code",
   "execution_count": 179,
   "id": "6472fb9b",
   "metadata": {
    "scrolled": true
   },
   "outputs": [
    {
     "data": {
      "application/vnd.jupyter.widget-view+json": {
       "model_id": "9c5c6e886da34999ad1e20eadbecff96",
       "version_major": 2,
       "version_minor": 0
      },
      "text/plain": [
       "0it [00:00, ?it/s]"
      ]
     },
     "metadata": {},
     "output_type": "display_data"
    },
    {
     "name": "stdout",
     "output_type": "stream",
     "text": [
      "Logistic Regression MAE: 6.630822678140758\n",
      "Logistic Regression MAE: 6.659621556456556\n",
      "Logistic Regression MAE: 6.659132083915067\n",
      "Logistic Regression MAE: 6.657421340101746\n",
      "Logistic Regression MAE: 6.665511999975495\n",
      "CPU times: total: 54.4 s\n",
      "Wall time: 19.1 s\n"
     ]
    },
    {
     "name": "stderr",
     "output_type": "stream",
     "text": [
      "<timed exec>:42: SettingWithCopyWarning: \n",
      "A value is trying to be set on a copy of a slice from a DataFrame.\n",
      "Try using .loc[row_indexer,col_indexer] = value instead\n",
      "\n",
      "See the caveats in the documentation: https://pandas.pydata.org/pandas-docs/stable/user_guide/indexing.html#returning-a-view-versus-a-copy\n"
     ]
    },
    {
     "data": {
      "text/plain": [
       "((155197, 10), (17221, 10))"
      ]
     },
     "execution_count": 179,
     "metadata": {},
     "output_type": "execute_result"
    }
   ],
   "source": [
    "%%time\n",
    "# Генерируем фичи через кроссвалидацию на базе названий просмотрренных видео\n",
    "import numpy as np\n",
    "import pandas as pd\n",
    "from sklearn.model_selection import StratifiedKFold\n",
    "from sklearn.linear_model import LogisticRegression\n",
    "from sklearn.metrics import accuracy_score\n",
    "from sklearn.linear_model import LinearRegression\n",
    "\n",
    "def calc_cv_target_regr(TRAIN_title_users_df:pd.DataFrame, TEST_title_users_df:pd.DataFrame, target_col:str = 'age'):\n",
    "    \n",
    "    X = TRAIN_title_users_df['embeddings'].values\n",
    "    y = TRAIN_title_users_df[target_col].values\n",
    "    TEST_X = TEST_title_users_df['embeddings'].values\n",
    "\n",
    "    # Количество фолдов для кросс-валидации\n",
    "    n_folds = 5\n",
    "\n",
    "    # Создаем объект StratifiedKFold для кросс-валидации\n",
    "    skf = StratifiedKFold(n_splits=n_folds, shuffle=True, random_state=53)\n",
    "\n",
    "    # Создаем массив для хранения OOF предсказаний\n",
    "    oof_predictions = np.zeros(len(X))\n",
    "\n",
    "    # Модель линейной  регрессии\n",
    "    model = LinearRegression()\n",
    "\n",
    "    # Проходим по каждому фолду\n",
    "    for i, (train_idx, valid_idx) in enumerate(tqdm(skf.split(X, y))):\n",
    "        X_train, X_valid = X[train_idx], X[valid_idx]\n",
    "        y_train, y_valid = y[train_idx], y[valid_idx]\n",
    "\n",
    "        # Обучаем модель на данных фолда\n",
    "        model.fit(list(X_train), list(y_train))\n",
    "\n",
    "        # Предсказываем возраст\n",
    "        predicted = model.predict(list(X_valid))\n",
    "        oof_predictions[valid_idx] = predicted\n",
    "        TEST_title_users_df[f'linear_oof_{target_col}_{i}'] = model.predict(list(TEST_X))\n",
    "        print(\"Logistic Regression MAE:\",metrics.mean_absolute_error(y_valid, predicted))\n",
    "\n",
    "    # Теперь oof_predictions содержит предсказания для всех данных, которые можно использовать как новую фичу\n",
    "    TRAIN_title_users_df[f'linear_oof_{target_col}'] = oof_predictions\n",
    "\n",
    "    temp_cols = [f'linear_oof_{target_col}_{i}' for i in range(n_folds)]\n",
    "    TEST_title_users_df[f'linear_oof_{target_col}'] = TEST_title_users_df[temp_cols].mean(axis=1)\n",
    "    TEST_title_users_df = TEST_title_users_df.drop(columns=temp_cols, errors='ignore')\n",
    "\n",
    "    return TRAIN_title_users_df, TEST_title_users_df \n",
    "\n",
    "TRAIN_title_users_df, TEST_title_users_df = calc_cv_target_regr(TRAIN_title_users_df, TEST_title_users_df, target_col='age')\n",
    "TRAIN_title_users_df.shape, TEST_title_users_df.shape"
   ]
  },
  {
   "cell_type": "code",
   "execution_count": 182,
   "id": "af48bfd6",
   "metadata": {
    "scrolled": true
   },
   "outputs": [
    {
     "name": "stdout",
     "output_type": "stream",
     "text": [
      "CPU times: total: 344 ms\n",
      "Wall time: 343 ms\n"
     ]
    }
   ],
   "source": [
    "%%time\n",
    "# Сохраняем фичи полученные через кросс валидацию\n",
    "TRAIN_title_users_df[['viewer_uid', 'logistic_oof_sex_class', 'linear_oof_age']].to_csv(f'cv_TRAIN_title_users_df.csv')\n",
    "TEST_title_users_df[['viewer_uid', 'logistic_oof_sex_class', 'linear_oof_age']].to_csv(f'cv_TEST_title_users_df.csv')"
   ]
  },
  {
   "cell_type": "code",
   "execution_count": 189,
   "id": "c1243314",
   "metadata": {},
   "outputs": [
    {
     "data": {
      "text/plain": [
       "((155197, 10), (17221, 10))"
      ]
     },
     "execution_count": 189,
     "metadata": {},
     "output_type": "execute_result"
    }
   ],
   "source": [
    "TRAIN_title_users_df.shape, TEST_title_users_df.shape"
   ]
  },
  {
   "cell_type": "markdown",
   "id": "03e5cf1c",
   "metadata": {},
   "source": [
    "# Генерируем фичи на базе category"
   ]
  },
  {
   "cell_type": "code",
   "execution_count": 192,
   "id": "594fad5d",
   "metadata": {},
   "outputs": [
    {
     "data": {
      "text/plain": [
       "((155197, 8), (17221, 8))"
      ]
     },
     "execution_count": 192,
     "metadata": {},
     "output_type": "execute_result"
    }
   ],
   "source": [
    "TRAIN_category_users_df = union_category_users_df[union_category_users_df['viewer_uid'].isin(train_users_df['viewer_uid'])]\n",
    "TEST_category_users_df = union_category_users_df[union_category_users_df['viewer_uid'].isin(test_users_df['viewer_uid'])]\n",
    "\n",
    "TRAIN_category_users_df.shape, TEST_category_users_df.shape"
   ]
  },
  {
   "cell_type": "code",
   "execution_count": 193,
   "id": "a9df0060",
   "metadata": {},
   "outputs": [
    {
     "data": {
      "application/vnd.jupyter.widget-view+json": {
       "model_id": "7739fb33f34341aaa36c0a4dcb387d4d",
       "version_major": 2,
       "version_minor": 0
      },
      "text/plain": [
       "0it [00:00, ?it/s]"
      ]
     },
     "metadata": {},
     "output_type": "display_data"
    },
    {
     "name": "stderr",
     "output_type": "stream",
     "text": [
      "C:\\Users\\Profit77\\AppData\\Roaming\\Python\\Python311\\site-packages\\sklearn\\linear_model\\_logistic.py:469: ConvergenceWarning: lbfgs failed to converge (status=1):\n",
      "STOP: TOTAL NO. of ITERATIONS REACHED LIMIT.\n",
      "\n",
      "Increase the number of iterations (max_iter) or scale the data as shown in:\n",
      "    https://scikit-learn.org/stable/modules/preprocessing.html\n",
      "Please also refer to the documentation for alternative solver options:\n",
      "    https://scikit-learn.org/stable/modules/linear_model.html#logistic-regression\n",
      "  n_iter_i = _check_optimize_result(\n",
      "<timed exec>:38: SettingWithCopyWarning: \n",
      "A value is trying to be set on a copy of a slice from a DataFrame.\n",
      "Try using .loc[row_indexer,col_indexer] = value instead\n",
      "\n",
      "See the caveats in the documentation: https://pandas.pydata.org/pandas-docs/stable/user_guide/indexing.html#returning-a-view-versus-a-copy\n"
     ]
    },
    {
     "name": "stdout",
     "output_type": "stream",
     "text": [
      "Logistic Regression Accuracy: 0.7104703608247422\n",
      "Logistic Regression Precision: 0.6964671495742788\n",
      "Logistic Regression Recall: 0.722496869026432\n",
      "Logistic Regression f1_score: 0.7092432624801838\n"
     ]
    },
    {
     "name": "stderr",
     "output_type": "stream",
     "text": [
      "C:\\Users\\Profit77\\AppData\\Roaming\\Python\\Python311\\site-packages\\sklearn\\linear_model\\_logistic.py:469: ConvergenceWarning: lbfgs failed to converge (status=1):\n",
      "STOP: TOTAL NO. of ITERATIONS REACHED LIMIT.\n",
      "\n",
      "Increase the number of iterations (max_iter) or scale the data as shown in:\n",
      "    https://scikit-learn.org/stable/modules/preprocessing.html\n",
      "Please also refer to the documentation for alternative solver options:\n",
      "    https://scikit-learn.org/stable/modules/linear_model.html#logistic-regression\n",
      "  n_iter_i = _check_optimize_result(\n",
      "<timed exec>:38: SettingWithCopyWarning: \n",
      "A value is trying to be set on a copy of a slice from a DataFrame.\n",
      "Try using .loc[row_indexer,col_indexer] = value instead\n",
      "\n",
      "See the caveats in the documentation: https://pandas.pydata.org/pandas-docs/stable/user_guide/indexing.html#returning-a-view-versus-a-copy\n"
     ]
    },
    {
     "name": "stdout",
     "output_type": "stream",
     "text": [
      "Logistic Regression Accuracy: 0.712048969072165\n",
      "Logistic Regression Precision: 0.6921511807139774\n",
      "Logistic Regression Recall: 0.7399644057741744\n",
      "Logistic Regression f1_score: 0.715259636827015\n"
     ]
    },
    {
     "name": "stderr",
     "output_type": "stream",
     "text": [
      "C:\\Users\\Profit77\\AppData\\Roaming\\Python\\Python311\\site-packages\\sklearn\\linear_model\\_logistic.py:469: ConvergenceWarning: lbfgs failed to converge (status=1):\n",
      "STOP: TOTAL NO. of ITERATIONS REACHED LIMIT.\n",
      "\n",
      "Increase the number of iterations (max_iter) or scale the data as shown in:\n",
      "    https://scikit-learn.org/stable/modules/preprocessing.html\n",
      "Please also refer to the documentation for alternative solver options:\n",
      "    https://scikit-learn.org/stable/modules/linear_model.html#logistic-regression\n",
      "  n_iter_i = _check_optimize_result(\n",
      "<timed exec>:38: SettingWithCopyWarning: \n",
      "A value is trying to be set on a copy of a slice from a DataFrame.\n",
      "Try using .loc[row_indexer,col_indexer] = value instead\n",
      "\n",
      "See the caveats in the documentation: https://pandas.pydata.org/pandas-docs/stable/user_guide/indexing.html#returning-a-view-versus-a-copy\n"
     ]
    },
    {
     "name": "stdout",
     "output_type": "stream",
     "text": [
      "Logistic Regression Accuracy: 0.7092689841811914\n",
      "Logistic Regression Precision: 0.6963772282921219\n",
      "Logistic Regression Recall: 0.7184101245797904\n",
      "Logistic Regression f1_score: 0.7072221140743624\n"
     ]
    },
    {
     "name": "stderr",
     "output_type": "stream",
     "text": [
      "C:\\Users\\Profit77\\AppData\\Roaming\\Python\\Python311\\site-packages\\sklearn\\linear_model\\_logistic.py:469: ConvergenceWarning: lbfgs failed to converge (status=1):\n",
      "STOP: TOTAL NO. of ITERATIONS REACHED LIMIT.\n",
      "\n",
      "Increase the number of iterations (max_iter) or scale the data as shown in:\n",
      "    https://scikit-learn.org/stable/modules/preprocessing.html\n",
      "Please also refer to the documentation for alternative solver options:\n",
      "    https://scikit-learn.org/stable/modules/linear_model.html#logistic-regression\n",
      "  n_iter_i = _check_optimize_result(\n",
      "<timed exec>:38: SettingWithCopyWarning: \n",
      "A value is trying to be set on a copy of a slice from a DataFrame.\n",
      "Try using .loc[row_indexer,col_indexer] = value instead\n",
      "\n",
      "See the caveats in the documentation: https://pandas.pydata.org/pandas-docs/stable/user_guide/indexing.html#returning-a-view-versus-a-copy\n"
     ]
    },
    {
     "name": "stdout",
     "output_type": "stream",
     "text": [
      "Logistic Regression Accuracy: 0.7133606108444215\n",
      "Logistic Regression Precision: 0.6954273610765014\n",
      "Logistic Regression Recall: 0.7358117460945225\n",
      "Logistic Regression f1_score: 0.7150498030298178\n"
     ]
    },
    {
     "name": "stderr",
     "output_type": "stream",
     "text": [
      "C:\\Users\\Profit77\\AppData\\Roaming\\Python\\Python311\\site-packages\\sklearn\\linear_model\\_logistic.py:469: ConvergenceWarning: lbfgs failed to converge (status=1):\n",
      "STOP: TOTAL NO. of ITERATIONS REACHED LIMIT.\n",
      "\n",
      "Increase the number of iterations (max_iter) or scale the data as shown in:\n",
      "    https://scikit-learn.org/stable/modules/preprocessing.html\n",
      "Please also refer to the documentation for alternative solver options:\n",
      "    https://scikit-learn.org/stable/modules/linear_model.html#logistic-regression\n",
      "  n_iter_i = _check_optimize_result(\n"
     ]
    },
    {
     "name": "stdout",
     "output_type": "stream",
     "text": [
      "Logistic Regression Accuracy: 0.7123940848609813\n",
      "Logistic Regression Precision: 0.7002373468471358\n",
      "Logistic Regression Recall: 0.7195781147000659\n",
      "Logistic Regression f1_score: 0.709776000520173\n",
      "CPU times: total: 6min 36s\n",
      "Wall time: 44.5 s\n"
     ]
    },
    {
     "name": "stderr",
     "output_type": "stream",
     "text": [
      "<timed exec>:38: SettingWithCopyWarning: \n",
      "A value is trying to be set on a copy of a slice from a DataFrame.\n",
      "Try using .loc[row_indexer,col_indexer] = value instead\n",
      "\n",
      "See the caveats in the documentation: https://pandas.pydata.org/pandas-docs/stable/user_guide/indexing.html#returning-a-view-versus-a-copy\n",
      "<timed exec>:45: SettingWithCopyWarning: \n",
      "A value is trying to be set on a copy of a slice from a DataFrame.\n",
      "Try using .loc[row_indexer,col_indexer] = value instead\n",
      "\n",
      "See the caveats in the documentation: https://pandas.pydata.org/pandas-docs/stable/user_guide/indexing.html#returning-a-view-versus-a-copy\n",
      "<timed exec>:48: SettingWithCopyWarning: \n",
      "A value is trying to be set on a copy of a slice from a DataFrame.\n",
      "Try using .loc[row_indexer,col_indexer] = value instead\n",
      "\n",
      "See the caveats in the documentation: https://pandas.pydata.org/pandas-docs/stable/user_guide/indexing.html#returning-a-view-versus-a-copy\n"
     ]
    },
    {
     "data": {
      "text/plain": [
       "((155197, 9), (17221, 9))"
      ]
     },
     "execution_count": 193,
     "metadata": {},
     "output_type": "execute_result"
    }
   ],
   "source": [
    "%%time\n",
    "# Генерируем фичи через кроссвалидацию на базе названий просмотрренных видео\n",
    "import numpy as np\n",
    "import pandas as pd\n",
    "from sklearn.model_selection import StratifiedKFold\n",
    "from sklearn.linear_model import LogisticRegression\n",
    "from sklearn.metrics import accuracy_score\n",
    "\n",
    "def calc_cv_target(TRAIN_category_users_df:pd.DataFrame, TEST_category_users_df:pd.DataFrame, target_col:str = 'sex_class'):\n",
    "    \n",
    "    X = TRAIN_category_users_df['embeddings'].values\n",
    "    y = TRAIN_category_users_df[target_col].values\n",
    "    TEST_X = TEST_category_users_df['embeddings'].values\n",
    "\n",
    "    # Количество фолдов для кросс-валидации\n",
    "    n_folds = 5\n",
    "\n",
    "    # Создаем объект StratifiedKFold для кросс-валидации\n",
    "    skf = StratifiedKFold(n_splits=n_folds, shuffle=True, random_state=53)\n",
    "\n",
    "    # Создаем массив для хранения OOF предсказаний\n",
    "    oof_predictions = np.zeros(len(X))\n",
    "\n",
    "    # Модель логистической регрессии\n",
    "    model = LogisticRegression()\n",
    "\n",
    "    # Проходим по каждому фолду\n",
    "    for i, (train_idx, valid_idx) in enumerate(tqdm(skf.split(X, y))):\n",
    "        X_train, X_valid = X[train_idx], X[valid_idx]\n",
    "        y_train, y_valid = y[train_idx], y[valid_idx]\n",
    "\n",
    "        # Обучаем модель на данных фолда\n",
    "        model.fit(list(X_train), list(y_train))\n",
    "\n",
    "        # Предсказываем вероятности для валидационных данных (берем вероятность класса 1)\n",
    "        predicted_proba = model.predict_proba(list(X_valid))[:, 1]\n",
    "        predicted = model.predict(list(X_valid))\n",
    "        oof_predictions[valid_idx] = predicted_proba\n",
    "        TEST_category_users_df[f'logistic_oof_cat_{target_col}_{i}'] = model.predict_proba(list(TEST_X))[:, 1]\n",
    "        print(\"Logistic Regression Accuracy:\",metrics.accuracy_score(y_valid, predicted))\n",
    "        print(\"Logistic Regression Precision:\",metrics.precision_score(y_valid, predicted))\n",
    "        print(\"Logistic Regression Recall:\",metrics.recall_score(y_valid, predicted))\n",
    "        print(\"Logistic Regression f1_score:\",metrics.f1_score(y_valid, predicted))    \n",
    "\n",
    "    # Теперь oof_predictions содержит предсказания для всех данных, которые можно использовать как новую фичу\n",
    "    TRAIN_category_users_df[f'logistic_oof_cat_{target_col}'] = oof_predictions\n",
    "\n",
    "    temp_cols = [f'logistic_oof_cat_{target_col}_{i}' for i in range(n_folds)]\n",
    "    TEST_category_users_df[f'logistic_oof_cat_{target_col}'] = TEST_category_users_df[temp_cols].mean(axis=1)\n",
    "    TEST_category_users_df = TEST_category_users_df.drop(columns=temp_cols, errors='ignore')\n",
    "\n",
    "    return TRAIN_category_users_df, TEST_category_users_df \n",
    "\n",
    "TRAIN_category_users_df, TEST_category_users_df = calc_cv_target(TRAIN_category_users_df, TEST_category_users_df, target_col='sex_class')\n",
    "TRAIN_category_users_df.shape, TEST_category_users_df.shape"
   ]
  },
  {
   "cell_type": "code",
   "execution_count": 194,
   "id": "8fbd3860",
   "metadata": {},
   "outputs": [
    {
     "data": {
      "application/vnd.jupyter.widget-view+json": {
       "model_id": "9ae0f341137442ceb3ae2e5b6e0ba765",
       "version_major": 2,
       "version_minor": 0
      },
      "text/plain": [
       "0it [00:00, ?it/s]"
      ]
     },
     "metadata": {},
     "output_type": "display_data"
    },
    {
     "name": "stdout",
     "output_type": "stream",
     "text": [
      "Logistic Regression MAE: 6.941442029623641\n",
      "Logistic Regression MAE: 6.923612660968427\n",
      "Logistic Regression MAE: 6.942991416238241\n",
      "Logistic Regression MAE: 6.944619879702163\n",
      "Logistic Regression MAE: 6.938686427445121\n",
      "CPU times: total: 52.2 s\n",
      "Wall time: 18.6 s\n"
     ]
    },
    {
     "name": "stderr",
     "output_type": "stream",
     "text": [
      "<timed exec>:42: SettingWithCopyWarning: \n",
      "A value is trying to be set on a copy of a slice from a DataFrame.\n",
      "Try using .loc[row_indexer,col_indexer] = value instead\n",
      "\n",
      "See the caveats in the documentation: https://pandas.pydata.org/pandas-docs/stable/user_guide/indexing.html#returning-a-view-versus-a-copy\n"
     ]
    },
    {
     "data": {
      "text/plain": [
       "((155197, 10), (17221, 10))"
      ]
     },
     "execution_count": 194,
     "metadata": {},
     "output_type": "execute_result"
    }
   ],
   "source": [
    "%%time\n",
    "# Генерируем фичи через кроссвалидацию на базе названий просмотрренных видео\n",
    "import numpy as np\n",
    "import pandas as pd\n",
    "from sklearn.model_selection import StratifiedKFold\n",
    "from sklearn.linear_model import LogisticRegression\n",
    "from sklearn.metrics import accuracy_score\n",
    "from sklearn.linear_model import LinearRegression\n",
    "\n",
    "def calc_cv_target_regr(TRAIN_category_users_df:pd.DataFrame, TEST_category_users_df:pd.DataFrame, target_col:str = 'age'):\n",
    "    \n",
    "    X = TRAIN_category_users_df['embeddings'].values\n",
    "    y = TRAIN_category_users_df[target_col].values\n",
    "    TEST_X = TEST_category_users_df['embeddings'].values\n",
    "\n",
    "    # Количество фолдов для кросс-валидации\n",
    "    n_folds = 5\n",
    "\n",
    "    # Создаем объект StratifiedKFold для кросс-валидации\n",
    "    skf = StratifiedKFold(n_splits=n_folds, shuffle=True, random_state=53)\n",
    "\n",
    "    # Создаем массив для хранения OOF предсказаний\n",
    "    oof_predictions = np.zeros(len(X))\n",
    "\n",
    "    # Модель линейной  регрессии\n",
    "    model = LinearRegression()\n",
    "\n",
    "    # Проходим по каждому фолду\n",
    "    for i, (train_idx, valid_idx) in enumerate(tqdm(skf.split(X, y))):\n",
    "        X_train, X_valid = X[train_idx], X[valid_idx]\n",
    "        y_train, y_valid = y[train_idx], y[valid_idx]\n",
    "\n",
    "        # Обучаем модель на данных фолда\n",
    "        model.fit(list(X_train), list(y_train))\n",
    "\n",
    "        # Предсказываем возраст\n",
    "        predicted = model.predict(list(X_valid))\n",
    "        oof_predictions[valid_idx] = predicted\n",
    "        TEST_category_users_df[f'linear_oof_cat_{target_col}_{i}'] = model.predict(list(TEST_X))\n",
    "        print(\"Logistic Regression MAE:\",metrics.mean_absolute_error(y_valid, predicted))\n",
    "\n",
    "    # Теперь oof_predictions содержит предсказания для всех данных, которые можно использовать как новую фичу\n",
    "    TRAIN_category_users_df[f'linear_oof_cat_{target_col}'] = oof_predictions\n",
    "\n",
    "    temp_cols = [f'linear_oof_cat_{target_col}_{i}' for i in range(n_folds)]\n",
    "    TEST_category_users_df[f'linear_oof_cat_{target_col}'] = TEST_category_users_df[temp_cols].mean(axis=1)\n",
    "    TEST_category_users_df = TEST_category_users_df.drop(columns=temp_cols, errors='ignore')\n",
    "\n",
    "    return TRAIN_category_users_df, TEST_category_users_df \n",
    "\n",
    "TRAIN_category_users_df, TEST_category_users_df = calc_cv_target_regr(TRAIN_category_users_df, TEST_category_users_df, target_col='age')\n",
    "TRAIN_category_users_df.shape, TEST_category_users_df.shape"
   ]
  },
  {
   "cell_type": "code",
   "execution_count": 196,
   "id": "65dab7d2",
   "metadata": {},
   "outputs": [
    {
     "name": "stdout",
     "output_type": "stream",
     "text": [
      "CPU times: total: 328 ms\n",
      "Wall time: 337 ms\n"
     ]
    },
    {
     "data": {
      "text/plain": [
       "((155197, 10), (17221, 10))"
      ]
     },
     "execution_count": 196,
     "metadata": {},
     "output_type": "execute_result"
    }
   ],
   "source": [
    "%%time\n",
    "# Сохраняем фичи полученные через кросс валидацию\n",
    "TRAIN_category_users_df[['viewer_uid', 'logistic_oof_cat_sex_class', 'linear_oof_cat_age']].to_csv(f'cv_TRAIN_category_users_df.csv')\n",
    "TEST_category_users_df[['viewer_uid', 'logistic_oof_cat_sex_class', 'linear_oof_cat_age']].to_csv(f'cv_TEST_category_users_df.csv')\n",
    "\n",
    "TRAIN_category_users_df.shape, TEST_category_users_df.shape "
   ]
  },
  {
   "cell_type": "code",
   "execution_count": null,
   "id": "b3946803",
   "metadata": {},
   "outputs": [],
   "source": []
  },
  {
   "cell_type": "code",
   "execution_count": null,
   "id": "99ef4d63",
   "metadata": {},
   "outputs": [],
   "source": []
  },
  {
   "cell_type": "code",
   "execution_count": null,
   "id": "f4bc4b26",
   "metadata": {},
   "outputs": [],
   "source": []
  },
  {
   "cell_type": "code",
   "execution_count": null,
   "id": "c1ab3263-29e9-4209-9063-1207a12aa265",
   "metadata": {},
   "outputs": [],
   "source": []
  },
  {
   "cell_type": "code",
   "execution_count": null,
   "id": "bd58584b-74a7-4df5-9652-882113ae4053",
   "metadata": {},
   "outputs": [],
   "source": []
  },
  {
   "cell_type": "code",
   "execution_count": null,
   "id": "a2f068f2-f99c-479e-af1d-c9e7777151b6",
   "metadata": {},
   "outputs": [],
   "source": []
  },
  {
   "cell_type": "code",
   "execution_count": null,
   "id": "a1f77151-9657-42ba-9c87-6fda373b9160",
   "metadata": {},
   "outputs": [],
   "source": []
  },
  {
   "cell_type": "code",
   "execution_count": null,
   "id": "7c1c675c-bff8-4d43-a09b-f1d391cf8fbc",
   "metadata": {},
   "outputs": [],
   "source": []
  }
 ],
 "metadata": {
  "kernelspec": {
   "display_name": "Python 3 (ipykernel)",
   "language": "python",
   "name": "python3"
  },
  "language_info": {
   "codemirror_mode": {
    "name": "ipython",
    "version": 3
   },
   "file_extension": ".py",
   "mimetype": "text/x-python",
   "name": "python",
   "nbconvert_exporter": "python",
   "pygments_lexer": "ipython3",
   "version": "3.11.3"
  },
  "widgets": {
   "application/vnd.jupyter.widget-state+json": {
    "state": {},
    "version_major": 2,
    "version_minor": 0
   }
  }
 },
 "nbformat": 4,
 "nbformat_minor": 5
}
