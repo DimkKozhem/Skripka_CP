{
 "cells": [
  {
   "cell_type": "code",
   "execution_count": 1,
   "id": "9d19c613-570a-48d5-aceb-4e259aa1302f",
   "metadata": {},
   "outputs": [
    {
     "name": "stdout",
     "output_type": "stream",
     "text": [
      "WARNING:tensorflow:From C:\\Users\\Profit77\\AppData\\Roaming\\Python\\Python311\\site-packages\\keras\\src\\losses.py:2976: The name tf.losses.sparse_softmax_cross_entropy is deprecated. Please use tf.compat.v1.losses.sparse_softmax_cross_entropy instead.\n",
      "\n"
     ]
    }
   ],
   "source": [
    "import pandas as pd\n",
    "import numpy as np\n",
    "import torch\n",
    "# import torch.nn as nn\n",
    "# import torch.optim as optim\n",
    "# from torchvision import models, transforms\n",
    "# import matplotlib.pyplot as plt\n",
    "# from sklearn.metrics import precision_recall_curve, auc\n",
    "# import numpy as np\n",
    "# import matplotlib.pyplot as plt\n",
    "from tqdm.auto import tqdm\n",
    "# from sklearn.metrics import f1_score\n",
    "from sentence_transformers import SentenceTransformer, SimilarityFunction\n",
    "# from sklearn.metrics import roc_auc_score\n",
    "import re\n",
    "# import os\n",
    "# import warnings\n",
    "# warnings.filterwarnings(\"ignore\")"
   ]
  },
  {
   "cell_type": "code",
   "execution_count": 2,
   "id": "9f2740d0",
   "metadata": {},
   "outputs": [],
   "source": [
    "tqdm.pandas()"
   ]
  },
  {
   "cell_type": "markdown",
   "id": "6364e847",
   "metadata": {},
   "source": [
    "# Загружаем данные "
   ]
  },
  {
   "cell_type": "code",
   "execution_count": 3,
   "id": "c9a72cbe",
   "metadata": {},
   "outputs": [
    {
     "name": "stdout",
     "output_type": "stream",
     "text": [
      "CPU times: total: 56.9 s\n",
      "Wall time: 56.8 s\n"
     ]
    },
    {
     "data": {
      "text/plain": [
       "((1759616, 9), (481480, 5), (180012, 4), (8439624, 9))"
      ]
     },
     "execution_count": 3,
     "metadata": {},
     "output_type": "execute_result"
    }
   ],
   "source": [
    "%%time\n",
    "path = \"datasets/\" # Ваш путь до директории с данными /path/to/data/\n",
    "data = pd.read_csv(path + 'train_events.csv')\n",
    "video = pd.read_csv(path + 'video_info_v2.csv')\n",
    "targets = pd.read_csv(path + 'train_targets.csv')\n",
    "all_events = pd.read_csv(path + 'all_events.csv')\n",
    "\n",
    "# заполянем пропуски самыми частотными\n",
    "freq_ua_client_type = all_events['ua_client_type'].value_counts().index[0]\n",
    "freq_ua_client_name = all_events['ua_client_name'].value_counts().index[0]\n",
    "all_events['ua_client_type'] = all_events['ua_client_type'].fillna(freq_ua_client_type)\n",
    "all_events['ua_client_name'] = all_events['ua_client_name'].fillna(freq_ua_client_name)\n",
    "all_events['ua_os'] = all_events['ua_os'].fillna('vpn')\n",
    "data['ua_os'] = data['ua_os'].fillna('vpn')\n",
    "\n",
    "# Преобразование даты и время в тип даты\n",
    "all_events['event_timestamp'] = pd.to_datetime(all_events['event_timestamp'])\n",
    "data['event_timestamp'] = pd.to_datetime(data['event_timestamp'])\n",
    "\n",
    "# продолжительность видео duration - указан в миллисекнудах, а просмотр человеком (total_watchtime) в секндах приводим к одному виду\n",
    "# video['duration'] = video['duration']/1000\n",
    "all_events['total_watchtime'] = all_events['total_watchtime'] * 1000\n",
    "data['total_watchtime'] = data['total_watchtime'] * 1000\n",
    "\n",
    "data.shape, video.shape, targets.shape, all_events.shape"
   ]
  },
  {
   "cell_type": "code",
   "execution_count": 4,
   "id": "825db2ce",
   "metadata": {},
   "outputs": [
    {
     "name": "stdout",
     "output_type": "stream",
     "text": [
      "CPU times: total: 1.66 s\n",
      "Wall time: 1.66 s\n"
     ]
    },
    {
     "data": {
      "text/plain": [
       "((1582553, 16), (177063, 16))"
      ]
     },
     "execution_count": 4,
     "metadata": {},
     "output_type": "execute_result"
    }
   ],
   "source": [
    "%%time\n",
    "from sklearn.model_selection import train_test_split\n",
    "\n",
    "train_users_df, test_users_df = train_test_split(targets, stratify=(targets[['age_class', 'sex']]), test_size=0.1)\n",
    "# train_users_df.shape, test_users_df.shape\n",
    "\n",
    "data_video = data.merge(video, on='rutube_video_id')\n",
    "train_users_df = data_video.merge(train_users_df, on='viewer_uid')\n",
    "test_users_df = data_video.merge(test_users_df, on='viewer_uid')\n",
    "del data_video\n",
    "\n",
    "train_users_df.shape, test_users_df.shape"
   ]
  },
  {
   "cell_type": "code",
   "execution_count": 5,
   "id": "07706b7e",
   "metadata": {
    "scrolled": true
   },
   "outputs": [
    {
     "data": {
      "text/plain": [
       "<pandas.core.groupby.generic.DataFrameGroupBy object at 0x0000027E905AA310>"
      ]
     },
     "execution_count": 5,
     "metadata": {},
     "output_type": "execute_result"
    }
   ],
   "source": [
    "test_users_df.groupby(by='viewer_uid')[['category', 'title']]"
   ]
  },
  {
   "cell_type": "code",
   "execution_count": 6,
   "id": "f4a2251e",
   "metadata": {},
   "outputs": [
    {
     "name": "stdout",
     "output_type": "stream",
     "text": [
      "CPU times: total: 3.72 s\n",
      "Wall time: 3.72 s\n"
     ]
    },
    {
     "data": {
      "text/plain": [
       "((18002,), (18002,), (162010,), (162010,))"
      ]
     },
     "execution_count": 6,
     "metadata": {},
     "output_type": "execute_result"
    }
   ],
   "source": [
    "%%time\n",
    "category_test_users_df = test_users_df.groupby(by='viewer_uid')['category'].agg(lambda col: ' '.join(col))\n",
    "title_test_users_df = test_users_df.groupby(by='viewer_uid')['title'].agg(lambda col: ' '.join(col))\n",
    "\n",
    "category_train_users_df = train_users_df.groupby(by='viewer_uid')['category'].agg(lambda col: ' '.join(col))\n",
    "title_train_users_df = train_users_df.groupby(by='viewer_uid')['title'].agg(lambda col: ' '.join(col))\n",
    "\n",
    "\n",
    "category_test_users_df.shape, title_test_users_df.shape, category_train_users_df.shape, title_train_users_df.shape"
   ]
  },
  {
   "cell_type": "code",
   "execution_count": 7,
   "id": "8a4eba5a",
   "metadata": {
    "scrolled": true
   },
   "outputs": [
    {
     "name": "stdout",
     "output_type": "stream",
     "text": [
      "CPU times: total: 109 ms\n",
      "Wall time: 96.3 ms\n"
     ]
    },
    {
     "data": {
      "text/plain": [
       "((18002, 5), (18002, 5), (162010, 5), (162010, 5))"
      ]
     },
     "execution_count": 7,
     "metadata": {},
     "output_type": "execute_result"
    }
   ],
   "source": [
    "%%time\n",
    "category_test_users_df = category_test_users_df.reset_index().merge(targets, on='viewer_uid')\n",
    "title_test_users_df = title_test_users_df.reset_index().merge(targets, on='viewer_uid')\n",
    "category_train_users_df = category_train_users_df.reset_index().merge(targets, on='viewer_uid')\n",
    "title_train_users_df = title_train_users_df.reset_index().merge(targets, on='viewer_uid')\n",
    "\n",
    "category_test_users_df.shape, title_test_users_df.shape, category_train_users_df.shape, title_train_users_df.shape"
   ]
  },
  {
   "cell_type": "code",
   "execution_count": 8,
   "id": "c159e0cd",
   "metadata": {},
   "outputs": [],
   "source": [
    "# Функция для чистки текста\n",
    "def clean_text(text):\n",
    "    if pd.isna(text):\n",
    "        return ''\n",
    "    # оставляем только слова и цифры\n",
    "    pattern = r\"[a-zA-Z]+|[\\d]+|[а-яА-Я]+\"\n",
    "    text = \" \".join(re.findall(pattern, text.lower()))\n",
    "    return text"
   ]
  },
  {
   "cell_type": "code",
   "execution_count": 9,
   "id": "e8f2c100",
   "metadata": {},
   "outputs": [
    {
     "name": "stdout",
     "output_type": "stream",
     "text": [
      "CPU times: total: 4.31 s\n",
      "Wall time: 4.32 s\n"
     ]
    },
    {
     "data": {
      "text/plain": [
       "((18002, 6), (18002, 6), (162010, 6), (162010, 6))"
      ]
     },
     "execution_count": 9,
     "metadata": {},
     "output_type": "execute_result"
    }
   ],
   "source": [
    "%%time\n",
    "category_test_users_df['clear_category'] = category_test_users_df['category'].apply(lambda x: clean_text(x))\n",
    "category_train_users_df['clear_category'] = category_train_users_df['category'].apply(lambda x: clean_text(x))\n",
    "title_test_users_df['clear_title'] = title_test_users_df['title'].apply(lambda x: clean_text(x))\n",
    "title_train_users_df['clear_title'] = title_train_users_df['title'].apply(lambda x: clean_text(x))\n",
    "\n",
    "category_test_users_df.shape, title_test_users_df.shape, category_train_users_df.shape, title_train_users_df.shape"
   ]
  },
  {
   "cell_type": "code",
   "execution_count": 10,
   "id": "b2e40e8e",
   "metadata": {},
   "outputs": [
    {
     "data": {
      "text/plain": [
       "((18002, 7), (18002, 7), (162010, 7), (162010, 7))"
      ]
     },
     "execution_count": 10,
     "metadata": {},
     "output_type": "execute_result"
    }
   ],
   "source": [
    "category_test_users_df['sex_class'] = np.where(category_test_users_df['sex'] == 'male', 1, 0)\n",
    "category_train_users_df['sex_class'] = np.where(category_train_users_df['sex'] == 'male', 1, 0)\n",
    "title_test_users_df['sex_class'] = np.where(title_test_users_df['sex'] == 'male', 1, 0)\n",
    "title_train_users_df['sex_class'] = np.where(title_train_users_df['sex'] == 'male', 1, 0)\n",
    "\n",
    "category_test_users_df.shape, title_test_users_df.shape, category_train_users_df.shape, title_train_users_df.shape"
   ]
  },
  {
   "cell_type": "code",
   "execution_count": 11,
   "id": "82d1618d",
   "metadata": {},
   "outputs": [
    {
     "data": {
      "text/plain": [
       "SentenceTransformer(\n",
       "  (0): Transformer({'max_seq_length': 256, 'do_lower_case': False}) with Transformer model: BertModel \n",
       "  (1): Pooling({'word_embedding_dimension': 768, 'pooling_mode_cls_token': True, 'pooling_mode_mean_tokens': False, 'pooling_mode_max_tokens': False, 'pooling_mode_mean_sqrt_len_tokens': False, 'pooling_mode_weightedmean_tokens': False, 'pooling_mode_lasttoken': False, 'include_prompt': True})\n",
       "  (2): Dense({'in_features': 768, 'out_features': 768, 'bias': True, 'activation_function': 'torch.nn.modules.activation.Tanh'})\n",
       "  (3): Normalize()\n",
       ")"
      ]
     },
     "execution_count": 11,
     "metadata": {},
     "output_type": "execute_result"
    }
   ],
   "source": [
    "# encode_model = SentenceTransformer('FacebookAI/xlm-roberta-large')\n",
    "encode_model = SentenceTransformer('sentence-transformers/LaBSE')\n",
    "encode_model"
   ]
  },
  {
   "cell_type": "code",
   "execution_count": null,
   "id": "eaeff4ca",
   "metadata": {},
   "outputs": [],
   "source": []
  },
  {
   "cell_type": "code",
   "execution_count": null,
   "id": "cd32b4a4",
   "metadata": {},
   "outputs": [],
   "source": []
  },
  {
   "cell_type": "markdown",
   "id": "169d59bf",
   "metadata": {},
   "source": [
    "# Формируем эмбеддинги"
   ]
  },
  {
   "cell_type": "code",
   "execution_count": 12,
   "id": "f978a95f",
   "metadata": {},
   "outputs": [
    {
     "data": {
      "application/vnd.jupyter.widget-view+json": {
       "model_id": "b4e4015a4573499e8ad88b04f8044491",
       "version_major": 2,
       "version_minor": 0
      },
      "text/plain": [
       "  0%|          | 0/18002 [00:00<?, ?it/s]"
      ]
     },
     "metadata": {},
     "output_type": "display_data"
    },
    {
     "data": {
      "application/vnd.jupyter.widget-view+json": {
       "model_id": "6fb0ca02ae0949278da572cf6bb54d46",
       "version_major": 2,
       "version_minor": 0
      },
      "text/plain": [
       "  0%|          | 0/162010 [00:00<?, ?it/s]"
      ]
     },
     "metadata": {},
     "output_type": "display_data"
    },
    {
     "name": "stdout",
     "output_type": "stream",
     "text": [
      "CPU times: total: 29min 13s\n",
      "Wall time: 29min 12s\n"
     ]
    },
    {
     "data": {
      "text/plain": [
       "((18002, 8), (162010, 8))"
      ]
     },
     "execution_count": 12,
     "metadata": {},
     "output_type": "execute_result"
    }
   ],
   "source": [
    "%%time\n",
    "# Wall time: 1h 25min 26s\n",
    "# Wall time: 29min 12s\n",
    "title_test_users_df['embeddings'] = title_test_users_df['clear_title'].progress_apply(encode_model.encode)\n",
    "title_train_users_df['embeddings'] = title_train_users_df['clear_title'].progress_apply(encode_model.encode)\n",
    "\n",
    "title_test_users_df.shape, title_train_users_df.shape"
   ]
  },
  {
   "cell_type": "code",
   "execution_count": 17,
   "id": "dc4acc7a",
   "metadata": {},
   "outputs": [],
   "source": [
    "# %%time\n",
    "# title_test_users_df.to_parquet('title_test_users_df_LABSE.parquet')\n",
    "# title_train_users_df.to_parquet('title_train_users_df_LABSE.parquet')\n",
    "# title_test_users_df.shape, title_train_users_df.shape"
   ]
  },
  {
   "cell_type": "code",
   "execution_count": 14,
   "id": "0cfb1547",
   "metadata": {},
   "outputs": [
    {
     "data": {
      "text/plain": [
       "(180012, 8)"
      ]
     },
     "execution_count": 14,
     "metadata": {},
     "output_type": "execute_result"
    }
   ],
   "source": [
    "union_title_users_df = pd.concat([title_test_users_df, title_train_users_df])\n",
    "union_title_users_df.shape"
   ]
  },
  {
   "cell_type": "code",
   "execution_count": 15,
   "id": "3c7b3a1f",
   "metadata": {},
   "outputs": [
    {
     "data": {
      "application/vnd.jupyter.widget-view+json": {
       "model_id": "1b36993bd3914261a0c1bf85df834ea6",
       "version_major": 2,
       "version_minor": 0
      },
      "text/plain": [
       "  0%|          | 0/18002 [00:00<?, ?it/s]"
      ]
     },
     "metadata": {},
     "output_type": "display_data"
    },
    {
     "data": {
      "application/vnd.jupyter.widget-view+json": {
       "model_id": "4ca675f4a37a4cb484d425d57474299d",
       "version_major": 2,
       "version_minor": 0
      },
      "text/plain": [
       "  0%|          | 0/162010 [00:00<?, ?it/s]"
      ]
     },
     "metadata": {},
     "output_type": "display_data"
    }
   ],
   "source": [
    "%%time\n",
    "# Wall time: 57min 45s\n",
    "category_test_users_df['embeddings'] = category_test_users_df['clear_category'].progress_apply(encode_model.encode)\n",
    "category_train_users_df['embeddings'] = category_train_users_df['clear_category'].progress_apply(encode_model.encode)\n",
    "\n",
    "category_test_users_df.shape, category_train_users_df.shape"
   ]
  },
  {
   "cell_type": "code",
   "execution_count": 18,
   "id": "d296b031",
   "metadata": {},
   "outputs": [],
   "source": [
    "# %%time\n",
    "# category_test_users_df.to_parquet('category_test_users_df_LABSE.parquet')\n",
    "# category_train_users_df.to_parquet('category_train_users_df_LABSE.parquet')\n",
    "# category_test_users_df.shape, category_train_users_df.shape"
   ]
  },
  {
   "cell_type": "code",
   "execution_count": 20,
   "id": "613a0263",
   "metadata": {},
   "outputs": [
    {
     "data": {
      "text/plain": [
       "(180012, 8)"
      ]
     },
     "execution_count": 20,
     "metadata": {},
     "output_type": "execute_result"
    }
   ],
   "source": [
    "union_category_users_df = pd.concat([category_test_users_df, category_train_users_df])\n",
    "union_category_users_df.shape"
   ]
  },
  {
   "cell_type": "markdown",
   "id": "e67974c6",
   "metadata": {},
   "source": [
    "# Тестовые данные для сабмита"
   ]
  },
  {
   "cell_type": "code",
   "execution_count": 233,
   "id": "ddda5cf7",
   "metadata": {},
   "outputs": [
    {
     "data": {
      "text/plain": [
       "(10000, 9)"
      ]
     },
     "execution_count": 233,
     "metadata": {},
     "output_type": "execute_result"
    }
   ],
   "source": [
    "submit_test_users_df = pd.read_csv('Dima/sample_10000.csv')\n",
    "submit_test_users_df.shape"
   ]
  },
  {
   "cell_type": "code",
   "execution_count": null,
   "id": "9fd2f188",
   "metadata": {},
   "outputs": [],
   "source": []
  },
  {
   "cell_type": "code",
   "execution_count": 222,
   "id": "cf19c076",
   "metadata": {},
   "outputs": [
    {
     "data": {
      "text/plain": [
       "(294576, 21)"
      ]
     },
     "execution_count": 222,
     "metadata": {},
     "output_type": "execute_result"
    }
   ],
   "source": [
    "data_video = all_events.merge(video, on='rutube_video_id')\n",
    "submit_test_users_df = data_video.merge(submit_test_users_df, on='viewer_uid')\n",
    "submit_test_users_df.shape"
   ]
  },
  {
   "cell_type": "code",
   "execution_count": 223,
   "id": "a783c8f2",
   "metadata": {},
   "outputs": [
    {
     "data": {
      "text/plain": [
       "((9834, 1), (9834, 1))"
      ]
     },
     "execution_count": 223,
     "metadata": {},
     "output_type": "execute_result"
    }
   ],
   "source": [
    "category_submit_test_users_df = submit_test_users_df.groupby(by='viewer_uid')['category'].agg(lambda col: ' '.join(col))\n",
    "title_submit_test_users_df = submit_test_users_df.groupby(by='viewer_uid')['title'].agg(lambda col: ' '.join(col))\n",
    "category_submit_test_users_df = pd.DataFrame(category_submit_test_users_df)\n",
    "title_submit_test_users_df = pd.DataFrame(title_submit_test_users_df)\n",
    "\n",
    "category_submit_test_users_df.shape,  title_submit_test_users_df.shape"
   ]
  },
  {
   "cell_type": "code",
   "execution_count": 224,
   "id": "dbaaac90",
   "metadata": {},
   "outputs": [
    {
     "data": {
      "text/plain": [
       "((9834, 2), (9834, 2))"
      ]
     },
     "execution_count": 224,
     "metadata": {},
     "output_type": "execute_result"
    }
   ],
   "source": [
    "category_submit_test_users_df['clear_category'] = category_submit_test_users_df['category'].apply(lambda x: clean_text(x))\n",
    "title_submit_test_users_df['clear_title'] = title_submit_test_users_df['title'].apply(lambda x: clean_text(x))\n",
    "\n",
    "category_submit_test_users_df.shape,  title_submit_test_users_df.shape"
   ]
  },
  {
   "cell_type": "code",
   "execution_count": 225,
   "id": "17a31c22",
   "metadata": {},
   "outputs": [
    {
     "data": {
      "application/vnd.jupyter.widget-view+json": {
       "model_id": "181b201ed30c4de48e9b0ab0828e0cfe",
       "version_major": 2,
       "version_minor": 0
      },
      "text/plain": [
       "  0%|          | 0/9834 [00:00<?, ?it/s]"
      ]
     },
     "metadata": {},
     "output_type": "display_data"
    },
    {
     "data": {
      "application/vnd.jupyter.widget-view+json": {
       "model_id": "a6de83b08ee840f8afcafb20eebdff83",
       "version_major": 2,
       "version_minor": 0
      },
      "text/plain": [
       "  0%|          | 0/9834 [00:00<?, ?it/s]"
      ]
     },
     "metadata": {},
     "output_type": "display_data"
    }
   ],
   "source": [
    "%%time\n",
    "title_submit_test_users_df['embeddings'] = title_submit_test_users_df['clear_title'].progress_apply(encode_model.encode)\n",
    "category_submit_test_users_df['embeddings'] = category_submit_test_users_df['clear_category'].progress_apply(encode_model.encode)\n",
    "\n",
    "category_submit_test_users_df.shape, title_submit_test_users_df.shape"
   ]
  },
  {
   "cell_type": "code",
   "execution_count": null,
   "id": "5249bed3",
   "metadata": {},
   "outputs": [],
   "source": []
  },
  {
   "cell_type": "markdown",
   "id": "52521329",
   "metadata": {},
   "source": [
    "# Logistic Regression"
   ]
  },
  {
   "cell_type": "markdown",
   "id": "111cf6b9",
   "metadata": {},
   "source": [
    "# Генерируем фичи на базе title"
   ]
  },
  {
   "cell_type": "markdown",
   "id": "90e14bf9",
   "metadata": {},
   "source": [
    "### Берем отложенную выборку для локлаьного тесте"
   ]
  },
  {
   "cell_type": "code",
   "execution_count": 205,
   "id": "f0593c0b",
   "metadata": {},
   "outputs": [
    {
     "data": {
      "text/plain": [
       "((1505791, 2), (170274, 2))"
      ]
     },
     "execution_count": 205,
     "metadata": {},
     "output_type": "execute_result"
    }
   ],
   "source": [
    "train_users_df = pd.read_csv('train_viewer_uid_v2.csv')\n",
    "test_users_df = pd.read_csv('test_viewer_uid_v2.csv')\n",
    "\n",
    "train_users_df.shape, test_users_df.shape"
   ]
  },
  {
   "cell_type": "code",
   "execution_count": 128,
   "id": "626e4a07",
   "metadata": {},
   "outputs": [
    {
     "data": {
      "text/plain": [
       "((155197, 8), (17221, 8))"
      ]
     },
     "execution_count": 128,
     "metadata": {},
     "output_type": "execute_result"
    }
   ],
   "source": [
    "TRAIN_title_users_df = union_title_users_df[union_title_users_df['viewer_uid'].isin(train_users_df['viewer_uid'])]\n",
    "TEST_title_users_df = union_title_users_df[union_title_users_df['viewer_uid'].isin(test_users_df['viewer_uid'])]\n",
    "\n",
    "TRAIN_title_users_df.shape, TEST_title_users_df.shape"
   ]
  },
  {
   "cell_type": "code",
   "execution_count": 243,
   "id": "083c2c3b",
   "metadata": {},
   "outputs": [
    {
     "data": {
      "text/plain": [
       "((180012, 8), (9834, 4))"
      ]
     },
     "execution_count": 243,
     "metadata": {},
     "output_type": "execute_result"
    }
   ],
   "source": [
    "TRAIN_title_users_df = union_title_users_df.copy()\n",
    "TEST_title_users_df = title_submit_test_users_df.reset_index().copy()\n",
    "\n",
    "TRAIN_title_users_df.shape, TEST_title_users_df.shape"
   ]
  },
  {
   "cell_type": "code",
   "execution_count": 244,
   "id": "a48fa3b3",
   "metadata": {},
   "outputs": [],
   "source": [
    "# submit_test_users_df\n",
    "# set(submit_test_users_df.columns) - set(TRAIN_title_users_df.columns), set(TRAIN_title_users_df.columns) -set(submit_test_users_df.columns)\n",
    "# TRAIN_title_users_df"
   ]
  },
  {
   "cell_type": "code",
   "execution_count": null,
   "id": "d9e82a9b",
   "metadata": {},
   "outputs": [],
   "source": []
  },
  {
   "cell_type": "markdown",
   "id": "91eb6889",
   "metadata": {},
   "source": [
    "# Генерируем фичи через кроссвалидацию на базе названий просмотрренных видео"
   ]
  },
  {
   "cell_type": "code",
   "execution_count": 245,
   "id": "ec485e24",
   "metadata": {
    "scrolled": true
   },
   "outputs": [
    {
     "data": {
      "application/vnd.jupyter.widget-view+json": {
       "model_id": "39206d9918e64ead837cb7b1dfd44541",
       "version_major": 2,
       "version_minor": 0
      },
      "text/plain": [
       "0it [00:00, ?it/s]"
      ]
     },
     "metadata": {},
     "output_type": "display_data"
    },
    {
     "name": "stderr",
     "output_type": "stream",
     "text": [
      "C:\\Users\\Profit77\\AppData\\Roaming\\Python\\Python311\\site-packages\\sklearn\\linear_model\\_logistic.py:469: ConvergenceWarning: lbfgs failed to converge (status=1):\n",
      "STOP: TOTAL NO. of ITERATIONS REACHED LIMIT.\n",
      "\n",
      "Increase the number of iterations (max_iter) or scale the data as shown in:\n",
      "    https://scikit-learn.org/stable/modules/preprocessing.html\n",
      "Please also refer to the documentation for alternative solver options:\n",
      "    https://scikit-learn.org/stable/modules/linear_model.html#logistic-regression\n",
      "  n_iter_i = _check_optimize_result(\n"
     ]
    },
    {
     "name": "stdout",
     "output_type": "stream",
     "text": [
      "Logistic Regression Accuracy: 0.7413271116295864\n",
      "Logistic Regression Precision: 0.729973474801061\n",
      "Logistic Regression Recall: 0.7651671022632486\n",
      "Logistic Regression f1_score: 0.7471560828604784\n"
     ]
    },
    {
     "name": "stderr",
     "output_type": "stream",
     "text": [
      "C:\\Users\\Profit77\\AppData\\Roaming\\Python\\Python311\\site-packages\\sklearn\\linear_model\\_logistic.py:469: ConvergenceWarning: lbfgs failed to converge (status=1):\n",
      "STOP: TOTAL NO. of ITERATIONS REACHED LIMIT.\n",
      "\n",
      "Increase the number of iterations (max_iter) or scale the data as shown in:\n",
      "    https://scikit-learn.org/stable/modules/preprocessing.html\n",
      "Please also refer to the documentation for alternative solver options:\n",
      "    https://scikit-learn.org/stable/modules/linear_model.html#logistic-regression\n",
      "  n_iter_i = _check_optimize_result(\n"
     ]
    },
    {
     "name": "stdout",
     "output_type": "stream",
     "text": [
      "Logistic Regression Accuracy: 0.7417159681137683\n",
      "Logistic Regression Precision: 0.7305160331280527\n",
      "Logistic Regression Recall: 0.7651671022632486\n",
      "Logistic Regression f1_score: 0.7474401803416714\n"
     ]
    },
    {
     "name": "stderr",
     "output_type": "stream",
     "text": [
      "C:\\Users\\Profit77\\AppData\\Roaming\\Python\\Python311\\site-packages\\sklearn\\linear_model\\_logistic.py:469: ConvergenceWarning: lbfgs failed to converge (status=1):\n",
      "STOP: TOTAL NO. of ITERATIONS REACHED LIMIT.\n",
      "\n",
      "Increase the number of iterations (max_iter) or scale the data as shown in:\n",
      "    https://scikit-learn.org/stable/modules/preprocessing.html\n",
      "Please also refer to the documentation for alternative solver options:\n",
      "    https://scikit-learn.org/stable/modules/linear_model.html#logistic-regression\n",
      "  n_iter_i = _check_optimize_result(\n"
     ]
    },
    {
     "name": "stdout",
     "output_type": "stream",
     "text": [
      "Logistic Regression Accuracy: 0.7372923726459641\n",
      "Logistic Regression Precision: 0.7243775332947308\n",
      "Logistic Regression Recall: 0.765222710337541\n",
      "Logistic Regression f1_score: 0.7442401297998918\n"
     ]
    },
    {
     "name": "stderr",
     "output_type": "stream",
     "text": [
      "C:\\Users\\Profit77\\AppData\\Roaming\\Python\\Python311\\site-packages\\sklearn\\linear_model\\_logistic.py:469: ConvergenceWarning: lbfgs failed to converge (status=1):\n",
      "STOP: TOTAL NO. of ITERATIONS REACHED LIMIT.\n",
      "\n",
      "Increase the number of iterations (max_iter) or scale the data as shown in:\n",
      "    https://scikit-learn.org/stable/modules/preprocessing.html\n",
      "Please also refer to the documentation for alternative solver options:\n",
      "    https://scikit-learn.org/stable/modules/linear_model.html#logistic-regression\n",
      "  n_iter_i = _check_optimize_result(\n"
     ]
    },
    {
     "name": "stdout",
     "output_type": "stream",
     "text": [
      "Logistic Regression Accuracy: 0.7397366812954835\n",
      "Logistic Regression Precision: 0.727148056332085\n",
      "Logistic Regression Recall: 0.7666129121948507\n",
      "Logistic Regression f1_score: 0.7463591575983974\n"
     ]
    },
    {
     "name": "stderr",
     "output_type": "stream",
     "text": [
      "C:\\Users\\Profit77\\AppData\\Roaming\\Python\\Python311\\site-packages\\sklearn\\linear_model\\_logistic.py:469: ConvergenceWarning: lbfgs failed to converge (status=1):\n",
      "STOP: TOTAL NO. of ITERATIONS REACHED LIMIT.\n",
      "\n",
      "Increase the number of iterations (max_iter) or scale the data as shown in:\n",
      "    https://scikit-learn.org/stable/modules/preprocessing.html\n",
      "Please also refer to the documentation for alternative solver options:\n",
      "    https://scikit-learn.org/stable/modules/linear_model.html#logistic-regression\n",
      "  n_iter_i = _check_optimize_result(\n"
     ]
    },
    {
     "name": "stdout",
     "output_type": "stream",
     "text": [
      "Logistic Regression Accuracy: 0.7430976056885729\n",
      "Logistic Regression Precision: 0.73489698208618\n",
      "Logistic Regression Recall: 0.7597041485930375\n",
      "Logistic Regression f1_score: 0.747094692515928\n",
      "CPU times: total: 7min 34s\n",
      "Wall time: 53.6 s\n"
     ]
    },
    {
     "data": {
      "text/plain": [
       "((180012, 9), (9834, 5))"
      ]
     },
     "execution_count": 245,
     "metadata": {},
     "output_type": "execute_result"
    }
   ],
   "source": [
    "%%time\n",
    "# Генерируем фичи через кроссвалидацию на базе названий просмотрренных видео\n",
    "import numpy as np\n",
    "import pandas as pd\n",
    "from sklearn.model_selection import StratifiedKFold\n",
    "from sklearn.linear_model import LogisticRegression\n",
    "from sklearn.metrics import accuracy_score\n",
    "\n",
    "def calc_cv_target(TRAIN_title_users_df:pd.DataFrame, TEST_title_users_df:pd.DataFrame, target_col:str = 'sex_class'):\n",
    "    \n",
    "    X = TRAIN_title_users_df['embeddings'].values\n",
    "    y = TRAIN_title_users_df[target_col].values\n",
    "    TEST_X = TEST_title_users_df['embeddings'].values\n",
    "\n",
    "    # Количество фолдов для кросс-валидации\n",
    "    n_folds = 5\n",
    "\n",
    "    # Создаем объект StratifiedKFold для кросс-валидации\n",
    "    skf = StratifiedKFold(n_splits=n_folds, shuffle=True, random_state=53)\n",
    "\n",
    "    # Создаем массив для хранения OOF предсказаний\n",
    "    oof_predictions = np.zeros(len(X))\n",
    "\n",
    "    # Модель логистической регрессии\n",
    "    model = LogisticRegression()\n",
    "\n",
    "    # Проходим по каждому фолду\n",
    "    for i, (train_idx, valid_idx) in enumerate(tqdm(skf.split(X, y))):\n",
    "        X_train, X_valid = X[train_idx], X[valid_idx]\n",
    "        y_train, y_valid = y[train_idx], y[valid_idx]\n",
    "\n",
    "        # Обучаем модель на данных фолда\n",
    "        model.fit(list(X_train), list(y_train))\n",
    "\n",
    "        # Предсказываем вероятности для валидационных данных (берем вероятность класса 1)\n",
    "        predicted_proba = model.predict_proba(list(X_valid))[:, 1]\n",
    "        predicted = model.predict(list(X_valid))\n",
    "        oof_predictions[valid_idx] = predicted_proba\n",
    "        TEST_title_users_df[f'logistic_oof_{target_col}_{i}'] = model.predict_proba(list(TEST_X))[:, 1]\n",
    "        print(\"Logistic Regression Accuracy:\",metrics.accuracy_score(y_valid, predicted))\n",
    "        print(\"Logistic Regression Precision:\",metrics.precision_score(y_valid, predicted))\n",
    "        print(\"Logistic Regression Recall:\",metrics.recall_score(y_valid, predicted))\n",
    "        print(\"Logistic Regression f1_score:\",metrics.f1_score(y_valid, predicted))    \n",
    "\n",
    "    # Теперь oof_predictions содержит предсказания для всех данных, которые можно использовать как новую фичу\n",
    "    TRAIN_title_users_df[f'logistic_oof_{target_col}'] = oof_predictions\n",
    "\n",
    "    temp_cols = [f'logistic_oof_{target_col}_{i}' for i in range(n_folds)]\n",
    "    TEST_title_users_df[f'logistic_oof_{target_col}'] = TEST_title_users_df[temp_cols].mean(axis=1)\n",
    "    TEST_title_users_df = TEST_title_users_df.drop(columns=temp_cols, errors='ignore')\n",
    "\n",
    "    return TRAIN_title_users_df, TEST_title_users_df \n",
    "\n",
    "TRAIN_title_users_df, TEST_title_users_df = calc_cv_target(TRAIN_title_users_df, TEST_title_users_df, target_col='sex_class')\n",
    "TRAIN_title_users_df.shape, TEST_title_users_df.shape"
   ]
  },
  {
   "cell_type": "code",
   "execution_count": 246,
   "id": "dead5477",
   "metadata": {
    "scrolled": true
   },
   "outputs": [
    {
     "data": {
      "application/vnd.jupyter.widget-view+json": {
       "model_id": "ad091071f282474f9bce335a2a35461f",
       "version_major": 2,
       "version_minor": 0
      },
      "text/plain": [
       "0it [00:00, ?it/s]"
      ]
     },
     "metadata": {},
     "output_type": "display_data"
    },
    {
     "name": "stdout",
     "output_type": "stream",
     "text": [
      "Logistic Regression MAE: 6.692307579587891\n",
      "Logistic Regression MAE: 6.705240965995431\n",
      "Logistic Regression MAE: 6.688251606299277\n",
      "Logistic Regression MAE: 6.692930277344465\n",
      "Logistic Regression MAE: 6.693260131309539\n",
      "CPU times: total: 1min 2s\n",
      "Wall time: 22.2 s\n"
     ]
    },
    {
     "data": {
      "text/plain": [
       "((180012, 10), (9834, 6))"
      ]
     },
     "execution_count": 246,
     "metadata": {},
     "output_type": "execute_result"
    }
   ],
   "source": [
    "%%time\n",
    "# Генерируем фичи через кроссвалидацию на базе названий просмотрренных видео\n",
    "import numpy as np\n",
    "import pandas as pd\n",
    "from sklearn.model_selection import StratifiedKFold\n",
    "from sklearn.linear_model import LogisticRegression\n",
    "from sklearn.metrics import accuracy_score\n",
    "from sklearn.linear_model import LinearRegression\n",
    "\n",
    "def calc_cv_target_regr(TRAIN_title_users_df:pd.DataFrame, TEST_title_users_df:pd.DataFrame, target_col:str = 'age'):\n",
    "    \n",
    "    X = TRAIN_title_users_df['embeddings'].values\n",
    "    y = TRAIN_title_users_df[target_col].values\n",
    "    TEST_X = TEST_title_users_df['embeddings'].values\n",
    "\n",
    "    # Количество фолдов для кросс-валидации\n",
    "    n_folds = 5\n",
    "\n",
    "    # Создаем объект StratifiedKFold для кросс-валидации\n",
    "    skf = StratifiedKFold(n_splits=n_folds, shuffle=True, random_state=53)\n",
    "\n",
    "    # Создаем массив для хранения OOF предсказаний\n",
    "    oof_predictions = np.zeros(len(X))\n",
    "\n",
    "    # Модель линейной  регрессии\n",
    "    model = LinearRegression()\n",
    "\n",
    "    # Проходим по каждому фолду\n",
    "    for i, (train_idx, valid_idx) in enumerate(tqdm(skf.split(X, y))):\n",
    "        X_train, X_valid = X[train_idx], X[valid_idx]\n",
    "        y_train, y_valid = y[train_idx], y[valid_idx]\n",
    "\n",
    "        # Обучаем модель на данных фолда\n",
    "        model.fit(list(X_train), list(y_train))\n",
    "\n",
    "        # Предсказываем возраст\n",
    "        predicted = model.predict(list(X_valid))\n",
    "        oof_predictions[valid_idx] = predicted\n",
    "        TEST_title_users_df[f'linear_oof_{target_col}_{i}'] = model.predict(list(TEST_X))\n",
    "        print(\"Logistic Regression MAE:\",metrics.mean_absolute_error(y_valid, predicted))\n",
    "\n",
    "    # Теперь oof_predictions содержит предсказания для всех данных, которые можно использовать как новую фичу\n",
    "    TRAIN_title_users_df[f'linear_oof_{target_col}'] = oof_predictions\n",
    "\n",
    "    temp_cols = [f'linear_oof_{target_col}_{i}' for i in range(n_folds)]\n",
    "    TEST_title_users_df[f'linear_oof_{target_col}'] = TEST_title_users_df[temp_cols].mean(axis=1)\n",
    "    TEST_title_users_df = TEST_title_users_df.drop(columns=temp_cols, errors='ignore')\n",
    "\n",
    "    return TRAIN_title_users_df, TEST_title_users_df \n",
    "\n",
    "TRAIN_title_users_df, TEST_title_users_df = calc_cv_target_regr(TRAIN_title_users_df, TEST_title_users_df, target_col='age')\n",
    "TRAIN_title_users_df.shape, TEST_title_users_df.shape"
   ]
  },
  {
   "cell_type": "code",
   "execution_count": 247,
   "id": "55c6a5b9",
   "metadata": {
    "scrolled": true
   },
   "outputs": [
    {
     "name": "stdout",
     "output_type": "stream",
     "text": [
      "CPU times: total: 375 ms\n",
      "Wall time: 383 ms\n"
     ]
    }
   ],
   "source": [
    "%%time\n",
    "# Сохраняем фичи полученные через кросс валидацию\n",
    "TRAIN_title_users_df[['viewer_uid', 'logistic_oof_sex_class', 'linear_oof_age']].to_csv(f'cv_TRAIN_title_users_df_v2.csv')\n",
    "TEST_title_users_df[['viewer_uid', 'logistic_oof_sex_class', 'linear_oof_age']].to_csv(f'cv_TEST_title_users_df_v2.csv')\n"
   ]
  },
  {
   "cell_type": "code",
   "execution_count": 248,
   "id": "27c206ea",
   "metadata": {},
   "outputs": [
    {
     "data": {
      "text/plain": [
       "((180012, 10), (9834, 6))"
      ]
     },
     "execution_count": 248,
     "metadata": {},
     "output_type": "execute_result"
    }
   ],
   "source": [
    "TRAIN_title_users_df.shape, TEST_title_users_df.shape"
   ]
  },
  {
   "cell_type": "markdown",
   "id": "1058a940",
   "metadata": {},
   "source": [
    "# Генерируем фичи на базе category"
   ]
  },
  {
   "cell_type": "code",
   "execution_count": 192,
   "id": "e8bae204",
   "metadata": {},
   "outputs": [
    {
     "data": {
      "text/plain": [
       "((155197, 8), (17221, 8))"
      ]
     },
     "execution_count": 192,
     "metadata": {},
     "output_type": "execute_result"
    }
   ],
   "source": [
    "TRAIN_category_users_df = union_category_users_df[union_category_users_df['viewer_uid'].isin(train_users_df['viewer_uid'])]\n",
    "TEST_category_users_df = union_category_users_df[union_category_users_df['viewer_uid'].isin(test_users_df['viewer_uid'])]\n",
    "\n",
    "TRAIN_category_users_df.shape, TEST_category_users_df.shape"
   ]
  },
  {
   "cell_type": "code",
   "execution_count": 253,
   "id": "82a9697a",
   "metadata": {},
   "outputs": [
    {
     "data": {
      "text/plain": [
       "((180012, 8), (9834, 4))"
      ]
     },
     "execution_count": 253,
     "metadata": {},
     "output_type": "execute_result"
    }
   ],
   "source": [
    "TRAIN_category_users_df = union_category_users_df.copy()\n",
    "TEST_category_users_df = category_submit_test_users_df.reset_index().copy()\n",
    "\n",
    "TRAIN_category_users_df.shape, TEST_category_users_df.shape"
   ]
  },
  {
   "cell_type": "code",
   "execution_count": 254,
   "id": "bd307505",
   "metadata": {},
   "outputs": [
    {
     "data": {
      "application/vnd.jupyter.widget-view+json": {
       "model_id": "74e34b23c0d84f47850ca9583116cd25",
       "version_major": 2,
       "version_minor": 0
      },
      "text/plain": [
       "0it [00:00, ?it/s]"
      ]
     },
     "metadata": {},
     "output_type": "display_data"
    },
    {
     "name": "stderr",
     "output_type": "stream",
     "text": [
      "C:\\Users\\Profit77\\AppData\\Roaming\\Python\\Python311\\site-packages\\sklearn\\linear_model\\_logistic.py:469: ConvergenceWarning: lbfgs failed to converge (status=1):\n",
      "STOP: TOTAL NO. of ITERATIONS REACHED LIMIT.\n",
      "\n",
      "Increase the number of iterations (max_iter) or scale the data as shown in:\n",
      "    https://scikit-learn.org/stable/modules/preprocessing.html\n",
      "Please also refer to the documentation for alternative solver options:\n",
      "    https://scikit-learn.org/stable/modules/linear_model.html#logistic-regression\n",
      "  n_iter_i = _check_optimize_result(\n"
     ]
    },
    {
     "name": "stdout",
     "output_type": "stream",
     "text": [
      "Logistic Regression Accuracy: 0.7115518151265172\n",
      "Logistic Regression Precision: 0.6948205128205128\n",
      "Logistic Regression Recall: 0.7534337985875549\n",
      "Logistic Regression f1_score: 0.7229410666168663\n"
     ]
    },
    {
     "name": "stderr",
     "output_type": "stream",
     "text": [
      "C:\\Users\\Profit77\\AppData\\Roaming\\Python\\Python311\\site-packages\\sklearn\\linear_model\\_logistic.py:469: ConvergenceWarning: lbfgs failed to converge (status=1):\n",
      "STOP: TOTAL NO. of ITERATIONS REACHED LIMIT.\n",
      "\n",
      "Increase the number of iterations (max_iter) or scale the data as shown in:\n",
      "    https://scikit-learn.org/stable/modules/preprocessing.html\n",
      "Please also refer to the documentation for alternative solver options:\n",
      "    https://scikit-learn.org/stable/modules/linear_model.html#logistic-regression\n",
      "  n_iter_i = _check_optimize_result(\n"
     ]
    },
    {
     "name": "stdout",
     "output_type": "stream",
     "text": [
      "Logistic Regression Accuracy: 0.7120517734633225\n",
      "Logistic Regression Precision: 0.6990590695243074\n",
      "Logistic Regression Recall: 0.7436467775120947\n",
      "Logistic Regression f1_score: 0.7206639183035594\n"
     ]
    },
    {
     "name": "stderr",
     "output_type": "stream",
     "text": [
      "C:\\Users\\Profit77\\AppData\\Roaming\\Python\\Python311\\site-packages\\sklearn\\linear_model\\_logistic.py:469: ConvergenceWarning: lbfgs failed to converge (status=1):\n",
      "STOP: TOTAL NO. of ITERATIONS REACHED LIMIT.\n",
      "\n",
      "Increase the number of iterations (max_iter) or scale the data as shown in:\n",
      "    https://scikit-learn.org/stable/modules/preprocessing.html\n",
      "Please also refer to the documentation for alternative solver options:\n",
      "    https://scikit-learn.org/stable/modules/linear_model.html#logistic-regression\n",
      "  n_iter_i = _check_optimize_result(\n"
     ]
    },
    {
     "name": "stdout",
     "output_type": "stream",
     "text": [
      "Logistic Regression Accuracy: 0.7105438586745181\n",
      "Logistic Regression Precision: 0.6944958847736625\n",
      "Logistic Regression Recall: 0.7507646110215204\n",
      "Logistic Regression f1_score: 0.7215348849637924\n"
     ]
    },
    {
     "name": "stderr",
     "output_type": "stream",
     "text": [
      "C:\\Users\\Profit77\\AppData\\Roaming\\Python\\Python311\\site-packages\\sklearn\\linear_model\\_logistic.py:469: ConvergenceWarning: lbfgs failed to converge (status=1):\n",
      "STOP: TOTAL NO. of ITERATIONS REACHED LIMIT.\n",
      "\n",
      "Increase the number of iterations (max_iter) or scale the data as shown in:\n",
      "    https://scikit-learn.org/stable/modules/preprocessing.html\n",
      "Please also refer to the documentation for alternative solver options:\n",
      "    https://scikit-learn.org/stable/modules/linear_model.html#logistic-regression\n",
      "  n_iter_i = _check_optimize_result(\n"
     ]
    },
    {
     "name": "stdout",
     "output_type": "stream",
     "text": [
      "Logistic Regression Accuracy: 0.7132937059052274\n",
      "Logistic Regression Precision: 0.7003504367383231\n",
      "Logistic Regression Recall: 0.7445921147750654\n",
      "Logistic Regression f1_score: 0.7217939733707078\n"
     ]
    },
    {
     "name": "stderr",
     "output_type": "stream",
     "text": [
      "C:\\Users\\Profit77\\AppData\\Roaming\\Python\\Python311\\site-packages\\sklearn\\linear_model\\_logistic.py:469: ConvergenceWarning: lbfgs failed to converge (status=1):\n",
      "STOP: TOTAL NO. of ITERATIONS REACHED LIMIT.\n",
      "\n",
      "Increase the number of iterations (max_iter) or scale the data as shown in:\n",
      "    https://scikit-learn.org/stable/modules/preprocessing.html\n",
      "Please also refer to the documentation for alternative solver options:\n",
      "    https://scikit-learn.org/stable/modules/linear_model.html#logistic-regression\n",
      "  n_iter_i = _check_optimize_result(\n"
     ]
    },
    {
     "name": "stdout",
     "output_type": "stream",
     "text": [
      "Logistic Regression Accuracy: 0.7133770346091883\n",
      "Logistic Regression Precision: 0.6987395611805591\n",
      "Logistic Regression Recall: 0.7491380269158047\n",
      "Logistic Regression f1_score: 0.7230616462252758\n",
      "CPU times: total: 7min 35s\n",
      "Wall time: 55.7 s\n"
     ]
    },
    {
     "data": {
      "text/plain": [
       "((180012, 9), (9834, 5))"
      ]
     },
     "execution_count": 254,
     "metadata": {},
     "output_type": "execute_result"
    }
   ],
   "source": [
    "%%time\n",
    "# Генерируем фичи через кроссвалидацию на базе названий просмотрренных видео\n",
    "import numpy as np\n",
    "import pandas as pd\n",
    "from sklearn.model_selection import StratifiedKFold\n",
    "from sklearn.linear_model import LogisticRegression\n",
    "from sklearn.metrics import accuracy_score\n",
    "\n",
    "def calc_cv_target(TRAIN_category_users_df:pd.DataFrame, TEST_category_users_df:pd.DataFrame, target_col:str = 'sex_class'):\n",
    "    \n",
    "    X = TRAIN_category_users_df['embeddings'].values\n",
    "    y = TRAIN_category_users_df[target_col].values\n",
    "    TEST_X = TEST_category_users_df['embeddings'].values\n",
    "\n",
    "    # Количество фолдов для кросс-валидации\n",
    "    n_folds = 5\n",
    "\n",
    "    # Создаем объект StratifiedKFold для кросс-валидации\n",
    "    skf = StratifiedKFold(n_splits=n_folds, shuffle=True, random_state=53)\n",
    "\n",
    "    # Создаем массив для хранения OOF предсказаний\n",
    "    oof_predictions = np.zeros(len(X))\n",
    "\n",
    "    # Модель логистической регрессии\n",
    "    model = LogisticRegression()\n",
    "\n",
    "    # Проходим по каждому фолду\n",
    "    for i, (train_idx, valid_idx) in enumerate(tqdm(skf.split(X, y))):\n",
    "        X_train, X_valid = X[train_idx], X[valid_idx]\n",
    "        y_train, y_valid = y[train_idx], y[valid_idx]\n",
    "\n",
    "        # Обучаем модель на данных фолда\n",
    "        model.fit(list(X_train), list(y_train))\n",
    "\n",
    "        # Предсказываем вероятности для валидационных данных (берем вероятность класса 1)\n",
    "        predicted_proba = model.predict_proba(list(X_valid))[:, 1]\n",
    "        predicted = model.predict(list(X_valid))\n",
    "        oof_predictions[valid_idx] = predicted_proba\n",
    "        TEST_category_users_df[f'logistic_oof_cat_{target_col}_{i}'] = model.predict_proba(list(TEST_X))[:, 1]\n",
    "        print(\"Logistic Regression Accuracy:\",metrics.accuracy_score(y_valid, predicted))\n",
    "        print(\"Logistic Regression Precision:\",metrics.precision_score(y_valid, predicted))\n",
    "        print(\"Logistic Regression Recall:\",metrics.recall_score(y_valid, predicted))\n",
    "        print(\"Logistic Regression f1_score:\",metrics.f1_score(y_valid, predicted))    \n",
    "\n",
    "    # Теперь oof_predictions содержит предсказания для всех данных, которые можно использовать как новую фичу\n",
    "    TRAIN_category_users_df[f'logistic_oof_cat_{target_col}'] = oof_predictions\n",
    "\n",
    "    temp_cols = [f'logistic_oof_cat_{target_col}_{i}' for i in range(n_folds)]\n",
    "    TEST_category_users_df[f'logistic_oof_cat_{target_col}'] = TEST_category_users_df[temp_cols].mean(axis=1)\n",
    "    TEST_category_users_df = TEST_category_users_df.drop(columns=temp_cols, errors='ignore')\n",
    "\n",
    "    return TRAIN_category_users_df, TEST_category_users_df \n",
    "\n",
    "TRAIN_category_users_df, TEST_category_users_df = calc_cv_target(TRAIN_category_users_df, TEST_category_users_df, target_col='sex_class')\n",
    "TRAIN_category_users_df.shape, TEST_category_users_df.shape"
   ]
  },
  {
   "cell_type": "code",
   "execution_count": 255,
   "id": "77132ff1",
   "metadata": {},
   "outputs": [
    {
     "data": {
      "application/vnd.jupyter.widget-view+json": {
       "model_id": "b21db70ba5f94ff2beb1dc914c99ba7c",
       "version_major": 2,
       "version_minor": 0
      },
      "text/plain": [
       "0it [00:00, ?it/s]"
      ]
     },
     "metadata": {},
     "output_type": "display_data"
    },
    {
     "name": "stdout",
     "output_type": "stream",
     "text": [
      "Logistic Regression MAE: 6.962266629402384\n",
      "Logistic Regression MAE: 6.964360795742743\n",
      "Logistic Regression MAE: 6.9710699354474475\n",
      "Logistic Regression MAE: 6.9595416734287605\n",
      "Logistic Regression MAE: 6.9592064253045915\n",
      "CPU times: total: 1min 4s\n",
      "Wall time: 22.6 s\n"
     ]
    },
    {
     "data": {
      "text/plain": [
       "((180012, 10), (9834, 6))"
      ]
     },
     "execution_count": 255,
     "metadata": {},
     "output_type": "execute_result"
    }
   ],
   "source": [
    "%%time\n",
    "# Генерируем фичи через кроссвалидацию на базе названий просмотрренных видео\n",
    "import numpy as np\n",
    "import pandas as pd\n",
    "from sklearn.model_selection import StratifiedKFold\n",
    "from sklearn.linear_model import LogisticRegression\n",
    "from sklearn.metrics import accuracy_score\n",
    "from sklearn.linear_model import LinearRegression\n",
    "\n",
    "def calc_cv_target_regr(TRAIN_category_users_df:pd.DataFrame, TEST_category_users_df:pd.DataFrame, target_col:str = 'age'):\n",
    "    \n",
    "    X = TRAIN_category_users_df['embeddings'].values\n",
    "    y = TRAIN_category_users_df[target_col].values\n",
    "    TEST_X = TEST_category_users_df['embeddings'].values\n",
    "\n",
    "    # Количество фолдов для кросс-валидации\n",
    "    n_folds = 5\n",
    "\n",
    "    # Создаем объект StratifiedKFold для кросс-валидации\n",
    "    skf = StratifiedKFold(n_splits=n_folds, shuffle=True, random_state=53)\n",
    "\n",
    "    # Создаем массив для хранения OOF предсказаний\n",
    "    oof_predictions = np.zeros(len(X))\n",
    "\n",
    "    # Модель линейной  регрессии\n",
    "    model = LinearRegression()\n",
    "\n",
    "    # Проходим по каждому фолду\n",
    "    for i, (train_idx, valid_idx) in enumerate(tqdm(skf.split(X, y))):\n",
    "        X_train, X_valid = X[train_idx], X[valid_idx]\n",
    "        y_train, y_valid = y[train_idx], y[valid_idx]\n",
    "\n",
    "        # Обучаем модель на данных фолда\n",
    "        model.fit(list(X_train), list(y_train))\n",
    "\n",
    "        # Предсказываем возраст\n",
    "        predicted = model.predict(list(X_valid))\n",
    "        oof_predictions[valid_idx] = predicted\n",
    "        TEST_category_users_df[f'linear_oof_cat_{target_col}_{i}'] = model.predict(list(TEST_X))\n",
    "        print(\"Logistic Regression MAE:\",metrics.mean_absolute_error(y_valid, predicted))\n",
    "\n",
    "    # Теперь oof_predictions содержит предсказания для всех данных, которые можно использовать как новую фичу\n",
    "    TRAIN_category_users_df[f'linear_oof_cat_{target_col}'] = oof_predictions\n",
    "\n",
    "    temp_cols = [f'linear_oof_cat_{target_col}_{i}' for i in range(n_folds)]\n",
    "    TEST_category_users_df[f'linear_oof_cat_{target_col}'] = TEST_category_users_df[temp_cols].mean(axis=1)\n",
    "    TEST_category_users_df = TEST_category_users_df.drop(columns=temp_cols, errors='ignore')\n",
    "\n",
    "    return TRAIN_category_users_df, TEST_category_users_df \n",
    "\n",
    "TRAIN_category_users_df, TEST_category_users_df = calc_cv_target_regr(TRAIN_category_users_df, TEST_category_users_df, target_col='age')\n",
    "TRAIN_category_users_df.shape, TEST_category_users_df.shape"
   ]
  },
  {
   "cell_type": "code",
   "execution_count": 256,
   "id": "0a059f57",
   "metadata": {},
   "outputs": [
    {
     "name": "stdout",
     "output_type": "stream",
     "text": [
      "CPU times: total: 391 ms\n",
      "Wall time: 378 ms\n"
     ]
    },
    {
     "data": {
      "text/plain": [
       "((180012, 10), (9834, 6))"
      ]
     },
     "execution_count": 256,
     "metadata": {},
     "output_type": "execute_result"
    }
   ],
   "source": [
    "%%time\n",
    "# Сохраняем фичи полученные через кросс валидацию\n",
    "TRAIN_category_users_df[['viewer_uid', 'logistic_oof_cat_sex_class', 'linear_oof_cat_age']].to_csv(f'cv_TRAIN_category_users_df_v2.csv')\n",
    "TEST_category_users_df[['viewer_uid', 'logistic_oof_cat_sex_class', 'linear_oof_cat_age']].to_csv(f'cv_TEST_category_users_df_v2.csv')\n",
    "\n",
    "TRAIN_category_users_df.shape, TEST_category_users_df.shape "
   ]
  },
  {
   "cell_type": "code",
   "execution_count": null,
   "id": "6a57f9db",
   "metadata": {},
   "outputs": [],
   "source": []
  },
  {
   "cell_type": "code",
   "execution_count": null,
   "id": "01ed58d4",
   "metadata": {},
   "outputs": [],
   "source": []
  },
  {
   "cell_type": "code",
   "execution_count": null,
   "id": "c58f0157",
   "metadata": {},
   "outputs": [],
   "source": []
  },
  {
   "cell_type": "code",
   "execution_count": null,
   "id": "c1ab3263-29e9-4209-9063-1207a12aa265",
   "metadata": {},
   "outputs": [],
   "source": []
  },
  {
   "cell_type": "code",
   "execution_count": null,
   "id": "bd58584b-74a7-4df5-9652-882113ae4053",
   "metadata": {},
   "outputs": [],
   "source": []
  },
  {
   "cell_type": "code",
   "execution_count": null,
   "id": "a2f068f2-f99c-479e-af1d-c9e7777151b6",
   "metadata": {},
   "outputs": [],
   "source": []
  },
  {
   "cell_type": "code",
   "execution_count": null,
   "id": "a1f77151-9657-42ba-9c87-6fda373b9160",
   "metadata": {},
   "outputs": [],
   "source": []
  },
  {
   "cell_type": "code",
   "execution_count": null,
   "id": "7c1c675c-bff8-4d43-a09b-f1d391cf8fbc",
   "metadata": {},
   "outputs": [],
   "source": []
  }
 ],
 "metadata": {
  "kernelspec": {
   "display_name": "Python 3 (ipykernel)",
   "language": "python",
   "name": "python3"
  },
  "language_info": {
   "codemirror_mode": {
    "name": "ipython",
    "version": 3
   },
   "file_extension": ".py",
   "mimetype": "text/x-python",
   "name": "python",
   "nbconvert_exporter": "python",
   "pygments_lexer": "ipython3",
   "version": "3.11.3"
  },
  "widgets": {
   "application/vnd.jupyter.widget-state+json": {
    "state": {},
    "version_major": 2,
    "version_minor": 0
   }
  }
 },
 "nbformat": 4,
 "nbformat_minor": 5
}
