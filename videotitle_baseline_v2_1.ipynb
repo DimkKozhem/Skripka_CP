{
 "cells": [
  {
   "cell_type": "code",
   "execution_count": 1,
   "id": "9d19c613-570a-48d5-aceb-4e259aa1302f",
   "metadata": {},
   "outputs": [
    {
     "name": "stdout",
     "output_type": "stream",
     "text": [
      "WARNING:tensorflow:From C:\\Users\\Profit77\\AppData\\Roaming\\Python\\Python311\\site-packages\\keras\\src\\losses.py:2976: The name tf.losses.sparse_softmax_cross_entropy is deprecated. Please use tf.compat.v1.losses.sparse_softmax_cross_entropy instead.\n",
      "\n"
     ]
    }
   ],
   "source": [
    "import pandas as pd\n",
    "import numpy as np\n",
    "import torch\n",
    "# import torch.nn as nn\n",
    "# import torch.optim as optim\n",
    "# from torchvision import models, transforms\n",
    "# import matplotlib.pyplot as plt\n",
    "# from sklearn.metrics import precision_recall_curve, auc\n",
    "# import numpy as np\n",
    "# import matplotlib.pyplot as plt\n",
    "from tqdm.auto import tqdm\n",
    "# from sklearn.metrics import f1_score\n",
    "from sentence_transformers import SentenceTransformer, SimilarityFunction\n",
    "# from sklearn.metrics import roc_auc_score\n",
    "import re\n",
    "# import os\n",
    "# import warnings\n",
    "# warnings.filterwarnings(\"ignore\")"
   ]
  },
  {
   "cell_type": "code",
   "execution_count": 2,
   "id": "9f2740d0",
   "metadata": {},
   "outputs": [],
   "source": [
    "tqdm.pandas()"
   ]
  },
  {
   "cell_type": "markdown",
   "id": "6364e847",
   "metadata": {},
   "source": [
    "# Загружаем данные "
   ]
  },
  {
   "cell_type": "code",
   "execution_count": 3,
   "id": "c9a72cbe",
   "metadata": {},
   "outputs": [
    {
     "name": "stdout",
     "output_type": "stream",
     "text": [
      "CPU times: total: 56.9 s\n",
      "Wall time: 56.8 s\n"
     ]
    },
    {
     "data": {
      "text/plain": [
       "((1759616, 9), (481480, 5), (180012, 4), (8439624, 9))"
      ]
     },
     "execution_count": 3,
     "metadata": {},
     "output_type": "execute_result"
    }
   ],
   "source": [
    "%%time\n",
    "path = \"datasets/\" # Ваш путь до директории с данными /path/to/data/\n",
    "data = pd.read_csv(path + 'train_events.csv')\n",
    "video = pd.read_csv(path + 'video_info_v2.csv')\n",
    "targets = pd.read_csv(path + 'train_targets.csv')\n",
    "all_events = pd.read_csv(path + 'all_events.csv')\n",
    "\n",
    "# заполянем пропуски самыми частотными\n",
    "freq_ua_client_type = all_events['ua_client_type'].value_counts().index[0]\n",
    "freq_ua_client_name = all_events['ua_client_name'].value_counts().index[0]\n",
    "all_events['ua_client_type'] = all_events['ua_client_type'].fillna(freq_ua_client_type)\n",
    "all_events['ua_client_name'] = all_events['ua_client_name'].fillna(freq_ua_client_name)\n",
    "all_events['ua_os'] = all_events['ua_os'].fillna('vpn')\n",
    "data['ua_os'] = data['ua_os'].fillna('vpn')\n",
    "\n",
    "# Преобразование даты и время в тип даты\n",
    "all_events['event_timestamp'] = pd.to_datetime(all_events['event_timestamp'])\n",
    "data['event_timestamp'] = pd.to_datetime(data['event_timestamp'])\n",
    "\n",
    "# продолжительность видео duration - указан в миллисекнудах, а просмотр человеком (total_watchtime) в секндах приводим к одному виду\n",
    "# video['duration'] = video['duration']/1000\n",
    "all_events['total_watchtime'] = all_events['total_watchtime'] * 1000\n",
    "data['total_watchtime'] = data['total_watchtime'] * 1000\n",
    "\n",
    "data.shape, video.shape, targets.shape, all_events.shape"
   ]
  },
  {
   "cell_type": "code",
   "execution_count": 4,
   "id": "825db2ce",
   "metadata": {},
   "outputs": [
    {
     "name": "stdout",
     "output_type": "stream",
     "text": [
      "CPU times: total: 1.66 s\n",
      "Wall time: 1.66 s\n"
     ]
    },
    {
     "data": {
      "text/plain": [
       "((1582553, 16), (177063, 16))"
      ]
     },
     "execution_count": 4,
     "metadata": {},
     "output_type": "execute_result"
    }
   ],
   "source": [
    "%%time\n",
    "from sklearn.model_selection import train_test_split\n",
    "\n",
    "train_users_df, test_users_df = train_test_split(targets, stratify=(targets[['age_class', 'sex']]), test_size=0.1)\n",
    "# train_users_df.shape, test_users_df.shape\n",
    "\n",
    "data_video = data.merge(video, on='rutube_video_id')\n",
    "train_users_df = data_video.merge(train_users_df, on='viewer_uid')\n",
    "test_users_df = data_video.merge(test_users_df, on='viewer_uid')\n",
    "del data_video\n",
    "\n",
    "train_users_df.shape, test_users_df.shape"
   ]
  },
  {
   "cell_type": "code",
   "execution_count": 5,
   "id": "07706b7e",
   "metadata": {
    "scrolled": true
   },
   "outputs": [
    {
     "data": {
      "text/plain": [
       "<pandas.core.groupby.generic.DataFrameGroupBy object at 0x0000027E905AA310>"
      ]
     },
     "execution_count": 5,
     "metadata": {},
     "output_type": "execute_result"
    }
   ],
   "source": [
    "test_users_df.groupby(by='viewer_uid')[['category', 'title']]"
   ]
  },
  {
   "cell_type": "code",
   "execution_count": 6,
   "id": "f4a2251e",
   "metadata": {},
   "outputs": [
    {
     "name": "stdout",
     "output_type": "stream",
     "text": [
      "CPU times: total: 3.72 s\n",
      "Wall time: 3.72 s\n"
     ]
    },
    {
     "data": {
      "text/plain": [
       "((18002,), (18002,), (162010,), (162010,))"
      ]
     },
     "execution_count": 6,
     "metadata": {},
     "output_type": "execute_result"
    }
   ],
   "source": [
    "%%time\n",
    "category_test_users_df = test_users_df.groupby(by='viewer_uid')['category'].agg(lambda col: ' '.join(col))\n",
    "title_test_users_df = test_users_df.groupby(by='viewer_uid')['title'].agg(lambda col: ' '.join(col))\n",
    "\n",
    "category_train_users_df = train_users_df.groupby(by='viewer_uid')['category'].agg(lambda col: ' '.join(col))\n",
    "title_train_users_df = train_users_df.groupby(by='viewer_uid')['title'].agg(lambda col: ' '.join(col))\n",
    "\n",
    "\n",
    "category_test_users_df.shape, title_test_users_df.shape, category_train_users_df.shape, title_train_users_df.shape"
   ]
  },
  {
   "cell_type": "code",
   "execution_count": 7,
   "id": "8a4eba5a",
   "metadata": {
    "scrolled": true
   },
   "outputs": [
    {
     "name": "stdout",
     "output_type": "stream",
     "text": [
      "CPU times: total: 109 ms\n",
      "Wall time: 96.3 ms\n"
     ]
    },
    {
     "data": {
      "text/plain": [
       "((18002, 5), (18002, 5), (162010, 5), (162010, 5))"
      ]
     },
     "execution_count": 7,
     "metadata": {},
     "output_type": "execute_result"
    }
   ],
   "source": [
    "%%time\n",
    "category_test_users_df = category_test_users_df.reset_index().merge(targets, on='viewer_uid')\n",
    "title_test_users_df = title_test_users_df.reset_index().merge(targets, on='viewer_uid')\n",
    "category_train_users_df = category_train_users_df.reset_index().merge(targets, on='viewer_uid')\n",
    "title_train_users_df = title_train_users_df.reset_index().merge(targets, on='viewer_uid')\n",
    "\n",
    "category_test_users_df.shape, title_test_users_df.shape, category_train_users_df.shape, title_train_users_df.shape"
   ]
  },
  {
   "cell_type": "code",
   "execution_count": 8,
   "id": "c159e0cd",
   "metadata": {},
   "outputs": [],
   "source": [
    "# Функция для чистки текста\n",
    "def clean_text(text):\n",
    "    if pd.isna(text):\n",
    "        return ''\n",
    "    # оставляем только слова и цифры\n",
    "    pattern = r\"[a-zA-Z]+|[\\d]+|[а-яА-Я]+\"\n",
    "    text = \" \".join(re.findall(pattern, text.lower()))\n",
    "    return text"
   ]
  },
  {
   "cell_type": "code",
   "execution_count": 9,
   "id": "e8f2c100",
   "metadata": {},
   "outputs": [
    {
     "name": "stdout",
     "output_type": "stream",
     "text": [
      "CPU times: total: 4.31 s\n",
      "Wall time: 4.32 s\n"
     ]
    },
    {
     "data": {
      "text/plain": [
       "((18002, 6), (18002, 6), (162010, 6), (162010, 6))"
      ]
     },
     "execution_count": 9,
     "metadata": {},
     "output_type": "execute_result"
    }
   ],
   "source": [
    "%%time\n",
    "category_test_users_df['clear_category'] = category_test_users_df['category'].apply(lambda x: clean_text(x))\n",
    "category_train_users_df['clear_category'] = category_train_users_df['category'].apply(lambda x: clean_text(x))\n",
    "title_test_users_df['clear_title'] = title_test_users_df['title'].apply(lambda x: clean_text(x))\n",
    "title_train_users_df['clear_title'] = title_train_users_df['title'].apply(lambda x: clean_text(x))\n",
    "\n",
    "category_test_users_df.shape, title_test_users_df.shape, category_train_users_df.shape, title_train_users_df.shape"
   ]
  },
  {
   "cell_type": "code",
   "execution_count": 10,
   "id": "b2e40e8e",
   "metadata": {},
   "outputs": [
    {
     "data": {
      "text/plain": [
       "((18002, 7), (18002, 7), (162010, 7), (162010, 7))"
      ]
     },
     "execution_count": 10,
     "metadata": {},
     "output_type": "execute_result"
    }
   ],
   "source": [
    "category_test_users_df['sex_class'] = np.where(category_test_users_df['sex'] == 'male', 1, 0)\n",
    "category_train_users_df['sex_class'] = np.where(category_train_users_df['sex'] == 'male', 1, 0)\n",
    "title_test_users_df['sex_class'] = np.where(title_test_users_df['sex'] == 'male', 1, 0)\n",
    "title_train_users_df['sex_class'] = np.where(title_train_users_df['sex'] == 'male', 1, 0)\n",
    "\n",
    "category_test_users_df.shape, title_test_users_df.shape, category_train_users_df.shape, title_train_users_df.shape"
   ]
  },
  {
   "cell_type": "code",
   "execution_count": 11,
   "id": "82d1618d",
   "metadata": {},
   "outputs": [
    {
     "data": {
      "text/plain": [
       "SentenceTransformer(\n",
       "  (0): Transformer({'max_seq_length': 256, 'do_lower_case': False}) with Transformer model: BertModel \n",
       "  (1): Pooling({'word_embedding_dimension': 768, 'pooling_mode_cls_token': True, 'pooling_mode_mean_tokens': False, 'pooling_mode_max_tokens': False, 'pooling_mode_mean_sqrt_len_tokens': False, 'pooling_mode_weightedmean_tokens': False, 'pooling_mode_lasttoken': False, 'include_prompt': True})\n",
       "  (2): Dense({'in_features': 768, 'out_features': 768, 'bias': True, 'activation_function': 'torch.nn.modules.activation.Tanh'})\n",
       "  (3): Normalize()\n",
       ")"
      ]
     },
     "execution_count": 11,
     "metadata": {},
     "output_type": "execute_result"
    }
   ],
   "source": [
    "# encode_model = SentenceTransformer('FacebookAI/xlm-roberta-large')\n",
    "encode_model = SentenceTransformer('sentence-transformers/LaBSE')\n",
    "encode_model"
   ]
  },
  {
   "cell_type": "code",
   "execution_count": null,
   "id": "eaeff4ca",
   "metadata": {},
   "outputs": [],
   "source": []
  },
  {
   "cell_type": "code",
   "execution_count": null,
   "id": "cd32b4a4",
   "metadata": {},
   "outputs": [],
   "source": []
  },
  {
   "cell_type": "markdown",
   "id": "169d59bf",
   "metadata": {},
   "source": [
    "# Формируем эмбеддинги"
   ]
  },
  {
   "cell_type": "code",
   "execution_count": 12,
   "id": "f978a95f",
   "metadata": {},
   "outputs": [
    {
     "data": {
      "application/vnd.jupyter.widget-view+json": {
       "model_id": "b4e4015a4573499e8ad88b04f8044491",
       "version_major": 2,
       "version_minor": 0
      },
      "text/plain": [
       "  0%|          | 0/18002 [00:00<?, ?it/s]"
      ]
     },
     "metadata": {},
     "output_type": "display_data"
    },
    {
     "data": {
      "application/vnd.jupyter.widget-view+json": {
       "model_id": "6fb0ca02ae0949278da572cf6bb54d46",
       "version_major": 2,
       "version_minor": 0
      },
      "text/plain": [
       "  0%|          | 0/162010 [00:00<?, ?it/s]"
      ]
     },
     "metadata": {},
     "output_type": "display_data"
    },
    {
     "name": "stdout",
     "output_type": "stream",
     "text": [
      "CPU times: total: 29min 13s\n",
      "Wall time: 29min 12s\n"
     ]
    },
    {
     "data": {
      "text/plain": [
       "((18002, 8), (162010, 8))"
      ]
     },
     "execution_count": 12,
     "metadata": {},
     "output_type": "execute_result"
    }
   ],
   "source": [
    "%%time\n",
    "# Wall time: 1h 25min 26s\n",
    "# Wall time: 29min 12s\n",
    "title_test_users_df['embeddings'] = title_test_users_df['clear_title'].progress_apply(encode_model.encode)\n",
    "title_train_users_df['embeddings'] = title_train_users_df['clear_title'].progress_apply(encode_model.encode)\n",
    "\n",
    "title_test_users_df.shape, title_train_users_df.shape"
   ]
  },
  {
   "cell_type": "code",
   "execution_count": 17,
   "id": "dc4acc7a",
   "metadata": {},
   "outputs": [],
   "source": [
    "# %%time\n",
    "# title_test_users_df.to_parquet('title_test_users_df_LABSE.parquet')\n",
    "# title_train_users_df.to_parquet('title_train_users_df_LABSE.parquet')\n",
    "# title_test_users_df.shape, title_train_users_df.shape"
   ]
  },
  {
   "cell_type": "code",
   "execution_count": 14,
   "id": "0cfb1547",
   "metadata": {},
   "outputs": [
    {
     "data": {
      "text/plain": [
       "(180012, 8)"
      ]
     },
     "execution_count": 14,
     "metadata": {},
     "output_type": "execute_result"
    }
   ],
   "source": [
    "union_title_users_df = pd.concat([title_test_users_df, title_train_users_df])\n",
    "union_title_users_df.shape"
   ]
  },
  {
   "cell_type": "code",
   "execution_count": 15,
   "id": "3c7b3a1f",
   "metadata": {},
   "outputs": [
    {
     "data": {
      "application/vnd.jupyter.widget-view+json": {
       "model_id": "1b36993bd3914261a0c1bf85df834ea6",
       "version_major": 2,
       "version_minor": 0
      },
      "text/plain": [
       "  0%|          | 0/18002 [00:00<?, ?it/s]"
      ]
     },
     "metadata": {},
     "output_type": "display_data"
    },
    {
     "data": {
      "application/vnd.jupyter.widget-view+json": {
       "model_id": "4ca675f4a37a4cb484d425d57474299d",
       "version_major": 2,
       "version_minor": 0
      },
      "text/plain": [
       "  0%|          | 0/162010 [00:00<?, ?it/s]"
      ]
     },
     "metadata": {},
     "output_type": "display_data"
    }
   ],
   "source": [
    "%%time\n",
    "# Wall time: 57min 45s\n",
    "category_test_users_df['embeddings'] = category_test_users_df['clear_category'].progress_apply(encode_model.encode)\n",
    "category_train_users_df['embeddings'] = category_train_users_df['clear_category'].progress_apply(encode_model.encode)\n",
    "\n",
    "category_test_users_df.shape, category_train_users_df.shape"
   ]
  },
  {
   "cell_type": "code",
   "execution_count": 18,
   "id": "d296b031",
   "metadata": {},
   "outputs": [],
   "source": [
    "# %%time\n",
    "# category_test_users_df.to_parquet('category_test_users_df_LABSE.parquet')\n",
    "# category_train_users_df.to_parquet('category_train_users_df_LABSE.parquet')\n",
    "# category_test_users_df.shape, category_train_users_df.shape"
   ]
  },
  {
   "cell_type": "code",
   "execution_count": 20,
   "id": "613a0263",
   "metadata": {},
   "outputs": [
    {
     "data": {
      "text/plain": [
       "(180012, 8)"
      ]
     },
     "execution_count": 20,
     "metadata": {},
     "output_type": "execute_result"
    }
   ],
   "source": [
    "union_category_users_df = pd.concat([category_test_users_df, category_train_users_df])\n",
    "union_category_users_df.shape"
   ]
  },
  {
   "cell_type": "markdown",
   "id": "e67974c6",
   "metadata": {},
   "source": [
    "# Тестовые данные для сабмита"
   ]
  },
  {
   "cell_type": "code",
   "execution_count": 21,
   "id": "ddda5cf7",
   "metadata": {},
   "outputs": [
    {
     "data": {
      "text/plain": [
       "(587735, 9)"
      ]
     },
     "execution_count": 21,
     "metadata": {},
     "output_type": "execute_result"
    }
   ],
   "source": [
    "# submit_test_users_df = pd.read_csv('Dima/sample_10000.csv')\n",
    "submit_test_users_df = pd.read_csv('test_dataset/test_events.csv')\n",
    "submit_test_users_df.shape\n"
   ]
  },
  {
   "cell_type": "code",
   "execution_count": 22,
   "id": "9fd2f188",
   "metadata": {},
   "outputs": [
    {
     "data": {
      "text/plain": [
       "(587735, 13)"
      ]
     },
     "execution_count": 22,
     "metadata": {},
     "output_type": "execute_result"
    }
   ],
   "source": [
    "submit_test_users_df = submit_test_users_df.merge(video, on='rutube_video_id')\n",
    "submit_test_users_df.shape"
   ]
  },
  {
   "cell_type": "code",
   "execution_count": 23,
   "id": "cf19c076",
   "metadata": {},
   "outputs": [],
   "source": [
    "# data_video = all_events.merge(video, on='rutube_video_id')\n",
    "# submit_test_users_df = data_video.merge(submit_test_users_df, on='viewer_uid')\n",
    "# submit_test_users_df.shape"
   ]
  },
  {
   "cell_type": "code",
   "execution_count": 24,
   "id": "a783c8f2",
   "metadata": {},
   "outputs": [
    {
     "data": {
      "text/plain": [
       "((60004, 1), (60004, 1))"
      ]
     },
     "execution_count": 24,
     "metadata": {},
     "output_type": "execute_result"
    }
   ],
   "source": [
    "category_submit_test_users_df = submit_test_users_df.groupby(by='viewer_uid')['category'].agg(lambda col: ' '.join(col))\n",
    "title_submit_test_users_df = submit_test_users_df.groupby(by='viewer_uid')['title'].agg(lambda col: ' '.join(col))\n",
    "category_submit_test_users_df = pd.DataFrame(category_submit_test_users_df)\n",
    "title_submit_test_users_df = pd.DataFrame(title_submit_test_users_df)\n",
    "\n",
    "category_submit_test_users_df.shape,  title_submit_test_users_df.shape"
   ]
  },
  {
   "cell_type": "code",
   "execution_count": 25,
   "id": "dbaaac90",
   "metadata": {},
   "outputs": [
    {
     "data": {
      "text/plain": [
       "((60004, 2), (60004, 2))"
      ]
     },
     "execution_count": 25,
     "metadata": {},
     "output_type": "execute_result"
    }
   ],
   "source": [
    "category_submit_test_users_df['clear_category'] = category_submit_test_users_df['category'].apply(lambda x: clean_text(x))\n",
    "title_submit_test_users_df['clear_title'] = title_submit_test_users_df['title'].apply(lambda x: clean_text(x))\n",
    "\n",
    "category_submit_test_users_df.shape,  title_submit_test_users_df.shape"
   ]
  },
  {
   "cell_type": "code",
   "execution_count": 26,
   "id": "17a31c22",
   "metadata": {},
   "outputs": [
    {
     "data": {
      "application/vnd.jupyter.widget-view+json": {
       "model_id": "67eb5c6ef82c4aba9c566652fea5fa49",
       "version_major": 2,
       "version_minor": 0
      },
      "text/plain": [
       "  0%|          | 0/60004 [00:00<?, ?it/s]"
      ]
     },
     "metadata": {},
     "output_type": "display_data"
    },
    {
     "data": {
      "application/vnd.jupyter.widget-view+json": {
       "model_id": "2ef93fceb448444f9c46878b4e0ca769",
       "version_major": 2,
       "version_minor": 0
      },
      "text/plain": [
       "  0%|          | 0/60004 [00:00<?, ?it/s]"
      ]
     },
     "metadata": {},
     "output_type": "display_data"
    },
    {
     "name": "stdout",
     "output_type": "stream",
     "text": [
      "CPU times: total: 18min 5s\n",
      "Wall time: 18min 9s\n"
     ]
    },
    {
     "data": {
      "text/plain": [
       "((60004, 3), (60004, 3))"
      ]
     },
     "execution_count": 26,
     "metadata": {},
     "output_type": "execute_result"
    }
   ],
   "source": [
    "%%time\n",
    "title_submit_test_users_df['embeddings'] = title_submit_test_users_df['clear_title'].progress_apply(encode_model.encode)\n",
    "category_submit_test_users_df['embeddings'] = category_submit_test_users_df['clear_category'].progress_apply(encode_model.encode)\n",
    "\n",
    "category_submit_test_users_df.shape, title_submit_test_users_df.shape"
   ]
  },
  {
   "cell_type": "code",
   "execution_count": null,
   "id": "5249bed3",
   "metadata": {},
   "outputs": [],
   "source": []
  },
  {
   "cell_type": "markdown",
   "id": "52521329",
   "metadata": {},
   "source": [
    "# Logistic Regression"
   ]
  },
  {
   "cell_type": "markdown",
   "id": "111cf6b9",
   "metadata": {},
   "source": [
    "# Генерируем фичи на базе title"
   ]
  },
  {
   "cell_type": "markdown",
   "id": "90e14bf9",
   "metadata": {},
   "source": [
    "### Берем отложенную выборку для локлаьного тесте"
   ]
  },
  {
   "cell_type": "code",
   "execution_count": 27,
   "id": "f0593c0b",
   "metadata": {},
   "outputs": [
    {
     "data": {
      "text/plain": [
       "((1505791, 2), (170274, 2))"
      ]
     },
     "execution_count": 27,
     "metadata": {},
     "output_type": "execute_result"
    }
   ],
   "source": [
    "train_users_df = pd.read_csv('train_viewer_uid_v2.csv')\n",
    "test_users_df = pd.read_csv('test_viewer_uid_v2.csv')\n",
    "\n",
    "train_users_df.shape, test_users_df.shape"
   ]
  },
  {
   "cell_type": "code",
   "execution_count": 28,
   "id": "626e4a07",
   "metadata": {},
   "outputs": [
    {
     "data": {
      "text/plain": [
       "((155197, 8), (17221, 8))"
      ]
     },
     "execution_count": 28,
     "metadata": {},
     "output_type": "execute_result"
    }
   ],
   "source": [
    "TRAIN_title_users_df = union_title_users_df[union_title_users_df['viewer_uid'].isin(train_users_df['viewer_uid'])]\n",
    "TEST_title_users_df = union_title_users_df[union_title_users_df['viewer_uid'].isin(test_users_df['viewer_uid'])]\n",
    "\n",
    "TRAIN_title_users_df.shape, TEST_title_users_df.shape"
   ]
  },
  {
   "cell_type": "code",
   "execution_count": 29,
   "id": "083c2c3b",
   "metadata": {},
   "outputs": [
    {
     "data": {
      "text/plain": [
       "((180012, 8), (60004, 4))"
      ]
     },
     "execution_count": 29,
     "metadata": {},
     "output_type": "execute_result"
    }
   ],
   "source": [
    "TRAIN_title_users_df = union_title_users_df.copy()\n",
    "TEST_title_users_df = title_submit_test_users_df.reset_index().copy()\n",
    "\n",
    "TRAIN_title_users_df.shape, TEST_title_users_df.shape"
   ]
  },
  {
   "cell_type": "code",
   "execution_count": 30,
   "id": "a48fa3b3",
   "metadata": {},
   "outputs": [],
   "source": [
    "# submit_test_users_df\n",
    "# set(submit_test_users_df.columns) - set(TRAIN_title_users_df.columns), set(TRAIN_title_users_df.columns) -set(submit_test_users_df.columns)\n",
    "# TRAIN_title_users_df"
   ]
  },
  {
   "cell_type": "code",
   "execution_count": null,
   "id": "d9e82a9b",
   "metadata": {},
   "outputs": [],
   "source": []
  },
  {
   "cell_type": "markdown",
   "id": "91eb6889",
   "metadata": {},
   "source": [
    "# Генерируем фичи через кроссвалидацию на базе названий просмотрренных видео"
   ]
  },
  {
   "cell_type": "code",
   "execution_count": 33,
   "id": "ec485e24",
   "metadata": {
    "scrolled": true
   },
   "outputs": [
    {
     "data": {
      "application/vnd.jupyter.widget-view+json": {
       "model_id": "2cb92bc6abfb403699c3dfc9b3e3ff57",
       "version_major": 2,
       "version_minor": 0
      },
      "text/plain": [
       "0it [00:00, ?it/s]"
      ]
     },
     "metadata": {},
     "output_type": "display_data"
    },
    {
     "name": "stdout",
     "output_type": "stream",
     "text": [
      "Logistic Regression Accuracy: 0.7337999611143515\n",
      "Logistic Regression Precision: 0.724344249158609\n",
      "Logistic Regression Recall: 0.7539898793304788\n",
      "Logistic Regression f1_score: 0.7388698163587816\n",
      "Logistic Regression Accuracy: 0.7371330166930533\n",
      "Logistic Regression Precision: 0.7271854498906608\n",
      "Logistic Regression Recall: 0.7581604849024078\n",
      "Logistic Regression f1_score: 0.7423499945551563\n",
      "Logistic Regression Accuracy: 0.7282928726181879\n",
      "Logistic Regression Precision: 0.7176139680517964\n",
      "Logistic Regression Recall: 0.7519323805816605\n",
      "Logistic Regression f1_score: 0.7343724542442839\n",
      "Logistic Regression Accuracy: 0.7317926781845453\n",
      "Logistic Regression Precision: 0.7189817493294062\n",
      "Logistic Regression Recall: 0.7601623755769338\n",
      "Logistic Regression f1_score: 0.7389988106822359\n",
      "Logistic Regression Accuracy: 0.739181156602411\n",
      "Logistic Regression Precision: 0.7305463131909413\n",
      "Logistic Regression Recall: 0.7570348125903682\n",
      "Logistic Regression f1_score: 0.7435547301726021\n",
      "CPU times: total: 2min 8s\n",
      "Wall time: 19.2 s\n"
     ]
    },
    {
     "data": {
      "text/plain": [
       "((180012, 9), (60004, 6))"
      ]
     },
     "execution_count": 33,
     "metadata": {},
     "output_type": "execute_result"
    }
   ],
   "source": [
    "%%time\n",
    "# Генерируем фичи через кроссвалидацию на базе названий просмотрренных видео\n",
    "import numpy as np\n",
    "import pandas as pd\n",
    "from sklearn.model_selection import StratifiedKFold\n",
    "from sklearn.linear_model import LogisticRegression\n",
    "from sklearn.metrics import accuracy_score\n",
    "from sklearn import metrics\n",
    "\n",
    "def calc_cv_target(TRAIN_title_users_df:pd.DataFrame, TEST_title_users_df:pd.DataFrame, target_col:str = 'sex_class'):\n",
    "    \n",
    "    X = TRAIN_title_users_df['embeddings'].values\n",
    "    y = TRAIN_title_users_df[target_col].values\n",
    "    TEST_X = TEST_title_users_df['embeddings'].values\n",
    "\n",
    "    # Количество фолдов для кросс-валидации\n",
    "    n_folds = 5\n",
    "\n",
    "    # Создаем объект StratifiedKFold для кросс-валидации\n",
    "    skf = StratifiedKFold(n_splits=n_folds, shuffle=True, random_state=53)\n",
    "\n",
    "    # Создаем массив для хранения OOF предсказаний\n",
    "    oof_predictions = np.zeros(len(X))\n",
    "\n",
    "    # Модель логистической регрессии\n",
    "    model = LogisticRegression()\n",
    "\n",
    "    # Проходим по каждому фолду\n",
    "    for i, (train_idx, valid_idx) in enumerate(tqdm(skf.split(X, y))):\n",
    "        X_train, X_valid = X[train_idx], X[valid_idx]\n",
    "        y_train, y_valid = y[train_idx], y[valid_idx]\n",
    "\n",
    "        # Обучаем модель на данных фолда\n",
    "        model.fit(list(X_train), list(y_train))\n",
    "\n",
    "        # Предсказываем вероятности для валидационных данных (берем вероятность класса 1)\n",
    "        predicted_proba = model.predict_proba(list(X_valid))[:, 1]\n",
    "        predicted = model.predict(list(X_valid))\n",
    "        oof_predictions[valid_idx] = predicted_proba\n",
    "        TEST_title_users_df[f'logistic_oof_{target_col}_{i}'] = model.predict_proba(list(TEST_X))[:, 1]\n",
    "        print(\"Logistic Regression Accuracy:\",metrics.accuracy_score(y_valid, predicted))\n",
    "        print(\"Logistic Regression Precision:\",metrics.precision_score(y_valid, predicted))\n",
    "        print(\"Logistic Regression Recall:\",metrics.recall_score(y_valid, predicted))\n",
    "        print(\"Logistic Regression f1_score:\",metrics.f1_score(y_valid, predicted))    \n",
    "\n",
    "    # Теперь oof_predictions содержит предсказания для всех данных, которые можно использовать как новую фичу\n",
    "    TRAIN_title_users_df[f'logistic_oof_{target_col}'] = oof_predictions\n",
    "\n",
    "    temp_cols = [f'logistic_oof_{target_col}_{i}' for i in range(n_folds)]\n",
    "    TEST_title_users_df[f'logistic_oof_{target_col}'] = TEST_title_users_df[temp_cols].mean(axis=1)\n",
    "    TEST_title_users_df = TEST_title_users_df.drop(columns=temp_cols, errors='ignore')\n",
    "\n",
    "    return TRAIN_title_users_df, TEST_title_users_df \n",
    "\n",
    "TRAIN_title_users_df, TEST_title_users_df = calc_cv_target(TRAIN_title_users_df, TEST_title_users_df, target_col='sex_class')\n",
    "TRAIN_title_users_df.shape, TEST_title_users_df.shape"
   ]
  },
  {
   "cell_type": "code",
   "execution_count": 34,
   "id": "dead5477",
   "metadata": {
    "scrolled": true
   },
   "outputs": [
    {
     "data": {
      "application/vnd.jupyter.widget-view+json": {
       "model_id": "b3755f6a59664d2b8db67e009cf4b1fb",
       "version_major": 2,
       "version_minor": 0
      },
      "text/plain": [
       "0it [00:00, ?it/s]"
      ]
     },
     "metadata": {},
     "output_type": "display_data"
    },
    {
     "name": "stdout",
     "output_type": "stream",
     "text": [
      "Logistic Regression MAE: 6.7321050521172054\n",
      "Logistic Regression MAE: 6.744154309986717\n",
      "Logistic Regression MAE: 6.736283965073959\n",
      "Logistic Regression MAE: 6.7419337161441195\n",
      "Logistic Regression MAE: 6.760596948109443\n",
      "CPU times: total: 44.9 s\n",
      "Wall time: 15.7 s\n"
     ]
    },
    {
     "data": {
      "text/plain": [
       "((180012, 10), (60004, 6))"
      ]
     },
     "execution_count": 34,
     "metadata": {},
     "output_type": "execute_result"
    }
   ],
   "source": [
    "%%time\n",
    "# Генерируем фичи через кроссвалидацию на базе названий просмотрренных видео\n",
    "import numpy as np\n",
    "import pandas as pd\n",
    "from sklearn.model_selection import StratifiedKFold\n",
    "from sklearn.linear_model import LogisticRegression\n",
    "from sklearn.metrics import accuracy_score\n",
    "from sklearn.linear_model import LinearRegression\n",
    "\n",
    "def calc_cv_target_regr(TRAIN_title_users_df:pd.DataFrame, TEST_title_users_df:pd.DataFrame, target_col:str = 'age'):\n",
    "    \n",
    "    X = TRAIN_title_users_df['embeddings'].values\n",
    "    y = TRAIN_title_users_df[target_col].values\n",
    "    TEST_X = TEST_title_users_df['embeddings'].values\n",
    "\n",
    "    # Количество фолдов для кросс-валидации\n",
    "    n_folds = 5\n",
    "\n",
    "    # Создаем объект StratifiedKFold для кросс-валидации\n",
    "    skf = StratifiedKFold(n_splits=n_folds, shuffle=True, random_state=53)\n",
    "\n",
    "    # Создаем массив для хранения OOF предсказаний\n",
    "    oof_predictions = np.zeros(len(X))\n",
    "\n",
    "    # Модель линейной  регрессии\n",
    "    model = LinearRegression()\n",
    "\n",
    "    # Проходим по каждому фолду\n",
    "    for i, (train_idx, valid_idx) in enumerate(tqdm(skf.split(X, y))):\n",
    "        X_train, X_valid = X[train_idx], X[valid_idx]\n",
    "        y_train, y_valid = y[train_idx], y[valid_idx]\n",
    "\n",
    "        # Обучаем модель на данных фолда\n",
    "        model.fit(list(X_train), list(y_train))\n",
    "\n",
    "        # Предсказываем возраст\n",
    "        predicted = model.predict(list(X_valid))\n",
    "        oof_predictions[valid_idx] = predicted\n",
    "        TEST_title_users_df[f'linear_oof_{target_col}_{i}'] = model.predict(list(TEST_X))\n",
    "        print(\"Logistic Regression MAE:\",metrics.mean_absolute_error(y_valid, predicted))\n",
    "\n",
    "    # Теперь oof_predictions содержит предсказания для всех данных, которые можно использовать как новую фичу\n",
    "    TRAIN_title_users_df[f'linear_oof_{target_col}'] = oof_predictions\n",
    "\n",
    "    temp_cols = [f'linear_oof_{target_col}_{i}' for i in range(n_folds)]\n",
    "    TEST_title_users_df[f'linear_oof_{target_col}'] = TEST_title_users_df[temp_cols].mean(axis=1)\n",
    "    TEST_title_users_df = TEST_title_users_df.drop(columns=temp_cols, errors='ignore')\n",
    "\n",
    "    return TRAIN_title_users_df, TEST_title_users_df \n",
    "\n",
    "TRAIN_title_users_df, TEST_title_users_df = calc_cv_target_regr(TRAIN_title_users_df, TEST_title_users_df, target_col='age')\n",
    "TRAIN_title_users_df.shape, TEST_title_users_df.shape"
   ]
  },
  {
   "cell_type": "code",
   "execution_count": 35,
   "id": "55c6a5b9",
   "metadata": {
    "scrolled": true
   },
   "outputs": [
    {
     "name": "stdout",
     "output_type": "stream",
     "text": [
      "CPU times: total: 469 ms\n",
      "Wall time: 468 ms\n"
     ]
    }
   ],
   "source": [
    "%%time\n",
    "# Сохраняем фичи полученные через кросс валидацию\n",
    "TRAIN_title_users_df[['viewer_uid', 'logistic_oof_sex_class', 'linear_oof_age']].to_csv(f'cv_TRAIN_title_users_df_v3.csv')\n",
    "TEST_title_users_df[['viewer_uid', 'logistic_oof_sex_class', 'linear_oof_age']].to_csv(f'cv_TEST_title_users_df_v3.csv')\n"
   ]
  },
  {
   "cell_type": "code",
   "execution_count": 36,
   "id": "27c206ea",
   "metadata": {},
   "outputs": [
    {
     "data": {
      "text/plain": [
       "((180012, 10), (60004, 6))"
      ]
     },
     "execution_count": 36,
     "metadata": {},
     "output_type": "execute_result"
    }
   ],
   "source": [
    "TRAIN_title_users_df.shape, TEST_title_users_df.shape"
   ]
  },
  {
   "cell_type": "markdown",
   "id": "1058a940",
   "metadata": {},
   "source": [
    "# Генерируем фичи на базе category"
   ]
  },
  {
   "cell_type": "code",
   "execution_count": 37,
   "id": "e8bae204",
   "metadata": {},
   "outputs": [
    {
     "data": {
      "text/plain": [
       "((155197, 8), (17221, 8))"
      ]
     },
     "execution_count": 37,
     "metadata": {},
     "output_type": "execute_result"
    }
   ],
   "source": [
    "TRAIN_category_users_df = union_category_users_df[union_category_users_df['viewer_uid'].isin(train_users_df['viewer_uid'])]\n",
    "TEST_category_users_df = union_category_users_df[union_category_users_df['viewer_uid'].isin(test_users_df['viewer_uid'])]\n",
    "\n",
    "TRAIN_category_users_df.shape, TEST_category_users_df.shape"
   ]
  },
  {
   "cell_type": "code",
   "execution_count": 38,
   "id": "82a9697a",
   "metadata": {},
   "outputs": [
    {
     "data": {
      "text/plain": [
       "((180012, 8), (60004, 4))"
      ]
     },
     "execution_count": 38,
     "metadata": {},
     "output_type": "execute_result"
    }
   ],
   "source": [
    "TRAIN_category_users_df = union_category_users_df.copy()\n",
    "TEST_category_users_df = category_submit_test_users_df.reset_index().copy()\n",
    "\n",
    "TRAIN_category_users_df.shape, TEST_category_users_df.shape"
   ]
  },
  {
   "cell_type": "code",
   "execution_count": 39,
   "id": "bd307505",
   "metadata": {},
   "outputs": [
    {
     "data": {
      "application/vnd.jupyter.widget-view+json": {
       "model_id": "e634ec06a4ce46c789b3df65f9f4d7c6",
       "version_major": 2,
       "version_minor": 0
      },
      "text/plain": [
       "0it [00:00, ?it/s]"
      ]
     },
     "metadata": {},
     "output_type": "display_data"
    },
    {
     "name": "stdout",
     "output_type": "stream",
     "text": [
      "Logistic Regression Accuracy: 0.7139405049579202\n",
      "Logistic Regression Precision: 0.7006266318537859\n",
      "Logistic Regression Recall: 0.7460935327809598\n",
      "Logistic Regression f1_score: 0.7226456251851453\n",
      "Logistic Regression Accuracy: 0.7168847040524401\n",
      "Logistic Regression Precision: 0.7046553173602353\n",
      "Logistic Regression Recall: 0.7457598843352055\n",
      "Logistic Regression f1_score: 0.7246251519654194\n",
      "Logistic Regression Accuracy: 0.7118493417032387\n",
      "Logistic Regression Precision: 0.6967471686404303\n",
      "Logistic Regression Recall: 0.7492075849413334\n",
      "Logistic Regression f1_score: 0.7220257234726688\n",
      "Logistic Regression Accuracy: 0.7156269096161324\n",
      "Logistic Regression Precision: 0.7021243279920664\n",
      "Logistic Regression Recall: 0.7480398153811934\n",
      "Logistic Regression f1_score: 0.7243551774271714\n",
      "Logistic Regression Accuracy: 0.715515804677518\n",
      "Logistic Regression Precision: 0.7030217186024551\n",
      "Logistic Regression Recall: 0.7452452452452453\n",
      "Logistic Regression f1_score: 0.7235179786200194\n",
      "CPU times: total: 2min 49s\n",
      "Wall time: 24.6 s\n"
     ]
    },
    {
     "data": {
      "text/plain": [
       "((180012, 9), (60004, 5))"
      ]
     },
     "execution_count": 39,
     "metadata": {},
     "output_type": "execute_result"
    }
   ],
   "source": [
    "%%time\n",
    "# Генерируем фичи через кроссвалидацию на базе названий просмотрренных видео\n",
    "import numpy as np\n",
    "import pandas as pd\n",
    "from sklearn.model_selection import StratifiedKFold\n",
    "from sklearn.linear_model import LogisticRegression\n",
    "from sklearn.metrics import accuracy_score\n",
    "\n",
    "def calc_cv_target(TRAIN_category_users_df:pd.DataFrame, TEST_category_users_df:pd.DataFrame, target_col:str = 'sex_class'):\n",
    "    \n",
    "    X = TRAIN_category_users_df['embeddings'].values\n",
    "    y = TRAIN_category_users_df[target_col].values\n",
    "    TEST_X = TEST_category_users_df['embeddings'].values\n",
    "\n",
    "    # Количество фолдов для кросс-валидации\n",
    "    n_folds = 5\n",
    "\n",
    "    # Создаем объект StratifiedKFold для кросс-валидации\n",
    "    skf = StratifiedKFold(n_splits=n_folds, shuffle=True, random_state=53)\n",
    "\n",
    "    # Создаем массив для хранения OOF предсказаний\n",
    "    oof_predictions = np.zeros(len(X))\n",
    "\n",
    "    # Модель логистической регрессии\n",
    "    model = LogisticRegression()\n",
    "\n",
    "    # Проходим по каждому фолду\n",
    "    for i, (train_idx, valid_idx) in enumerate(tqdm(skf.split(X, y))):\n",
    "        X_train, X_valid = X[train_idx], X[valid_idx]\n",
    "        y_train, y_valid = y[train_idx], y[valid_idx]\n",
    "\n",
    "        # Обучаем модель на данных фолда\n",
    "        model.fit(list(X_train), list(y_train))\n",
    "\n",
    "        # Предсказываем вероятности для валидационных данных (берем вероятность класса 1)\n",
    "        predicted_proba = model.predict_proba(list(X_valid))[:, 1]\n",
    "        predicted = model.predict(list(X_valid))\n",
    "        oof_predictions[valid_idx] = predicted_proba\n",
    "        TEST_category_users_df[f'logistic_oof_cat_{target_col}_{i}'] = model.predict_proba(list(TEST_X))[:, 1]\n",
    "        print(\"Logistic Regression Accuracy:\",metrics.accuracy_score(y_valid, predicted))\n",
    "        print(\"Logistic Regression Precision:\",metrics.precision_score(y_valid, predicted))\n",
    "        print(\"Logistic Regression Recall:\",metrics.recall_score(y_valid, predicted))\n",
    "        print(\"Logistic Regression f1_score:\",metrics.f1_score(y_valid, predicted))    \n",
    "\n",
    "    # Теперь oof_predictions содержит предсказания для всех данных, которые можно использовать как новую фичу\n",
    "    TRAIN_category_users_df[f'logistic_oof_cat_{target_col}'] = oof_predictions\n",
    "\n",
    "    temp_cols = [f'logistic_oof_cat_{target_col}_{i}' for i in range(n_folds)]\n",
    "    TEST_category_users_df[f'logistic_oof_cat_{target_col}'] = TEST_category_users_df[temp_cols].mean(axis=1)\n",
    "    TEST_category_users_df = TEST_category_users_df.drop(columns=temp_cols, errors='ignore')\n",
    "\n",
    "    return TRAIN_category_users_df, TEST_category_users_df \n",
    "\n",
    "TRAIN_category_users_df, TEST_category_users_df = calc_cv_target(TRAIN_category_users_df, TEST_category_users_df, target_col='sex_class')\n",
    "TRAIN_category_users_df.shape, TEST_category_users_df.shape"
   ]
  },
  {
   "cell_type": "code",
   "execution_count": 40,
   "id": "77132ff1",
   "metadata": {},
   "outputs": [
    {
     "data": {
      "application/vnd.jupyter.widget-view+json": {
       "model_id": "768e859c17614aa99cca17ad9d74f4fd",
       "version_major": 2,
       "version_minor": 0
      },
      "text/plain": [
       "0it [00:00, ?it/s]"
      ]
     },
     "metadata": {},
     "output_type": "display_data"
    },
    {
     "name": "stdout",
     "output_type": "stream",
     "text": [
      "Logistic Regression MAE: 6.925046903929525\n",
      "Logistic Regression MAE: 6.928785271119188\n",
      "Logistic Regression MAE: 6.925280184449371\n",
      "Logistic Regression MAE: 6.934120755693355\n",
      "Logistic Regression MAE: 6.938672112992099\n",
      "CPU times: total: 43.8 s\n",
      "Wall time: 15 s\n"
     ]
    },
    {
     "data": {
      "text/plain": [
       "((180012, 10), (60004, 6))"
      ]
     },
     "execution_count": 40,
     "metadata": {},
     "output_type": "execute_result"
    }
   ],
   "source": [
    "%%time\n",
    "# Генерируем фичи через кроссвалидацию на базе названий просмотрренных видео\n",
    "import numpy as np\n",
    "import pandas as pd\n",
    "from sklearn.model_selection import StratifiedKFold\n",
    "from sklearn.linear_model import LogisticRegression\n",
    "from sklearn.metrics import accuracy_score\n",
    "from sklearn.linear_model import LinearRegression\n",
    "\n",
    "def calc_cv_target_regr(TRAIN_category_users_df:pd.DataFrame, TEST_category_users_df:pd.DataFrame, target_col:str = 'age'):\n",
    "    \n",
    "    X = TRAIN_category_users_df['embeddings'].values\n",
    "    y = TRAIN_category_users_df[target_col].values\n",
    "    TEST_X = TEST_category_users_df['embeddings'].values\n",
    "\n",
    "    # Количество фолдов для кросс-валидации\n",
    "    n_folds = 5\n",
    "\n",
    "    # Создаем объект StratifiedKFold для кросс-валидации\n",
    "    skf = StratifiedKFold(n_splits=n_folds, shuffle=True, random_state=53)\n",
    "\n",
    "    # Создаем массив для хранения OOF предсказаний\n",
    "    oof_predictions = np.zeros(len(X))\n",
    "\n",
    "    # Модель линейной  регрессии\n",
    "    model = LinearRegression()\n",
    "\n",
    "    # Проходим по каждому фолду\n",
    "    for i, (train_idx, valid_idx) in enumerate(tqdm(skf.split(X, y))):\n",
    "        X_train, X_valid = X[train_idx], X[valid_idx]\n",
    "        y_train, y_valid = y[train_idx], y[valid_idx]\n",
    "\n",
    "        # Обучаем модель на данных фолда\n",
    "        model.fit(list(X_train), list(y_train))\n",
    "\n",
    "        # Предсказываем возраст\n",
    "        predicted = model.predict(list(X_valid))\n",
    "        oof_predictions[valid_idx] = predicted\n",
    "        TEST_category_users_df[f'linear_oof_cat_{target_col}_{i}'] = model.predict(list(TEST_X))\n",
    "        print(\"Logistic Regression MAE:\",metrics.mean_absolute_error(y_valid, predicted))\n",
    "\n",
    "    # Теперь oof_predictions содержит предсказания для всех данных, которые можно использовать как новую фичу\n",
    "    TRAIN_category_users_df[f'linear_oof_cat_{target_col}'] = oof_predictions\n",
    "\n",
    "    temp_cols = [f'linear_oof_cat_{target_col}_{i}' for i in range(n_folds)]\n",
    "    TEST_category_users_df[f'linear_oof_cat_{target_col}'] = TEST_category_users_df[temp_cols].mean(axis=1)\n",
    "    TEST_category_users_df = TEST_category_users_df.drop(columns=temp_cols, errors='ignore')\n",
    "\n",
    "    return TRAIN_category_users_df, TEST_category_users_df \n",
    "\n",
    "TRAIN_category_users_df, TEST_category_users_df = calc_cv_target_regr(TRAIN_category_users_df, TEST_category_users_df, target_col='age')\n",
    "TRAIN_category_users_df.shape, TEST_category_users_df.shape"
   ]
  },
  {
   "cell_type": "code",
   "execution_count": 41,
   "id": "0a059f57",
   "metadata": {},
   "outputs": [
    {
     "name": "stdout",
     "output_type": "stream",
     "text": [
      "CPU times: total: 469 ms\n",
      "Wall time: 465 ms\n"
     ]
    },
    {
     "data": {
      "text/plain": [
       "((180012, 10), (60004, 6))"
      ]
     },
     "execution_count": 41,
     "metadata": {},
     "output_type": "execute_result"
    }
   ],
   "source": [
    "%%time\n",
    "# Сохраняем фичи полученные через кросс валидацию\n",
    "TRAIN_category_users_df[['viewer_uid', 'logistic_oof_cat_sex_class', 'linear_oof_cat_age']].to_csv(f'cv_TRAIN_category_users_df_v3.csv')\n",
    "TEST_category_users_df[['viewer_uid', 'logistic_oof_cat_sex_class', 'linear_oof_cat_age']].to_csv(f'cv_TEST_category_users_df_v3.csv')\n",
    "\n",
    "TRAIN_category_users_df.shape, TEST_category_users_df.shape "
   ]
  },
  {
   "cell_type": "code",
   "execution_count": null,
   "id": "6a57f9db",
   "metadata": {},
   "outputs": [],
   "source": []
  },
  {
   "cell_type": "code",
   "execution_count": null,
   "id": "01ed58d4",
   "metadata": {},
   "outputs": [],
   "source": []
  },
  {
   "cell_type": "code",
   "execution_count": null,
   "id": "c58f0157",
   "metadata": {},
   "outputs": [],
   "source": []
  },
  {
   "cell_type": "code",
   "execution_count": null,
   "id": "c1ab3263-29e9-4209-9063-1207a12aa265",
   "metadata": {},
   "outputs": [],
   "source": []
  },
  {
   "cell_type": "code",
   "execution_count": null,
   "id": "bd58584b-74a7-4df5-9652-882113ae4053",
   "metadata": {},
   "outputs": [],
   "source": []
  },
  {
   "cell_type": "code",
   "execution_count": null,
   "id": "a2f068f2-f99c-479e-af1d-c9e7777151b6",
   "metadata": {},
   "outputs": [],
   "source": []
  },
  {
   "cell_type": "code",
   "execution_count": null,
   "id": "a1f77151-9657-42ba-9c87-6fda373b9160",
   "metadata": {},
   "outputs": [],
   "source": []
  },
  {
   "cell_type": "code",
   "execution_count": null,
   "id": "7c1c675c-bff8-4d43-a09b-f1d391cf8fbc",
   "metadata": {},
   "outputs": [],
   "source": []
  }
 ],
 "metadata": {
  "kernelspec": {
   "display_name": "Python 3 (ipykernel)",
   "language": "python",
   "name": "python3"
  },
  "language_info": {
   "codemirror_mode": {
    "name": "ipython",
    "version": 3
   },
   "file_extension": ".py",
   "mimetype": "text/x-python",
   "name": "python",
   "nbconvert_exporter": "python",
   "pygments_lexer": "ipython3",
   "version": "3.11.3"
  },
  "widgets": {
   "application/vnd.jupyter.widget-state+json": {
    "state": {},
    "version_major": 2,
    "version_minor": 0
   }
  }
 },
 "nbformat": 4,
 "nbformat_minor": 5
}
